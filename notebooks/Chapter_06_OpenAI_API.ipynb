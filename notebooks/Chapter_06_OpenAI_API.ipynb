{
 "cells": [
  {
   "cell_type": "markdown",
   "metadata": {},
   "source": [
    "# 6장 자연어를 이해하고 생성하는 AI 모델과 API"
   ]
  },
  {
   "cell_type": "markdown",
   "metadata": {},
   "source": [
    "## 6.1 OpenAI 소개"
   ]
  },
  {
   "cell_type": "markdown",
   "metadata": {},
   "source": [
    "##  6.2 OpenAI API 사용을 위한 API 키 생성"
   ]
  },
  {
   "cell_type": "markdown",
   "metadata": {},
   "source": [
    "## 6.3 OpenAI의 모델"
   ]
  },
  {
   "cell_type": "markdown",
   "metadata": {},
   "source": [
    "## 6.4 OpenAI API 사용하기"
   ]
  },
  {
   "cell_type": "markdown",
   "metadata": {},
   "source": [
    "### 6.4.1 OpenAI 파이썬 라이브러리 설치"
   ]
  },
  {
   "cell_type": "markdown",
   "metadata": {},
   "source": [
    "[6장: 156페이지]"
   ]
  },
  {
   "cell_type": "code",
   "execution_count": null,
   "metadata": {},
   "outputs": [],
   "source": [
    "import openai # openai 라이브러리 임포트\n",
    "\n",
    "openai.api_key = \"your_api_key\" # OpenAI API의 API 키 지정"
   ]
  },
  {
   "cell_type": "code",
   "execution_count": null,
   "metadata": {},
   "outputs": [],
   "source": [
    "import openai\n",
    "import os\n",
    "\n",
    "# API 키 설정\n",
    "openai.api_key = os.environ[\"OPENAI_API_KEY\"]"
   ]
  },
  {
   "cell_type": "code",
   "execution_count": null,
   "metadata": {},
   "outputs": [],
   "source": [
    "import openai\n",
    "import os\n",
    "\n",
    "# API 키 설정\n",
    "openai.api_key = os.environ[\"OPENAI_API_KEY\"]\n",
    "\n",
    "# 모든 OpenAP API의 모델 리스트를 요청해 가져오기\n",
    "models = openai.Model.list()\n",
    "\n",
    "# 가져온 모델 리스트 출력하기 \n",
    "print(models[\"data\"][0]['id']) # 모델 리스트 중 첫 번째 항목의 ID 출력\n",
    "# print(models[\"data\"])  # 모델 리스트 전체 정보 출력"
   ]
  },
  {
   "cell_type": "markdown",
   "metadata": {},
   "source": [
    "### 6.4.2 Chat Completions API를 이용한 챗봇 만들기"
   ]
  },
  {
   "cell_type": "markdown",
   "metadata": {},
   "source": [
    "[6장: 160페이지]"
   ]
  },
  {
   "cell_type": "code",
   "execution_count": null,
   "metadata": {},
   "outputs": [],
   "source": [
    "import openai\n",
    "\n",
    "# 대화 메시지 정의\n",
    "messages = [\n",
    "    {\"role\": \"user\", \"content\": \"대한민국의 수도는 어디인가요?\"}\n",
    "]\n",
    "\n",
    "# Chat Completions API 호출\n",
    "response = openai.ChatCompletion.create(\n",
    "                model=\"gpt-3.5-turbo\", # 모든 사용자 설정 가능\n",
    "                # model=\"gpt-3.5-turbo-16k\", # gpt-3.5-turbo 대비 4배 긴 토큰 처리\n",
    "                # model=\"gpt-4\", # GPT-4 모델 사용\n",
    "                messages=messages, # 전달할 메시지 지정\n",
    "                max_tokens=1000, # 응답 최대 토큰 수 지정\n",
    "                temperature=0.8, # 완성의 다양성을 조절하는 온도 설정\n",
    "                n=1 # 생성할 완성의 개수 지정\n",
    ")\n",
    "\n",
    "# 응답 출력\n",
    "assistant_reply = response.choices[0].message['content'] # 첫 번째 응답 결과 가져오기\n",
    "print(assistant_reply)"
   ]
  },
  {
   "cell_type": "markdown",
   "metadata": {},
   "source": [
    "[6장: 161페이지]"
   ]
  },
  {
   "cell_type": "code",
   "execution_count": null,
   "metadata": {},
   "outputs": [],
   "source": [
    "response"
   ]
  },
  {
   "cell_type": "markdown",
   "metadata": {},
   "source": [
    "[6장: 162페이지]"
   ]
  },
  {
   "cell_type": "code",
   "execution_count": null,
   "metadata": {},
   "outputs": [],
   "source": [
    "import json\n",
    "\n",
    "message = response.choices[0].message\n",
    "json.dumps(message, ensure_ascii=False)"
   ]
  },
  {
   "cell_type": "code",
   "execution_count": null,
   "metadata": {},
   "outputs": [],
   "source": [
    "# 대화 메시지 정의\n",
    "messages = [\n",
    "    {\"role\": \"user\", \"content\": \"한글은 언제 만들어졌나요?\"}\n",
    "]\n",
    "\n",
    "# Chat Completions API 호출\n",
    "response = openai.ChatCompletion.create(\n",
    "                model=\"gpt-3.5-turbo\",\n",
    "                messages=messages,\n",
    "                max_tokens=1000,\n",
    "                temperature=0.8,\n",
    "                n=2 \n",
    ")\n",
    "\n",
    "print(\"응답 개수:\", len(response.choices)) # 응답 개수 출력"
   ]
  },
  {
   "cell_type": "markdown",
   "metadata": {},
   "source": [
    "[6장: 163페이지]"
   ]
  },
  {
   "cell_type": "code",
   "execution_count": null,
   "metadata": {},
   "outputs": [],
   "source": [
    "print(\"[응답 0]\", response.choices[0].message['content'])\n",
    "print(\"[응답 1]\", response.choices[1].message['content'])"
   ]
  },
  {
   "cell_type": "code",
   "execution_count": null,
   "metadata": {},
   "outputs": [],
   "source": [
    "import openai\n",
    "\n",
    "def response_from_ChatAI(user_content, r_num=1):\n",
    "    \n",
    "    # 대화 메시지 정의\n",
    "    messages = [ {\"role\": \"user\", \"content\": user_content} ]\n",
    "\n",
    "    # Chat Completions API 호출\n",
    "    response = openai.ChatCompletion.create(\n",
    "                    model=\"gpt-3.5-turbo\",\n",
    "                    messages=messages,\n",
    "                    max_tokens=1000,\n",
    "                    temperature=0.8,\n",
    "                    n=r_num \n",
    "    )\n",
    "    \n",
    "    # 응답을 리스트에 할당\n",
    "    assistant_replies = []\n",
    "    \n",
    "    for choice in response.choices:\n",
    "        assistant_replies.append(choice.message['content'])\n",
    "        \n",
    "    return assistant_replies # 응답 반환"
   ]
  },
  {
   "cell_type": "markdown",
   "metadata": {},
   "source": [
    "[6장: 164페이지]"
   ]
  },
  {
   "cell_type": "code",
   "execution_count": null,
   "metadata": {},
   "outputs": [],
   "source": [
    "resp = response_from_ChatAI(\"대한민국 헌법 제1조 1항은?\")\n",
    "resp"
   ]
  },
  {
   "cell_type": "code",
   "execution_count": null,
   "metadata": {},
   "outputs": [],
   "source": [
    "import textwrap\n",
    "\n",
    "resps = response_from_ChatAI(\"ChatGPT는 무엇인가요?\", 2) # 두 개의 응답 설정\n",
    "\n",
    "for resp in resps:\n",
    "    shorten_resp = textwrap.shorten(resp, 100, placeholder=' [..이하 생략..]')\n",
    "    print(shorten_resp) # 축약 내용 출력\n",
    "    print() # 빈 줄 하나를 출력"
   ]
  },
  {
   "cell_type": "markdown",
   "metadata": {},
   "source": [
    "[6장: 165페이지]"
   ]
  },
  {
   "cell_type": "code",
   "execution_count": null,
   "metadata": {},
   "outputs": [],
   "source": [
    "resps = response_from_ChatAI(\"두 숫자를 입력받아 더하는 파이썬 함수 만들어 줘\")\n",
    "print(resps[0])"
   ]
  },
  {
   "cell_type": "code",
   "execution_count": null,
   "metadata": {},
   "outputs": [],
   "source": [
    "import openai\n",
    "import os\n",
    "\n",
    "openai.api_key = os.environ[\"OPENAI_API_KEY\"] # API 키 설정\n",
    "\n",
    "user_input = input(\"AI와 채팅할 내용을 입력하세요 (종료하려면 end를 입력하세요) \\n[나]:\")\n",
    "\n",
    "messages = [{\"role\": \"system\", \"content\": \"You are a helpful assistant.\"}]   \n",
    "\n",
    "ai_message = \"\"    \n",
    "while(user_input !=\"end\"):\n",
    "    message = [{\"role\": \"assistant\", \"content\": ai_message},\n",
    "               {\"role\": \"user\", \"content\": user_input}]\n",
    "    messages.extend(message)\n",
    "\n",
    "    response = openai.ChatCompletion.create(\n",
    "        model=\"gpt-3.5-turbo\", \n",
    "        messages=messages,\n",
    "        max_tokens=1000,\n",
    "        temperature=0.9,\n",
    "        n=1)\n",
    "    \n",
    "    ai_message = response.choices[0].message['content']\n",
    "    print(f\"[AI]\\n{ai_message}\")\n",
    "    user_input = input(\"\\n[나]:\")\n",
    "\n",
    "if(user_input ==\"end\"):\n",
    "    print(\"AI와 채팅을 종료합니다.\")"
   ]
  },
  {
   "cell_type": "markdown",
   "metadata": {},
   "source": [
    "### 6.4.3 Chat Completions API를 이용한 함수 호출"
   ]
  },
  {
   "cell_type": "markdown",
   "metadata": {},
   "source": [
    "[6장: 168페이지]"
   ]
  },
  {
   "cell_type": "code",
   "execution_count": null,
   "metadata": {},
   "outputs": [],
   "source": [
    "import openai\n",
    "import json\n",
    "\n",
    "# 호출 함수\n",
    "def get_price_info_temp(product_name):\n",
    "    \n",
    "    price_info = {\n",
    "        \"product_name\": product_name,\n",
    "        \"price\": \"10,000\"\n",
    "    }\n",
    "    \n",
    "    return json.dumps(price_info) # JSON 형식으로 변환해 반환\n",
    "\n",
    "# Chat Completions API에 사용자 입력과 함수 정보를 보내는 함수\n",
    "def run_conversation_temp(user_query):   \n",
    "    # 사용자 입력\n",
    "    messages = [{\"role\": \"user\", \"content\": user_query}] \n",
    "        \n",
    "    # 함수 정보 입력   \n",
    "    functions = [                                        \n",
    "        {\n",
    "            \"name\": \"get_price_info_temp\",\n",
    "            \"description\": \"제품 이름에 따른 가격 가져오기\",\n",
    "            \"parameters\": {\n",
    "                \"type\": \"object\",\n",
    "                \"properties\": {\n",
    "                    \"product_name\": {\n",
    "                        \"type\": \"string\",\n",
    "                        \"description\": \"제품 이름. 예를 들면, 키보드, 마우스\",\n",
    "                    },\n",
    "                },\n",
    "                \"required\": [\"product_name\"],\n",
    "            },\n",
    "        }\n",
    "    ]\n",
    "    # 1단계: 사용자 입력과 함수 정보를 Chat Completions API 모델로 보내기    \n",
    "    response = openai.ChatCompletion.create( # Chat Completions API 모델로 보내기\n",
    "            model=\"gpt-3.5-turbo\",\n",
    "            # model=\"gpt-4\",\n",
    "            messages=messages,\n",
    "            functions=functions,\n",
    "            function_call=\"auto\"\n",
    "    )\n",
    "    # 2단계: 응답 생성\n",
    "    response_message = response[\"choices\"][0][\"message\"] # 응답 메시지\n",
    "    \n",
    "    return response_message # 응답 메시지 반환"
   ]
  },
  {
   "cell_type": "markdown",
   "metadata": {},
   "source": [
    "[6장: 169페이지]"
   ]
  },
  {
   "cell_type": "code",
   "execution_count": null,
   "metadata": {},
   "outputs": [],
   "source": [
    "response_message = run_conversation_temp(\"대한민국의 수도는 어디인가요?\")\n",
    "json.dumps(response_message, ensure_ascii=False)"
   ]
  },
  {
   "cell_type": "markdown",
   "metadata": {},
   "source": [
    "[6장: 170페이지]"
   ]
  },
  {
   "cell_type": "code",
   "execution_count": null,
   "metadata": {},
   "outputs": [],
   "source": [
    "user_query = \"키보드의 가격은 얼마인가요?\"\n",
    "response_message = run_conversation_temp(user_query)\n",
    "json.dumps(response_message, ensure_ascii=False)"
   ]
  },
  {
   "cell_type": "code",
   "execution_count": null,
   "metadata": {},
   "outputs": [],
   "source": [
    "user_query = \"마우스는 얼마인가요?\"\n",
    "response_message = run_conversation_temp(user_query)\n",
    "json.dumps(response_message, ensure_ascii=False)"
   ]
  },
  {
   "cell_type": "code",
   "execution_count": null,
   "metadata": {},
   "outputs": [],
   "source": [
    "response_message[\"function_call\"] # response_message.get(\"function_call\") 도 가능"
   ]
  },
  {
   "cell_type": "code",
   "execution_count": null,
   "metadata": {},
   "outputs": [],
   "source": [
    "response_message[\"function_call\"][\"name\"]"
   ]
  },
  {
   "cell_type": "code",
   "execution_count": null,
   "metadata": {},
   "outputs": [],
   "source": [
    "json.loads(response_message[\"function_call\"][\"arguments\"])"
   ]
  },
  {
   "cell_type": "markdown",
   "metadata": {},
   "source": [
    "[6장: 171페이지]"
   ]
  },
  {
   "cell_type": "code",
   "execution_count": null,
   "metadata": {},
   "outputs": [],
   "source": [
    "json.loads(response_message[\"function_call\"][\"arguments\"])[\"product_name\"]"
   ]
  },
  {
   "cell_type": "code",
   "execution_count": null,
   "metadata": {},
   "outputs": [],
   "source": [
    "import openai\n",
    "import json\n",
    "\n",
    "# 호출 함수\n",
    "def get_price_info(product_name):    \n",
    "    # 가격 정보\n",
    "    product_price = {\"키보드\": \"3만원\", \"마우스\": \"2만원\", \"모니터\": \"30만원\"}\n",
    "    \n",
    "    prince = product_price.get(product_name) # 제품 이름을 입력해 가격 가져오기\n",
    "    if prince == None: # 제품 가격이 없을 경우\n",
    "        prince = \"해당 상품은 가격 정보가 없습니다.\"\n",
    "\n",
    "    price_info = {\n",
    "        \"product_name\": product_name,\n",
    "        \"price\": prince\n",
    "    }\n",
    "    \n",
    "    return json.dumps(price_info)\n",
    "\n",
    "# Chat Completions API를 이용해 사용자 입력에 따라 함수를 호출하고 응답하는 함수\n",
    "def run_conversation(user_query):\n",
    "    # 사용자 입력\n",
    "    messages = [{\"role\": \"user\", \"content\": user_query}] \n",
    "        \n",
    "    # 함수 정보 입력   \n",
    "    functions = [                                        \n",
    "        {\n",
    "            \"name\": \"get_price_info\",\n",
    "            \"description\": \"제품 이름에 따른 가격 가져오기\",\n",
    "            \"parameters\": {\n",
    "                \"type\": \"object\",\n",
    "                \"properties\": {\n",
    "                    \"product_name\": {\n",
    "                        \"type\": \"string\",\n",
    "                        \"description\": \"제품 이름. 예를 들면, 키보드, 마우스\",\n",
    "                    },\n",
    "                },\n",
    "                \"required\": [\"product_name\"],\n",
    "            },\n",
    "        }\n",
    "    ]\n",
    "    # 1단계: 사용자 입력과 함수 정보를 Chat Completions API 모델로 보내기    \n",
    "    response = openai.ChatCompletion.create( # Chat Completions API 모델로 보내기\n",
    "            model=\"gpt-3.5-turbo\",\n",
    "            # model=\"gpt-4\",\n",
    "            messages=messages,\n",
    "            functions=functions,\n",
    "            function_call=\"auto\"\n",
    "    )\n",
    "    # 2단계: 응답 생성\n",
    "    response_message = response[\"choices\"][0][\"message\"] # 모델의 응답 메시지\n",
    "    \n",
    "    if response_message.get(\"function_call\"): # 응답이 함수 호출인지 확인하기\n",
    "        # 3단계: JSON 객체를 분석해 함수 이름과 인수를 추출한 후에 함수 호출\n",
    "        # (주의: JSON 응답이 항상 유효하지 않을 수 있음)\n",
    "        \n",
    "        # 함수 이름 추출\n",
    "        function_name = response_message[\"function_call\"][\"name\"]\n",
    "        # 함수 호출을 위한 인수 추출\n",
    "        function_args = json.loads(response_message[\"function_call\"][\"arguments\"])\n",
    "        \n",
    "        # 함수 호출 및 반환 결과 받기\n",
    "        function_response = get_price_info(\n",
    "            product_name=function_args.get(\"product_name\") # 인수 지정\n",
    "        )\n",
    "        \n",
    "        # 4단계: 함수 호출 결과를 기존 메시지에 추가하고,\n",
    "        #        Chat Completions API 모델로 보내 응답받기\n",
    "\n",
    "        # 함수 호출 결과를 기존 메시지에 추가하기\n",
    "        messages.append(response_message)  # 기존 messages에 조력자 응답 추가\n",
    "        messages.append(                   # 함수와 함수 호출 결과 추가\n",
    "            {\n",
    "                \"role\": \"function\",           # role: function으로 지정\n",
    "                \"name\": function_name,        # name: 호출할 함수 이름 지정\n",
    "                \"content\": function_response, # content: 함수 호출 결과 지정\n",
    "            }\n",
    "        )\n",
    "        # 함수 호출 결과를 추가한 메시지를 Chat Completions API 모델로 보내 응답받기\n",
    "        second_response = openai.ChatCompletion.create(\n",
    "            model=\"gpt-3.5-turbo\",\n",
    "            # model=\"gpt-4\",\n",
    "            messages=messages,\n",
    "        ) \n",
    "        return second_response # 두 번째 응답 반환\n",
    "    \n",
    "    return response_message # 응답 메시지 반환"
   ]
  },
  {
   "cell_type": "markdown",
   "metadata": {},
   "source": [
    "[6장: 174페이지]"
   ]
  },
  {
   "cell_type": "code",
   "execution_count": null,
   "metadata": {},
   "outputs": [],
   "source": [
    "user_query = \"마우스는 얼마인가요?\" # 가격 정보 있음\n",
    "response = run_conversation(user_query)\n",
    "json.dumps(response, ensure_ascii=False)"
   ]
  },
  {
   "cell_type": "code",
   "execution_count": null,
   "metadata": {},
   "outputs": [],
   "source": [
    "user_query = \"모니터는 얼마인가요?\" # 가격 정보 있음\n",
    "response = run_conversation(user_query)\n",
    "response[\"choices\"][0][\"message\"][\"content\"]"
   ]
  },
  {
   "cell_type": "code",
   "execution_count": null,
   "metadata": {},
   "outputs": [],
   "source": [
    "user_query = \"HDD는 얼마인가요?\" # 가격 정보 없음\n",
    "response = run_conversation(user_query)\n",
    "response[\"choices\"][0][\"message\"][\"content\"]"
   ]
  },
  {
   "cell_type": "markdown",
   "metadata": {},
   "source": [
    "###  6.4.4 Image API를 이용한 이미지 생성"
   ]
  },
  {
   "cell_type": "markdown",
   "metadata": {},
   "source": [
    "[6장: 177페이지]"
   ]
  },
  {
   "cell_type": "code",
   "execution_count": null,
   "metadata": {
    "scrolled": true
   },
   "outputs": [],
   "source": [
    "import openai\n",
    "\n",
    "response = openai.Image.create(\n",
    "              prompt=\"Happy robots playing in the playground\",\n",
    "              n=1,\n",
    "              size=\"512x512\" # 이미지 크기를 512 x 512로 지정  \n",
    ")\n",
    "\n",
    "image_url = response['data'][0]['url']\n",
    "print(image_url) # 이미지 URL 전체 표시"
   ]
  },
  {
   "cell_type": "markdown",
   "metadata": {},
   "source": [
    "[6장: 178페이지]"
   ]
  },
  {
   "cell_type": "code",
   "execution_count": null,
   "metadata": {},
   "outputs": [],
   "source": [
    "from IPython.display import Image, display\n",
    "\n",
    "display(Image(image_url, format=\"png\")) # 이미지 링크 표시"
   ]
  },
  {
   "cell_type": "code",
   "execution_count": null,
   "metadata": {},
   "outputs": [],
   "source": [
    "import openai\n",
    "from IPython.display import Image, display\n",
    "\n",
    "response = openai.Image.create(\n",
    "              prompt=\"Happy robots playing in the playground\",\n",
    "              n=2,\n",
    "              size=\"512x512\" # 이미지 크기를 512 x 512로 지정 \n",
    ")\n",
    "\n",
    "for data in response['data']:\n",
    "    image_url = data['url'] # 이미지 URL 추출    \n",
    "    print(image_url[:170]) # 이미지 URL 일부 표시\n",
    "    # print(image_url) # 이미지 URL 전체 표시\n",
    "    \n",
    "    display(Image(image_url, format='png')) # 이미지를 화면에 표시"
   ]
  },
  {
   "cell_type": "markdown",
   "metadata": {},
   "source": [
    "[6장: 179페이지]"
   ]
  },
  {
   "cell_type": "code",
   "execution_count": null,
   "metadata": {},
   "outputs": [],
   "source": [
    "image_url.split(\"?\")[0].split(\"/\")[-1]"
   ]
  },
  {
   "cell_type": "markdown",
   "metadata": {},
   "source": [
    "[6장: 180페이지]"
   ]
  },
  {
   "cell_type": "code",
   "execution_count": null,
   "metadata": {},
   "outputs": [],
   "source": [
    "from pathlib import Path\n",
    "\n",
    "# 디렉터리 경로를 입력해 path 객체를 생성\n",
    "dir_path = Path('C:/myPyAI/data/download') # 내려받을 폴더 생성   \n",
    "\n",
    "# 디렉터리가 없다면 생성\n",
    "dir_path.mkdir(parents=True, exist_ok=True)\n",
    "\n",
    "# 생성한 디렉터리의 존재 여부 확인\n",
    "print(\"{0} 디렉터리의 존재 여부: {1}\".format(dir_path, dir_path.exists()))"
   ]
  },
  {
   "cell_type": "code",
   "execution_count": null,
   "metadata": {},
   "outputs": [],
   "source": [
    "import requests\n",
    "\n",
    "for data in response['data']:\n",
    "    image_url = data['url'] # 이미지 URL 추출\n",
    "    \n",
    "    download_holder = \"C:/myPyAI/data/download/\" # 다운로드 폴더 지정\n",
    "    image_filenme = image_url.split(\"?\")[0].split(\"/\")[-1]  # 이미지 파일 이름 추출   \n",
    "    image_path = download_holder + image_filenme # 다운로드 파일의 경로 생성\n",
    "    print(\"이미지 파일 경로:\", image_path)\n",
    "    \n",
    "    r = requests.get(image_url) # 이미지 URL을 이용해 이미지 가져오기\n",
    "    with open(image_path, 'wb') as f: # 가져온 이미지를 바이너리 파일로 저장\n",
    "        f.write(r.content)"
   ]
  },
  {
   "cell_type": "markdown",
   "metadata": {},
   "source": [
    "[6장: 181페이지]"
   ]
  },
  {
   "cell_type": "code",
   "execution_count": null,
   "metadata": {},
   "outputs": [],
   "source": [
    "import openai\n",
    "from IPython.display import Image, display\n",
    "\n",
    "org_image_file = \"C:/myPyAI/data/org_image_for_edit.png\"   # 원본 이미지\n",
    "mask_image_file = \"C:/myPyAI/data/mask_image_for_edit.png\" # 마스크 이미지\n",
    "\n",
    "# 이미지 편집 생성 \n",
    "response = openai.Image.create_edit( \n",
    "                image=open(org_image_file, \"rb\"), \n",
    "                mask=open(mask_image_file, \"rb\"),\n",
    "                prompt=\"Happy robots swimming in the water\",                           \n",
    "                n=1, # 생성할 이미지 개수 지정\n",
    "                size=\"256x256\" # 생성할 이미지의 크기 지정                            \n",
    ")\n",
    "\n",
    "image_url = response['data'][0]['url'] # 생성 이미지 URL\n",
    "\n",
    "print(\"[원본 이미지]\")\n",
    "display(Image(org_image_file, format='png', width=256, height=256)) # 이미지를 화면에 표시\n",
    "print(\"[마스크 이미지]\")\n",
    "display(Image(mask_image_file, format='png', width=256, height=256)) # 이미지를 화면에 표시\n",
    "print(\"[생성 이미지]\")\n",
    "display(Image(image_url, format='png')) # 이미지를 화면에 표시"
   ]
  },
  {
   "cell_type": "markdown",
   "metadata": {},
   "source": [
    "[6장: 183페이지]"
   ]
  },
  {
   "cell_type": "code",
   "execution_count": null,
   "metadata": {
    "scrolled": false
   },
   "outputs": [],
   "source": [
    "import openai\n",
    "from IPython.display import Image, display\n",
    "\n",
    "org_image_file = \"C:/myPyAI/data/org_image_for_variation.png\" # 원본 이미지\n",
    "\n",
    "# 이미지 변형 생성\n",
    "response = openai.Image.create_variation( \n",
    "                image=open(org_image_file, \"rb\"),                         \n",
    "                n=1, # 생성할 이미지 개수 지정\n",
    "                size=\"256x256\" # 생성할 이미지의 크기 지정                          \n",
    ")\n",
    "    \n",
    "image_url = response['data'][0]['url']\n",
    "\n",
    "print(\"[원본 이미지]\")\n",
    "display(Image(org_image_file, format='png', width=256, height=256)) # 이미지를 화면에 표시\n",
    "print(\"[생성 이미지]\")\n",
    "display(Image(image_url, format='png')) # 이미지를 화면에 표시"
   ]
  },
  {
   "cell_type": "markdown",
   "metadata": {},
   "source": [
    "### 6.4.5 Audio API를 이용한 음성 추출"
   ]
  },
  {
   "cell_type": "markdown",
   "metadata": {},
   "source": [
    "[6장: 186페이지]"
   ]
  },
  {
   "cell_type": "code",
   "execution_count": null,
   "metadata": {
    "scrolled": false
   },
   "outputs": [],
   "source": [
    "import openai\n",
    "import os\n",
    "\n",
    "# 비디오, 오디오 파일 열기\n",
    "file_path = \"C:/myPyAI/data/서연의_하루_TTS_short.mp3\"\n",
    "\n",
    "audio_file = open(file_path, \"rb\")\n",
    "\n",
    "# API 키 설정\n",
    "openai.api_key = os.environ[\"OPENAI_API_KEY\"]\n",
    "\n",
    "# 지정한 형식으로 음성 추출\n",
    "response = openai.Audio.transcribe(\n",
    "            model=\"whisper-1\",\n",
    "            file=audio_file,\n",
    "            response_format=\"text\" # text, srt 등 중 하나 선택\n",
    "            )\n",
    "audio_file.close()\n",
    "print(response[:100]) # 일부 출력\n",
    "# print(response) # 전체 출력"
   ]
  },
  {
   "cell_type": "code",
   "execution_count": null,
   "metadata": {
    "scrolled": true
   },
   "outputs": [],
   "source": [
    "# 비디오, 오디오 파일 열기\n",
    "file_path = \"C:/myPyAI/data/서연의_하루_TTS_배경음악_short.mp3\"\n",
    "audio_file = open(file_path, \"rb\")\n",
    "\n",
    "# 지정한 형식으로 음성 추출\n",
    "response = openai.Audio.transcribe(\n",
    "            model=\"whisper-1\",\n",
    "            file=audio_file,\n",
    "            response_format=\"text\" # text, srt, vtt, json, verbose_json 중 하나 선택\n",
    "            )\n",
    "audio_file.close()\n",
    "print(response[:100]) # 일부 출력\n",
    "# print(response) # 전체 출력"
   ]
  },
  {
   "cell_type": "markdown",
   "metadata": {},
   "source": [
    "[6장: 187페이지]"
   ]
  },
  {
   "cell_type": "code",
   "execution_count": null,
   "metadata": {
    "scrolled": true
   },
   "outputs": [],
   "source": [
    "file_path = \"C:/myPyAI/data/서연의_하루_TTS_배경음악_short.mp3\"\n",
    "audio_file = open(file_path, \"rb\")\n",
    "\n",
    "# 지정한 형식으로 음성 추출\n",
    "response = openai.Audio.translate(\n",
    "            model=\"whisper-1\",\n",
    "            file=open(file_path, \"rb\"),\n",
    "            response_format=\"text\" # text, srt, vtt, json, verbose_json 중 하나 선택\n",
    "            )\n",
    "audio_file.close()\n",
    "print(response[:100]) # 일부 출력\n",
    "# print(response) # 전체 출력"
   ]
  },
  {
   "cell_type": "markdown",
   "metadata": {},
   "source": [
    "### 6.4.6 OpenAI 토큰 계산하기"
   ]
  },
  {
   "cell_type": "markdown",
   "metadata": {},
   "source": [
    "[6장: 189페이지]"
   ]
  },
  {
   "cell_type": "code",
   "execution_count": null,
   "metadata": {},
   "outputs": [],
   "source": [
    "import tiktoken\n",
    "\n",
    "text = \"tiktoken is great!\" # 원본 텍스트\n",
    "enc = tiktoken.get_encoding(\"cl100k_base\")\n",
    "# enc = tiktoken.encoding_for_model(\"gpt-3.5-turbo\")\n",
    "\n",
    "encoded_list = enc.encode(text) # 텍스트 인코딩해 인코딩 리스트 생성\n",
    "token_num = len(encoded_list)   # 인코딩 리스트의 길이로 토큰 개수 계산\n",
    "decoded_text = enc.decode(encoded_list) # 인코딩 결과를 디코딩해서 텍스트 복원\n",
    "\n",
    "print(\"- 인코딩 결과:\", encoded_list)\n",
    "print(\"- 토큰 개수:\", token_num)\n",
    "print(\"- 디코딩 결과:\", decoded_text)"
   ]
  },
  {
   "cell_type": "markdown",
   "metadata": {},
   "source": [
    "## 6.5 정리"
   ]
  }
 ],
 "metadata": {
  "anaconda-cloud": {},
  "kernelspec": {
   "display_name": "Python 3 (ipykernel)",
   "language": "python",
   "name": "python3"
  },
  "language_info": {
   "codemirror_mode": {
    "name": "ipython",
    "version": 3
   },
   "file_extension": ".py",
   "mimetype": "text/x-python",
   "name": "python",
   "nbconvert_exporter": "python",
   "pygments_lexer": "ipython3",
   "version": "3.11.3"
  },
  "latex_envs": {
   "LaTeX_envs_menu_present": true,
   "autoclose": false,
   "autocomplete": true,
   "bibliofile": "biblio.bib",
   "cite_by": "apalike",
   "current_citInitial": 1,
   "eqLabelWithNumbers": true,
   "eqNumInitial": 1,
   "hotkeys": {
    "equation": "Ctrl-E",
    "itemize": "Ctrl-I"
   },
   "labels_anchors": false,
   "latex_user_defs": false,
   "report_style_numbering": false,
   "user_envs_cfg": false
  },
  "nav_menu": {},
  "toc": {
   "base_numbering": "6",
   "nav_menu": {
    "height": "512px",
    "width": "252px"
   },
   "number_sections": false,
   "sideBar": true,
   "skip_h1_title": false,
   "title_cell": "Table of Contents",
   "title_sidebar": "Contents",
   "toc_cell": false,
   "toc_position": {
    "height": "545px",
    "left": "22px",
    "right": "1078px",
    "top": "271.133px",
    "width": "435px"
   },
   "toc_section_display": true,
   "toc_window_display": false
  },
  "toc_position": {
   "height": "556px",
   "left": "0px",
   "right": "1057px",
   "top": "107px",
   "width": "309px"
  }
 },
 "nbformat": 4,
 "nbformat_minor": 1
}
