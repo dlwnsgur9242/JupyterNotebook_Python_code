{
 "cells": [
  {
   "cell_type": "markdown",
   "metadata": {},
   "source": [
    "# 7장 인터넷 콘텐츠를 요약하는 유니버설 서머라이저"
   ]
  },
  {
   "cell_type": "markdown",
   "metadata": {},
   "source": [
    "## 7.1 유니버설 서머라이저 소개 및 API 토큰 생성"
   ]
  },
  {
   "cell_type": "markdown",
   "metadata": {},
   "source": [
    "##  7.2 유니버설 서머라이저 API 사용하기"
   ]
  },
  {
   "cell_type": "markdown",
   "metadata": {},
   "source": [
    "### 7.2.1 콘텐츠 요약을 위한 API 이용 방법"
   ]
  },
  {
   "cell_type": "markdown",
   "metadata": {},
   "source": [
    "### 7.2.2 URL 입력을 통한 웹 콘텐츠 요약"
   ]
  },
  {
   "cell_type": "markdown",
   "metadata": {},
   "source": [
    "[7장: 204페이지]"
   ]
  },
  {
   "cell_type": "code",
   "execution_count": null,
   "metadata": {},
   "outputs": [],
   "source": [
    "import requests\n",
    "import os \n",
    "\n",
    "KAGI_API_TOKEN = os.environ[\"KAGI_API_TOKEN\"] # Kagi API 키\n",
    "\n",
    "contents_url = \"https://www.youtube.com/watch?v=BmYv8XGl-YU\"\n",
    "url = f\"https://kagi.com/api/v0/summarize?url={contents_url}\" # 전달할 매개 변수를 URL에 포함\n",
    "headers = {\"Authorization\": \"Bot \" + KAGI_API_TOKEN}\n",
    "\n",
    "r = requests.get(url, headers=headers)\n",
    "r"
   ]
  },
  {
   "cell_type": "markdown",
   "metadata": {},
   "source": [
    "[7장: 205페이지]"
   ]
  },
  {
   "cell_type": "code",
   "execution_count": null,
   "metadata": {},
   "outputs": [],
   "source": [
    "r.json()"
   ]
  },
  {
   "cell_type": "code",
   "execution_count": null,
   "metadata": {},
   "outputs": [],
   "source": [
    "summary = r.json()['data']['output'] # 요약 내용을 별도의 변수에 할당\n",
    "summary"
   ]
  },
  {
   "cell_type": "markdown",
   "metadata": {},
   "source": [
    "[7장: 206페이지]"
   ]
  },
  {
   "cell_type": "code",
   "execution_count": null,
   "metadata": {},
   "outputs": [],
   "source": [
    "import requests\n",
    "import os \n",
    "import textwrap\n",
    "\n",
    "KAGI_API_TOKEN = os.environ[\"KAGI_API_TOKEN\"] # Kagi API 키\n",
    "\n",
    "api_url = \"https://kagi.com/api/v0/summarize\"\n",
    "contents_url = \"https://www.youtube.com/watch?v=BmYv8XGl-YU\"\n",
    "headers = {\"Authorization\": \"Bot \" + KAGI_API_TOKEN}\n",
    "parameters = {\"url\":contents_url}\n",
    "\n",
    "r = requests.get(api_url, headers=headers, params=parameters)\n",
    "\n",
    "summary = r.json()['data']['output'] # 요약 내용을 별도의 변수에 할당\n",
    "\n",
    "shorten_summary = textwrap.shorten(summary, 150, placeholder=' [..이하 생략..]')\n",
    "\n",
    "print(\"- 요약 내용(축약):\", shorten_summary) # 요약 내용(축약) 출력\n",
    "# print(\"- 요약 내용:\", summary) # 요약 내용(전체) 출력"
   ]
  },
  {
   "cell_type": "code",
   "execution_count": null,
   "metadata": {
    "scrolled": true
   },
   "outputs": [],
   "source": [
    "api_url = \"https://kagi.com/api/v0/summarize\"\n",
    "contents_url = \"https://www.khan.co.kr/culture/culture-general/article/202212310830021\"\n",
    "headers = {\"Authorization\": \"Bot \" + KAGI_API_TOKEN}\n",
    "parameters = {\"url\":contents_url, \"target_language\":\"KO\"}\n",
    "\n",
    "r = requests.get(api_url, headers=headers, params=parameters)\n",
    "\n",
    "summary = r.json()['data']['output'] # 요약 내용을 별도의 변수에 할당\n",
    "\n",
    "shorten_summary = textwrap.shorten(summary, 150, placeholder=' [..이하 생략..]')\n",
    "\n",
    "print(\"- 요약 내용(축약):\", shorten_summary) # 요약 내용(축약) 출력\n",
    "# print(\"- 요약 내용:\", summary) # 요약 내용(전체) 출력"
   ]
  },
  {
   "cell_type": "markdown",
   "metadata": {},
   "source": [
    "[7장: 207페이지]"
   ]
  },
  {
   "cell_type": "code",
   "execution_count": null,
   "metadata": {},
   "outputs": [],
   "source": [
    "engines = [\"cecil\", \"agnes\", \"daphne\", \"muriel\"] # 엔진 전체\n",
    "\n",
    "api_url = \"https://kagi.com/api/v0/summarize\"\n",
    "contents_url = \"https://www.khan.co.kr/culture/culture-general/article/202212310830021\"\n",
    "headers = {\"Authorization\": \"Bot \" + KAGI_API_TOKEN}\n",
    "\n",
    "for engine in engines:\n",
    "    parameters = {\"url\":contents_url, \"engine\":engine, \"target_language\":\"KO\"}\n",
    "\n",
    "    r = requests.get(api_url, headers=headers, params=parameters)\n",
    "\n",
    "    summary = r.json()['data']['output'] # 요약 내용을 별도의 변수에 할당\n",
    "\n",
    "    shorten_summary = textwrap.shorten(summary, 150, placeholder=' [..이하 생략..]')\n",
    "    \n",
    "    print(\"[요약 엔진]\", engine)\n",
    "    print(\"- 요약 내용(축약):\", shorten_summary) # 요약 내용(축약) 출력\n",
    "    # print(\"- 요약 내용:\", summary) # 요약 내용(전체) 출력\n"
   ]
  },
  {
   "cell_type": "markdown",
   "metadata": {},
   "source": [
    "[7장: 208페이지]"
   ]
  },
  {
   "cell_type": "code",
   "execution_count": null,
   "metadata": {},
   "outputs": [],
   "source": [
    "api_url = \"https://kagi.com/api/v0/summarize\"\n",
    "contents_url = \"https://edition.cnn.com/2023/03/26/middleeast/israel-judicial-overhaul-legislation-intl/index.html\"\n",
    "headers = {\"Authorization\": \"Bot \" + KAGI_API_TOKEN}\n",
    "parameters = {\"url\":contents_url, \"target_language\":\"KO\"}\n",
    "\n",
    "r = requests.get(api_url, headers=headers, params=parameters)\n",
    "\n",
    "summary = r.json()['data']['output'] # 요약 내용을 별도의 변수에 할당\n",
    "\n",
    "shorten_summary = textwrap.shorten(summary, 150, placeholder=' [..이하 생략..]')\n",
    "\n",
    "print(\"- 요약 내용(축약):\", shorten_summary) # 요약 내용(축약) 출력\n",
    "# print(\"- 요약 내용:\", summary) # 요약 내용(전체) 출력"
   ]
  },
  {
   "cell_type": "markdown",
   "metadata": {},
   "source": [
    "### 7.2.3 텍스트 내용 요약"
   ]
  },
  {
   "cell_type": "markdown",
   "metadata": {},
   "source": [
    "[7장: 209페이지]"
   ]
  },
  {
   "cell_type": "code",
   "execution_count": null,
   "metadata": {},
   "outputs": [],
   "source": [
    "import requests\n",
    "import os\n",
    "import textwrap\n",
    "\n",
    "# 1) 텍스트 파일에서 데이터 가져오기\n",
    "text_file_name = \"C:/myPyAI/data/스티브_잡스_2005_스탠포드_연설.txt\" # 영어 문장 텍스트 파일\n",
    "\n",
    "with open(text_file_name, 'r', encoding='utf-8') as f: # 텍스트 파일을 읽기 모드로 열기\n",
    "    text_data = f.read() # 텍스트 파일의 내용을 읽어서 text_data에 할당\n",
    "\n",
    "print(\"[원본 텍스트 파일의 내용 앞부분만 출력]\")\n",
    "print(text_data[:290])\n",
    "print()\n",
    "\n",
    "# 2) 텍스트 데이터 요약하기\n",
    "KAGI_API_TOKEN = os.environ[\"KAGI_API_TOKEN\"] # Kagi API 키\n",
    "\n",
    "api_url = \"https://kagi.com/api/v0/summarize\"\n",
    "headers = {\"Authorization\": \"Bot \" + KAGI_API_TOKEN}\n",
    "data = {\"text\":text_data}\n",
    "# data = {\"text\":text_data, \"target_language\":\"KO\"} # 요약의 출력 언어를 한국어로 지정\n",
    "r = requests.post(api_url, headers=headers, data=data)\n",
    "\n",
    "summary = r.json()['data']['output'] # 요약 내용을 별도의 변수에 할당\n",
    "shorten_summary = textwrap.shorten(summary, 250, placeholder=' [..이하 생략..]')\n",
    "\n",
    "print(\"[요약 내용 출력]\")\n",
    "print(shorten_summary) # 요약 내용(축약) 출력\n",
    "# print(summary) # 요약 내용(전체) 출력"
   ]
  },
  {
   "cell_type": "markdown",
   "metadata": {},
   "source": [
    "[7장: 210페이지]"
   ]
  },
  {
   "cell_type": "code",
   "execution_count": null,
   "metadata": {
    "scrolled": true
   },
   "outputs": [],
   "source": [
    "import requests\n",
    "import os\n",
    "\n",
    "# 1) 텍스트 파일에서 데이터 가져오기\n",
    "text_file_name = \"C:/myPyAI/data/서연의_이야기.txt\" # 한국어 문장 텍스트 파일\n",
    "\n",
    "with open(text_file_name, 'r', encoding='utf-8') as f: # 텍스트 파일을 읽기 모드로 열기\n",
    "    text_data = f.read() # 텍스트 파일의 내용을 읽어서 text_data에 할당\n",
    "\n",
    "print(\"[텍스트 파일의 내용 앞부분만 출력]\")\n",
    "print(text_data[:158])\n",
    "print()\n",
    "\n",
    "# 2) 텍스트 데이터 요약하기\n",
    "KAGI_API_TOKEN = os.environ[\"KAGI_API_TOKEN\"] # Kagi API 키\n",
    "\n",
    "api_url = \"https://kagi.com/api/v0/summarize\"\n",
    "headers = {\"Authorization\": \"Bot \" + KAGI_API_TOKEN}\n",
    "data = {\"text\":text_data, \"target_language\":\"KO\"} # 요약의 출력 언어를 한국어로 지정\n",
    "r = requests.post(api_url, headers=headers, data=data)\n",
    "\n",
    "summary = r.json()['data']['output'] # 요약 내용을 별도의 변수에 할당\n",
    "shorten_summary = textwrap.shorten(summary, 250, placeholder=' [..이하 생략..]')\n",
    "\n",
    "print(\"[요약 내용 출력]\")\n",
    "print(shorten_summary) # 요약 내용(축약) 출력\n",
    "# print(summary) # 요약 내용(전체) 출력"
   ]
  },
  {
   "cell_type": "markdown",
   "metadata": {},
   "source": [
    "## 7.3 요약"
   ]
  }
 ],
 "metadata": {
  "anaconda-cloud": {},
  "kernelspec": {
   "display_name": "Python 3 (ipykernel)",
   "language": "python",
   "name": "python3"
  },
  "language_info": {
   "codemirror_mode": {
    "name": "ipython",
    "version": 3
   },
   "file_extension": ".py",
   "mimetype": "text/x-python",
   "name": "python",
   "nbconvert_exporter": "python",
   "pygments_lexer": "ipython3",
   "version": "3.11.3"
  },
  "latex_envs": {
   "LaTeX_envs_menu_present": true,
   "autoclose": false,
   "autocomplete": true,
   "bibliofile": "biblio.bib",
   "cite_by": "apalike",
   "current_citInitial": 1,
   "eqLabelWithNumbers": true,
   "eqNumInitial": 1,
   "hotkeys": {
    "equation": "Ctrl-E",
    "itemize": "Ctrl-I"
   },
   "labels_anchors": false,
   "latex_user_defs": false,
   "report_style_numbering": false,
   "user_envs_cfg": false
  },
  "nav_menu": {},
  "toc": {
   "base_numbering": "7",
   "nav_menu": {
    "height": "512px",
    "width": "252px"
   },
   "number_sections": true,
   "sideBar": true,
   "skip_h1_title": false,
   "title_cell": "Table of Contents",
   "title_sidebar": "Contents",
   "toc_cell": false,
   "toc_position": {
    "height": "545px",
    "left": "25px",
    "right": "1078px",
    "top": "154px",
    "width": "435px"
   },
   "toc_section_display": true,
   "toc_window_display": false
  },
  "toc_position": {
   "height": "556px",
   "left": "0px",
   "right": "1057px",
   "top": "107px",
   "width": "309px"
  }
 },
 "nbformat": 4,
 "nbformat_minor": 1
}
