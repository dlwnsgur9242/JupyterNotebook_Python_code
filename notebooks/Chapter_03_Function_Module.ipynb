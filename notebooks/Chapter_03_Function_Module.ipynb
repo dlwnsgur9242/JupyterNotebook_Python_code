{
 "cells": [
  {
   "cell_type": "markdown",
   "metadata": {},
   "source": [
    "# 3장 함수와 모듈"
   ]
  },
  {
   "cell_type": "markdown",
   "metadata": {},
   "source": [
    "## 3.1 함수"
   ]
  },
  {
   "cell_type": "markdown",
   "metadata": {},
   "source": [
    "### 3.1.1 함수의 정의와 호출"
   ]
  },
  {
   "cell_type": "markdown",
   "metadata": {},
   "source": [
    "#### 함수의 기본 구조"
   ]
  },
  {
   "cell_type": "markdown",
   "metadata": {},
   "source": [
    "#### 함수의 다양한 예"
   ]
  },
  {
   "cell_type": "markdown",
   "metadata": {},
   "source": [
    "[3장: 73페이지]"
   ]
  },
  {
   "cell_type": "code",
   "execution_count": null,
   "metadata": {},
   "outputs": [],
   "source": [
    "# 함수의 정의(이모티콘 출력)\n",
    "def my_emoticon():\n",
    "    print(\"=======\")\n",
    "    print(\" (^o^)\")\n",
    "    print(\"=======\")\n",
    "    \n",
    "# 함수의 호출\n",
    "my_emoticon()"
   ]
  },
  {
   "cell_type": "code",
   "execution_count": null,
   "metadata": {},
   "outputs": [],
   "source": [
    "# 함수의 정의(게임 정보 출력)\n",
    "def game_info_display(name, version, genre): # 3개의 매개변수를 갖는 함수\n",
    "    print(\"--- 게임 정보 ----\")\n",
    "    print(\"이름:\", name)\n",
    "    print(\"버전:\", version)\n",
    "    print(\"장르:\", genre)\n",
    "\n",
    "# 함수의 호출(매개변수의 개수와 같은 순서로 인수를 입력)\n",
    "game_info_display(\"고독한 방랑자\", \"2.02\", \"MMORPG\")"
   ]
  },
  {
   "cell_type": "markdown",
   "metadata": {},
   "source": [
    "[3장: 74페이지]"
   ]
  },
  {
   "cell_type": "code",
   "execution_count": null,
   "metadata": {},
   "outputs": [],
   "source": [
    "# 함수의 정의(y = 2*x + 1)\n",
    "def my_func(x):\n",
    "    y = 2*x + 1\n",
    "    return y\n",
    "\n",
    "# 함수의 호출(함수의 인수는 숫자로 입력)\n",
    "my_func(3)"
   ]
  },
  {
   "cell_type": "code",
   "execution_count": null,
   "metadata": {},
   "outputs": [],
   "source": [
    "result = my_func(5)\n",
    "result"
   ]
  },
  {
   "cell_type": "code",
   "execution_count": null,
   "metadata": {},
   "outputs": [],
   "source": [
    "# 함수의 정의(리스트를 입력받아 합계와 평균을 반환) \n",
    "def calc_sum_mean(list_data):\n",
    "    e_count = 0  # 요소 개수(초기화)\n",
    "    e_sum = 0  # 요소 합계(초기화)\n",
    "    \n",
    "    for element in list_data:\n",
    "        e_count = e_count + 1    # 요소 개수 계산\n",
    "        e_sum = e_sum + element  # 요소 합계 계산\n",
    "    e_mean = e_sum / e_count     # 평균 = 합계/개수\n",
    "    \n",
    "    return e_sum, e_mean  # 계산 합계와 평균을 반환(자료형은 튜플)\n",
    "\n",
    "# 함수의 호출(인수는 리스트로 입력)\n",
    "calc_sum_mean([1, 2, 3, 4, 5, 6, 7, 8, 9])"
   ]
  },
  {
   "cell_type": "markdown",
   "metadata": {},
   "source": [
    "[3장: 75페이지]"
   ]
  },
  {
   "cell_type": "code",
   "execution_count": null,
   "metadata": {},
   "outputs": [],
   "source": [
    "list_sum, list_mean = calc_sum_mean([1, 2, 3, 4, 5, 6, 7, 8, 9])\n",
    "\n",
    "print(list_sum)\n",
    "print(list_mean)"
   ]
  },
  {
   "cell_type": "markdown",
   "metadata": {},
   "source": [
    "#### 매개변수에 기본값을 할당한 함수"
   ]
  },
  {
   "cell_type": "markdown",
   "metadata": {},
   "source": [
    "[3장: 75페이지]"
   ]
  },
  {
   "cell_type": "code",
   "execution_count": null,
   "metadata": {},
   "outputs": [],
   "source": [
    "def my_add(a=1, b=2, c=3):\n",
    "    y = a + b + c\n",
    "    print(\"{0} + {1} + {2} = {3}\".format(a, b, c, y))"
   ]
  },
  {
   "cell_type": "markdown",
   "metadata": {},
   "source": [
    "[3장: 76페이지]"
   ]
  },
  {
   "cell_type": "code",
   "execution_count": null,
   "metadata": {},
   "outputs": [],
   "source": [
    "# 모든 매개변수가 기본값을 사용\n",
    "my_add()     \n",
    "\n",
    "# 첫 번째 매개변수는 입력한 인수를 사용하고 나머지는 기본값을 사용\n",
    "my_add(11)      \n",
    "\n",
    "# 첫 번째와 두 번째 매개변수는 입력한 인수를 사용하고 나머지는 기본값을 사용\n",
    "my_add(11, 12) \n",
    "\n",
    "# 모든 매개변수가 입력한 인수를 사용\n",
    "my_add(11, 12, 13) "
   ]
  },
  {
   "cell_type": "code",
   "execution_count": null,
   "metadata": {},
   "outputs": [],
   "source": [
    "# 첫 번째와 세 번째 매개변수는 입력한 인수를 사용하고 두 번째는 기본값을 사용 \n",
    "my_add(11, c=13) # 인수 입력이 매개변수에 의한 입력보다 먼저 와야 함 \n",
    "\n",
    "# 두 번째와 세 번째 매개변수는 입력한 인수를 사용하고 첫 번째는 기본값 사용 \n",
    "my_add(c=13, b=12) # 매개변수에 의한 입력끼리는 순서가 중요하지 않음"
   ]
  },
  {
   "cell_type": "markdown",
   "metadata": {},
   "source": [
    "[3장: 77페이지]"
   ]
  },
  {
   "cell_type": "code",
   "execution_count": null,
   "metadata": {},
   "outputs": [],
   "source": [
    "def my_add2(a, b, c=3, d=4):\n",
    "    y = a + b + c + d\n",
    "    print(\"{0} + {1} + {2} + {3} = {4}\".format(a, b, c, d, y))"
   ]
  },
  {
   "cell_type": "code",
   "execution_count": null,
   "metadata": {},
   "outputs": [],
   "source": [
    "my_add2(1, 2)         # 기본값 없는 매개변수는 반드시 인수 필요. c와 d에는 기본값 입력\n",
    "my_add2(1, 2, 13)     # d에는 기본값이 입력됨\n",
    "my_add2(1, 2, 13, 14) # c와 d에 모두 인수로 지정한 값 입력\n",
    "my_add2(1, 2, d=14)   # c에는 기본값이 입력됨"
   ]
  },
  {
   "cell_type": "markdown",
   "metadata": {},
   "source": [
    "### 3.1.2 내장 함수"
   ]
  },
  {
   "cell_type": "markdown",
   "metadata": {},
   "source": [
    "#### 자료형 변환 함수"
   ]
  },
  {
   "cell_type": "markdown",
   "metadata": {},
   "source": [
    "[3장: 78페이지]"
   ]
  },
  {
   "cell_type": "code",
   "execution_count": null,
   "metadata": {
    "scrolled": true
   },
   "outputs": [],
   "source": [
    "print(\"정수로 변환:\", [int(12.34), int(\"1234\"), int(0.56), int(-56.78)])\n",
    "print(\"실수로 변환:\", [float(12), float(\"12.34\"), float(\"56\"), float(-98)])\n",
    "print(\"문자열로 변환:\", [str(12), str(12.34)])"
   ]
  },
  {
   "cell_type": "markdown",
   "metadata": {},
   "source": [
    "#### 최솟값, 최댓값,  합계를 구하는 함수"
   ]
  },
  {
   "cell_type": "markdown",
   "metadata": {},
   "source": [
    "[3장: 78페이지]"
   ]
  },
  {
   "cell_type": "code",
   "execution_count": null,
   "metadata": {},
   "outputs": [],
   "source": [
    "list_data = [-2, -1, 0, 1, 2, 3, 4, 5] # 리스트 데이터\n",
    "\n",
    "print(\"최소:\", min(list_data)) # 리스트 요소의 최솟값\n",
    "print(\"최대:\", max(list_data)) # 리스트 요소의 최댓값\n",
    "print(\"합계:\", sum(list_data)) # 리스트 요소의 합"
   ]
  },
  {
   "cell_type": "markdown",
   "metadata": {},
   "source": [
    "[3장: 79페이지]"
   ]
  },
  {
   "cell_type": "code",
   "execution_count": null,
   "metadata": {},
   "outputs": [],
   "source": [
    "mean = sum(list_data) / len(list_data) # 요소의 평균 = 요소의 합 / 요소의 개수\n",
    "\n",
    "print(\"평균:\", mean)"
   ]
  },
  {
   "cell_type": "code",
   "execution_count": null,
   "metadata": {
    "scrolled": false
   },
   "outputs": [],
   "source": [
    "set_data = {-2, -1, 0, 1, 2, 3, 3, 3} # 중복 요소는 제거하고 세트 생성\n",
    "\n",
    "print(\"세트 데이터:\", set_data)\n",
    "print(\"최소: {}, 최대: {}\".format(min(set_data), max(set_data)))\n",
    "print(\"합계: {}, 데이터 개수: {}\".format(sum(set_data), len(set_data)))"
   ]
  },
  {
   "cell_type": "markdown",
   "metadata": {},
   "source": [
    "#### 키보드 입력 함수"
   ]
  },
  {
   "cell_type": "markdown",
   "metadata": {},
   "source": [
    "[3장: 80페이지]"
   ]
  },
  {
   "cell_type": "code",
   "execution_count": null,
   "metadata": {},
   "outputs": [],
   "source": [
    "name = input(\"이름을 입력하세요: \")\n",
    "age = int(input(\"나이를 입력하세요: \"))\n",
    "\n",
    "if age >= 20: # age는 조건문에 활용\n",
    "    print(f\"안녕하세요, {name}님! 당신의 나이는 {age}살로 성인입니다.\")\n",
    "else:\n",
    "    print(f\"안녕하세요, {name}님! 당신의 나이는 {age}살로 성인이 아닙입니다.\")"
   ]
  },
  {
   "cell_type": "code",
   "execution_count": null,
   "metadata": {},
   "outputs": [],
   "source": [
    "height = float(input(\"키 입력(cm): \"))     # 입력받은 문자열을 실수로 변환\n",
    "weight = float(input(\"몸무게 입력(kg): \")) # 입력받은 문자열을 실수로 변환\n",
    "\n",
    "BMI = weight / ((height/100)**2) # BMI 계산 공식 : 체중(kg) / 키(m)의 제곱\n",
    "print(f\"BMI: {BMI:.2f}\")"
   ]
  },
  {
   "cell_type": "markdown",
   "metadata": {},
   "source": [
    "## 3.2 모듈"
   ]
  },
  {
   "cell_type": "markdown",
   "metadata": {},
   "source": [
    "### 3.2.1 모듈 만들고 불러오기"
   ]
  },
  {
   "cell_type": "markdown",
   "metadata": {},
   "source": [
    "#### 모듈 만들기"
   ]
  },
  {
   "cell_type": "markdown",
   "metadata": {},
   "source": [
    "[3장: 82페이지]"
   ]
  },
  {
   "cell_type": "code",
   "execution_count": null,
   "metadata": {},
   "outputs": [],
   "source": [
    "%%writefile C:\\myPyAI\\code\\calc_area.py   \n",
    "# File name: calc_area.py\n",
    "PI = 3.14\n",
    "def rectangle(l, w): # 직사각형(가로: l, 세로: w)의 넓이를 반환\n",
    "    return l * w\n",
    "\n",
    "def circle(r): # 원(반지름: r)의 넓이를 반환\n",
    "    return PI * r ** 2"
   ]
  },
  {
   "cell_type": "code",
   "execution_count": null,
   "metadata": {},
   "outputs": [],
   "source": [
    "%%writefile C:/myPyAI/code/car.py\n",
    "# File name: car.py\n",
    "class Car(): # 클래스 선언\n",
    "    def __init__(self, size, color):\n",
    "        self.size = size    # 인스턴스 변수 생성 및 초기화\n",
    "        self.color = color  # 인스턴스 변수 생성 및 초기화\n",
    "        \n",
    "    def move(self):\n",
    "        print(\"자동차({0} & {1})가 움직입니다.\".format(self.size, self.color))"
   ]
  },
  {
   "cell_type": "markdown",
   "metadata": {},
   "source": [
    "#### 모듈 불러오기"
   ]
  },
  {
   "cell_type": "markdown",
   "metadata": {},
   "source": [
    "[3장: 83페이지]"
   ]
  },
  {
   "cell_type": "code",
   "execution_count": null,
   "metadata": {},
   "outputs": [],
   "source": [
    "cd C:\\myPyAI\\code"
   ]
  },
  {
   "cell_type": "code",
   "execution_count": null,
   "metadata": {},
   "outputs": [],
   "source": [
    "import calc_area # 모듈 임포트\n",
    " \n",
    "pi = calc_area.PI                # 임포트한 모듈의 변수를 사용\n",
    "rect = calc_area.rectangle(5, 2) # 임포트한 모듈의 함수를 호출\n",
    "circ = calc_area.circle(3)       # 임포트한 모듈의 함수를 호출\n",
    "\n",
    "print(f\"원주율:{pi}, 직사각형 넓이: {rect}, 원의 넓이: {circ}\")"
   ]
  },
  {
   "cell_type": "markdown",
   "metadata": {},
   "source": [
    "[3장: 84페이지]"
   ]
  },
  {
   "cell_type": "code",
   "execution_count": null,
   "metadata": {},
   "outputs": [],
   "source": [
    "import car # 모듈 임포트\n",
    "\n",
    "my_car = car.Car(\"중형\", \"검은색\") # 임포트한 모듈의 클래스에서 객체를 생성\n",
    "my_car.move()  "
   ]
  },
  {
   "cell_type": "code",
   "execution_count": null,
   "metadata": {},
   "outputs": [],
   "source": [
    "from calc_area import PI, rectangle, circle # 모듈의 변수, 함수를 임포트\n",
    "\n",
    "pi = PI                # 모듈명 없이 바로 변수를 사용\n",
    "rect = rectangle(5, 2) # 모듈명 없이 바로 함수를 호출\n",
    "circ = circle(3)       # 모듈명 없이 바로 함수를 호출\n",
    "\n",
    "print(f\"원주율:{pi}, 직사각형 넓이: {rect}, 원의 넓이: {circ}\")   "
   ]
  },
  {
   "cell_type": "markdown",
   "metadata": {},
   "source": [
    "[3장: 85페이지]"
   ]
  },
  {
   "cell_type": "code",
   "execution_count": null,
   "metadata": {},
   "outputs": [],
   "source": [
    "import calc_area as area   # 모듈을 불러와서 별명으로 지정\n",
    "\n",
    "pi = area.PI                # 임포트한 모듈의 별명과 함께 변수를 사용\n",
    "rect = area.rectangle(5, 2) # 임포트한 모듈의 별명과 함께 함수를 호출\n",
    "circ = area.circle(3)       # 임포트한 모듈의 별명과 함께 함수를 호출\n",
    "\n",
    "print(f\"원주율:{pi}, 직사각형 넓이: {rect}, 원의 넓이: {circ}\")   "
   ]
  },
  {
   "cell_type": "code",
   "execution_count": null,
   "metadata": {},
   "outputs": [],
   "source": [
    "from calc_area import PI as pi          # 모듈의 변수를 별명으로 지정\n",
    "from calc_area import rectangle as rect # 모듈의 함수를 별명으로 지정\n",
    "from calc_area import circle as circ    # 모듈의 함수를 별명으로 지정\n",
    "\n",
    "p = pi          # 모듈의 변수를 별명으로 사용\n",
    "r = rect(5, 2)  # 모듈의 함수를 별명으로 호출\n",
    "c = circ(3)     # 모듈의 함수를 별명으로 호출\n",
    "\n",
    "print(f\"원주율:{p}, 직사각형 넓이: {r}, 원의 넓이: {c}\")   "
   ]
  },
  {
   "cell_type": "markdown",
   "metadata": {},
   "source": [
    "### 3.2.2 내장 모듈"
   ]
  },
  {
   "cell_type": "markdown",
   "metadata": {},
   "source": [
    "#### 파일과 경로 처리 모듈"
   ]
  },
  {
   "cell_type": "markdown",
   "metadata": {},
   "source": [
    "[3장: 89페이지]"
   ]
  },
  {
   "cell_type": "code",
   "execution_count": null,
   "metadata": {
    "scrolled": true
   },
   "outputs": [],
   "source": [
    "from pathlib import Path\n",
    "\n",
    "# 파일의 경로 입력해 Path 클래스에서 file_path 객체 생성\n",
    "file_path = Path('C:/myPyAI/code/car.py')\n",
    "\n",
    "print(\"- 파일의 전체 경로:\", file_path)          # 파일의 전체 경로 출력\n",
    "print(\"- 파일의 디렉터리:\", file_path.parent)    # 파일의 디렉터리 출력\n",
    "print(\"- 파일명:\", file_path.name)               # 파일의 이름 출력\n",
    "print(\"- 파일의 확장자:\", file_path.suffix)      # 파일의 확장자 출력\n",
    "print(\"- 확장자 제외한 파일명:\", file_path.stem) # 확장자를 제외한 파일명 출력"
   ]
  },
  {
   "cell_type": "code",
   "execution_count": null,
   "metadata": {},
   "outputs": [],
   "source": [
    "from pathlib import Path\n",
    "\n",
    "dir_path = Path('C:/myPyAI/code') # 디렉터리 경로를 입력해 dir_path 객체 생성\n",
    "\n",
    "print(\"- 지정한 경로:\", dir_path)\n",
    "print(\"- 경로 존재 여부 확인:\", dir_path.exists())\n",
    "print(\"- 경로가 디렉터리(폴더)인지 확인:\", dir_path.is_dir())\n",
    "print(\"- 경로가 파일인지 확인:\", dir_path.is_file())\n",
    "print(\"- 홈 디렉터리:\", dir_path.home())"
   ]
  },
  {
   "cell_type": "markdown",
   "metadata": {},
   "source": [
    "[3장: 90페이지]"
   ]
  },
  {
   "cell_type": "code",
   "execution_count": null,
   "metadata": {},
   "outputs": [],
   "source": [
    "print(\"- 파일의 전체 경로:\", file_path)  \n",
    "print(\"- 경로 존재 여부 확인:\", file_path.exists())\n",
    "print(\"- 경로가 디렉터리(폴더)인지 확인:\", file_path.is_dir())\n",
    "print(\"- 경로가 파일인지 확인:\", file_path.is_file()) "
   ]
  },
  {
   "cell_type": "markdown",
   "metadata": {},
   "source": [
    "[3장: 91페이지]"
   ]
  },
  {
   "cell_type": "code",
   "execution_count": null,
   "metadata": {},
   "outputs": [],
   "source": [
    "from pathlib import Path\n",
    "\n",
    "# 디렉터리 경로를 입력해 path 객체를 생성\n",
    "dir_path = Path('C:/myPyAI/code/st')          \n",
    "\n",
    "# 디렉터리가 없다면 생성\n",
    "dir_path.mkdir(parents=True, exist_ok=True)\n",
    "\n",
    "# 생성한 디렉터리의 존재 여부 확인\n",
    "print(\"{0} 디렉터리의 존재 여부: {1}\".format(dir_path, dir_path.exists()))"
   ]
  },
  {
   "cell_type": "markdown",
   "metadata": {},
   "source": [
    "#### 날짜와 시간 처리 모듈"
   ]
  },
  {
   "cell_type": "markdown",
   "metadata": {},
   "source": [
    "[3장: 92페이지]"
   ]
  },
  {
   "cell_type": "code",
   "execution_count": null,
   "metadata": {},
   "outputs": [],
   "source": [
    "from datetime import date, time, datetime, timedelta\n",
    "\n",
    "date_obj = date(2023, 10, 9) # 날짜 지정\n",
    "time_obj = time(15, 23, 21)  # 시각 지정\n",
    "datetime_obj = datetime(2024, 8, 15, 20, 19, 45) # 날짜와 시각 지정\n",
    "\n",
    "print(\"[date 클래스로 날짜 지정]\", date_obj)\n",
    "print(\"[date 클래스의 속성 이용] {0}/{1}/{2}\".format(date_obj.year, \n",
    "                                                     date_obj.month, \n",
    "                                                     date_obj.day))\n",
    "\n",
    "print(\"[time 클래스로 시각 지정]\", time_obj)\n",
    "print(\"[time 클래스의 속성 지정] {0}/{1}/{2}\".format(time_obj.hour, \n",
    "                                                     time_obj.minute, \n",
    "                                                     time_obj.second))\n",
    "\n",
    "print(\"[datetime 클래스로 날짜와 시각 지정]\", datetime_obj)"
   ]
  },
  {
   "cell_type": "markdown",
   "metadata": {},
   "source": [
    "[3장: 93페이지]"
   ]
  },
  {
   "cell_type": "code",
   "execution_count": null,
   "metadata": {},
   "outputs": [],
   "source": [
    "date_obj2 = date(2023, 10, 15)   # 날짜 지정\n",
    "diff_date = date_obj2 - date_obj # date 객체의 날짜 차이를 연산\n",
    "diff_date"
   ]
  },
  {
   "cell_type": "code",
   "execution_count": null,
   "metadata": {},
   "outputs": [],
   "source": [
    "print(\"두 날짜의 차이: {}일\".format(diff_date.days))"
   ]
  },
  {
   "cell_type": "code",
   "execution_count": null,
   "metadata": {},
   "outputs": [],
   "source": [
    "date_org = date(2023, 5, 15) # 날짜 지정\n",
    "date_result = date_org - timedelta(weeks=1) # 일주일 전의 날짜 계산\n",
    "print(\"지정 날짜: {0}, 일주일 전 날짜: {1}\".format(date_org, date_result))"
   ]
  },
  {
   "cell_type": "code",
   "execution_count": null,
   "metadata": {},
   "outputs": [],
   "source": [
    "# 날짜 및 시간 지정\n",
    "datetime_org = datetime(2023, 11, 14, 23, 0, 0) \n",
    "\n",
    "# 1시간 30분 후 날짜 및 시각 계산\n",
    "datetime_result = datetime_org + timedelta(hours=1, minutes=30) \n",
    "\n",
    "print(datetime_result)"
   ]
  },
  {
   "cell_type": "markdown",
   "metadata": {},
   "source": [
    "[3장: 94페이지]"
   ]
  },
  {
   "cell_type": "code",
   "execution_count": null,
   "metadata": {},
   "outputs": [],
   "source": [
    "today = date.today()\n",
    "now = datetime.now()\n",
    "\n",
    "print(\"- 오늘의 날짜: {0}-{1}-{2}\".format(today.year, today.month, today.day))\n",
    "print(\"- 현재의 날짜 및 시각(전체 표시):\", now)\n",
    "print(\"- 현재의 날짜: {0}-{1}-{2}\".format(now.year, now.month, now.day))\n",
    "print(\"- 현재의 시각: {0}:{1}:{2}\".format(now.hour, now.minute, now.second))"
   ]
  },
  {
   "cell_type": "code",
   "execution_count": null,
   "metadata": {
    "scrolled": true
   },
   "outputs": [],
   "source": [
    "special_day = datetime(2023, 4, 8, 13, 30, 0)\n",
    "\n",
    "print(\"- 날짜 표시: {0:%Y}년 {0:%m}월 {0:%d}일\".format(special_day))\n",
    "print(\"- 날짜 표시(다른 표현): {:%Y-%m-%d}\".format(special_day))\n",
    "print(\"- 시각 표시: {0:%H}시 {0:%M}분 {0:%S}초 ({0:%p})\".format(special_day))\n",
    "print(\"- 시각 표시(다른 표현): {:%H/%M/%S (%p)}\".format(special_day))\n",
    "print(\"- 요일 표시: {0:%A}, {0:%a}, {0:%w}\".format(special_day))\n",
    "print(\"- 월 표시: {0:%B}, {0:%b}\".format(special_day))"
   ]
  },
  {
   "cell_type": "markdown",
   "metadata": {},
   "source": [
    "[3장: 95페이지]"
   ]
  },
  {
   "cell_type": "code",
   "execution_count": null,
   "metadata": {},
   "outputs": [],
   "source": [
    "import locale\n",
    "\n",
    "# 한글, 한국, UTF-8 인코딩을 로케일로 지정\n",
    "locale.setlocale(locale.LC_ALL, 'ko_KR.UTF-8')  \n",
    "\n",
    "print(\"* 설정한 로케일: \", locale.getlocale())  # 설정한 로케일 가져오기\n",
    "print(\"- 요일 표시(한글/한국): {0:%A}, {0:%a}\".format(special_day))\n",
    "print(\"- 월 표시(한글/한국): {0:%B}, {0:%b}\".format(special_day))\n",
    "\n",
    "# 영어, 미국, UTF-8 인코딩을 로케일로 지정\n",
    "locale.setlocale(locale.LC_ALL, 'en_US.UTF-8') \n",
    "\n",
    "print(\"* 설정한 로케일: \", locale.getlocale()) # 설정한 로케일 가져오기\n",
    "print(\"- 요일 표시(영어/미국): {0:%A}, {0:%a}\".format(special_day))\n",
    "print(\"- 월 표시(한글/한국): {0:%B}, {0:%b}\".format(special_day))"
   ]
  },
  {
   "cell_type": "markdown",
   "metadata": {},
   "source": [
    "[3장: 96페이지]"
   ]
  },
  {
   "cell_type": "code",
   "execution_count": null,
   "metadata": {},
   "outputs": [],
   "source": [
    "# 한글, 한국, UTF-8 인코딩을 로케일로 지정\n",
    "locale.setlocale(locale.LC_ALL, 'ko_KR.UTF-8')  \n",
    "print(special_day.strftime(\"[날짜] %Y-%m-%d, %A [시간] %H:%M:%S (%p)\"))\n",
    "\n",
    "# 영어, 미국, UTF-8 인코딩을 로케일로 지정\n",
    "locale.setlocale(locale.LC_ALL, 'en_US.UTF-8') \n",
    "print(special_day.strftime(\"[Date] %Y-%m-%d, %A [Time] %H:%M:%S (%p)\"))"
   ]
  },
  {
   "cell_type": "markdown",
   "metadata": {},
   "source": [
    "## 3.3 정리"
   ]
  }
 ],
 "metadata": {
  "kernelspec": {
   "display_name": "Python 3 (ipykernel)",
   "language": "python",
   "name": "python3"
  },
  "language_info": {
   "codemirror_mode": {
    "name": "ipython",
    "version": 3
   },
   "file_extension": ".py",
   "mimetype": "text/x-python",
   "name": "python",
   "nbconvert_exporter": "python",
   "pygments_lexer": "ipython3",
   "version": "3.11.3"
  },
  "toc": {
   "base_numbering": "3",
   "nav_menu": {},
   "number_sections": false,
   "sideBar": true,
   "skip_h1_title": false,
   "title_cell": "Table of Contents",
   "title_sidebar": "Contents",
   "toc_cell": false,
   "toc_position": {
    "height": "814px",
    "left": "34px",
    "top": "132px",
    "width": "252.4px"
   },
   "toc_section_display": true,
   "toc_window_display": false
  }
 },
 "nbformat": 4,
 "nbformat_minor": 2
}
