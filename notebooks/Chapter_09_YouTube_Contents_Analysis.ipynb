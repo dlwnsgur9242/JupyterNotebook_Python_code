{
 "cells": [
  {
   "cell_type": "markdown",
   "id": "8d94c44a",
   "metadata": {},
   "source": [
    "# 9장 유튜브 콘텐츠 분석 및 챗봇 만들기"
   ]
  },
  {
   "cell_type": "markdown",
   "id": "2d07e4e2",
   "metadata": {},
   "source": [
    "## 9.1 유튜브 콘텐츠 정보 가져오기"
   ]
  },
  {
   "cell_type": "markdown",
   "id": "50125b15",
   "metadata": {},
   "source": [
    "### 9.1.1 유튜브 동영상 관련 정보 가져오기"
   ]
  },
  {
   "cell_type": "markdown",
   "id": "58393311",
   "metadata": {},
   "source": [
    "[9장: 229페이지]"
   ]
  },
  {
   "cell_type": "code",
   "execution_count": null,
   "id": "a5f3fce3",
   "metadata": {},
   "outputs": [],
   "source": [
    "import yt_dlp\n",
    "\n",
    "# 유튜브 비디오 정보를 가져오는 함수\n",
    "def get_youtube_video_info(video_url):\n",
    "    ydl_opts = {            # 다양한 옵션 지정\n",
    "        'noplaylist': True,\n",
    "        'quiet': True,\n",
    "        'no_warnings': True,\n",
    "    }\n",
    "    \n",
    "    with yt_dlp.YoutubeDL(ydl_opts) as ydl:\n",
    "        video_info = ydl.extract_info(video_url, download=False) # 비디오 정보 추출\n",
    "        video_id = video_info['id']              # 비디오 정보에서 비디오 ID 추출\n",
    "        title = video_info['title']              # 비디오 정보에서 제목 추출\n",
    "        upload_date = video_info['upload_date']  # 비디오 정보에서 업로드 날짜 추출\n",
    "        channel = video_info['channel']          # 비디오 정보에서 채널 이름 추출\n",
    "        duration = video_info['duration_string']\n",
    "\n",
    "    return video_id, title, upload_date, channel, duration"
   ]
  },
  {
   "cell_type": "markdown",
   "id": "cf4ea5d0",
   "metadata": {},
   "source": [
    "[9장: 230페이지]"
   ]
  },
  {
   "cell_type": "code",
   "execution_count": null,
   "id": "111e5d22",
   "metadata": {},
   "outputs": [],
   "source": [
    "video_url = 'https://www.youtube.com/watch?v=pSJrML-TTmI'\n",
    "get_youtube_video_info(video_url)"
   ]
  },
  {
   "cell_type": "code",
   "execution_count": null,
   "id": "27e35cf0",
   "metadata": {},
   "outputs": [],
   "source": [
    "import yt_dlp\n",
    "from pathlib import Path\n",
    "\n",
    "# 파일 이름에 부적합한 문자를 제거하는 함수\n",
    "def remove_invalid_char_for_filename(input_str):\n",
    "    # 윈도우 파일 이름에 안 쓰는 문자 제거 \n",
    "    invalid_characters = '<>:\"/\\|?*'\n",
    "    \n",
    "    for char in invalid_characters:\n",
    "        input_str = input_str.replace(char, '_')\n",
    "        \n",
    "    # 파일명 마지막에 . 제거\n",
    "    while input_str.endswith('.'):\n",
    "        input_str = input_str[:-1]  \n",
    "        \n",
    "    return input_str\n",
    " \n",
    "# 유튜브 비디오를 다운로드하는 함수     \n",
    "def download_youtube_video(video_url, folder, file_name=None):\n",
    "    \n",
    "    _, title, _, _, _ = get_youtube_video_info(video_url)\n",
    "    filename_no_ext = remove_invalid_char_for_filename(title)\n",
    "        \n",
    "    if file_name == None:\n",
    "        download_file = f\"{filename_no_ext}.mp4\" # 확장자는 mp4\n",
    "    else:\n",
    "        download_file = file_name\n",
    "\n",
    "    outtmpl_str = f'{folder}/{download_file}'\n",
    "        \n",
    "    download_path = Path(outtmpl_str)  \n",
    "    \n",
    "    ydl_opts = {                # 다양한 옵션 지정                    \n",
    "        'format': 'best',       # 다운로드 형식 지정 (최적)\n",
    "        'outtmpl': outtmpl_str, # 다운로드 경로 지정\n",
    "        'noplaylist': True,\n",
    "        'quiet': True,\n",
    "        'no_warnings': True,\n",
    "    }\n",
    "\n",
    "    with yt_dlp.YoutubeDL(ydl_opts) as ydl:\n",
    "        video_info = ydl.extract_info(video_url, download=True) # 비디오 정보 추출\n",
    "        title = video_info.get('title', None)  # 비디오 정보 중 제목만 추출\n",
    "\n",
    "    return title, download_path"
   ]
  },
  {
   "cell_type": "markdown",
   "id": "184c1184",
   "metadata": {},
   "source": [
    "위의 `download_youtube_video()` 함수를 이용해 유튜브 비디오를 다운로드하는 코드는 다음과 같습니다.\n",
    "\n",
    "\n",
    "<!-- \n",
    "|video_url = \"https://www.youtube.com/watch?v=liQMi0Ftw9Q\" # 문재인 대통령 퇴임 연설\n",
    "download_folder = \"./download\"\n",
    "download_youtube_video(video_url, download_folder)\n",
    " -->"
   ]
  },
  {
   "cell_type": "code",
   "execution_count": null,
   "id": "ca62d779",
   "metadata": {},
   "outputs": [],
   "source": [
    "video_url = 'https://www.youtube.com/watch?v=pSJrML-TTmI'\n",
    "download_folder = \"C:/myPyAI/data/download\" # 다운로드할 폴더는 미리 생성 후 지정\n",
    "video_title, download_path = download_youtube_video(video_url, download_folder)\n",
    "\n",
    "print(\"- 유튜브 제목:\", video_title)\n",
    "print(\"- 다운로드한 파일명:\", download_path.name)"
   ]
  },
  {
   "cell_type": "markdown",
   "id": "08aaa6d9",
   "metadata": {},
   "source": [
    "[9장: 232페이지]"
   ]
  },
  {
   "cell_type": "code",
   "execution_count": null,
   "id": "b530ed95",
   "metadata": {},
   "outputs": [],
   "source": [
    "video_url = 'https://www.youtube.com/watch?v=Ks-_Mh1QhMc'\n",
    "download_folder = \"C:/myPyAI/data/download\"  # 다운로드할 폴더는 미리 생성 후 지정\n",
    "file_name = \"youtube_video_file.mp4\"         # 비디오 파일 이름 지정\n",
    "video_title, download_path  = download_youtube_video(video_url, download_folder, file_name)\n",
    "\n",
    "print(\"- 유튜브 제목:\", video_title)\n",
    "print(\"- 다운로드한 파일명:\", download_path.name)"
   ]
  },
  {
   "cell_type": "markdown",
   "id": "4d9f4626",
   "metadata": {},
   "source": [
    "[9장: 233페이지]"
   ]
  },
  {
   "cell_type": "code",
   "execution_count": null,
   "id": "cfe25e51",
   "metadata": {},
   "outputs": [],
   "source": [
    "import yt_dlp\n",
    "from pathlib import Path\n",
    "\n",
    "# 유튜브 비디오를 오디오 파일로 다운로드하는 함수 \n",
    "def download_youtube_as_mp3(video_url, folder, file_name=None):\n",
    "    \n",
    "    _, title, _, _, _ = get_youtube_video_info(video_url)\n",
    "    filename_no_ext = remove_invalid_char_for_filename(title)\n",
    "        \n",
    "    if file_name == None:\n",
    "        download_file = f\"{filename_no_ext}.mp3\"\n",
    "    else:\n",
    "        download_file = file_name\n",
    "\n",
    "    outtmpl_str = f'{folder}/{download_file}'\n",
    "    download_path = Path(outtmpl_str)  \n",
    "        \n",
    "    ydl_opts = {     \n",
    "        'extract_audio': True,      # 다양한 옵션 지정                    \n",
    "        'format': 'bestaudio/best', # 다운로드 형식 지정 (최적)\n",
    "        'outtmpl': outtmpl_str,     # 다운로드 경로 지정\n",
    "        'noplaylist': True,\n",
    "        'quiet': True,\n",
    "        'no_warnings': True,\n",
    "    }\n",
    "\n",
    "    with yt_dlp.YoutubeDL(ydl_opts) as ydl:\n",
    "        video_info = ydl.extract_info(video_url, download=False) # 비디오 정보 추출\n",
    "        title = video_info.get('title', None) # 비디오 정보 중 제목만 추출\n",
    "        ydl.download(video_url) # 다운로드\n",
    "\n",
    "    return title, download_path"
   ]
  },
  {
   "cell_type": "markdown",
   "id": "455bb46f",
   "metadata": {},
   "source": [
    "[9장: 234페이지]"
   ]
  },
  {
   "cell_type": "code",
   "execution_count": null,
   "id": "5efbe9db",
   "metadata": {},
   "outputs": [],
   "source": [
    "video_url = 'https://www.youtube.com/watch?v=Ks-_Mh1QhMc'\n",
    "download_folder = \"C:/myPyAI/data/download\" # 다운로드할 폴더는 미리 생성 후 지정\n",
    "file_name = \"youtube_video_file.mp3\"        # 오디오 파일 이름 지정\n",
    "title, download_path = download_youtube_as_mp3(video_url, download_folder, file_name)\n",
    "# title, download_path = download_youtube_as_mp3(video_url, download_folder)\n",
    "\n",
    "print(\"- 유튜브 제목:\", video_title)\n",
    "print(\"- 다운로드한 파일명:\", download_path.name)"
   ]
  },
  {
   "cell_type": "markdown",
   "id": "2e38743d",
   "metadata": {},
   "source": [
    "### 9.1.2 유튜브 자막 정보 가져오기"
   ]
  },
  {
   "cell_type": "markdown",
   "id": "d94dca2e",
   "metadata": {},
   "source": [
    "[9장: 236페이지]"
   ]
  },
  {
   "cell_type": "code",
   "execution_count": null,
   "id": "87b415ae",
   "metadata": {},
   "outputs": [],
   "source": [
    "def get_video_id(video_url):\n",
    "    video_id = video_url.split('v=')[1][:11]\n",
    "    \n",
    "    return video_id "
   ]
  },
  {
   "cell_type": "code",
   "execution_count": null,
   "id": "7b9835f8",
   "metadata": {},
   "outputs": [],
   "source": [
    "video_url = \"https://www.youtube.com/watch?v=pSJrML-TTmI\"\n",
    "print(\"유튜브 비디오 ID:\", get_video_id(video_url))"
   ]
  },
  {
   "cell_type": "code",
   "execution_count": null,
   "id": "046440b6",
   "metadata": {},
   "outputs": [],
   "source": [
    "video_url = \"https://www.youtube.com/watch?v=YYXdXT2l-Gg&list=PL-osiE80TeTt2d9bfVyTiXJA-UTHn6WwU&index=1\"\n",
    "print(\"유튜브 비디오 ID:\", get_video_id(video_url))"
   ]
  },
  {
   "cell_type": "code",
   "execution_count": null,
   "id": "53747ea2",
   "metadata": {},
   "outputs": [],
   "source": [
    "from youtube_transcript_api import YouTubeTranscriptApi\n",
    "\n",
    "video_url = \"https://www.youtube.com/watch?v=pSJrML-TTmI\"\n",
    "video_id = get_video_id(video_url)\n",
    "\n",
    "transcript_list = YouTubeTranscriptApi.list_transcripts(video_id)\n",
    "\n",
    "print(f\"- 유튜브 비디오 ID: {video_id}\")\n",
    "for transcript in transcript_list:\n",
    "    print(f\"- [자막 언어] {transcript.language}, [자막 언어 코드] {transcript.language_code}\")"
   ]
  },
  {
   "cell_type": "markdown",
   "id": "334e84da",
   "metadata": {},
   "source": [
    "[9장: 237페이지]"
   ]
  },
  {
   "cell_type": "code",
   "execution_count": null,
   "id": "576c118e",
   "metadata": {},
   "outputs": [],
   "source": [
    "transcript = YouTubeTranscriptApi.get_transcript(video_id, languages=['ko'])\n",
    "transcript[0:3]"
   ]
  },
  {
   "cell_type": "code",
   "execution_count": null,
   "id": "3a4b7c41",
   "metadata": {},
   "outputs": [],
   "source": [
    "from youtube_transcript_api.formatters import SRTFormatter, TextFormatter\n",
    "\n",
    "srt_formatter = SRTFormatter() # SRT 형식으로 출력 지정\n",
    "srt_formatted = srt_formatter.format_transcript(transcript)\n",
    "print(srt_formatted[:150])"
   ]
  },
  {
   "cell_type": "markdown",
   "id": "9c65e0a9",
   "metadata": {},
   "source": [
    "[9장: 238페이지]"
   ]
  },
  {
   "cell_type": "code",
   "execution_count": null,
   "id": "e89d9a1c",
   "metadata": {},
   "outputs": [],
   "source": [
    "text_formatter = TextFormatter() # 텍스트(txt) 형식으로 출력 지정\n",
    "text_formatted = text_formatter.format_transcript(transcript)\n",
    "print(text_formatted[:100])"
   ]
  },
  {
   "cell_type": "code",
   "execution_count": null,
   "id": "ceadfcfa",
   "metadata": {},
   "outputs": [],
   "source": [
    "download_folder = \"C:/myPyAI/data/download\" # 다운로드 폴더\n",
    "\n",
    "# SRT 형식으로 파일 저장\n",
    "srt_file = f\"{download_folder}/{video_id}.srt\"\n",
    "print(\"- SRT 형식의 파일 경로:\", srt_file)\n",
    "with open(srt_file, 'w') as f:\n",
    "    f.write(srt_formatted)\n",
    "    \n",
    "# 텍스트 형식으로 파일 저장    \n",
    "text_file = f\"{download_folder}/{video_id}.txt\"\n",
    "with open(text_file, 'w') as f:\n",
    "    f.write(text_formatted)\n",
    "print(\"- Text 형식의 파일 경로:\", text_file)"
   ]
  },
  {
   "cell_type": "markdown",
   "id": "828898e6",
   "metadata": {},
   "source": [
    "## 9.2 유튜브 동영상 요약, 음성 추출, 번역"
   ]
  },
  {
   "cell_type": "markdown",
   "id": "5733cb28",
   "metadata": {},
   "source": [
    "### 9.2.1 유튜브 동영상 내용 요약"
   ]
  },
  {
   "cell_type": "markdown",
   "id": "593dceca",
   "metadata": {},
   "source": [
    "[9장: 240페이지]"
   ]
  },
  {
   "cell_type": "code",
   "execution_count": null,
   "id": "a9ec11f3",
   "metadata": {},
   "outputs": [],
   "source": [
    "import requests\n",
    "import os\n",
    "\n",
    "def summarize_contents(contents_url, target_language):\n",
    "    \n",
    "    KAGI_API_TOKEN = os.environ[\"KAGI_API_TOKEN\"] # Kagi API 키\n",
    "    \n",
    "    api_url = \"https://kagi.com/api/v0/summarize\"\n",
    "    headers = {\"Authorization\": \"Bot \" + KAGI_API_TOKEN}\n",
    "    parameters = {\"url\":contents_url, \"target_language\":target_language}\n",
    "\n",
    "    r = requests.get(api_url, headers=headers, params=parameters)\n",
    "    summary = r.json()['data']['output'] # 요약 내용을 별도의 변수에 할당\n",
    "    \n",
    "    return summary"
   ]
  },
  {
   "cell_type": "code",
   "execution_count": null,
   "id": "30352fab",
   "metadata": {},
   "outputs": [],
   "source": [
    "import textwrap\n",
    "\n",
    "contents_url = \"https://www.youtube.com/watch?v=Ks-_Mh1QhMc\"\n",
    "target_language = \"KO\" # 요약할 언어를 한국어로 지정\n",
    "\n",
    "try:\n",
    "    summary = summarize_contents(contents_url, target_language)\n",
    "\n",
    "    print(\"[콘텐츠 URL]\", contents_url)\n",
    "    print(textwrap.shorten(summary, 150 ,placeholder=' [..이하 생략..]')) # 축약 출력\n",
    "    # print(summary) # 전체 출력\n",
    "except:\n",
    "    print(\"해당 URL의 내용을 요약하지 못했습니다. 다시 시도해 주세요.\")"
   ]
  },
  {
   "cell_type": "markdown",
   "id": "69fd31b7",
   "metadata": {},
   "source": [
    "[9장: 241페이지]"
   ]
  },
  {
   "cell_type": "code",
   "execution_count": null,
   "id": "58933ca3",
   "metadata": {},
   "outputs": [],
   "source": [
    "import textwrap\n",
    "\n",
    "contents_urls = [\"https://www.youtube.com/watch?v=arj7oStGLkU\",\n",
    "                 \"https://www.youtube.com/watch?v=lmyZMtPVodo\",\n",
    "                 \"https://www.youtube.com/watch?v=JdwWgw4fq7I\"]\n",
    "                 \n",
    "target_language = \"KO\" # 요약할 언어를 한국어로 지정\n",
    "\n",
    "for contents_url in contents_urls:\n",
    "    try:\n",
    "        summary = summarize_contents(contents_url, target_language)\n",
    "        print(\"[콘텐츠 URL]\", contents_url)\n",
    "        print(textwrap.shorten(summary, 150 ,placeholder=' [..이하 생략..]')) # 축약 출력\n",
    "        # print(summary) # 전체 출력\n",
    "    except:\n",
    "        print(\"해당 URL의 내용을 요약하지 못했습니다. 다시 시도해 주세요.\")        "
   ]
  },
  {
   "cell_type": "markdown",
   "id": "e8931380",
   "metadata": {},
   "source": [
    "### 9.2.2 비디오, 오디오 파일의 음성을 텍스트로 추출"
   ]
  },
  {
   "cell_type": "markdown",
   "id": "70f98255",
   "metadata": {},
   "source": [
    "[9장: 243페이지]"
   ]
  },
  {
   "cell_type": "code",
   "execution_count": null,
   "id": "c0bf7074",
   "metadata": {},
   "outputs": [],
   "source": [
    "import openai\n",
    "from pathlib import Path\n",
    "import os\n",
    "\n",
    "def audio_transcribe(input_path, resp_format= \"text\", lang=\"en\"):  \n",
    "    \n",
    "    openai.api_key = os.environ[\"OPENAI_API_KEY\"] # OpenAI API Key\n",
    "    with open(input_path, \"rb\") as f: # 음성 파일 열기\n",
    "        # 음성 추출  \n",
    "        transcript = openai.Audio.transcribe(\n",
    "            model=\"whisper-1\",\n",
    "            file=f,\n",
    "            language=lang,            \n",
    "            response_format=resp_format # 추출할 텍스트 형식 지정\n",
    "        )\n",
    "    # 음성을 텍스트로 추출한 후에 텍스트 파일로 저장\n",
    "    path = Path(input_path)\n",
    "    if resp_format == \"text\":\n",
    "        output_file = f\"{path.parent}/{path.stem}.txt\"\n",
    "    else:\n",
    "        output_file = f\"{path.parent}/{path.stem}.srt\"\n",
    "        \n",
    "    output_path = Path(output_file)    \n",
    "        \n",
    "    with open(output_file, 'w', encoding='utf-8') as f:\n",
    "        f.write(transcript)\n",
    "\n",
    "    return transcript, output_path"
   ]
  },
  {
   "cell_type": "markdown",
   "id": "123e9eb6",
   "metadata": {},
   "source": [
    "[9장: 244페이지]"
   ]
  },
  {
   "cell_type": "code",
   "execution_count": null,
   "id": "dbabbac8",
   "metadata": {},
   "outputs": [],
   "source": [
    "audio_file = \"C:/myPyAI/data/download/youtube_video_file.mp3\"\n",
    "\n",
    "print(f\"[음성 파일 경로] {audio_file}\\n\")\n",
    "r_format = \"srt\" # 출력 형식을 srt로 지정\n",
    "\n",
    "transcript, output_path = audio_transcribe(audio_file, r_format)    \n",
    "\n",
    "print(f\"- [텍스트 추출 형식] {r_format}\")\n",
    "print(f\"- [출력 파일] {output_path.name}\")\n",
    "print(f\"- [음성 추출 결과(일부 출력)]\\n{transcript[:137]}\") # 추출 결과 출력(일부)\n",
    "# print(f\"- [음성 추출 결과]\\n{transcript}\") # 추출 결과 출력(전체)"
   ]
  },
  {
   "cell_type": "markdown",
   "id": "bd1ff26e",
   "metadata": {},
   "source": [
    "###  9.2.3 동영상 자막 번역"
   ]
  },
  {
   "cell_type": "markdown",
   "id": "72efd567",
   "metadata": {},
   "source": [
    "[9장: 245페이지]"
   ]
  },
  {
   "cell_type": "code",
   "execution_count": null,
   "id": "de3b9f36",
   "metadata": {},
   "outputs": [],
   "source": [
    "import deepl\n",
    "from pathlib import Path\n",
    "import os \n",
    "\n",
    "def transplate_text_file(input_path, t_lang=\"KO\"):\n",
    "    \n",
    "    # 원본 파일 읽기\n",
    "    with open(input_path, encoding='utf-8') as f:\n",
    "        text = f.read()\n",
    "\n",
    "    # 번역 수행\n",
    "    auth_key = os.environ[\"DEEPL_AUTH_KEY\"] # Deepl 인증 키\n",
    "    translator = deepl.Translator(auth_key) # translator 객체를 생성\n",
    "    result = translator.translate_text(text, target_lang=t_lang)\n",
    "    \n",
    "    # 번역 파일 쓰기\n",
    "    path = Path(input_path)\n",
    "    output_file = f\"{path.parent}/{path.stem}_번역_{t_lang}{path.suffix}\"\n",
    "    \n",
    "    output_path = Path(output_file)    \n",
    "\n",
    "    with open(output_file, 'w', encoding='utf-8') as f:\n",
    "        f.write(result.text)   \n",
    "\n",
    "    return output_path"
   ]
  },
  {
   "cell_type": "markdown",
   "id": "1f1ad82e",
   "metadata": {},
   "source": [
    "[9장: 246페이지]"
   ]
  },
  {
   "cell_type": "code",
   "execution_count": null,
   "id": "32aec03d",
   "metadata": {},
   "outputs": [],
   "source": [
    "input_file = \"C:/myPyAI/data/download/youtube_video_file.srt\"\n",
    "\n",
    "translated_file = transplate_text_file(input_file)\n",
    "print(\"- 번역 파일:\", translated_file.name)"
   ]
  },
  {
   "cell_type": "markdown",
   "id": "48669694",
   "metadata": {},
   "source": [
    "### 9.2.4 번역한 자막으로 유튜브 보기"
   ]
  },
  {
   "cell_type": "markdown",
   "id": "5fe0a132",
   "metadata": {},
   "source": [
    "## 9.3 유튜브 내용으로 학습한 챗봇 만들기"
   ]
  },
  {
   "cell_type": "markdown",
   "id": "0fcdf1c4",
   "metadata": {},
   "source": [
    "### 9.3.1 유튜브 비디오 자막 정보 활용"
   ]
  },
  {
   "cell_type": "markdown",
   "id": "4499f31f",
   "metadata": {},
   "source": [
    "[9장: 250페이지]"
   ]
  },
  {
   "cell_type": "code",
   "execution_count": null,
   "id": "565fff7e",
   "metadata": {},
   "outputs": [],
   "source": [
    "from youtube_transcript_api import YouTubeTranscriptApi\n",
    "from youtube_transcript_api.formatters import TextFormatter\n",
    "import textwrap\n",
    "\n",
    "video_url = \"https://www.youtube.com/watch?v=pSJrML-TTmI\" # 동영상의 URL 입력\n",
    "video_id = get_video_id(video_url)\n",
    "\n",
    "transcript = YouTubeTranscriptApi.get_transcript(video_id, languages=['ko'])\n",
    "\n",
    "text_formatter = TextFormatter() # SRT 형식으로 출력 지정\n",
    "text_formatted = text_formatter.format_transcript(transcript)\n",
    "text_info = text_formatted.replace(\"\\n\", \" \") # 개행문자 제거\n",
    "\n",
    "shorten_text_info = textwrap.shorten(text_info, 150 ,placeholder=' [..이하 생략..]')\n",
    "print(shorten_text_info) # 축약 출력\n",
    "# print(text_info) # 전체 내용 출력"
   ]
  },
  {
   "cell_type": "markdown",
   "id": "d9bc5f8f",
   "metadata": {},
   "source": [
    "[9장: 251페이지]"
   ]
  },
  {
   "cell_type": "code",
   "execution_count": null,
   "id": "6189ff1d",
   "metadata": {},
   "outputs": [],
   "source": [
    "import openai\n",
    "\n",
    "def answer_from_given_info(question_info, prompt):\n",
    "\n",
    "    # 입력 정보에 기반해 답변 요청\n",
    "    user_content = f\"{prompt} 다음 내용을 바탕으로 질문에 답해 줘. {question_info}\" \n",
    "    \n",
    "    messages = [ {'role': 'user', 'content': user_content} ]\n",
    "\n",
    "    response = openai.ChatCompletion.create(\n",
    "                        model=\"gpt-3.5-turbo\",\n",
    "                        messages=messages,                        \n",
    "                        max_tokens=500,\n",
    "                        stop = [\".\"],\n",
    "                        temperature=0.2 )\n",
    "    \n",
    "    return response['choices'][0]['message']['content'] # 응답 결과 반환"
   ]
  },
  {
   "cell_type": "code",
   "execution_count": null,
   "id": "57ff8526",
   "metadata": {},
   "outputs": [],
   "source": [
    "question_info = text_info # 자막을 가져온 내용을 학습 데이터로 사용\n",
    "prompt = \"허준이 교수가 받은 상은 무엇인가요?\" # 질문\n",
    "response = answer_from_given_info(question_info, prompt)\n",
    "print(response)"
   ]
  },
  {
   "cell_type": "code",
   "execution_count": null,
   "id": "d7740d86",
   "metadata": {},
   "outputs": [],
   "source": [
    "question_info = text_info # 자막을 가져온 내용을 학습 데이터로 사용\n",
    "prompt = \"허준이 교수는 어느 대학 교수인가요?\" # 질문\n",
    "response = answer_from_given_info(question_info, prompt)\n",
    "print(response)"
   ]
  },
  {
   "cell_type": "markdown",
   "id": "79b6a993",
   "metadata": {},
   "source": [
    "### 9.3.2 음성에서 추출한 정보 활용"
   ]
  },
  {
   "cell_type": "markdown",
   "id": "f28a2e7b",
   "metadata": {},
   "source": [
    "[9장: 252페이지]"
   ]
  },
  {
   "cell_type": "code",
   "execution_count": null,
   "id": "dc76685f",
   "metadata": {},
   "outputs": [],
   "source": [
    "import yt_dlp\n",
    "\n",
    "video_url = \"https://www.youtube.com/watch?v=EKqQvzyVAh4\" # 한국어와 영어 모두 있는 비디오\n",
    "download_folder = \"C:/myPyAI/data/download\" # 다운로드 폴더\n",
    "\n",
    "# 유튜브 비디오를 오디오 파일로 다운로드\n",
    "file_name = \"youtube_video_KBS_news.mp3\"\n",
    "title, download_path = download_youtube_as_mp3(video_url, download_folder, file_name)\n",
    "\n",
    "print(\"- 유튜브 제목:\", title)\n",
    "print(\"- 다운로드한 파일명:\", download_path.name)"
   ]
  },
  {
   "cell_type": "markdown",
   "id": "985978ef",
   "metadata": {},
   "source": [
    "[9장: 253페이지]"
   ]
  },
  {
   "cell_type": "code",
   "execution_count": null,
   "id": "cd36940c",
   "metadata": {},
   "outputs": [],
   "source": [
    "import openai\n",
    "from pathlib import Path\n",
    "import textwrap\n",
    "\n",
    "audio_path = download_path\n",
    "   \n",
    "print(f\"[오디오 파일명] {audio_path.name}\\n\")\n",
    "r_format = \"text\" # 출력 형식을 text로 지정\n",
    "\n",
    "transcript, output_file = audio_transcribe(audio_path, r_format)\n",
    "shorten_text = textwrap.shorten(transcript, 250, placeholder=' [..이하 생략..]')\n",
    "\n",
    "print(f\"- [텍스트 추출 형식] {r_format}\")\n",
    "print(f\"- [출력 파일] {output_file.name}\")\n",
    "print(f\"- [음성 추출 결과]\\n{shorten_text}\" )"
   ]
  },
  {
   "cell_type": "code",
   "execution_count": null,
   "id": "2fe4792c",
   "metadata": {},
   "outputs": [],
   "source": [
    "input_file = output_file\n",
    "translated_file = transplate_text_file(input_file)\n",
    "\n",
    "print(\"- 번역 파일:\", translated_file.name)"
   ]
  },
  {
   "cell_type": "markdown",
   "id": "30b79ece",
   "metadata": {},
   "source": [
    "[9장: 254페이지]"
   ]
  },
  {
   "cell_type": "code",
   "execution_count": null,
   "id": "7d9ec8a6",
   "metadata": {},
   "outputs": [],
   "source": [
    "file_name = translated_file # 유튜브 내용을 학습 데이터로 사용\n",
    "with open(file_name, encoding='utf-8') as f: # 텍스트 파일 읽기\n",
    "    text = f.read() # 텍스트 파일 내용\n",
    "\n",
    "question_info = text # 질문에 대한 학습 데이터\n",
    "prompt = \"마이크로소프트는 OpenAI 개발에 얼마를 투자했나요?\" # 질문\n",
    "\n",
    "response = answer_from_given_info(question_info, prompt)\n",
    "print(response)"
   ]
  },
  {
   "cell_type": "code",
   "execution_count": null,
   "id": "539e7d7b",
   "metadata": {},
   "outputs": [],
   "source": [
    "prompt = \"KSB가 인터뷰한 사람은 누구인가요?\"\n",
    "response = answer_from_given_info(question_info, prompt)\n",
    "print(response)"
   ]
  },
  {
   "cell_type": "markdown",
   "id": "2168b2a9",
   "metadata": {},
   "source": [
    "## 9.4 요약"
   ]
  }
 ],
 "metadata": {
  "kernelspec": {
   "display_name": "Python 3 (ipykernel)",
   "language": "python",
   "name": "python3"
  },
  "language_info": {
   "codemirror_mode": {
    "name": "ipython",
    "version": 3
   },
   "file_extension": ".py",
   "mimetype": "text/x-python",
   "name": "python",
   "nbconvert_exporter": "python",
   "pygments_lexer": "ipython3",
   "version": "3.11.3"
  },
  "toc": {
   "base_numbering": "9",
   "nav_menu": {},
   "number_sections": false,
   "sideBar": true,
   "skip_h1_title": false,
   "title_cell": "Table of Contents",
   "title_sidebar": "Contents",
   "toc_cell": false,
   "toc_position": {
    "height": "798px",
    "left": "29px",
    "top": "111.133px",
    "width": "373px"
   },
   "toc_section_display": true,
   "toc_window_display": false
  }
 },
 "nbformat": 4,
 "nbformat_minor": 5
}
