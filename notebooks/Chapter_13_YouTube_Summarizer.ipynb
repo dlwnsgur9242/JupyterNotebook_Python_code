{
 "cells": [
  {
   "cell_type": "markdown",
   "id": "2ddb9ac1",
   "metadata": {},
   "source": [
    "# 13장 인공지능 유튜브 동영상 요약기"
   ]
  },
  {
   "cell_type": "markdown",
   "id": "a7c2db6c",
   "metadata": {},
   "source": [
    "## 13.1 유튜브 동영상 자막 가져오기"
   ]
  },
  {
   "cell_type": "markdown",
   "id": "5d3dd4c4",
   "metadata": {},
   "source": [
    "[13장: 335페이지]"
   ]
  },
  {
   "cell_type": "code",
   "execution_count": null,
   "id": "1783cc83",
   "metadata": {},
   "outputs": [],
   "source": [
    "%%writefile C:\\myPyAI\\code\\my_yt_tran.py\n",
    "# 유튜브 동영상 정보와 자막을 가져오기 위한 모듈\n",
    "\n",
    "import openai\n",
    "import yt_dlp\n",
    "from youtube_transcript_api import YouTubeTranscriptApi\n",
    "from youtube_transcript_api.formatters import TextFormatter\n",
    "import os\n",
    "from pathlib import Path\n",
    "\n",
    "# 유튜브 비디오 정보를 가져오는 함수\n",
    "def get_youtube_video_info(video_url):\n",
    "    ydl_opts = {            # 다양한 옵션 지정\n",
    "        'noplaylist': True,\n",
    "        'quiet': True,\n",
    "        'no_warnings': True,\n",
    "    }\n",
    "    \n",
    "    with yt_dlp.YoutubeDL(ydl_opts) as ydl:\n",
    "        video_info = ydl.extract_info(video_url, download=False) # 비디오 정보 추출\n",
    "        video_id = video_info['id']              # 비디오 정보에서 비디오 ID 추출\n",
    "        title = video_info['title']              # 비디오 정보에서 제목 추출\n",
    "        upload_date = video_info['upload_date']  # 비디오 정보에서 업로드 날짜 추출\n",
    "        channel = video_info['channel']          # 비디오 정보에서 채널 이름 추출\n",
    "        duration = video_info['duration_string']\n",
    "\n",
    "    return video_id, title, upload_date, channel, duration\n",
    "\n",
    "# 유튜브 비디오 URL에서 비디오 ID를 추출하는 함수\n",
    "def get_video_id(video_url):\n",
    "    video_id = video_url.split('v=')[1][:11]\n",
    "    \n",
    "    return video_id \n",
    "\n",
    "# 유튜브 동영상 자막을 직접 가져오는 함수\n",
    "def get_transcript_from_youtube(video_url, lang='en'):\n",
    "    # 비디오 URL에서 비디오 ID 추출\n",
    "    video_id = get_video_id(video_url)\n",
    "\n",
    "    # 자막 리스트 가져오기\n",
    "    transcript_list = YouTubeTranscriptApi.list_transcripts(video_id)\n",
    "    \n",
    "#     print(f\"- 유튜브 비디오 ID: {video_id}\")    \n",
    "#     for transcript in transcript_list:\n",
    "#         print(f\"- [자막 언어] {transcript.language}, [자막 언어 코드] {transcript.language_code}\")\n",
    "\n",
    "    # 자막 가져오기 (lang)\n",
    "    transcript = YouTubeTranscriptApi.get_transcript(video_id, languages=[lang])\n",
    "\n",
    "    text_formatter = TextFormatter() # Text 형식으로 출력 지정\n",
    "    text_formatted = text_formatter.format_transcript(transcript)\n",
    "    \n",
    "    return text_formatted"
   ]
  },
  {
   "cell_type": "markdown",
   "id": "09049a32",
   "metadata": {},
   "source": [
    "[13장: 336페이지]"
   ]
  },
  {
   "cell_type": "code",
   "execution_count": null,
   "id": "a5bf3091",
   "metadata": {},
   "outputs": [],
   "source": [
    "import my_yt_tran # 유튜브 동영상 정보와 자막을 가져오기 위한 모듈 임포트\n",
    "import textwrap\n",
    "\n",
    "video_url = \"https://www.youtube.com/watch?v=C_78DM8fG6E&t=6s\"\n",
    "\n",
    "_, video_title, _, _, _ = my_yt_tran.get_youtube_video_info(video_url)\n",
    "print(\"- 비디오 제목:\", video_title)\n",
    "\n",
    "yt_transcript = my_yt_tran.get_transcript_from_youtube(video_url, \n",
    "                                                       lang='en')\n",
    "shorten_yt_transcript = textwrap.shorten(yt_transcript, \n",
    "                                         250,\n",
    "                                         placeholder=' [..이하 생략..]')\n",
    "print(\"- 자막 내용(축약):\", shorten_yt_transcript) # 축약 출력\n",
    "# print(\"- 자막 내용:\", yt_transcript) # 전체 출력"
   ]
  },
  {
   "cell_type": "markdown",
   "id": "e002c107",
   "metadata": {},
   "source": [
    "## 13.2 긴 자막을 분리해 요약하기"
   ]
  },
  {
   "cell_type": "markdown",
   "id": "91dd12c5",
   "metadata": {},
   "source": [
    "[13장: 337페이지]"
   ]
  },
  {
   "cell_type": "code",
   "execution_count": null,
   "id": "242724aa",
   "metadata": {},
   "outputs": [],
   "source": [
    "import tiktoken\n",
    "\n",
    "# 텍스트의 토큰 수를 계산하는 함수(모델: \"gpt-3.5-turbo\")\n",
    "def calc_token_num(text, model=\"gpt-3.5-turbo\"):\n",
    "    enc = tiktoken.encoding_for_model(model)\n",
    "    encoded_list = enc.encode(text) # 텍스트 인코딩해 인코딩 리스트 생성\n",
    "    token_num= len(encoded_list)   # 인코딩 리스트의 길이로 토큰 개수 계산\n",
    "    \n",
    "    return token_num"
   ]
  },
  {
   "cell_type": "markdown",
   "id": "b6ec8e6a",
   "metadata": {},
   "source": [
    "[13장: 338페이지]"
   ]
  },
  {
   "cell_type": "code",
   "execution_count": null,
   "id": "565cc700",
   "metadata": {},
   "outputs": [],
   "source": [
    "ts_token_num = calc_token_num(yt_transcript)\n",
    "print(\"- 자막의 토큰 개수:\", ts_token_num)"
   ]
  },
  {
   "cell_type": "code",
   "execution_count": null,
   "id": "d04ff2f2",
   "metadata": {},
   "outputs": [],
   "source": [
    "import textwrap\n",
    "\n",
    "# 토큰에 따라 텍스트를 나눠 분할하는 함수\n",
    "def divide_text(text, token_num):\n",
    "    req_max_token = 2000 # 응답을 고려해 설정한 최대 요청 토큰\n",
    "    \n",
    "    divide_num = int(token_num/req_max_token) + 1 # 나눌 계수를 계산\n",
    "    divide_char_num = int(len(text) / divide_num) # 나눌 문자 개수 \n",
    "    divide_width =  divide_char_num + 20 # wrap() 함수로 텍스트 나눌 때 여유분 고려해 20 더함\n",
    "\n",
    "    divided_text_list = textwrap.wrap(text, width=divide_width)\n",
    "    \n",
    "    return divide_num, divided_text_list"
   ]
  },
  {
   "cell_type": "markdown",
   "id": "ba26b534",
   "metadata": {},
   "source": [
    "[13장: 339페이지]"
   ]
  },
  {
   "cell_type": "code",
   "execution_count": null,
   "id": "56854bb0",
   "metadata": {},
   "outputs": [],
   "source": [
    "div_num, div_yt_transcripts = divide_text(yt_transcript, ts_token_num)\n",
    "\n",
    "print(\"- 자막 그룹의 개수:\", div_num)\n",
    "print(\"- 나뉜 자막 리스트의 크기:\", len(div_yt_transcripts))\n",
    "\n",
    "for div_yt_transcript in div_yt_transcripts:\n",
    "    div_token_num = calc_token_num(div_yt_transcript) # 텍스트의 토큰 수 계산\n",
    "    print(\" * 나뉜 자막의 토큰 개수:\", div_token_num)"
   ]
  },
  {
   "cell_type": "code",
   "execution_count": null,
   "id": "3830b360",
   "metadata": {},
   "outputs": [],
   "source": [
    "import my_text_sum # 텍스트를 요약하기 위한 모듈\n",
    "\n",
    "yt_summaries = []\n",
    "\n",
    "for div_yt_transcript in div_yt_transcripts:\n",
    "    yt_summary = my_text_sum.summarize_text(div_yt_transcript)\n",
    "    yt_summaries.append(yt_summary)\n",
    "    \n",
    "print(\"- 요약 개수:\", len(yt_summaries))\n",
    "# print(\"- 페이지별 요약문:\", yt_summaries)"
   ]
  },
  {
   "cell_type": "markdown",
   "id": "3189a1cc",
   "metadata": {},
   "source": [
    "[13장: 340페이지]"
   ]
  },
  {
   "cell_type": "code",
   "execution_count": null,
   "id": "b1aa6626",
   "metadata": {},
   "outputs": [],
   "source": [
    "import my_text_sum # 텍스트를 요약하기 위한 모듈\n",
    "\n",
    "lang = 'en' # 영어로 요약\n",
    "final_yt_token_num, final_yt_summary = my_text_sum.summarize_text_final(yt_summaries, lang)\n",
    "\n",
    "if final_yt_summary != \"\":\n",
    "    shorten_yt_final_summary = textwrap.shorten(final_yt_summary, 250,\n",
    "                                                placeholder=' [..이하 생략..]')\n",
    "    print(\"- 통합한 페이지 요약의 토큰 수:\", final_yt_token_num)\n",
    "    print(\"- 최종 요약(축약)\\n\", shorten_yt_final_summary) # 최종 요약문 출력(축약)\n",
    "#     print(\"- 최종 요약\\n\", final_yt_summary) # 최종 요약문 출력"
   ]
  },
  {
   "cell_type": "markdown",
   "id": "d9962163",
   "metadata": {},
   "source": [
    "## 13.3 유튜브 동영상 요약 웹 앱"
   ]
  },
  {
   "cell_type": "markdown",
   "id": "131b6b66",
   "metadata": {},
   "source": [
    "[13장: 341페이지]"
   ]
  },
  {
   "cell_type": "code",
   "execution_count": null,
   "id": "d80bbbfc",
   "metadata": {},
   "outputs": [],
   "source": [
    "%%writefile C:\\myPyAI\\code\\st\\youtube_summary_app.py\n",
    "# 유튜브 동영상을 요약하고 번역하는 웹 앱\n",
    "\n",
    "import my_yt_tran  # 유튜브 동영상 정보와 자막을 가져오기 위한 모듈 임포트\n",
    "import my_text_sum # 텍스트를 요약하기 위한 모듈\n",
    "import streamlit as st\n",
    "import openai\n",
    "import os\n",
    "import tiktoken\n",
    "import textwrap\n",
    "import deepl\n",
    "\n",
    "# 텍스트의 토큰 수를 계산하는 함수(모델: \"gpt-3.5-turbo\")\n",
    "def calc_token_num(text, model=\"gpt-3.5-turbo\"):\n",
    "    enc = tiktoken.encoding_for_model(model)\n",
    "    encoded_list = enc.encode(text) # 텍스트 인코딩해 인코딩 리스트 생성\n",
    "    token_num= len(encoded_list)    # 인코딩 리스트의 길이로 토큰 개수 계산\n",
    "    \n",
    "    return token_num\n",
    "\n",
    "# 토큰에 따라 텍스트를 나눠 분할하는 함수\n",
    "def divide_text(text, token_num):\n",
    "    req_max_token = 2000 # 응답을 고려해 설정한 최대 요청 토큰\n",
    "    \n",
    "    divide_num = int(token_num/req_max_token) + 1 # 나눌 계수를 계산\n",
    "    divide_char_num = int(len(text) / divide_num) # 나눌 문자 개수 \n",
    "    divide_width =  divide_char_num + 20 # wrap() 함수로 텍스트 나눌 때 여유분 고려해 20 더함\n",
    "\n",
    "    divided_text_list = textwrap.wrap(text, width=divide_width)\n",
    "    \n",
    "    return divide_num, divided_text_list\n",
    "\n",
    "# 유튜브 동영상을 요약하는 함수\n",
    "def summarize_youtube_video(video_url, selected_lang, trans_method):\n",
    "    \n",
    "    if selected_lang == '영어':\n",
    "        lang = 'en' \n",
    "    else:\n",
    "        lang = 'ko' \n",
    "    \n",
    "    # 유튜브 동영상 플레이\n",
    "    st.video(video_url, format='video/mp4') # st.video(video_url) 도 동일\n",
    "\n",
    "    # 유튜브 동영상 제목 가져오기\n",
    "    _, yt_title, _, _, yt_duration = my_yt_tran.get_youtube_video_info(video_url)\n",
    "    st.write(f\"[제목] {yt_title}, [길이(분:초)] {yt_duration}\") # 제목 및 상영 시간출력\n",
    "    \n",
    "    # 유튜브 동영상 자막 가져오기\n",
    "    yt_transcript = my_yt_tran.get_transcript_from_youtube(video_url, lang)\n",
    "\n",
    "    # 자막 텍스트의 토큰 수 계산\n",
    "    token_num = calc_token_num(yt_transcript)\n",
    "    \n",
    "    # 자막 텍스트를 분할해 리스트 생성\n",
    "    div_num, divided_yt_transcripts = divide_text(yt_transcript, token_num)\n",
    "\n",
    "    st.write(\"유튜브 동영상 내용 요약 중입니다. 잠시만 기다려 주세요.\") \n",
    "    \n",
    "    # 분할 자막의 요약 생성\n",
    "    summaries = []\n",
    "    for divided_yt_transcript in divided_yt_transcripts:\n",
    "        summary = my_text_sum.summarize_text(divided_yt_transcript, lang) # 텍스트 요약\n",
    "        summaries.append(summary)\n",
    "        \n",
    "    # 분할 자막의 요약을 다시 요약     \n",
    "    _, final_summary = my_text_sum.summarize_text_final(summaries, lang)\n",
    "\n",
    "    if selected_lang == '영어':\n",
    "        shorten_num = 200 \n",
    "    else:\n",
    "        shorten_num = 120 \n",
    "        \n",
    "    shorten_final_summary = textwrap.shorten(final_summary, shorten_num, placeholder=' [..이하 생략..]')\n",
    "    st.write(\"- 자막 요약(축약):\", shorten_final_summary) # 최종 요약문 출력 (축약)\n",
    "    # st.write(\"- 자막 요약:\", final_summary) # 최종 요약문 출력\n",
    "\n",
    "    if selected_lang == '영어': \n",
    "        if trans_method == 'OpenAI':\n",
    "            trans_result = my_text_sum.traslate_english_to_korean_using_openAI(final_summary)\n",
    "        elif trans_method == 'DeepL':\n",
    "            trans_result = my_text_sum.traslate_english_to_korean_using_deepL(final_summary)\n",
    "\n",
    "        shorten_trans_result = textwrap.shorten(trans_result, 120 ,placeholder=' [..이하 생략..]')\n",
    "        st.write(\"- 한국어 요약(축약):\", shorten_trans_result) # 한국어 번역문 출력 (축약)\n",
    "        #st.write(\"- 한국어 요약:\", trans_result) # 한국어 번역문 출력\n",
    "        \n",
    "# ------------------- 콜백 함수 --------------------\n",
    "def button_callback():\n",
    "    st.session_state['input'] = \"\"\n",
    "    \n",
    "# ------------- 사이드바 화면 구성 --------------------------  \n",
    "st.sidebar.title(\"요약 설정 \")\n",
    "url_text = st.sidebar.text_input(\"유튜브 동영상 URL을 입력하세요.\", key=\"input\")\n",
    "\n",
    "clicked_for_clear = st.sidebar.button('URL 입력 내용 지우기',  on_click=button_callback)\n",
    "\n",
    "yt_lang = st.sidebar.radio('유튜브 동영상 언어 선택', ['한국어', '영어'], index=1, horizontal=True)\n",
    "    \n",
    "if yt_lang == '영어':\n",
    "    trans_method = st.sidebar.radio('번역 방법 선택', ['OpenAI', 'DeepL'], index=1, horizontal=True)\n",
    "else:\n",
    "    trans_method = \"\"\n",
    "\n",
    "clicked_for_sum = st.sidebar.button('동영상 내용 요약')\n",
    "\n",
    "# ------------- 메인 화면 구성 --------------------------     \n",
    "st.title(\"유튜브 동영상 요약\")\n",
    "\n",
    "# 텍스트 입력이 있으면 수행\n",
    "if url_text and clicked_for_sum: \n",
    "    yt_video_url = url_text.strip()\n",
    "    summarize_youtube_video(yt_video_url, yt_lang, trans_method)"
   ]
  },
  {
   "cell_type": "markdown",
   "id": "ca1f6fa4",
   "metadata": {},
   "source": [
    "## 13.4 정리"
   ]
  }
 ],
 "metadata": {
  "kernelspec": {
   "display_name": "Python 3 (ipykernel)",
   "language": "python",
   "name": "python3"
  },
  "language_info": {
   "codemirror_mode": {
    "name": "ipython",
    "version": 3
   },
   "file_extension": ".py",
   "mimetype": "text/x-python",
   "name": "python",
   "nbconvert_exporter": "python",
   "pygments_lexer": "ipython3",
   "version": "3.11.3"
  },
  "toc": {
   "base_numbering": "13",
   "nav_menu": {},
   "number_sections": false,
   "sideBar": true,
   "skip_h1_title": false,
   "title_cell": "Table of Contents",
   "title_sidebar": "Contents",
   "toc_cell": false,
   "toc_position": {
    "height": "calc(100% - 180px)",
    "left": "10px",
    "top": "150px",
    "width": "338.767px"
   },
   "toc_section_display": true,
   "toc_window_display": false
  }
 },
 "nbformat": 4,
 "nbformat_minor": 5
}
