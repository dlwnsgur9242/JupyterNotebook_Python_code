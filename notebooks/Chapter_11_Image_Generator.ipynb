{
 "cells": [
  {
   "cell_type": "markdown",
   "id": "8d024c3e",
   "metadata": {},
   "source": [
    "# 11장 인공지능 이미지 생성기"
   ]
  },
  {
   "cell_type": "markdown",
   "id": "2dbb0d21",
   "metadata": {},
   "source": [
    "## 11.1 번역 텍스트로 이미지 생성"
   ]
  },
  {
   "cell_type": "markdown",
   "id": "bf44feac",
   "metadata": {},
   "source": [
    "[11장: 298페이지]"
   ]
  },
  {
   "cell_type": "code",
   "execution_count": null,
   "id": "8e299451",
   "metadata": {},
   "outputs": [],
   "source": [
    "import openai\n",
    "import os\n",
    "\n",
    "# OpenAI Chat Completions API를 이용해 한국어를 영어로 번역하는 함수\n",
    "def translate_text_for_image(text):    \n",
    "    # API 키 설정\n",
    "    openai.api_key = os.environ[\"OPENAI_API_KEY\"]\n",
    "\n",
    "    # 대화 메시지 정의\n",
    "    user_content = f\"Translate the following Korean sentences into English.\\n {text}\"\n",
    "    messages = [ {\"role\": \"user\", \"content\": user_content} ]\n",
    "\n",
    "    # Chat Completions API 호출\n",
    "    response = openai.ChatCompletion.create(\n",
    "                            model=\"gpt-3.5-turbo\", # 사용할 모델 선택 \n",
    "                            messages=messages, # 전달할 메시지 지정\n",
    "                            max_tokens=1000, # 최대 토큰 수 지정\n",
    "                            temperature=0.8, # 완성의 다양성을 조절하는 온도 설정\n",
    "                            n=1 # 생성할 완성의 개수 지정\n",
    "                            )\n",
    "\n",
    "    assistant_reply = response.choices[0].message['content'] # 첫 번째 응답 결과 가져오기\n",
    "    \n",
    "    return assistant_reply # 응답 반환"
   ]
  },
  {
   "cell_type": "markdown",
   "id": "bc849e2b",
   "metadata": {},
   "source": [
    "[11장: 299페이지]"
   ]
  },
  {
   "cell_type": "code",
   "execution_count": null,
   "id": "e1b3e3b2",
   "metadata": {},
   "outputs": [],
   "source": [
    "k_text = \"가구가 있는 거실\" # 그림 생성 요청을 위한 텍스트\n",
    "e_text = translate_text_for_image(k_text)\n",
    "e_text"
   ]
  },
  {
   "cell_type": "markdown",
   "id": "070ee207",
   "metadata": {},
   "source": [
    "[11장: 300페이지]"
   ]
  },
  {
   "cell_type": "code",
   "execution_count": null,
   "id": "0826591b",
   "metadata": {},
   "outputs": [],
   "source": [
    "import textwrap\n",
    "\n",
    "# OpenAI Image API((DALL·E)를 이용해 영어 문장으로 이미지를 생성하는 함수\n",
    "def generate_image_from_text(text_for_image, image_num=1, image_size=\"512x512\"):    \n",
    "    # API 키 설정\n",
    "    openai.api_key = os.environ[\"OPENAI_API_KEY\"]\n",
    "    \n",
    "    shorten_text_for_image = textwrap.shorten(text_for_image, 1000) # 1,000자로 제한\n",
    "    \n",
    "    openai.api_key = os.environ[\"OPENAI_API_KEY\"]\n",
    "    response = openai.Image.create(prompt=shorten_text_for_image, n=image_num, size=image_size)\n",
    "    \n",
    "    image_urls = [] # 이미지 URL 리스트\n",
    "    for data in response['data']:\n",
    "        image_url = data['url'] # 이미지 URL 추출    \n",
    "        image_urls.append(image_url)   \n",
    "        \n",
    "    return image_urls # 이미지 URL 리스트 반환"
   ]
  },
  {
   "cell_type": "code",
   "execution_count": null,
   "id": "e7f1ec37",
   "metadata": {
    "scrolled": false
   },
   "outputs": [],
   "source": [
    "import openai\n",
    "import os\n",
    "import requests\n",
    "from IPython.display import Image, display\n",
    "\n",
    "image_urls = generate_image_from_text(e_text) # 이미지 생성\n",
    "\n",
    "download_holder = \"C:/myPyAI/data/download/\" # 다운로드 폴더 지정\n",
    "\n",
    "for image_url in image_urls:\n",
    "    image_file = image_url.split(\"?\")[0].split(\"/\")[-1]  # 이미지 파일 이름 추출   \n",
    "    filename = download_holder + image_file # 다운로드 파일의 경로 생성\n",
    "    print(filename)\n",
    "    display(Image(image_url, format='png')) # 생성한 이미지의 링크를 이용해 이미지 표시\n",
    "    \n",
    "    # 생성한 이미지 다운로드\n",
    "    r = requests.get(image_url) # 생성 이미지 URL 접속\n",
    "    with open(filename, 'wb') as f: \n",
    "        f.write(r.content)    "
   ]
  },
  {
   "cell_type": "markdown",
   "id": "2e8fc366",
   "metadata": {},
   "source": [
    "## 11.2 상세 묘사로 이미지 생성"
   ]
  },
  {
   "cell_type": "markdown",
   "id": "d7174f00",
   "metadata": {},
   "source": [
    "[11장: 303페이지]"
   ]
  },
  {
   "cell_type": "code",
   "execution_count": null,
   "id": "25b4ab48",
   "metadata": {},
   "outputs": [],
   "source": [
    "# OpenAI Chat Completions API를 이용해 이미지를 위한 상세 묘사를 생성하는 함수\n",
    "def generate_text_for_image(text):\n",
    "    # API 키 설정\n",
    "    openai.api_key = os.environ[\"OPENAI_API_KEY\"]\n",
    "\n",
    "    # 대화 메시지 정의\n",
    "    user_content = f\"Describe the following in 1000 characters to create an image.\\n {text}\"\n",
    "    \n",
    "    messages = [ {\"role\": \"user\", \"content\": user_content} ]\n",
    "\n",
    "    # Chat Completions API 호출\n",
    "    response = openai.ChatCompletion.create(\n",
    "                            model=\"gpt-3.5-turbo\", # 사용할 모델 선택 \n",
    "                            messages=messages, # 전달할 메시지 지정\n",
    "                            max_tokens=1000, # 최대 토큰 수 지정\n",
    "                            temperature=0.8, # 완성의 다양성을 조절하는 온도 설정\n",
    "                            n=1 # 생성할 완성의 개수 지정\n",
    "                        )\n",
    "\n",
    "    assistant_reply = response.choices[0].message['content'] # 첫 번째 응답 결과 가져오기\n",
    "\n",
    "    return assistant_reply # 응답 반환"
   ]
  },
  {
   "cell_type": "markdown",
   "id": "b2eb11a6",
   "metadata": {},
   "source": [
    "[11장: 304페이지]"
   ]
  },
  {
   "cell_type": "code",
   "execution_count": null,
   "id": "5221646a",
   "metadata": {},
   "outputs": [],
   "source": [
    "from IPython.display import Image, display\n",
    "import textwrap\n",
    "\n",
    "k_text = \"따뜻한 분위기가 나는 유럽풍의 거실 인테리어\"\n",
    "e_text = translate_text_for_image(k_text) # 한국어를 영어로 번역\n",
    "print(\"[번역 텍스트]\\n\", e_text) # 응답받은 내용 출력\n",
    "\n",
    "text_for_image = generate_text_for_image(e_text) # OpenAI ChatGPT에 질문하고 응답받음\n",
    "shorten_text_for_image = textwrap.shorten(text_for_image, 250, placeholder=' [..이하 생략..]')\n",
    "print(\"[이미지 생성을 위한 텍스트(축약)]\\n\", shorten_text_for_image) # 응답받은 내용 출력(축약)\n",
    "# print(\"[이미지 생성을 위한 텍스트]\\n\", text_for_image) # 응답받은 내용 출력\n",
    "\n",
    "image_num = 1 # 생성할 이미지 개수\n",
    "image_urls = generate_image_from_text(text_for_image, image_num) # 지정한 개수만큼 이미지 생성\n",
    "for image_url in image_urls:       \n",
    "    display(Image(image_url, format='png')) # 이미지를 화면에 표시"
   ]
  },
  {
   "cell_type": "markdown",
   "id": "86b25c3c",
   "metadata": {},
   "source": [
    "[11장: 305페이지]"
   ]
  },
  {
   "cell_type": "code",
   "execution_count": null,
   "id": "483c61a4",
   "metadata": {},
   "outputs": [],
   "source": [
    "%%writefile C:\\myPyAI\\code\\my_image_gen.py\n",
    "# 이미지 생성을 위한 모듈\n",
    "\n",
    "import openai\n",
    "import os\n",
    "import textwrap\n",
    "\n",
    "# OpenAI Chat Completions API를 이용해 한국어를 영어로 번역하는 함수\n",
    "def translate_text_for_image(text):    \n",
    "    # API 키 설정\n",
    "    openai.api_key = os.environ[\"OPENAI_API_KEY\"]\n",
    "\n",
    "    # 대화 메시지 정의\n",
    "    user_content = f\"Translate the following Korean sentences into English.\\n {text}\"\n",
    "    messages = [ {\"role\": \"user\", \"content\": user_content} ]\n",
    "\n",
    "    # Chat Completions API 호출\n",
    "    response = openai.ChatCompletion.create(\n",
    "                            model=\"gpt-3.5-turbo\", # 사용할 모델 선택 \n",
    "                            messages=messages, # 전달할 메시지 지정\n",
    "                            max_tokens=1000, # 최대 토큰 수 지정\n",
    "                            temperature=0.8, # 완성의 다양성을 조절하는 온도 설정\n",
    "                            n=1 # 생성할 완성의 개수 지정\n",
    "                            )\n",
    "\n",
    "    assistant_reply = response.choices[0].message['content'] # 첫 번째 응답 결과 가져오기\n",
    "    \n",
    "    return assistant_reply # 응답 반환\n",
    "\n",
    "# OpenAI Chat Completions API를 이용해 이미지를 위한 상세 묘사를 생성하는 함수\n",
    "def generate_text_for_image(text):\n",
    "    # API 키 설정\n",
    "    openai.api_key = os.environ[\"OPENAI_API_KEY\"]\n",
    "\n",
    "    # 대화 메시지 정의\n",
    "    user_content = f\"Describe the following in 1000 characters to create an image.\\n {text}\"\n",
    "    \n",
    "    messages = [ {\"role\": \"user\", \"content\": user_content} ]\n",
    "\n",
    "    # Chat Completions API 호출\n",
    "    response = openai.ChatCompletion.create(\n",
    "                            model=\"gpt-3.5-turbo\", # 사용할 모델 선택 \n",
    "                            messages=messages, # 전달할 메시지 지정\n",
    "                            max_tokens=1000, # 최대 토큰 수 지정\n",
    "                            temperature=0.8, # 완성의 다양성을 조절하는 온도 설정\n",
    "                            n=1 # 생성할 완성의 개수 지정\n",
    "                        )\n",
    "    \n",
    "    assistant_reply = response.choices[0].message['content'] # 첫 번째 응답 결과 가져오기\n",
    "\n",
    "    return assistant_reply # 응답 반환\n",
    "\n",
    "# OpenAI Image API((DALL·E)를 이용해 영어 문장으로 이미지를 생성하는 함수\n",
    "def generate_image_from_text(text_for_image, image_num=1, image_size=\"512x512\"):    \n",
    "    # API 키 설정\n",
    "    \n",
    "    shorten_text_for_image = textwrap.shorten(text_for_image, 1000) # 1,000자로 제한\n",
    "    \n",
    "    openai.api_key = os.environ[\"OPENAI_API_KEY\"]\n",
    "    response = openai.Image.create(prompt=shorten_text_for_image, n=image_num, size=image_size)\n",
    "    \n",
    "    image_urls = [] # 이미지 URL 리스트\n",
    "    for data in response['data']:\n",
    "        image_url = data['url'] # 이미지 URL 추출    \n",
    "        image_urls.append(image_url)   \n",
    "        \n",
    "    return image_urls # 이미지 URL 리스트 반환\n"
   ]
  },
  {
   "cell_type": "markdown",
   "id": "d0d1fd91",
   "metadata": {},
   "source": [
    "[11장: 307페이지]"
   ]
  },
  {
   "cell_type": "code",
   "execution_count": null,
   "id": "891c64e5",
   "metadata": {
    "scrolled": true
   },
   "outputs": [],
   "source": [
    "!echo %PYTHONPATH%"
   ]
  },
  {
   "cell_type": "code",
   "execution_count": null,
   "id": "3350db5e",
   "metadata": {},
   "outputs": [],
   "source": [
    "import my_image_gen # 이미지 생성을 위한 모듈을 임포트\n",
    "from IPython.display import Image, display\n",
    "import textwrap\n",
    "\n",
    "k_text = \"새벽 바다 위에 배가 있고 해가 떠오르는 일출 풍경\" # 한국어 입력\n",
    "e_text = my_image_gen.translate_text_for_image(k_text) # 한국어를 영어로 번역\n",
    "print(\"[번역 텍스트]\\n\", e_text) # 응답받은 내용 출력\n",
    "\n",
    "text_for_image = my_image_gen.generate_text_for_image(e_text) # OpenAI ChatGPT에 질문하고 응답받음\n",
    "shorten_text_for_image = textwrap.shorten(text_for_image, 250, placeholder=' [..이하 생략..]')\n",
    "print(\"[이미지 생성을 위한 텍스트(축약)]\\n\", shorten_text_for_image) # 응답받은 내용 출력(축약)\n",
    "# print(\"[이미지 생성을 위한 텍스트]\\n\", text_for_image) # 응답받은 내용 출력\n",
    "\n",
    "image_num = 1 # 생성할 이미지 개수\n",
    "image_size = \"512x512\" # 생성할 이미지 크기: \"256x256\", 512x512\", \"1024x1024\"\n",
    "image_urls = my_image_gen.generate_image_from_text(text_for_image, image_num, image_size) # 이미지 생성\n",
    "for image_url in image_urls:       \n",
    "    display(Image(image_url, format='png')) # 이미지를 화면에 표시"
   ]
  },
  {
   "cell_type": "markdown",
   "id": "467f50be",
   "metadata": {},
   "source": [
    "## 11.3 이미지를 생성하는 웹 앱"
   ]
  },
  {
   "cell_type": "markdown",
   "id": "04741dac",
   "metadata": {},
   "source": [
    "[11장: 309페이지]"
   ]
  },
  {
   "cell_type": "code",
   "execution_count": null,
   "id": "83fb26d8",
   "metadata": {},
   "outputs": [],
   "source": [
    "%%writefile C:\\myPyAI\\code\\st\\openai_image_app.py\n",
    "# OpenAI 이미지 생성기 웹 앱\n",
    "\n",
    "import my_image_gen # 이미지 생성을 위한 모듈을 임포트\n",
    "import streamlit as st\n",
    "import openai\n",
    "import os\n",
    "import requests\n",
    "import textwrap\n",
    "from datetime import datetime\n",
    "\n",
    "# ---- 세션 상태 초기화 --------\n",
    "if 'image_caption' not in st.session_state:\n",
    "    st.session_state['image_caption'] = \"\" # 빈 문자열로 초기화 \n",
    "    \n",
    "if 'shorten_text_for_image' not in st.session_state:\n",
    "    st.session_state['shorten_text_for_image'] = \"\" # 빈 문자열로 초기화 \n",
    "    \n",
    "if 'image_urls' not in st.session_state:\n",
    "    st.session_state['image_urls'] = [] # 빈 리스트로 초기화\n",
    "    \n",
    "if 'images' not in st.session_state:\n",
    "    st.session_state['images'] = [] # 빈 리스트로 초기화    \n",
    "\n",
    "if 'download_file_names' not in st.session_state:\n",
    "    st.session_state['download_file_names'] = [] # 빈 리스트로 초기화    \n",
    "    \n",
    "if 'download_buttons' not in st.session_state:\n",
    "    st.session_state['download_buttons'] = False # False로 초기화\n",
    "    \n",
    "# ---- 이미지 생성을 위한 텍스트와 생성된 이미지를 화면에 표시하는 함수 ----\n",
    "def display_results():\n",
    "    # 저장한 세션 상태 불러오기\n",
    "    shorten_text_for_image = st.session_state['shorten_text_for_image']\n",
    "    image_caption = st.session_state['image_caption']\n",
    "    image_urls = st.session_state['image_urls']    \n",
    "    \n",
    "    # 사이드바에 텍스트를 표시\n",
    "    st.sidebar.write(\"[이미지 생성을 위한 텍스트]\") \n",
    "    st.sidebar.write(shorten_text_for_image)\n",
    "    \n",
    "    # 이미지와 다운로드 버튼을 화면에 표시\n",
    "    for k, image_url in enumerate(image_urls):\n",
    "        st.image(image_url, caption=image_caption) # 이미지 표시\n",
    "        \n",
    "        image_data = st.session_state['images'][k]\n",
    "        download_file_name = st.session_state['download_file_names'][k]\n",
    "\n",
    "        # 다운로드 버튼\n",
    "        st.download_button( label=\"이미지 파일 다운로드\",\n",
    "                            data=image_data,\n",
    "                            file_name=download_file_name,\n",
    "                            mime=\"image/png\",\n",
    "                            key=k,\n",
    "                            on_click=download_button_callback)\n",
    "        \n",
    "# ------------------- 콜백 함수 --------------------\n",
    "def download_button_callback():\n",
    "    st.session_state['download_buttons'] = True\n",
    "\n",
    "def button_callback():\n",
    "    \n",
    "    if radio_selected_lang == \"한국어\":\n",
    "        translated_text = my_image_gen.translate_text_for_image(input_text) # 한국어를 영어로 번역\n",
    "    elif radio_selected_lang == \"영어\":\n",
    "        translated_text = input_text\n",
    "    \n",
    "    if detail_description == 'Yes':        \n",
    "        resp = my_image_gen.generate_text_for_image(translated_text) # 이미지 생성을 위한 상세 묘사 생성\n",
    "        text_for_image = resp\n",
    "        image_caption =\"상세 묘사를 추가해 생성한 이미지\"\n",
    "    elif detail_description == 'No': \n",
    "        text_for_image = translated_text\n",
    "        image_caption =\"입력 내용으로 생성한 이미지\"\n",
    "    \n",
    "    # 텍스트 축약\n",
    "    shorten_text_for_image = textwrap.shorten(text_for_image, 200, placeholder=' [..이하 생략..]')\n",
    "    \n",
    "    # 이미지 생성\n",
    "    image_urls = my_image_gen.generate_image_from_text(text_for_image, image_num, image_size)\n",
    "\n",
    "    # 이미지와 다운로드 파일 이름 생성\n",
    "    images = []\n",
    "    download_file_names = []\n",
    "    for k, image_url in enumerate(image_urls):\n",
    "        \n",
    "        # 생성한 이미지 다운로드\n",
    "        r = requests.get(image_url)\n",
    "        image_data = r.content # 이미지 데이터\n",
    "        images.append(image_data)\n",
    "        \n",
    "        # 다운로드 파일 이름 생성\n",
    "        now_datetime = datetime.now().strftime(\"%Y-%m-%d_%H-%M-%S\") # 이미지 생성 날짜와 시각\n",
    "        download_file_name = f\"gen_image_{k}_{now_datetime}.png\"\n",
    "        download_file_names.append(download_file_name)\n",
    "        \n",
    "    # 세션 상태 저장\n",
    "    st.session_state['image_caption'] = image_caption\n",
    "    st.session_state['shorten_text_for_image'] = shorten_text_for_image\n",
    "    st.session_state['image_urls'] = image_urls\n",
    "    st.session_state['download_file_names'] = download_file_names\n",
    "    st.session_state['images'] = images\n",
    "\n",
    "# ------------- 사이드바 화면 구성 --------------------------   \n",
    "st.sidebar.title(\"이미지 생성을 위한 설정 \")\n",
    "\n",
    "input_text = st.sidebar.text_input(\"이미지 생성을 위한 설명을 입력하세요.\",\n",
    "                                    \"빌딩이 보이는 호수가 있는 도시의 공원\")\n",
    "\n",
    "radio_selected_lang = st.sidebar.radio('입력한 언어', ['한국어', '영어'], \n",
    "                                       index=0, horizontal=True)\n",
    "\n",
    "# 라디오 버튼: 생성 이미지 개수 지정\n",
    "image_num_options = [1, 2, 3] # 세 종류의 이미지 개수 선택 가능\n",
    "image_num = st.sidebar.radio('생성할 이미지 개수를 선택하세요.', \n",
    "                      image_num_options, index=0, horizontal=True)\n",
    "\n",
    "# 라디오 버튼: 이미지 크기 지정\n",
    "image_size_options = ['256x256', '512x512', '1024x1024'] # 세 종류의 이미지 크기 선택 가능\n",
    "image_size = st.sidebar.radio('생성할 이미지 크기를 선택하세요.', \n",
    "                      image_size_options, index=1, horizontal=True)\n",
    "\n",
    "# 라디오 버튼: 상세 묘사 추가 여부 지정\n",
    "detail_description = st.sidebar.radio('상세 묘사를 추가하겠습니까?', \n",
    "                      ['Yes', 'No'], index=1, horizontal=True)\n",
    "\n",
    "# 기본 버튼: 이미지 생성을 위해 사용\n",
    "# clicked = st.sidebar.button('이미지 생성')\n",
    "clicked = st.sidebar.button('이미지 생성', on_click=button_callback)\n",
    "\n",
    "# ------------- 메인 화면 구성 --------------------------   \n",
    "st.title(\"인공지능 이미지 생성기\")\n",
    "\n",
    "# [이미지 생성] 버튼 혹은 [이미지 파일 다운로드] 버튼 클릭 시 화면 표시 함수 실행    \n",
    "if clicked or st.session_state['download_buttons'] == True:\n",
    "    display_results()"
   ]
  },
  {
   "cell_type": "markdown",
   "id": "ca1f6fa4",
   "metadata": {},
   "source": [
    "## 11.4 정리"
   ]
  }
 ],
 "metadata": {
  "kernelspec": {
   "display_name": "Python 3 (ipykernel)",
   "language": "python",
   "name": "python3"
  },
  "language_info": {
   "codemirror_mode": {
    "name": "ipython",
    "version": 3
   },
   "file_extension": ".py",
   "mimetype": "text/x-python",
   "name": "python",
   "nbconvert_exporter": "python",
   "pygments_lexer": "ipython3",
   "version": "3.11.3"
  },
  "toc": {
   "base_numbering": "11",
   "nav_menu": {},
   "number_sections": false,
   "sideBar": true,
   "skip_h1_title": false,
   "title_cell": "Table of Contents",
   "title_sidebar": "Contents",
   "toc_cell": false,
   "toc_position": {
    "height": "calc(100% - 180px)",
    "left": "10px",
    "top": "150px",
    "width": "338.767px"
   },
   "toc_section_display": true,
   "toc_window_display": false
  }
 },
 "nbformat": 4,
 "nbformat_minor": 5
}
