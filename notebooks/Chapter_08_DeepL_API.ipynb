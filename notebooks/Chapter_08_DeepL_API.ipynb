{
 "cells": [
  {
   "cell_type": "markdown",
   "metadata": {},
   "source": [
    "# 8장 자연스러운 번역을 수행하는 DeepL"
   ]
  },
  {
   "cell_type": "markdown",
   "metadata": {},
   "source": [
    "## 8.1 DeepL 둘러보기"
   ]
  },
  {
   "cell_type": "markdown",
   "metadata": {},
   "source": [
    "##  8.2 DeepL API 사용을 위한 API 키 생성"
   ]
  },
  {
   "cell_type": "markdown",
   "metadata": {},
   "source": [
    "## 8.3 DeepL API를 활용한 번역"
   ]
  },
  {
   "cell_type": "markdown",
   "metadata": {},
   "source": [
    "### 8.3.1 텍스트 번역"
   ]
  },
  {
   "cell_type": "markdown",
   "metadata": {},
   "source": [
    "[8장: 222페이지]"
   ]
  },
  {
   "cell_type": "code",
   "execution_count": null,
   "metadata": {},
   "outputs": [],
   "source": [
    "import deepl # deepl 라이브러리를 임포트\n",
    "import os\n",
    "\n",
    "auth_key = os.environ[\"DEEPL_AUTH_KEY\"] # DeepL 인증 키\n",
    "translator = deepl.Translator(auth_key) # translator 객체를 생성\n",
    "\n",
    "text = \"Improve your writing in just one click.\" # 번역할 원본 텍스트(영어)\n",
    "result = translator.translate_text( # 번역 결과 객체를 result 변수에 할당\n",
    "                text,               # 원본(소스) 텍스트\n",
    "                target_lang=\"KO\")   # 대상(타깃) 언어 코드 \n",
    "\n",
    "print(\"- 감지된 언어 코드:\", result.detected_source_lang)\n",
    "print(\"- 번역 결과:\", result.text)"
   ]
  },
  {
   "cell_type": "markdown",
   "metadata": {},
   "source": [
    "[8장: 223페이지]"
   ]
  },
  {
   "cell_type": "code",
   "execution_count": null,
   "metadata": {},
   "outputs": [],
   "source": [
    "text = \"But\" # 원본(소스) 텍스트\n",
    "\n",
    "# 원본 텍스트의 언어(source_lang)를 미지정. 자동으로 감지함\n",
    "result = translator.translate_text(\n",
    "                text,              # 원본(소스) 텍스트\n",
    "                target_lang=\"KO\")  # 대상(타깃) 언어 코드 \n",
    "\n",
    "print(\"- 감지된 언어 코드:\", result.detected_source_lang)\n",
    "print(\"- 번역 결과:\", result.text)"
   ]
  },
  {
   "cell_type": "code",
   "execution_count": null,
   "metadata": {},
   "outputs": [],
   "source": [
    "text = \"But\" # 원본(소스) 텍스트\n",
    "\n",
    "# 원본 텍스트의 언어(source_lang)를 지정. 아래는 폴란드어 코드(PL)를 지정함\n",
    "result = translator.translate_text(\n",
    "                text,               # 원본(소스) 텍스트\n",
    "                target_lang=\"KO\",   # 대상(타깃) 언어 코드 \n",
    "                source_lang=\"PL\")   # 원본 (소스) 언어 코드\n",
    "\n",
    "print(\"- 감지된 언어 코드:\", result.detected_source_lang)\n",
    "print(\"- 번역 결과:\", result.text)"
   ]
  },
  {
   "cell_type": "markdown",
   "metadata": {},
   "source": [
    "### 8.3.2 문서 파일 번역"
   ]
  },
  {
   "cell_type": "markdown",
   "metadata": {},
   "source": [
    "[8장: 225페이지]"
   ]
  },
  {
   "cell_type": "code",
   "execution_count": null,
   "metadata": {},
   "outputs": [],
   "source": [
    "import deepl # deepl 라이브러리 임포트\n",
    "import os\n",
    "\n",
    "input_path = \"C:/myPyAI/data/어린왕자_영어_원본.docx\" # 원본 문서 파일 경로\n",
    "output_path = \"C:/myPyAI/data/어린왕자_한국어_번역.docx\" # 번역 문서 파일 경로\n",
    "\n",
    "auth_key = os.environ[\"DEEPL_AUTH_KEY\"] # DeepL 인증 키\n",
    "translator = deepl.Translator(auth_key) # translator 객체를 생성\n",
    "\n",
    "# 문서 번역 실행\n",
    "result = translator.translate_document_from_filepath( \n",
    "            input_path,       # 입력 문서(원본) 파일의 경로\n",
    "            output_path,      # 출력 문서(번역) 파일의 경로\n",
    "            target_lang=\"KO\") # 대상(타깃) 문서의 언어 코드\n",
    "\n",
    "print(result.done) # 문서 번역 결과 확인"
   ]
  },
  {
   "cell_type": "markdown",
   "metadata": {},
   "source": [
    "[8장: 226페이지]"
   ]
  },
  {
   "cell_type": "code",
   "execution_count": null,
   "metadata": {},
   "outputs": [],
   "source": [
    "import deepl # deepl 라이브러리 임포트\n",
    "import os\n",
    "\n",
    "folder = \"C:/myPyAI/data/\"\n",
    "input_path  = folder + \"President_Obamas_Farewell_Address_영어_원본.pdf\" # 원본 파일 경로\n",
    "output_path = folder + \"President_Obamas_Farewell_Address_한국어_번역.pdf\" # 번역 파일 경로\n",
    "\n",
    "auth_key = os.environ[\"DEEPL_AUTH_KEY\"] # DeepL 인증 키\n",
    "translator = deepl.Translator(auth_key) # translator 객체를 생성\n",
    "\n",
    "# 문서 번역 실행\n",
    "result = translator.translate_document_from_filepath( \n",
    "            input_path,       # 입력 문서(원본) 파일의 경로\n",
    "            output_path,      # 출력 문서(번역) 파일의 경로\n",
    "            target_lang=\"KO\") # 대상(타깃) 문서의 언어 코드\n",
    "\n",
    "print(result.done) # 문서 번역 결과 확인"
   ]
  },
  {
   "cell_type": "markdown",
   "metadata": {},
   "source": [
    "## 정리"
   ]
  }
 ],
 "metadata": {
  "anaconda-cloud": {},
  "kernelspec": {
   "display_name": "Python 3 (ipykernel)",
   "language": "python",
   "name": "python3"
  },
  "language_info": {
   "codemirror_mode": {
    "name": "ipython",
    "version": 3
   },
   "file_extension": ".py",
   "mimetype": "text/x-python",
   "name": "python",
   "nbconvert_exporter": "python",
   "pygments_lexer": "ipython3",
   "version": "3.11.3"
  },
  "latex_envs": {
   "LaTeX_envs_menu_present": true,
   "autoclose": false,
   "autocomplete": true,
   "bibliofile": "biblio.bib",
   "cite_by": "apalike",
   "current_citInitial": 1,
   "eqLabelWithNumbers": true,
   "eqNumInitial": 1,
   "hotkeys": {
    "equation": "Ctrl-E",
    "itemize": "Ctrl-I"
   },
   "labels_anchors": false,
   "latex_user_defs": false,
   "report_style_numbering": false,
   "user_envs_cfg": false
  },
  "nav_menu": {},
  "toc": {
   "base_numbering": "8",
   "nav_menu": {
    "height": "512px",
    "width": "252px"
   },
   "number_sections": false,
   "sideBar": true,
   "skip_h1_title": false,
   "title_cell": "Table of Contents",
   "title_sidebar": "Contents",
   "toc_cell": false,
   "toc_position": {
    "height": "545px",
    "left": "23px",
    "right": "1078px",
    "top": "111.133px",
    "width": "435px"
   },
   "toc_section_display": true,
   "toc_window_display": false
  },
  "toc_position": {
   "height": "556px",
   "left": "0px",
   "right": "1057px",
   "top": "107px",
   "width": "309px"
  }
 },
 "nbformat": 4,
 "nbformat_minor": 1
}
