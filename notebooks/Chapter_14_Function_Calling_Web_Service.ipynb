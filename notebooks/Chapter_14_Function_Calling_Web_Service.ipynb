{
 "cells": [
  {
   "cell_type": "markdown",
   "id": "1074a421",
   "metadata": {},
   "source": [
    "# 14장 인공지능과 웹 서비스 연결"
   ]
  },
  {
   "cell_type": "markdown",
   "id": "8d024c3e",
   "metadata": {},
   "source": [
    "## 14.1 날씨 정보 가져오기"
   ]
  },
  {
   "cell_type": "markdown",
   "id": "2dbb0d21",
   "metadata": {},
   "source": [
    "### 14.1.1 날씨 제공 서비스의 웹 API 키 생성"
   ]
  },
  {
   "cell_type": "markdown",
   "id": "07b7ce1a",
   "metadata": {},
   "source": [
    "### 14.1.2 Weather API 이용 방법"
   ]
  },
  {
   "cell_type": "markdown",
   "id": "2946af1e",
   "metadata": {},
   "source": [
    "### 14.1.3 Weather API를 활용해 날씨 정보 가져오기"
   ]
  },
  {
   "cell_type": "markdown",
   "id": "375ad763",
   "metadata": {},
   "source": [
    "[14장: 354페이지]"
   ]
  },
  {
   "cell_type": "code",
   "execution_count": null,
   "id": "3c51a8fa",
   "metadata": {},
   "outputs": [],
   "source": [
    "import requests\n",
    "import os\n",
    "\n",
    "WEATHER_API_KEY = os.environ[\"WEATHER_API_KEY\"] # API 키 지정\n",
    "city = \"Seoul\" # 도시는 서울로 지정\n",
    "lang_code = \"ko\"\n",
    "\n",
    "url = \"http://api.weatherapi.com/v1/current.json\"\n",
    "parameters = {\"key\":WEATHER_API_KEY, \"q\":city, \"lang\":lang_code}\n",
    "\n",
    "r = requests.get(url, params=parameters)\n",
    "current_weather = r.json()\n",
    "print(current_weather)"
   ]
  },
  {
   "cell_type": "markdown",
   "id": "58bf2290",
   "metadata": {},
   "source": [
    "[14장: 355페이지]"
   ]
  },
  {
   "cell_type": "code",
   "execution_count": null,
   "id": "105aedc6",
   "metadata": {},
   "outputs": [],
   "source": [
    "name = current_weather['location']['name']\n",
    "localtime = current_weather['location']['localtime']\n",
    "temp_c = current_weather['current']['temp_c']\n",
    "temp_f = current_weather['current']['temp_f']\n",
    "condition_text = current_weather['current']['condition']['text']\n",
    "\n",
    "print(f\"현재({localtime}) {name}의 날씨 정보: {condition_text}, 섭씨 {temp_c}도, 화씨 {temp_f}도\")"
   ]
  },
  {
   "cell_type": "code",
   "execution_count": null,
   "id": "048e0d5e",
   "metadata": {},
   "outputs": [],
   "source": [
    "import requests\n",
    "import os\n",
    "import json\n",
    "import re\n",
    "\n",
    "def get_current_weather(location, unit=\"섭씨\"):\n",
    "    \n",
    "    reg = re.compile(r'[a-zA-Z]') # 영어 입력인지를 검사하는 정규식  \n",
    "    \n",
    "    if reg.match(location): # 영어로 도시 이름을 지정한 경우  \n",
    "        city = location # 영어 도시 이름을 바로 지정\n",
    "    else: # 영어로 지정하지 않은 경우 \n",
    "        city_names = {\"서울\": \"Seoul\", \"인천\": \"Incheon\", \"대전\": \"Daejeon\", \n",
    "                      \"대구\": \"Daegu\", \"부산\": \"Busan\", \"광주\": \"Gwangju\",\n",
    "                      \"수원\": \"Suwon\", \"파리\": \"Paris\", \"뉴욕\": \"New York\"}\n",
    "        city = city_names[location] # 한글 도시 이름을 영어로 변경\n",
    "    \n",
    "    WEATHER_API_KEY = os.environ[\"WEATHER_API_KEY\"] # API 키 지정\n",
    "\n",
    "    url = \"http://api.weatherapi.com/v1/current.json\"\n",
    "    parameters = {\"key\":WEATHER_API_KEY, \"q\":city}\n",
    "\n",
    "    r = requests.get(url, params=parameters)\n",
    "    current_weather = r.json()\n",
    "    \n",
    "    name = current_weather['location']['name'] # 설정 지역\n",
    "    localtime = current_weather['location']['localtime'] # 날짜 및 시각\n",
    "    temp_c = current_weather['current']['temp_c'] # 섭씨 온도\n",
    "    temp_f = current_weather['current']['temp_f'] # 화씨 온도\n",
    "    condition_text = current_weather['current']['condition']['text'] # 날씨 상태\n",
    "     \n",
    "    # unit 지정에 따라서 섭씨 온도 혹은 화씨 온도를 지정\n",
    "    if unit == \"섭씨\":\n",
    "        temp = temp_c\n",
    "    elif unit == \"화씨\":\n",
    "        temp = temp_f\n",
    "    else:\n",
    "        unit == \"섭씨\"\n",
    "        temp = temp_c\n",
    "        \n",
    "    weather_info = {\n",
    "            \"location\": name,\n",
    "            \"temperature\": temp,\n",
    "            \"unit\": unit,\n",
    "            \"current weather\": condition_text,\n",
    "            \"local time\": localtime\n",
    "    }\n",
    "    \n",
    "    return json.dumps(weather_info, ensure_ascii=False) # JSON 형식으로 반환"
   ]
  },
  {
   "cell_type": "markdown",
   "id": "64fee2d6",
   "metadata": {},
   "source": [
    "[14장: 357페이지]"
   ]
  },
  {
   "cell_type": "code",
   "execution_count": null,
   "id": "72995222",
   "metadata": {},
   "outputs": [],
   "source": [
    "get_current_weather('서울')"
   ]
  },
  {
   "cell_type": "code",
   "execution_count": null,
   "id": "cc59e04f",
   "metadata": {},
   "outputs": [],
   "source": [
    "get_current_weather('파리')"
   ]
  },
  {
   "cell_type": "markdown",
   "id": "37bfac3e",
   "metadata": {},
   "source": [
    "### 14.1.4 OpenAI의 함수 호출로 날씨 정보 가져오기"
   ]
  },
  {
   "cell_type": "markdown",
   "id": "d2fad630",
   "metadata": {},
   "source": [
    "[14장: 358페이지]"
   ]
  },
  {
   "cell_type": "code",
   "execution_count": null,
   "id": "59957ccf",
   "metadata": {},
   "outputs": [],
   "source": [
    "import openai\n",
    "import os\n",
    "\n",
    "# API 키 설정\n",
    "openai.api_key = os.environ[\"OPENAI_API_KEY\"]\n",
    "\n",
    "# Chat Completions API를 이용해 사용자 입력에 따라 함수를 호출하고 응답하는 함수\n",
    "def run_conversation(user_query):\n",
    "    # 사용자 입력\n",
    "    messages = [{\"role\": \"user\", \"content\": user_query}] \n",
    "        \n",
    "    # 함수 정보 입력   \n",
    "    functions = [                                        \n",
    "        {\n",
    "            \"name\": \"get_current_weather\",\n",
    "            \"description\": \"도시 이름을 입력해 현재 날씨, 날짜, 시각, 몇 시인지 가져오기\",\n",
    "            \"parameters\": {\n",
    "                \"type\": \"object\",\n",
    "                \"properties\": {\n",
    "                    \"location\": {\n",
    "                        \"type\": \"string\",\n",
    "                        \"description\": \"도시 이름, 예를 들면, 서울, 부산, 대전\",\n",
    "                    },\n",
    "                    \"unit\": {\n",
    "                        \"type\": \"string\",\n",
    "                        \"enum\": [\"섭씨\", \"화씨\"],\n",
    "                        \"description\": \"온도 단위로 섭씨 혹은 화씨\",\n",
    "                    },\n",
    "                },\n",
    "                \"required\": [\"location\"], # 필수 입력 변수 지정\n",
    "            }\n",
    "        }        \n",
    "    ]\n",
    "    # 1단계: 사용자 입력과 함수 정보를 Chat Completions API 모델로 보내기    \n",
    "    response = openai.ChatCompletion.create( # Chat Completions API 모델로 보내기\n",
    "            # model=\"gpt-3.5-turbo\",\n",
    "            model=\"gpt-4\",\n",
    "            messages=messages,\n",
    "            functions=functions,\n",
    "            function_call=\"auto\"\n",
    "    )\n",
    "    # 2단계: 응답 생성\n",
    "    response_message = response[\"choices\"][0][\"message\"] # 모델의 응답 메시지\n",
    "    \n",
    "    if response_message.get(\"function_call\"): # 응답이 함수 호출인지 확인하기\n",
    "        # 3단계: JSON 객체를 분석해 함수 이름과 인수를 추출한 후에 함수 호출\n",
    "        # (주의: JSON 응답이 항상 유효하지 않을 수 있음)\n",
    "        \n",
    "        # 호출할 함수 이름을 지정 \n",
    "        # (아래는 하나의 함수를 지정했지만 여러 함수 지정 가능)\n",
    "        available_functions = {\"get_current_weather\": get_current_weather}     \n",
    "\n",
    "        # 함수 이름 추출\n",
    "        function_name = response_message[\"function_call\"][\"name\"]\n",
    "        \n",
    "        # 호출할 함수 선택\n",
    "        fuction_to_call = available_functions[function_name]\n",
    "        \n",
    "        # 함수 호출을 위한 인수 추출\n",
    "        function_args = json.loads(response_message[\"function_call\"][\"arguments\"])\n",
    "        \n",
    "        # 함수 호출 및 반환 결과 받기\n",
    "        function_response = fuction_to_call(\n",
    "            location=function_args.get(\"location\"), # 인수 지정\n",
    "            unit=function_args.get(\"unit\")\n",
    "        )\n",
    "        \n",
    "        print(\"[호출한 함수의 응답 결과]\\n\", function_response)\n",
    "        \n",
    "        # 4단계: 함수 호출 결과를 기존 메시지에 추가하고,\n",
    "        #        Chat Completions API 모델로 보내 응답받기\n",
    "\n",
    "        # 함수 호출 결과를 기존 메시지에 추가하기\n",
    "        messages.append(response_message)  # 기존 messages에 조력자 응답 추가\n",
    "        messages.append(                   # 함수와 함수 호출 결과 추가\n",
    "            {\n",
    "                \"role\": \"function\",           # roll: function으로 지정\n",
    "                \"name\": function_name,        # name: 호출할 함수 이름 지정\n",
    "                \"content\": function_response, # content: 함수 호출 결과 지정\n",
    "            }\n",
    "        )\n",
    "        # 함수 호출 결과를 추가한 메시지를 Chat Completions API 모델로 보내 응답받기\n",
    "        second_response = openai.ChatCompletion.create(\n",
    "            # model=\"gpt-3.5-turbo\",\n",
    "            model=\"gpt-4\",\n",
    "            messages=messages,\n",
    "        ) \n",
    "        return second_response # 두 번째 응답 반환\n",
    "    \n",
    "    return response_message # 응답 메시지 반환"
   ]
  },
  {
   "cell_type": "markdown",
   "id": "83a48f20",
   "metadata": {},
   "source": [
    "[14장: 360페이지]"
   ]
  },
  {
   "cell_type": "code",
   "execution_count": null,
   "id": "9dd46e98",
   "metadata": {},
   "outputs": [],
   "source": [
    "user_query = \"현재 수원의 날씨는 어떠한가요?\"\n",
    "response = run_conversation(user_query)\n",
    "response_content = response[\"choices\"][0][\"message\"][\"content\"]\n",
    "\n",
    "print(\"[최종 응답 결과]\\n\", response_content)"
   ]
  },
  {
   "cell_type": "markdown",
   "id": "4b989851",
   "metadata": {},
   "source": [
    "[14장: 361페이지]"
   ]
  },
  {
   "cell_type": "code",
   "execution_count": null,
   "id": "3d4ff98d",
   "metadata": {},
   "outputs": [],
   "source": [
    "json.dumps(response, ensure_ascii=False)"
   ]
  },
  {
   "cell_type": "code",
   "execution_count": null,
   "id": "6ba5c136",
   "metadata": {},
   "outputs": [],
   "source": [
    "user_query = \"지금 뉴욕의 날씨는?\"\n",
    "response = run_conversation(user_query)\n",
    "response_content = response[\"choices\"][0][\"message\"][\"content\"]\n",
    "\n",
    "print(\"[최종 응답 결과]\\n\", response_content)"
   ]
  },
  {
   "cell_type": "code",
   "execution_count": null,
   "id": "88bef778",
   "metadata": {},
   "outputs": [],
   "source": [
    "user_query = \"현재 뉴욕의 날씨는? 온도는 화씨로 표시\"\n",
    "response = run_conversation(user_query)\n",
    "response_content = response[\"choices\"][0][\"message\"][\"content\"]\n",
    "\n",
    "print(\"[최종 응답 결과]\\n\", response_content)"
   ]
  },
  {
   "cell_type": "markdown",
   "id": "b225f741",
   "metadata": {},
   "source": [
    "[14장: 362페이지]"
   ]
  },
  {
   "cell_type": "code",
   "execution_count": null,
   "id": "b87ca3a5",
   "metadata": {
    "scrolled": true
   },
   "outputs": [],
   "source": [
    "user_query = \"서울의 현재 시각은?\"\n",
    "response = run_conversation(user_query)\n",
    "response_content = response[\"choices\"][0][\"message\"][\"content\"]\n",
    "\n",
    "print(\"[최종 응답 결과]\\n\", response_content)"
   ]
  },
  {
   "cell_type": "markdown",
   "id": "d7e214a1",
   "metadata": {},
   "source": [
    "[14장: 362페이지]"
   ]
  },
  {
   "cell_type": "code",
   "execution_count": null,
   "id": "f478d328",
   "metadata": {
    "scrolled": true
   },
   "outputs": [],
   "source": [
    "user_query = \"파리는 지금 몇 시?\"\n",
    "response = run_conversation(user_query)\n",
    "response_content = response[\"choices\"][0][\"message\"][\"content\"]\n",
    "\n",
    "print(\"[최종 응답 결과]\\n\", response_content)"
   ]
  },
  {
   "cell_type": "markdown",
   "id": "9e093b53",
   "metadata": {},
   "source": [
    "## 14.2 이메일 보내기"
   ]
  },
  {
   "cell_type": "markdown",
   "id": "7640d9b6",
   "metadata": {},
   "source": [
    "### 14.2.1 이메일을 보내기 위한 사전 준비"
   ]
  },
  {
   "cell_type": "markdown",
   "id": "996ee2b4",
   "metadata": {},
   "source": [
    "### 14.2.2 파이썬 코드로 이메일 보내기"
   ]
  },
  {
   "cell_type": "markdown",
   "id": "b9d5e9b0",
   "metadata": {},
   "source": [
    "[14장: 371페이지]"
   ]
  },
  {
   "cell_type": "code",
   "execution_count": null,
   "id": "23846a8d",
   "metadata": {},
   "outputs": [],
   "source": [
    "import smtplib\n",
    "from email.message import EmailMessage\n",
    " \n",
    "option = \"gmail\" # 구글 G메일 이용\n",
    "# option = \"nmail\" # 네이버 메일 이용\n",
    "\n",
    "if option==\"gmail\": # 구글 G메일의 SMTP 서버 이용    \n",
    "    smtp_server = \"smtp.gmail.com\" # 구글 G메일의 SMTP 서버 주소\n",
    "    port = 587 # TLS 암호화 프로토콜 사용하는 포트\n",
    "\n",
    "    email_address = \"본인_ID@gmail.com\" # 자신의 이메일 주소 입력\n",
    "    password = \"qazwsxedcrfvtgby\"       # 앱 비밀번호(16자리) 입력\n",
    "\n",
    "elif option==\"nmail\": # 네이버 메일의 SMTP 서버 이용\n",
    "    smtp_server = \"smtp.naver.com\" # 네이버 메일의 SMTP 서버 주소\n",
    "    port = 587 # TLS 암호화 프로토콜 사용하는 포트\n",
    "    \n",
    "    email_address = \"본인_ID@naver.com\" # 자신의 이메일 주소 입력\n",
    "    password = \"qwerty12345\"            # 자신의 네이버 로그인 비밀번호\n",
    "\n",
    "smtp = smtplib.SMTP(smtp_server, port) # SMTP 객체를 생성\n",
    "smtp.starttls()\n",
    "smtp.login(email_address, password) # SMTP 서버에 로그인\n",
    "\n",
    "# 이메일 제목, 수신자 이메일 주소, 본문의 내용을 지정\n",
    "subject = \"테스트 이메일 보내기\" # 이메일 제목\n",
    "from_address = email_address     # 송신자 이메일 주소 \n",
    "to_address = \"to@example.com\"    # 수신자 이메일 주소\n",
    "body = \"SMTP를 이용해 이메일을 보내는 테스트 본문입니다.\" # 본문\n",
    "\n",
    "msg = EmailMessage() # 이메일 메시지 객체 생성\n",
    "msg['Subject'] = subject # 이메일 제목\n",
    "msg['From'] = from_address   # 수신자 이메일 주소\n",
    "msg['To'] = to_address   # 수신자 이메일 주소\n",
    "msg.set_content(body)    # 이메일 본문\n",
    "\n",
    "smtp.send_message(msg) # 메시지 보내기\n",
    "smtp.quit() # SMTP 세션을 종료"
   ]
  },
  {
   "cell_type": "markdown",
   "id": "3f90ef4f",
   "metadata": {},
   "source": [
    "[14장: 372페이지]"
   ]
  },
  {
   "cell_type": "code",
   "execution_count": null,
   "id": "ea6b804d",
   "metadata": {},
   "outputs": [],
   "source": [
    "import smtplib\n",
    "\n",
    "# 이메일 전송을 위한 SMTP 서버에 로그인\n",
    "def smtp_setting_login(option=\"gmail\"):\n",
    "    \n",
    "    if option==\"gmail\": # 구글 G메일의 SMTP 서버 이용            \n",
    "        smtp_server = \"smtp.gmail.com\" # 구글 G메일의 SMTP 서버 주소\n",
    "        port = 587 # TLS 암호화 프로토콜 사용하는 포트\n",
    "\n",
    "        email_address = \"본인_ID@gmail.com\" # 자신의 이메일 주소 입력\n",
    "        password = \"qazwsxedcrfvtgby\"       # 앱 비밀번호(16자리) 입력\n",
    "\n",
    "    elif option==\"nmail\": # 네이버 메일의 SMTP 서버 이용        \n",
    "        smtp_server = \"smtp.naver.com\" # 네이버 메일의 SMTP 서버 주소\n",
    "        port = 587 # TLS 암호화 프로토콜 사용하는 포트\n",
    "\n",
    "        email_address = \"본인_ID@naver.com\" # 자신의 이메일 주소 입력\n",
    "        password = \"qwerty12345\"            # 자신의 네이버 로그인 비밀번호\n",
    "    \n",
    "    smtp = smtplib.SMTP(smtp_server, port) # SMTP 객체를 생성\n",
    "    smtp.starttls()\n",
    "    smtp.login(email_address, password) # SMTP 서버에 로그인  \n",
    "    \n",
    "    return smtp, email_address # SMTP 객체와 로그인 이메일 주소 반환"
   ]
  },
  {
   "cell_type": "markdown",
   "id": "b8032151",
   "metadata": {},
   "source": [
    "[14장: 373페이지]"
   ]
  },
  {
   "cell_type": "code",
   "execution_count": null,
   "id": "7c3898d5",
   "metadata": {},
   "outputs": [],
   "source": [
    "import smtplib\n",
    "from email.message import EmailMessage\n",
    "import json\n",
    "\n",
    "# 이름과 본문 내용으로 이메일을 보내는 함수    \n",
    "def send_email(to, body): # to: 수신자 이름, body: 이메일 본문\n",
    "    \n",
    "    # Chat Completions API가 수신자_이름@example.com 과 같이\n",
    "    # 생성하는 것에 대비해 수신자 이름만 추출\n",
    "    to = to.split('@')[0] \n",
    "\n",
    "    # 수신자 이름과 이메일 주소를 지정한 딕셔너리 변수\n",
    "    address_book = {\"박연진\":\"Park123@example.com\", \n",
    "                    \"전재준\":\"Jeon456@example.com\",\n",
    "                    \"이사라\":\"Lee789@example.com\",\n",
    "                    \"고교동창_최혜정\":\"Choi123@example.com\",\n",
    "                    \"손명오\":\"Son456@example.com\",\n",
    "                    \"주여정\":\"Joo789@example.com\"}\n",
    "       \n",
    "    # 이메일 전송을 위한 SMTP 서버에 로그인\n",
    "    smtp, email_address = smtp_setting_login(\"gmail\")   # 구글 G메일 이용\n",
    "    # smtp, email_address = smtp_setting_login(\"nmail\") # 네이버 메일 이용\n",
    "    \n",
    "    subject = \"OpenAI의 함수 호출로 보낸 이메일\" # 이메일 제목\n",
    "    from_address = email_address # 송신자 이메일 주소 \n",
    "    to_address = email_address   # 수신자 이메일 주소을 가져오기 전에 송신자 이메일 주소로 초기화\n",
    "\n",
    "    # address_book의 어떤 키가 to의 이름을 전체 혹은 부분적으로 포함하면 이메일 주소를 가져옴\n",
    "    for dict_key in address_book.keys(): # address_book의 모든 키에 대해 반복문을 수행\n",
    "        if to in dict_key:          # 해당 키가 to의 이름을 전체 혹은 부분적으로 포함하면\n",
    "            to_address = address_book.get(dict_key) # 해당 키로 이메일 주소를 얻음\n",
    "            break  # 이메일 주소를 얻었으므로, 반복문을 빠져나옴\n",
    "\n",
    "    msg = EmailMessage()        # 이메일 메시지 객체 생성\n",
    "    msg['Subject'] = subject    # 이메일 제목 지정\n",
    "    msg['From'] = from_address  # 송신자 이메일 주소 \n",
    "    msg['To'] = to_address      # 수신자 이메일 주소 \n",
    "    msg.set_content(body)       # 이메일 본문\n",
    "\n",
    "    smtp.send_message(msg) # 메시지 보내기\n",
    "    smtp.quit() # SMTP 세션을 종료\n",
    "    \n",
    "    send_mail = {\n",
    "        \"from\": \"문동은\",\n",
    "        \"to\": to,\n",
    "        \"body\": body\n",
    "    }\n",
    "    \n",
    "    return json.dumps(send_mail, ensure_ascii=False) # JSON 형식으로 반환"
   ]
  },
  {
   "cell_type": "markdown",
   "id": "eb788cb0",
   "metadata": {},
   "source": [
    "[14장: 375페이지]"
   ]
  },
  {
   "cell_type": "code",
   "execution_count": null,
   "id": "e12dedb7",
   "metadata": {},
   "outputs": [],
   "source": [
    "send_email(\"박연진\", \"내일 10시에 거기서 만나.\")"
   ]
  },
  {
   "cell_type": "markdown",
   "id": "ea87582c",
   "metadata": {},
   "source": [
    "### 14.2.3 OpenAI의 함수 호출로 이메일 보내기"
   ]
  },
  {
   "cell_type": "markdown",
   "id": "932641ae",
   "metadata": {},
   "source": [
    "[14장: 376페이지]"
   ]
  },
  {
   "cell_type": "code",
   "execution_count": null,
   "id": "6a382915",
   "metadata": {},
   "outputs": [],
   "source": [
    "import openai\n",
    "import os\n",
    "\n",
    "# API 키 설정\n",
    "openai.api_key = os.environ[\"OPENAI_API_KEY\"]\n",
    "\n",
    "# Chat Completions API를 이용해 사용자 입력에 따라 함수를 호출하고 응답하는 함수\n",
    "def run_conversation_for_email(user_query):\n",
    "    # 사용자 입력\n",
    "    messages = [{\"role\": \"user\", \"content\": user_query}] \n",
    "        \n",
    "    # 함수 정보 입력   \n",
    "    functions = [                                        \n",
    "        {\n",
    "            \"name\": \"send_email\",\n",
    "            \"description\": \"이름과 본문을 지정해 이메일 보내기, ~에게 이메일 보내기\",\n",
    "            \"parameters\": {\n",
    "                \"type\": \"object\",\n",
    "                \"properties\": {\n",
    "                    \"to\": {\n",
    "                        \"type\": \"string\",\n",
    "                        \"description\": \"사람 이름, 친구 이름, 받는 사람 이름\",\n",
    "                    },\n",
    "                    \"body\": {\n",
    "                        \"type\": \"string\",\n",
    "                        \"description\": \"이메일 본문\",\n",
    "                    },\n",
    "                },\n",
    "                \"required\": [\"to\", \"body\"], # 필수 입력 변수 지정\n",
    "            }\n",
    "        }        \n",
    "    ]\n",
    "    # 1단계: 사용자 입력과 함수 정보를 Chat Completions API 모델로 보내기    \n",
    "    response = openai.ChatCompletion.create( # Chat Completions API 모델로 보내기\n",
    "            # model=\"gpt-3.5-turbo\", # gpt-3.5-turbo 모델\n",
    "            model=\"gpt-4\",           # gpt-4 모델\n",
    "            messages=messages,\n",
    "            functions=functions,\n",
    "            function_call=\"auto\"\n",
    "    )\n",
    "    # 2단계: 응답 생성\n",
    "    response_message = response[\"choices\"][0][\"message\"] # 모델의 응답 메시지\n",
    "    \n",
    "    if response_message.get(\"function_call\"): # 응답이 함수 호출인지 확인하기\n",
    "        # 3단계: JSON 객체를 분석해 함수 이름과 인수를 추출한 후에 함수 호출\n",
    "        # (주의: JSON 응답이 항상 유효하지 않을 수 있음)\n",
    "        \n",
    "        # 호출할 함수 이름을 지정 \n",
    "        # (아래는 하나의 함수를 지정했지만 여러 함수 지정 가능)\n",
    "        available_functions = {\"send_email\": send_email}     \n",
    "\n",
    "        # 함수 이름 추출\n",
    "        function_name = response_message[\"function_call\"][\"name\"]\n",
    "        \n",
    "        # 호출할 함수 선택\n",
    "        fuction_to_call = available_functions[function_name]\n",
    "        \n",
    "        # 함수 호출을 위한 인수 추출\n",
    "        function_args = json.loads(response_message[\"function_call\"][\"arguments\"])\n",
    "        \n",
    "        # 함수 호출 및 반환 결과 받기\n",
    "        function_response = fuction_to_call(\n",
    "            to=function_args.get(\"to\"), # 인수 지정\n",
    "            body=function_args.get(\"body\")\n",
    "        )\n",
    "        \n",
    "        print(\"[호출한 함수의 응답 결과]\\n\", function_response)\n",
    "        \n",
    "        # 4단계: 함수 호출 결과를 기존 메시지에 추가하고,\n",
    "        #        Chat Completions API 모델로 보내 응답받기\n",
    "\n",
    "        # 함수 호출 결과를 기존 메시지에 추가하기\n",
    "        messages.append(response_message)  # 기존 messages에 조력자 응답 추가\n",
    "        messages.append(                   # 함수와 함수 호출 결과 추가\n",
    "            {\n",
    "                \"role\": \"function\",           # roll: function으로 지정\n",
    "                \"name\": function_name,        # name: 호출할 함수 이름 지정\n",
    "                \"content\": function_response, # content: 함수 호출 결과 지정\n",
    "            }\n",
    "        )\n",
    "        # 함수 호출 결과를 추가한 메시지를 Chat Completions API 모델로 보내 응답받기\n",
    "        second_response = openai.ChatCompletion.create(\n",
    "            # model=\"gpt-3.5-turbo\",  # gpt-3.5-turbo 모델\n",
    "            model=\"gpt-4\",            # gpt-4 모델\n",
    "            messages=messages,\n",
    "        ) \n",
    "        return second_response # 두 번째 응답 반환\n",
    "    \n",
    "    return response_message # 응답 메시지 반환"
   ]
  },
  {
   "cell_type": "markdown",
   "id": "169f229f",
   "metadata": {},
   "source": [
    "[14장: 378페이지]"
   ]
  },
  {
   "cell_type": "code",
   "execution_count": null,
   "id": "53f4d34c",
   "metadata": {},
   "outputs": [],
   "source": [
    "user_query = \"박연진에게 내일 10시에 만나자고 이메일 보내줘\"\n",
    "response = run_conversation_for_email(user_query)\n",
    "\n",
    "try: # 함수 호출을 정상적으로 수행한 경우\n",
    "    response_content = response[\"choices\"][0][\"message\"][\"content\"]\n",
    "    print(\"[최종 응답 결과]\\n\", response_content)\n",
    "except: # 함수 호출을 하지 못한 경우\n",
    "    print(\"함수 호출을 하지 못했습니다.\")\n",
    "    print(\"[응답 내용]\", response['content'])"
   ]
  },
  {
   "cell_type": "markdown",
   "id": "bf709141",
   "metadata": {},
   "source": [
    "[14장: 379페이지]"
   ]
  },
  {
   "cell_type": "code",
   "execution_count": null,
   "id": "0fb27f5e",
   "metadata": {},
   "outputs": [],
   "source": [
    "user_query = \"전재준에게 약속 장소 알려달라는 이메일 보내줘\"\n",
    "response = run_conversation_for_email(user_query)\n",
    "\n",
    "try:\n",
    "    response_content = response[\"choices\"][0][\"message\"][\"content\"]\n",
    "    print(\"[최종 응답 결과]\\n\", response_content)\n",
    "except:\n",
    "    print(\"함수 호출을 하지 못했습니다.\")\n",
    "    print(\"[응답 내용]\", response['content'])"
   ]
  },
  {
   "cell_type": "markdown",
   "id": "4c5199a0",
   "metadata": {},
   "source": [
    "[14장: 380페이지]"
   ]
  },
  {
   "cell_type": "code",
   "execution_count": null,
   "id": "0f63642c",
   "metadata": {},
   "outputs": [],
   "source": [
    "user_query = \"이사라에게 이메일 보내줘\"\n",
    "response = run_conversation_for_email(user_query)\n",
    "\n",
    "try:\n",
    "    response_content = response[\"choices\"][0][\"message\"][\"content\"]\n",
    "    print(\"[최종 응답 결과]\\n\", response_content)\n",
    "except:\n",
    "    print(\"함수 호출을 하지 못했습니다.\")\n",
    "    print(\"[응답 내용]\", response['content'])"
   ]
  },
  {
   "cell_type": "code",
   "execution_count": null,
   "id": "dc3f7766",
   "metadata": {},
   "outputs": [],
   "source": [
    "user_query = \"내일 오후 1시에 만나자고 이메일 보내줘\"\n",
    "response = run_conversation_for_email(user_query)\n",
    "\n",
    "try:\n",
    "    response_content = response[\"choices\"][0][\"message\"][\"content\"]\n",
    "    print(\"[최종 응답 결과]\\n\", response_content)\n",
    "except:\n",
    "    print(\"함수 호출을 하지 못했습니다.\")\n",
    "    print(\"[응답 내용]\", response['content'])"
   ]
  },
  {
   "cell_type": "markdown",
   "id": "e64e77f9",
   "metadata": {},
   "source": [
    "[14장: 381페이지]"
   ]
  },
  {
   "cell_type": "code",
   "execution_count": null,
   "id": "33501e60",
   "metadata": {},
   "outputs": [],
   "source": [
    "user_query = \"최혜정에게 내일 오후 1시에 만나자고 이메일 보내줘\"\n",
    "response = run_conversation_for_email(user_query)\n",
    "\n",
    "try:\n",
    "    response_content = response[\"choices\"][0][\"message\"][\"content\"]\n",
    "    print(\"[최종 응답 결과]\\n\", response_content)\n",
    "except:\n",
    "    print(\"함수 호출을 하지 못했습니다.\")\n",
    "    print(\"[응답 내용]\", response['content'])"
   ]
  },
  {
   "cell_type": "code",
   "execution_count": null,
   "id": "3e76725c",
   "metadata": {},
   "outputs": [],
   "source": [
    "user_query = \"'고교동창_최혜정'에게 내일 오후 1시에 만나자고 이메일 보내줘\"\n",
    "response = run_conversation_for_email(user_query)\n",
    "\n",
    "try:\n",
    "    response_content = response[\"choices\"][0][\"message\"][\"content\"]\n",
    "    print(\"[최종 응답 결과]\\n\", response_content)\n",
    "except:\n",
    "    print(\"함수 호출을 하지 못했습니다.\")\n",
    "    print(\"[응답 내용]\", response['content'])"
   ]
  },
  {
   "cell_type": "markdown",
   "id": "48878ed4",
   "metadata": {},
   "source": [
    "[14장: 382페이지]"
   ]
  },
  {
   "cell_type": "code",
   "execution_count": null,
   "id": "aafd4599",
   "metadata": {},
   "outputs": [],
   "source": [
    "user_query = \"손명호님에게 그간 작성한 신규 사업에 대한 보고서의 진행 상황을 문의하는 이메일 보내줘\"\n",
    "response = run_conversation_for_email(user_query)\n",
    "\n",
    "try:\n",
    "    response_content = response[\"choices\"][0][\"message\"][\"content\"]\n",
    "    print(\"[최종 응답 결과]\\n\", response_content)\n",
    "except:\n",
    "    print(\"함수 호출을 하지 못했습니다.\")\n",
    "    print(\"[응답 내용]\", response['content'])"
   ]
  },
  {
   "cell_type": "markdown",
   "id": "a486bd75",
   "metadata": {},
   "source": [
    "[14장: 383페이지]"
   ]
  },
  {
   "cell_type": "code",
   "execution_count": null,
   "id": "e1964f04",
   "metadata": {
    "scrolled": true
   },
   "outputs": [],
   "source": [
    "user_query = \"주여정에게 '여정아.\\n\\n 지난번에 이야기했던 계획 바로 진행시켜.'라고 이메일 보내줘\"\n",
    "response = run_conversation_for_email(user_query)\n",
    "response_content = response[\"choices\"][0][\"message\"][\"content\"]\n",
    "\n",
    "print(\"[최종 응답 결과]\\n\", response_content)"
   ]
  },
  {
   "cell_type": "markdown",
   "id": "ca1f6fa4",
   "metadata": {},
   "source": [
    "## 14.3 정리"
   ]
  }
 ],
 "metadata": {
  "kernelspec": {
   "display_name": "Python 3 (ipykernel)",
   "language": "python",
   "name": "python3"
  },
  "language_info": {
   "codemirror_mode": {
    "name": "ipython",
    "version": 3
   },
   "file_extension": ".py",
   "mimetype": "text/x-python",
   "name": "python",
   "nbconvert_exporter": "python",
   "pygments_lexer": "ipython3",
   "version": "3.11.3"
  },
  "toc": {
   "base_numbering": "14",
   "nav_menu": {},
   "number_sections": false,
   "sideBar": true,
   "skip_h1_title": false,
   "title_cell": "Table of Contents",
   "title_sidebar": "Contents",
   "toc_cell": false,
   "toc_position": {
    "height": "calc(100% - 180px)",
    "left": "10px",
    "top": "150px",
    "width": "338.767px"
   },
   "toc_section_display": true,
   "toc_window_display": false
  }
 },
 "nbformat": 4,
 "nbformat_minor": 5
}
