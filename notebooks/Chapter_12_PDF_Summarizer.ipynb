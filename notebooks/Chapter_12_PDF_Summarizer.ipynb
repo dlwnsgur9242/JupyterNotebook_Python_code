{
 "cells": [
  {
   "cell_type": "markdown",
   "id": "395a6e92",
   "metadata": {},
   "source": [
    "# 12장 인공지능 PDF 문서 요약기"
   ]
  },
  {
   "cell_type": "markdown",
   "id": "9d75fd5d",
   "metadata": {},
   "source": [
    "## 12.1 PDF 문서 읽기"
   ]
  },
  {
   "cell_type": "markdown",
   "id": "dd651395",
   "metadata": {},
   "source": [
    "[12장: 317페이지]"
   ]
  },
  {
   "cell_type": "code",
   "execution_count": null,
   "id": "f6bfa22b",
   "metadata": {
    "scrolled": true
   },
   "outputs": [],
   "source": [
    "from PyPDF2 import PdfReader\n",
    "\n",
    "pdf_file = 'C:/myPyAI/data/2102.12092v1.pdf' # PDF 파일 경로\n",
    "reader = PdfReader(pdf_file) # PDF 문서 읽기\n",
    "meta = reader.metadata   # PDF 문서의 메타데이터 가져옴(문서 제목, 저자 등)\n",
    "page = reader.pages[0]   # 첫 페이지 내용 가져옴 \n",
    "page_text = page.extract_text() # 페이지의 텍스트 추출 \n",
    "\n",
    "print(\"- 문서 제목:\", meta.title)\n",
    "print(\"- 문서 저자:\", meta.author)\n",
    "print(\"- 첫 페이지 내용 일부:\\n\",  page_text[:300])"
   ]
  },
  {
   "cell_type": "markdown",
   "id": "e16e2485",
   "metadata": {},
   "source": [
    "## 12.2 PDF 문서 요약하기"
   ]
  },
  {
   "cell_type": "markdown",
   "id": "b3445090",
   "metadata": {},
   "source": [
    "[12장: 318페이지]"
   ]
  },
  {
   "cell_type": "code",
   "execution_count": null,
   "id": "0d72577f",
   "metadata": {},
   "outputs": [],
   "source": [
    "from PyPDF2 import PdfReader\n",
    "import tiktoken\n",
    "\n",
    "pdf_file = 'C:/myPyAI/data/President_Obamas_Farewell_Address_영어_원본.pdf' # PDF 파일 경로\n",
    "reader = PdfReader(pdf_file) # PDF 문서 읽기\n",
    "\n",
    "enc = tiktoken.encoding_for_model(\"gpt-3.5-turbo\")\n",
    "\n",
    "page_token_nums = []\n",
    "for page in reader.pages:\n",
    "    page_text = page.extract_text() # 페이지의 텍스트 추출\n",
    "    token_num = len(enc.encode(page_text)) # 페이지마다 토큰 개수 구하기\n",
    "    page_token_nums.append(token_num)\n",
    "\n",
    "print(\"- 각 페이지의 토큰 수:\", page_token_nums)\n",
    "print(\"- 전체 페이지에서 최대 토큰 수:\", max(page_token_nums))\n",
    "print(\"- 전체 페이지의 토큰 수 합계:\", sum(page_token_nums))"
   ]
  },
  {
   "cell_type": "markdown",
   "id": "73ce2316",
   "metadata": {},
   "source": [
    "[12장: 319페이지]"
   ]
  },
  {
   "cell_type": "code",
   "execution_count": null,
   "id": "1b46a615",
   "metadata": {},
   "outputs": [],
   "source": [
    "import openai\n",
    "import os\n",
    "\n",
    "# OpenAI 라이브러리를 이용해 텍스트를 요약하는 함수\n",
    "def summarize_text(user_text, lang=\"en\"): # lang 인자에 영어를 기본적으로 지정\n",
    "    # API 키 설정\n",
    "    openai.api_key = os.environ[\"OPENAI_API_KEY\"]\n",
    "\n",
    "    # 대화 메시지 정의\n",
    "    if lang == \"en\":\n",
    "        messages = [ \n",
    "            {\"role\": \"system\", \"content\": \"You are a helpful assistant in the summary.\"},\n",
    "            {\"role\": \"user\", \"content\": f\"Summarize the following. \\n {user_text}\"}\n",
    "        ]\n",
    "    elif lang == \"ko\":\n",
    "        messages = [ \n",
    "            {\"role\": \"system\", \"content\": \"You are a helpful assistant in the summary.\"},\n",
    "            {\"role\": \"user\", \"content\": f\"다음의 내용을 한국어로 요약해 주세요 \\n {user_text}\"}\n",
    "#             {\"role\": \"user\", \"content\": f\"Summarize the following in Korea. \\n {user_text}\"}\n",
    "        ]\n",
    "        \n",
    "    # Chat Completions API 호출\n",
    "    response = openai.ChatCompletion.create(\n",
    "                            model=\"gpt-3.5-turbo\", # 사용할 모델 선택 \n",
    "                            messages=messages, # 전달할 메시지 지정\n",
    "                            max_tokens=2000,  # 응답 최대 토큰 수 지정 \n",
    "                            temperature=0.3,  # 완성의 다양성을 조절하는 온도 설정\n",
    "                            n=1              # 생성할 완성의 개수 지정\n",
    "    )     \n",
    "    summary = response[\"choices\"][0][\"message\"][\"content\"]\n",
    "    return summary"
   ]
  },
  {
   "cell_type": "markdown",
   "id": "422cc300",
   "metadata": {},
   "source": [
    "[12장: 320페이지]"
   ]
  },
  {
   "cell_type": "code",
   "execution_count": null,
   "id": "028ba71f",
   "metadata": {
    "scrolled": true
   },
   "outputs": [],
   "source": [
    "from PyPDF2 import PdfReader\n",
    "import textwrap\n",
    "\n",
    "pdf_file = 'C:/myPyAI/data/President_Obamas_Farewell_Address_영어_원본.pdf' # PDF 파일 경로\n",
    "reader = PdfReader(pdf_file) # PDF 문서 읽기\n",
    "page = reader.pages[0]      # 첫 페이지 내용 가져옴 \n",
    "page_text = page.extract_text() # 페이지의 텍스트 추출 \n",
    "\n",
    "summary = summarize_text(page_text) # 첫 페이지 요약 (영어)\n",
    "\n",
    "# 텍스트 축약\n",
    "shorten_summary = textwrap.shorten(summary, 250, placeholder=' [..이하 생략..]')\n",
    "\n",
    "print(\"[페이지 요약(축약)]\\n\", shorten_summary) # 요약 내용 출력(축약)\n",
    "# print(\"[페이지 요약]\\n\", summary) # 요약 내용 출력"
   ]
  },
  {
   "cell_type": "code",
   "execution_count": null,
   "id": "73215e38",
   "metadata": {},
   "outputs": [],
   "source": [
    "summary = summarize_text(page_text, \"ko\") # 첫 페이지 요약 (한국어)\n",
    "\n",
    "# 텍스트 축약\n",
    "shorten_summary = textwrap.shorten(summary, 250, placeholder=' [..이하 생략..]')\n",
    "\n",
    "print(\"[페이지 요약(축약)]\\n\", shorten_summary) # 요약 내용 출력(축약)\n",
    "# print(\"[페이지 요약]\\n\", summary) # 요약 내용 출력"
   ]
  },
  {
   "cell_type": "markdown",
   "id": "bda90a0f",
   "metadata": {},
   "source": [
    "[12장: 321페이지]"
   ]
  },
  {
   "cell_type": "code",
   "execution_count": null,
   "id": "bce6e944",
   "metadata": {},
   "outputs": [],
   "source": [
    "import openai\n",
    "from PyPDF2 import PdfReader\n",
    "import tiktoken\n",
    "import os\n",
    "\n",
    "pdf_file = 'C:/myPyAI/data/President_Obamas_Farewell_Address_영어_원본.pdf' # PDF 파일 경로\n",
    "\n",
    "reader = PdfReader(pdf_file) # PDF 문서 읽기\n",
    "\n",
    "text_summaries = []\n",
    "\n",
    "for page in reader.pages:\n",
    "    page_text = page.extract_text() # 페이지의 텍스트 추출\n",
    "    text_summary = summarize_text(page_text)\n",
    "    text_summaries.append(text_summary)\n",
    "\n",
    "print(\"- 요약 개수:\", len(text_summaries))\n",
    "# print(\"- 페이지별 요약문:\", text_summaries)"
   ]
  },
  {
   "cell_type": "markdown",
   "id": "63b893a1",
   "metadata": {},
   "source": [
    "[12장: 322페이지]"
   ]
  },
  {
   "cell_type": "code",
   "execution_count": null,
   "id": "f128732f",
   "metadata": {},
   "outputs": [],
   "source": [
    "import textwrap\n",
    "import tiktoken\n",
    "\n",
    "# 요약 리스트를 최종적으로 요약하는 함수\n",
    "def summarize_text_final(text_list, lang = 'en'):\n",
    "    # 리스트를 연결해 하나의 요약 문자열로 통합\n",
    "    joined_summary = \" \".join(text_list) \n",
    "\n",
    "    enc = tiktoken.encoding_for_model(\"gpt-3.5-turbo\")\n",
    "    token_num = len(enc.encode(joined_summary)) # 텍스트 문자열의 토큰 개수 구하기\n",
    "\n",
    "    req_max_token = 2000 # 응답을 고려해 설정한 최대 요청 토큰    \n",
    "    final_summary = \"\" # 빈 문자열로 초기화\n",
    "    if token_num < req_max_token: # 설정한 토큰보다 작을 때만 실행 가능\n",
    "        # 하나로 통합한 요약문을 다시 요약\n",
    "        final_summary = summarize_text(joined_summary, lang)\n",
    "        \n",
    "    return token_num, final_summary"
   ]
  },
  {
   "cell_type": "code",
   "execution_count": null,
   "id": "a10b0700",
   "metadata": {},
   "outputs": [],
   "source": [
    "lang = 'en' # 영어로 요약\n",
    "token_num, final_summary = summarize_text_final(text_summaries, lang)\n",
    "\n",
    "if final_summary != \"\":\n",
    "    shorten_final_summary = textwrap.shorten(final_summary, \n",
    "                                             250, \n",
    "                                             placeholder=' [..이하 생략..]')\n",
    "    print(\"- 통합한 페이지 요약의 토큰 수:\", token_num)\n",
    "    print(\"- 최종 요약(축약)\\n\", shorten_final_summary) # 최종 요약문 출력(축약)"
   ]
  },
  {
   "cell_type": "markdown",
   "id": "ef033f98",
   "metadata": {},
   "source": [
    "[12장: 323페이지]"
   ]
  },
  {
   "cell_type": "code",
   "execution_count": null,
   "id": "72afa5f7",
   "metadata": {},
   "outputs": [],
   "source": [
    "lang = 'ko' # 한국어로 요약\n",
    "token_num, final_summary_ko = summarize_text_final(text_summaries, lang)\n",
    "\n",
    "if final_summary_ko != \"\":\n",
    "    shorten_final_summary_ko = textwrap.shorten(final_summary_ko, \n",
    "                                                250, \n",
    "                                                placeholder=' [..이하 생략..]')\n",
    "    print(\"- 통합한 페이지 요약의 토큰 수:\", token_num)\n",
    "    print(\"- 최종 요약(축약)\\n\", shorten_final_summary_ko) # 최종 요약문 출력(축약)"
   ]
  },
  {
   "cell_type": "markdown",
   "id": "692eaff3",
   "metadata": {},
   "source": [
    "## 12.3 요약한 내용 번역하기"
   ]
  },
  {
   "cell_type": "markdown",
   "id": "c80da547",
   "metadata": {},
   "source": [
    "[12장: 324페이지]"
   ]
  },
  {
   "cell_type": "code",
   "execution_count": null,
   "id": "60bd4042",
   "metadata": {},
   "outputs": [],
   "source": [
    "import openai\n",
    "import os\n",
    "\n",
    "# OpenAI 라이브러리를 이용해 영어를 한국어로 번역하는 함수\n",
    "def traslate_english_to_korean_using_openAI(text):    \n",
    "    # API 키 설정\n",
    "    openai.api_key = os.environ[\"OPENAI_API_KEY\"]\n",
    "\n",
    "    # 대화 메시지 정의\n",
    "    user_content = f\"Translate the following English sentences into Korean.\\n {text}\"\n",
    "    messages = [ {\"role\": \"user\", \"content\": user_content} ]\n",
    "    \n",
    "    # Chat Completions API 호출\n",
    "    response = openai.ChatCompletion.create(\n",
    "                            model=\"gpt-3.5-turbo\", # 사용할 모델 선택 \n",
    "                            messages=messages,     # 전달할 메시지 지정\n",
    "                            max_tokens=2000,       # 응답 최대 토큰 수 지정 \n",
    "                            temperature=0.3,       # 완성의 다양성을 조절하는 온도 설정\n",
    "                            n=1                    # 생성할 완성의 개수 지정\n",
    "    )\n",
    "\n",
    "    assistant_reply = response.choices[0].message['content'] # 첫 번째 응답 결과 가져오기\n",
    "    \n",
    "    return assistant_reply"
   ]
  },
  {
   "cell_type": "code",
   "execution_count": null,
   "id": "b3f17ed9",
   "metadata": {},
   "outputs": [],
   "source": [
    "e_text = final_summary\n",
    "k_text = traslate_english_to_korean_using_openAI(e_text) # 영어를 한국어로 번역\n",
    "\n",
    "# 텍스트 축약\n",
    "shorten_k_text = textwrap.shorten(k_text, 200, placeholder=' [..이하 생략..]')\n",
    "\n",
    "print(\"[요약 내용 한글 번역(OpenAI 이용)]\\n\", shorten_k_text) # 번역 내용 출력(축약)"
   ]
  },
  {
   "cell_type": "markdown",
   "id": "4b8742b1",
   "metadata": {},
   "source": [
    "[12장: 325페이지]"
   ]
  },
  {
   "cell_type": "code",
   "execution_count": null,
   "id": "bf7a9669",
   "metadata": {},
   "outputs": [],
   "source": [
    "import deepl # deepl 라이브러리를 임포트\n",
    "import os\n",
    "\n",
    "# DeepL 라이브러리를 이용해 텍스트를 한국어로 번역하는 함수\n",
    "def traslate_english_to_korean_using_deepL(text):   \n",
    "    auth_key = os.environ[\"DEEPL_AUTH_KEY\"] # DeepL 인증 키\n",
    "    translator = deepl.Translator(auth_key) # translator 객체를 생성\n",
    "\n",
    "    # 번역 결과 객체를 result 변수에 할당\n",
    "    result = translator.translate_text(text, target_lang=\"KO\") \n",
    "    \n",
    "    return result.text"
   ]
  },
  {
   "cell_type": "code",
   "execution_count": null,
   "id": "e3d77911",
   "metadata": {},
   "outputs": [],
   "source": [
    "e_text = final_summary\n",
    "k_text = traslate_english_to_korean_using_deepL(e_text) # 영어를 한국어로 번역\n",
    "\n",
    "# 텍스트 축약\n",
    "shorten_k_text = textwrap.shorten(k_text, 200, placeholder=' [..이하 생략..]')\n",
    "\n",
    "print(\"[요약 내용 한글 번역(DeepL 이용)]\\n\", shorten_k_text) # 번역 내용 출력(축약)"
   ]
  },
  {
   "cell_type": "markdown",
   "id": "db4c32fd",
   "metadata": {},
   "source": [
    "[12장: 326페이지]"
   ]
  },
  {
   "cell_type": "code",
   "execution_count": null,
   "id": "fbe3f3a3",
   "metadata": {},
   "outputs": [],
   "source": [
    "%%writefile C:\\myPyAI\\code\\my_text_sum.py\n",
    "# 텍스트 요약을 위한 모듈\n",
    "\n",
    "import openai\n",
    "import os\n",
    "import deepl\n",
    "import tiktoken\n",
    "\n",
    "# OpenAI 라이브러리를 이용해 텍스트를 요약하는 함수\n",
    "def summarize_text(user_text, lang=\"en\"): # lang 인자에 영어를 기본적으로 지정\n",
    "    # API 키 설정\n",
    "    openai.api_key = os.environ[\"OPENAI_API_KEY\"]\n",
    "\n",
    "    # 대화 메시지 정의\n",
    "    if lang == \"en\":\n",
    "        messages = [ \n",
    "            {\"role\": \"system\", \"content\": \"You are a helpful assistant in the summary.\"},\n",
    "            {\"role\": \"user\", \"content\": f\"Summarize the following. \\n {user_text}\"}\n",
    "        ]\n",
    "    elif lang == \"ko\":\n",
    "        messages = [ \n",
    "            {\"role\": \"system\", \"content\": \"You are a helpful assistant in the summary.\"},\n",
    "            {\"role\": \"user\", \"content\": f\"다음의 내용을 한국어로 요약해 주세요 \\n {user_text}\"}\n",
    "#             {\"role\": \"user\", \"content\": f\"Summarize the following in Korea. \\n {user_text}\"}\n",
    "        ]\n",
    "        \n",
    "    # Chat Completions API 호출\n",
    "    response = openai.ChatCompletion.create(\n",
    "                            model=\"gpt-3.5-turbo\", # 사용할 모델 선택 \n",
    "                            messages=messages, # 전달할 메시지 지정\n",
    "                            max_tokens=2000,  # 응답 최대 토큰 수 지정 \n",
    "                            temperature=0.3,  # 완성의 다양성을 조절하는 온도 설정\n",
    "                            n=1              # 생성할 완성의 개수 지정\n",
    "    )     \n",
    "    summary = response[\"choices\"][0][\"message\"][\"content\"]\n",
    "    return summary\n",
    "\n",
    "# 요약 리스트를 최종적으로 요약하는 함수\n",
    "def summarize_text_final(text_list, lang = 'en'):\n",
    "    # 리스트를 연결해 하나의 요약 문자열로 통합\n",
    "    joined_summary = \" \".join(text_list) \n",
    "\n",
    "    enc = tiktoken.encoding_for_model(\"gpt-3.5-turbo\")\n",
    "    token_num = len(enc.encode(joined_summary)) # 텍스트 문자열의 토큰 개수 구하기\n",
    "\n",
    "    req_max_token = 2000 # 응답을 고려해 설정한 최대 요청 토큰    \n",
    "    final_summary = \"\" # 빈 문자열로 초기화\n",
    "    if token_num < req_max_token: # 설정한 토큰보다 작을 때만 실행 가능\n",
    "        # 하나로 통합한 요약문을 다시 요약\n",
    "        final_summary = summarize_text(joined_summary, lang)\n",
    "        \n",
    "    return token_num, final_summary\n",
    "\n",
    "# OpenAI 라이브러리를 이용해 영어를 한국어로 번역하는 함수\n",
    "def traslate_english_to_korean_using_openAI(text):    \n",
    "    # API 키 설정\n",
    "    openai.api_key = os.environ[\"OPENAI_API_KEY\"]\n",
    "\n",
    "    # 대화 메시지 정의\n",
    "    user_content = f\"Translate the following English sentences into Korean.\\n {text}\"\n",
    "    messages = [ {\"role\": \"user\", \"content\": user_content} ]\n",
    "    \n",
    "    # Chat Completions API 호출\n",
    "    response = openai.ChatCompletion.create(\n",
    "                            model=\"gpt-3.5-turbo\", # 사용할 모델 선택 \n",
    "                            messages=messages, # 전달할 메시지 지정\n",
    "                            max_tokens=2000,  # 응답 최대 토큰 수 지정 \n",
    "                            temperature=0.3,  # 완성의 다양성을 조절하는 온도 설정\n",
    "                            n=1               # 생성할 완성의 개수 지정\n",
    "    )\n",
    "\n",
    "    assistant_reply = response.choices[0].message['content'] # 첫 번째 응답 결과 가져오기\n",
    "    \n",
    "    return assistant_reply\n",
    "\n",
    "# DeepL 라이브러리를 이용해 텍스트를 한국어로 번역하는 함수\n",
    "def traslate_english_to_korean_using_deepL(text):   \n",
    "    auth_key = os.environ[\"DEEPL_AUTH_KEY\"] # Deepl 인증 키\n",
    "    translator = deepl.Translator(auth_key) # translator 객체를 생성\n",
    "\n",
    "    result = translator.translate_text(text, target_lang=\"KO\") # 번역 결과 객체를 result 변수에 할당\n",
    "    \n",
    "    return result.text"
   ]
  },
  {
   "cell_type": "markdown",
   "id": "0d527781",
   "metadata": {},
   "source": [
    "## 12.4 PDF 문서를 요약하는 웹 앱"
   ]
  },
  {
   "cell_type": "markdown",
   "id": "4a1aadd0",
   "metadata": {},
   "source": [
    "[12장: 328페이지]"
   ]
  },
  {
   "cell_type": "code",
   "execution_count": null,
   "id": "5fc29b90",
   "metadata": {},
   "outputs": [],
   "source": [
    "%%writefile C:\\myPyAI\\code\\st\\pdf_summary_app.py\n",
    "# PDF 문서를 요약하는 웹 앱\n",
    "\n",
    "import my_text_sum # 텍스트를 요약하기 위한 모듈\n",
    "import streamlit as st\n",
    "import openai\n",
    "import os\n",
    "from PyPDF2 import PdfReader\n",
    "import tiktoken\n",
    "import textwrap\n",
    "\n",
    "# PDF 파일을 요약하는 함수\n",
    "def summarize_PDF_file(pdf_file, lang, trans_checked):\n",
    "    if (pdf_file is not None):\n",
    "        st.write(\"PDF 문서를 요약 중입니다. 잠시만 기다려 주세요.\") \n",
    "        reader = PdfReader(pdf_file) # PDF 문서 읽기\n",
    "\n",
    "        text_summaries = []\n",
    "        \n",
    "        for page in reader.pages:\n",
    "            page_text = page.extract_text() # 페이지의 텍스트 추출\n",
    "            text_summary = my_text_sum.summarize_text(page_text, lang)\n",
    "            text_summaries.append(text_summary)\n",
    "            \n",
    "        token_num, final_summary = my_text_sum.summarize_text_final(text_summaries, lang)\n",
    "        \n",
    "        if final_summary != \"\":\n",
    "            shorten_final_summary = textwrap.shorten(final_summary, \n",
    "                                                     250, \n",
    "                                                     placeholder=' [..이하 생략..]')\n",
    "\n",
    "            st.write(\"- 최종 요약(축약):\", shorten_final_summary) # 최종 요약문 출력 (축약)\n",
    "            #st.write(\"- 최종 요약:\", shorten_final_summary) # 최종 요약문 출력\n",
    "\n",
    "            if trans_checked:\n",
    "                trans_result = my_text_sum.traslate_english_to_korean_using_openAI(final_summary)\n",
    "                shorten_trans_result = textwrap.shorten(trans_result, \n",
    "                                                        200, \n",
    "                                                        placeholder=' [..이하 생략..]')\n",
    "                st.write(\"- 한국어 요약(축약):\", shorten_trans_result) # 한국어 번역문 출력 (축약)\n",
    "                #st.write(\"- 한국어 요약:\", trans_result) # 한국어 번역문 출력\n",
    "        else:\n",
    "            st.write(\"- 통합한 요약문의 토큰 수가 커서 요약할 수 없습니다.\")\n",
    "\n",
    "# ------------- 메인 화면 구성 --------------------------  \n",
    "st.title(\"PDF 문서를 요약하는 웹 앱\")\n",
    "\n",
    "uploaded_file = st.file_uploader(\"PDF 파일을 업로드하세요.\", type='pdf')\n",
    "\n",
    "radio_selected_lang = st.radio('PDF 문서 언어', ['한국어', '영어'], index=1, horizontal=True)\n",
    "\n",
    "if radio_selected_lang == '영어':\n",
    "    lang_code = 'en' \n",
    "    checked = st.checkbox('한국어 번역 추가') # 체크박스 생성\n",
    "else:\n",
    "    lang_code = 'ko' \n",
    "    checked = False # 체크박스 불필요\n",
    "    \n",
    "clicked = st.button('PDF 문서 요약')\n",
    "\n",
    "if clicked:\n",
    "    summarize_PDF_file(uploaded_file, lang_code, checked) # PDF 파일 요약 수행"
   ]
  },
  {
   "cell_type": "markdown",
   "id": "ca1f6fa4",
   "metadata": {},
   "source": [
    "## 12.5 정리"
   ]
  }
 ],
 "metadata": {
  "kernelspec": {
   "display_name": "Python 3 (ipykernel)",
   "language": "python",
   "name": "python3"
  },
  "language_info": {
   "codemirror_mode": {
    "name": "ipython",
    "version": 3
   },
   "file_extension": ".py",
   "mimetype": "text/x-python",
   "name": "python",
   "nbconvert_exporter": "python",
   "pygments_lexer": "ipython3",
   "version": "3.11.3"
  },
  "toc": {
   "base_numbering": "12",
   "nav_menu": {},
   "number_sections": false,
   "sideBar": true,
   "skip_h1_title": false,
   "title_cell": "Table of Contents",
   "title_sidebar": "Contents",
   "toc_cell": false,
   "toc_position": {
    "height": "calc(100% - 180px)",
    "left": "10px",
    "top": "150px",
    "width": "338.767px"
   },
   "toc_section_display": true,
   "toc_window_display": false
  }
 },
 "nbformat": 4,
 "nbformat_minor": 5
}
