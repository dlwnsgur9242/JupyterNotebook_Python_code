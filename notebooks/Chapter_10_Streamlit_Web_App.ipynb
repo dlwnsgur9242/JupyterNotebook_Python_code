{
 "cells": [
  {
   "cell_type": "markdown",
   "id": "1074a421",
   "metadata": {},
   "source": [
    "# 10장 스트림릿으로 웹 앱(Web App) 만들기"
   ]
  },
  {
   "cell_type": "markdown",
   "id": "45ab0baf",
   "metadata": {},
   "source": [
    "## 10.1 스트림릿 둘러보기"
   ]
  },
  {
   "cell_type": "markdown",
   "id": "41c0ab68",
   "metadata": {},
   "source": [
    "## 10.2 스트림릿 기본 기능"
   ]
  },
  {
   "cell_type": "markdown",
   "id": "c82795e4",
   "metadata": {},
   "source": [
    "### 10.2.1 텍스트 요소"
   ]
  },
  {
   "cell_type": "markdown",
   "id": "dab6b94a",
   "metadata": {},
   "source": [
    "[10장: 263페이지]"
   ]
  },
  {
   "cell_type": "code",
   "execution_count": null,
   "id": "f4836a12",
   "metadata": {
    "scrolled": true
   },
   "outputs": [],
   "source": [
    "%%writefile C:\\myPyAI\\code\\st\\text_app.py\n",
    "# 텍스트 표시 예제\n",
    "\n",
    "import streamlit as st\n",
    "\n",
    "st.title(\"st.title(문자열): 제목\")\n",
    "st.header(\"st.header(문자열): 헤더\")\n",
    "st.subheader(\"st.subheader(문자열): 서브헤더\")\n",
    "st.text(\"st.text(문자열): 일반 텍스트입니다.\")\n",
    "\n",
    "st.text(\"st.code(code): 파이썬 코드 표시\")\n",
    "\n",
    "code = '''\n",
    "def hello():\n",
    "    print(\"Hello, Streamlit!\")\n",
    "'''\n",
    "st.code(code)\n",
    "\n",
    "st.markdown('스트림릿에서 **마크다운**을 사용할 수 있습니다.:sunglasses:')"
   ]
  },
  {
   "cell_type": "markdown",
   "id": "41b9ac09",
   "metadata": {},
   "source": [
    "### 10.2.2 입력 위젯"
   ]
  },
  {
   "cell_type": "markdown",
   "id": "71018435",
   "metadata": {},
   "source": [
    "#### 기본 버튼"
   ]
  },
  {
   "cell_type": "markdown",
   "id": "bc2599c2",
   "metadata": {},
   "source": [
    "[10장: 266페이지]"
   ]
  },
  {
   "cell_type": "code",
   "execution_count": null,
   "id": "b2f0cf2a",
   "metadata": {},
   "outputs": [],
   "source": [
    "%%writefile C:\\myPyAI\\code\\st\\button_app.py\n",
    "# 기본 버튼 입력 예제\n",
    "\n",
    "import streamlit as st\n",
    "\n",
    "st.title(\"스트림릿의 버튼 입력 사용 예\")\n",
    "\n",
    "clicked = st.button('버튼 1')\n",
    "st.write('버튼 1 클릭 상태:', clicked)\n",
    "\n",
    "if clicked:\n",
    "     st.write('버튼 1을 클릭했습니다.' )\n",
    "else:\n",
    "     st.write('버튼 1을 클릭하지 않았습니다.' )\n",
    "        \n",
    "clicked = st.button('버튼 2')\n",
    "st.write('버튼 2 클릭 상태:', clicked)\n",
    "\n",
    "if clicked:\n",
    "     st.write('버튼 2를 클릭했습니다.' )\n",
    "else:\n",
    "     st.write('버튼 2를 클릭하지 않았습니다.' )"
   ]
  },
  {
   "cell_type": "markdown",
   "id": "bbedd4ef",
   "metadata": {},
   "source": [
    "#### 다운로드 버튼"
   ]
  },
  {
   "cell_type": "markdown",
   "id": "e1e1d1bd",
   "metadata": {},
   "source": [
    "[10장: 269페이지]"
   ]
  },
  {
   "cell_type": "code",
   "execution_count": null,
   "id": "0013f2dc",
   "metadata": {},
   "outputs": [],
   "source": [
    "%%writefile C:\\myPyAI\\code\\st\\download_button_app.py\n",
    "# 다운로드 버튼 사용 예제\n",
    "\n",
    "import streamlit as st\n",
    "import pandas as pd\n",
    "from io import BytesIO\n",
    "\n",
    "# 스트림릿 화면 구성\n",
    "st.title(\"스트림릿의 다운로드 버튼 사용 예\")\n",
    "\n",
    "st.subheader(\"텍스트 파일 다운로드 예제\")\n",
    "\n",
    "folder = 'C:/myPyAI/data/st/'\n",
    "\n",
    "with open(folder + \"서연의_이야기.txt\", encoding='utf-8') as text_file:\n",
    "    text_data = text_file.read()\n",
    "    st.download_button(\n",
    "            label=\"텍스트 파일 다운로드\", \n",
    "            data = text_data, \n",
    "            file_name=\"서연의_이야기.txt\"\n",
    "    )\n",
    "\n",
    "st.subheader(\"이미지 파일 다운로드 예제\")\n",
    "\n",
    "with open(folder + \"sample_image.png\",'rb') as image_file:\n",
    "    st.download_button(\n",
    "            label=\"이미지 파일 다운로드\",\n",
    "            data=image_file,\n",
    "            file_name=\"sample_image.png\",\n",
    "            mime=\"image/png\"\n",
    "    )\n",
    "    \n",
    "st.subheader(\"오디오 파일 다운로드 예제\")\n",
    "\n",
    "with open(folder + \"서연의_하루_TTS_배경음악_short.mp3\",'rb') as audio_file:\n",
    "    st.download_button(\n",
    "            label=\"오디오 파일 다운로드\",\n",
    "            data=audio_file,\n",
    "            file_name=\"서연의_하루_TTS_배경음악_short.mp3\",\n",
    "            mime=\"audio/mpeg\"\n",
    "    )"
   ]
  },
  {
   "cell_type": "markdown",
   "id": "53de3da6",
   "metadata": {},
   "source": [
    "#### 체크박스"
   ]
  },
  {
   "cell_type": "markdown",
   "id": "494e97ac",
   "metadata": {},
   "source": [
    "[10장: 271페이지]"
   ]
  },
  {
   "cell_type": "code",
   "execution_count": null,
   "id": "6ca98a65",
   "metadata": {},
   "outputs": [],
   "source": [
    "%%writefile C:\\myPyAI\\code\\st\\checkbox_app.py\n",
    "# 체크박스 사용 예제\n",
    "\n",
    "import streamlit as st\n",
    "\n",
    "st.title(\"스트림릿의 체크박스 사용 예\")\n",
    "\n",
    "checked1 = st.checkbox('체크박스 1')\n",
    "st.write('체크박스 1 상태:', checked1)\n",
    "       \n",
    "if checked1:\n",
    "     st.write('체크박스 1을 체크했습니다.' )\n",
    "else:\n",
    "     st.write('체크박스 1을 체크하지 않았습니다.' )\n",
    "        \n",
    "checked2 = st.checkbox('체크 박스 2', value=True)\n",
    "st.write('체크박스 2 상태:', checked2)\n",
    "\n",
    "if checked2:\n",
    "     st.write('체크박스 2를 체크했습니다.' )\n",
    "else:\n",
    "     st.write('체크박스 2를 체크하지 않았습니다.' )"
   ]
  },
  {
   "cell_type": "markdown",
   "id": "44b9f686",
   "metadata": {},
   "source": [
    "#### 라디오 버튼"
   ]
  },
  {
   "cell_type": "markdown",
   "id": "6623c326",
   "metadata": {},
   "source": [
    "[10장: 272페이지]"
   ]
  },
  {
   "cell_type": "code",
   "execution_count": null,
   "id": "4250237c",
   "metadata": {},
   "outputs": [],
   "source": [
    "%%writefile C:\\myPyAI\\code\\st\\radio_button_app.py\n",
    "# 라디오 버튼 사용 예제\n",
    "\n",
    "import streamlit as st\n",
    "import pandas as pd\n",
    "\n",
    "st.title(\"스트림릿의 라디오 버튼 사용 예\")\n",
    "\n",
    "radio1_options = ['10', '20', '30', '40']\n",
    "radio1_selected = st.radio('(5 x 5 + 5)은 얼마인가요?', radio1_options)\n",
    "st.write('**선택한 답**:', radio1_selected)\n",
    "        \n",
    "radio2_options = ('마라톤', '축구', '수영', '승마')\n",
    "radio2_selected = st.radio('당신이 좋아하는 운동은?', radio2_options, index=2, horizontal=True)\n",
    "st.write('**당신의 선택**:', radio2_selected)"
   ]
  },
  {
   "cell_type": "markdown",
   "id": "4cf65fef",
   "metadata": {},
   "source": [
    "#### 셀렉트박스"
   ]
  },
  {
   "cell_type": "markdown",
   "id": "3691ebc8",
   "metadata": {},
   "source": [
    "[10장: 274페이지]"
   ]
  },
  {
   "cell_type": "code",
   "execution_count": null,
   "id": "168f7e36",
   "metadata": {
    "scrolled": true
   },
   "outputs": [],
   "source": [
    "%%writefile C:\\myPyAI\\code\\st\\selectbox_app.py\n",
    "# 셀렉트박스 사용 예제\n",
    "\n",
    "import streamlit as st\n",
    "\n",
    "st.title(\"스트림릿의 셀렉트박스 사용 예\")\n",
    "\n",
    "selectbox1_options = ['하이든', '모차르트', '베토벤', '슈만']\n",
    "your_option1 = st.selectbox('좋아하는 음악가는?', selectbox1_options)\n",
    "st.write('**당신의 선택**:', your_option1)\n",
    "\n",
    "selectbox2_options = ['보티첼리', '렘브란트', '피카소', '뭉크']\n",
    "your_option2 = st.selectbox('좋아하는 화가는?', selectbox2_options)\n",
    "st.write('**당신의 선택**:', your_option2)"
   ]
  },
  {
   "cell_type": "markdown",
   "id": "3dc853b0",
   "metadata": {},
   "source": [
    "#### 텍스트 입력"
   ]
  },
  {
   "cell_type": "markdown",
   "id": "f28ab374",
   "metadata": {},
   "source": [
    "[10장: 275페이지]"
   ]
  },
  {
   "cell_type": "code",
   "execution_count": null,
   "id": "3bc951d9",
   "metadata": {},
   "outputs": [],
   "source": [
    "%%writefile C:\\myPyAI\\code\\st\\text_input_app.py\n",
    "# 텍스트 입력의 사용 예제\n",
    "\n",
    "import streamlit as st\n",
    "\n",
    "st.title(\"스트림릿의 텍스트 입력 사용 예\")\n",
    "\n",
    "user_id = st.text_input('아이디(ID) 입력', value=\"streamlit\", max_chars=15)\n",
    "user_password = st.text_input('패스워드(Password) 입력', value=\"abcd\", type=\"password\")\n",
    "\n",
    "if user_id == \"streamlit\":\n",
    "    if user_password == \"1234\":\n",
    "        st.write('로그인됐습니다. 서비스를 이용할 수 있습니다.')\n",
    "    else:\n",
    "        st.write('잘못된 패스워드입니다. 다시 입력하세요.')\n",
    "else:\n",
    "    st.write('없는 ID입니다. 회원 가입을 하거나 올바른 ID를 입력하세요.')"
   ]
  },
  {
   "cell_type": "markdown",
   "id": "250e7a15",
   "metadata": {},
   "source": [
    "#### 파일 업로더"
   ]
  },
  {
   "cell_type": "markdown",
   "id": "0a04a6c6",
   "metadata": {},
   "source": [
    "[10장: 277페이지]"
   ]
  },
  {
   "cell_type": "code",
   "execution_count": null,
   "id": "c59e4f88",
   "metadata": {},
   "outputs": [],
   "source": [
    "%%writefile C:\\myPyAI\\code\\st\\file_uploader_app.py\n",
    "# 파일 업로더 사용 예제\n",
    "\n",
    "import streamlit as st\n",
    "from io import StringIO\n",
    "\n",
    "st.title(\"스트림릿의 파일 업로더 사용 예\")\n",
    "\n",
    "uploaded_file = st.file_uploader(\"Text 파일을 선택하세요.\", type='txt')\n",
    "if uploaded_file is not None:    \n",
    "    # 텍스트 파일을 읽어서 문자열로 변환\n",
    "    stringio = StringIO(uploaded_file.getvalue().decode(\"utf-8\"))\n",
    "    string_data = stringio.read()\n",
    "    st.write(string_data[:100]) # 일부의 내용 출력\n",
    "    \n",
    "uploaded_file = st.file_uploader(\"MP3 파일을 선택하세요.\", type='mp3')\n",
    "if uploaded_file is not None:\n",
    "    # 바이너리 파일을 읽어서 바이트로 변환\n",
    "    bytes_data = uploaded_file.getvalue()\n",
    "    st.write(bytes_data[:100]) # 일부의 내용 출력"
   ]
  },
  {
   "cell_type": "markdown",
   "id": "feb62a8e",
   "metadata": {},
   "source": [
    "### 10.2.3 미디어 요소"
   ]
  },
  {
   "cell_type": "markdown",
   "id": "87577302",
   "metadata": {},
   "source": [
    "#### 이미지 표시"
   ]
  },
  {
   "cell_type": "markdown",
   "id": "f0d49d0b",
   "metadata": {},
   "source": [
    "[10장: 280페이지]"
   ]
  },
  {
   "cell_type": "code",
   "execution_count": null,
   "id": "5c69ad75",
   "metadata": {},
   "outputs": [],
   "source": [
    "%%writefile C:\\myPyAI\\code\\st\\image_app.py\n",
    "# 이미지 표시 사용 예제\n",
    "\n",
    "import streamlit as st\n",
    "from PIL import Image\n",
    "\n",
    "st.title(\"스트림릿의 이미지 표시 사용 예\")\n",
    "\n",
    "# 1) 컴퓨터에 있는 이미지 파일을 열어서 표시\n",
    "st.subheader(\"1. 컴퓨터에 있는 이미지 파일을 표시\")\n",
    "image_file = 'C:/myPyAI/data/st/avenue.jpg' # 이미지 파일 경로\n",
    "image_local = Image.open(image_file)        # Image.open() 함수로 이미지 파일 열기\n",
    "st.image(image_local, width=350, caption='컴퓨터에 있는 이미지 파일을 표시') # 이미지 표시\n",
    "\n",
    "# 2) 웹상에 있는 이미지의 주소(URL)를 이용해 이미지 표시\n",
    "st.subheader(\"2. 웹상에 있는 이미지 파일을 표시\")\n",
    "image_url = \"https://cdn.pixabay.com/photo/2023/05/29/06/25/mountains-8025144_1280.jpg\"  # 이미지 URL\n",
    "st.image(image_url, width=350, caption='웹상에 있는 이미지 파일을 표시') # 이미지 표시"
   ]
  },
  {
   "cell_type": "markdown",
   "id": "2948ed2e",
   "metadata": {},
   "source": [
    "#### 오디오 재생"
   ]
  },
  {
   "cell_type": "markdown",
   "id": "f0d39ac7",
   "metadata": {},
   "source": [
    "[10장: 282페이지]"
   ]
  },
  {
   "cell_type": "code",
   "execution_count": null,
   "id": "3475135a",
   "metadata": {},
   "outputs": [],
   "source": [
    "%%writefile C:\\myPyAI\\code\\st\\audio_app.py\n",
    "# 오디오 재생 예제\n",
    "\n",
    "import streamlit as st\n",
    "\n",
    "st.title(\"스트림릿의 오디오 재생 예\")\n",
    "\n",
    "# 1) 컴퓨터 내에 있는 오디오 파일을 열어서 재생\n",
    "st.subheader(\"1. 컴퓨터 내의 오디오 파일을 재생\")\n",
    "\n",
    "audio_file = 'C:/myPyAI/data/st/서연의_하루_TTS_배경음악_short.mp3' # 오디오 파일 경로\n",
    "audio_local = open(audio_file, 'rb')\n",
    "audio_bytes = audio_local.read()\n",
    "\n",
    "st.text(\"MP3 파일. format='audio/mpeg'\")\n",
    "st.audio(audio_bytes, format='audio/mpeg')\n",
    "\n",
    "# 2) 웹상에 있는 오디오 파일의 주소(URL)를 이용해 오디오 재생\n",
    "st.subheader(\"2. 웹상에 있는 오디오를 재생\")\n",
    "\n",
    "audio_url1 = \"https://samplelib.com/lib/preview/wav/sample-15s.wav\" # 오디오 URL\n",
    "st.text(\"Wave 파일. format='audio/wav'\")\n",
    "st.audio(audio_url1, format='audio/wav') # st.audio(audio_url1) 도 동일\n",
    "\n",
    "audio_url2 = \"https://cdn.pixabay.com/download/audio/2022/10/14/audio_9939f792cb.mp3\"\n",
    "st.text(\"MP3 파일. format='audio/mpeg'\")\n",
    "st.audio(audio_url2, format='audio/mpeg')\n",
    "\n",
    "audio_url3 = \"https://freetestdata.com/wp-content/uploads/2021/09/Free_Test_Data_1MB_OGG.ogg\"\n",
    "st.text(\"OGG 파일. format='audio/ogg'\")\n",
    "st.audio(audio_url3, format='audio/ogg')"
   ]
  },
  {
   "cell_type": "markdown",
   "id": "deda4419",
   "metadata": {},
   "source": [
    "#### 비디오 재생"
   ]
  },
  {
   "cell_type": "markdown",
   "id": "030c9142",
   "metadata": {},
   "source": [
    "[10장: 284페이지]"
   ]
  },
  {
   "cell_type": "code",
   "execution_count": null,
   "id": "00c322ee",
   "metadata": {},
   "outputs": [],
   "source": [
    "%%writefile C:\\myPyAI\\code\\st\\video_app.py\n",
    "# 비디오 재생 예제\n",
    "\n",
    "import streamlit as st\n",
    "\n",
    "st.title(\"스트림릿의 비디오 재생 예\")\n",
    "\n",
    "# 1) 컴퓨터에 있는 비디오 파일을 열어서 재생\n",
    "st.subheader(\"1. 컴퓨터에 있는 비디오 파일을 재생\")\n",
    "\n",
    "st.text(\"앞에서 살펴본 오디오 재생 방법과 유사\")\n",
    "\n",
    "# video_file = 'C:/myPyAI/data/st/sample_video.mp4' # 비디오 파일 경로\n",
    "# video_local = open(video_file ,'rb')\n",
    "# video_bytes = video_local.read()\n",
    "\n",
    "# st.text(\"MP4 파일. format='video/mp4'\") \n",
    "# st.video(video_bytes, format='video/mp4') # st.video(video_bytes) 도 동일\n",
    "\n",
    "# 2) 유튜브 비디오 주소(URL)를 이용해 비디오 재생\n",
    "st.subheader(\"2. 유튜브 비디오를 재생\")\n",
    "\n",
    "video_url = \"https://www.youtube.com/watch?v=5VxYrmnwQiA\" # 유튜브 비디오 URL\n",
    "st.text(\"MP4 파일. format='video/mp4'\")\n",
    "st.video(video_url, format='video/mp4') # st.video(video_url) 도 동일"
   ]
  },
  {
   "cell_type": "markdown",
   "id": "13a99827",
   "metadata": {},
   "source": [
    "## 10.3 스트림릿 고급 기능"
   ]
  },
  {
   "cell_type": "markdown",
   "id": "94d7a649",
   "metadata": {},
   "source": [
    "### 10.3.1 레이아웃과 컨테이너"
   ]
  },
  {
   "cell_type": "markdown",
   "id": "bb94edca",
   "metadata": {},
   "source": [
    "#### 사이드바에 표시"
   ]
  },
  {
   "cell_type": "markdown",
   "id": "04ecac61",
   "metadata": {},
   "source": [
    "[10장: 286페이지]"
   ]
  },
  {
   "cell_type": "code",
   "execution_count": null,
   "id": "5ff74b5f",
   "metadata": {
    "scrolled": false
   },
   "outputs": [],
   "source": [
    "%%writefile C:\\myPyAI\\code\\st\\sidebar_app.py\n",
    "# 사이드바 표시 사용 예제\n",
    "\n",
    "import streamlit as st\n",
    "from PIL import Image\n",
    "\n",
    "# ---------- 사이드바 화면 구성 --------------------\n",
    "st.sidebar.title(\"사이드바 \")\n",
    "st.sidebar.header(\"텍스트 입력 사용 예\")\n",
    "user_id = st.sidebar.text_input('아이디(ID) 입력', value=\"streamlit\", max_chars=15)\n",
    "user_password = st.sidebar.text_input('패스워드(Password) 입력', value=\"abcd\", type=\"password\")\n",
    "\n",
    "st.sidebar.header(\"셀렉트박스 사용 예\")\n",
    "selectbox_options = ['진주 귀걸이를 한 소녀', '별이 빛나는 밤', '절규', '월하정인'] # 셀렉트박스의 선택 항목\n",
    "your_option = st.sidebar.selectbox('좋아하는 작품은?', selectbox_options, index=3) # 셀렉트박스의 항목 선택 결과\n",
    "st.sidebar.write('**당신의 선택**:', your_option)\n",
    "\n",
    "# ---------- 메인(Main) 화면 구성 --------------------\n",
    "st.title(\"스트림릿의 사이드바 사용 예\")\n",
    "\n",
    "folder = 'C:/myPyAI/data/st/'\n",
    "\n",
    "# selectbox_options의 요소에 따라서 보여줄 이미지 파일 리스트(selectbox_options의 요소와 순서를 일치시킴)\n",
    "image_files = ['Vermeer.png', 'Gogh.png', 'Munch.png', 'ShinYoonbok.png'] # 이미지 파일 리스트\n",
    "\n",
    "# 셀렉트박스에서 선택한 항목에 따라 이미지 표시\n",
    "selectbox_options_index = selectbox_options.index(your_option) # selectbox_options의 리스트 인덱스 찾기\n",
    "image_file = image_files[selectbox_options_index] # 선택한 항목에 맞는 이미지 파일 지정\n",
    "image_local = Image.open(folder + image_file)     # Image.open() 함수로 이미지 파일 열기\n",
    "st.image(image_local, caption=your_option)        # 이미지 표시"
   ]
  },
  {
   "cell_type": "markdown",
   "id": "73863981",
   "metadata": {},
   "source": [
    "#### 컬럼으로 화면 분할"
   ]
  },
  {
   "cell_type": "markdown",
   "id": "05b27394",
   "metadata": {},
   "source": [
    "[10장: 289페이지]"
   ]
  },
  {
   "cell_type": "code",
   "execution_count": null,
   "id": "7b1144a8",
   "metadata": {
    "scrolled": true
   },
   "outputs": [],
   "source": [
    "%%writefile C:\\myPyAI\\code\\st\\columns_app.py\n",
    "# 세로 단(컬럼) 분할 사용 예제\n",
    "\n",
    "import streamlit as st\n",
    "from PIL import Image\n",
    "\n",
    "st.title(\"스트림릿에서 화면 분할 사용 예\")\n",
    "\n",
    "# 1) 2개로 세로 단 분할 (예제 1)\n",
    "[col1, col2] = st.columns(2) # 너비가 같은 2개의 세로 단으로 구성\n",
    "with col1: # 첫 번째 세로 단(컬럼)\n",
    "    st.subheader(\"유튜브 비디오1\")\n",
    "    url_col1 = \"https://www.youtube.com/watch?v=bagb1zxqMTg\"\n",
    "    st.video(url_col1)\n",
    "\n",
    "with col2: # 두 번째 세로 단(컬럼)\n",
    "    st.subheader(\"유튜브 비디오2\")\n",
    "    url_col2 = \"https://www.youtube.com/watch?v=i-E7NiyRDa0\"\n",
    "    st.video(url_col2)\n",
    "\n",
    "# 2) 3개로 세로 단 분할 (예제 2)\n",
    "columns = st.columns([1.1, 1.0, 0.9]) # 너비가 다른 3개의 세로 단으로 구성\n",
    "\n",
    "folder = 'C:/myPyAI/data/st/'                    # 폴더 지정\n",
    "image_files = ['dog.png', 'cat.png', 'bird.png'] # 이미지 파일명 리스트\n",
    "image_cations = ['강아지', '고양이', '새']       # 이미지 캡션 리스트\n",
    "\n",
    "for k in range(len(columns)):\n",
    "    with columns[k]: # 세로 단(컬럼) 지정\n",
    "        st.subheader(image_cations[k])                    # 세로 단별로 subheader 표시\n",
    "        image_local = Image.open(folder + image_files[k]) # 세로 단별로 이미지 열기\n",
    "        st.image(image_local,caption=image_cations[k])    # 세로 단별로 이미지 표시"
   ]
  },
  {
   "cell_type": "markdown",
   "id": "09006c6d",
   "metadata": {},
   "source": [
    "### 10.3.2 세션 상태와 콜백 함수"
   ]
  },
  {
   "cell_type": "markdown",
   "id": "9035cb05",
   "metadata": {},
   "source": [
    "#### 세션 상태"
   ]
  },
  {
   "cell_type": "markdown",
   "id": "f109d774",
   "metadata": {},
   "source": [
    "[10장: 291페이지]"
   ]
  },
  {
   "cell_type": "code",
   "execution_count": null,
   "id": "81887f64",
   "metadata": {
    "scrolled": true
   },
   "outputs": [],
   "source": [
    "%%writefile C:\\myPyAI\\code\\st\\session_state_app.py\n",
    "# 세션 상태 사용 예제\n",
    "\n",
    "import streamlit as st\n",
    "\n",
    "st.title(\"세션 상태 사용 예\")\n",
    "\n",
    "# 세션 상태 초기화\n",
    "if 'count' not in st.session_state: # st.session_state에 'count'가 없으면\n",
    "    st.session_state['count'] = 0    # st.session_state['count']를 0으로 초기화\n",
    "\n",
    "if 'registered' not in st.session_state: # st.session_state에 'registered'가 없으면\n",
    "    st.session_state['registered'] = []   # st.session_state['registered']를 빈 리스트로 초기화\n",
    "    \n",
    "# 텍스트 입력 위젯    \n",
    "user_input = st.text_input('이름', value=\"이름을 입력하세요.\", key='name')\n",
    "\n",
    "# 버튼 입력 위젯\n",
    "clicked = st.button('등록')\n",
    "\n",
    "if clicked: # 버튼 입력을 클릭하면\n",
    "    st.session_state['count'] = st.session_state['count'] + 1 # 1씩 증가\n",
    "    st.write(\"버튼 입력 회수:\", st.session_state['count']) # 버튼 입력 회수 화면에 표시\n",
    "    \n",
    "    name = st.session_state['name'] # st.session_state.name도 동일 \n",
    "    st.session_state['registered'].append(name) # 리스트에 입력한 이름 추가\n",
    "    st.write(\"등록 이름 리스트:\", st.session_state['registered']) # 리스트 내용 화면에 표시"
   ]
  },
  {
   "cell_type": "markdown",
   "id": "3f19c838",
   "metadata": {},
   "source": [
    "#### 콜백 함수"
   ]
  },
  {
   "cell_type": "markdown",
   "id": "0096929d",
   "metadata": {},
   "source": [
    "[10장: 294페이지]"
   ]
  },
  {
   "cell_type": "code",
   "execution_count": null,
   "id": "3d0cf266",
   "metadata": {},
   "outputs": [],
   "source": [
    "%%writefile C:\\myPyAI\\code\\st\\callback_app.py\n",
    "# 콜백 함수 사용 예제\n",
    "\n",
    "import streamlit as st\n",
    "\n",
    "st.title(\"콜백 함수 사용 예\")\n",
    "\n",
    "# 세션 상태 초기화\n",
    "if 'lang' not in st.session_state:    # st.session_state에 'lang'이 없으면\n",
    "    st.session_state['lang'] = '영어'  # st.session_state['lang']를 '영어'로 초기화\n",
    "\n",
    "# 콜백 함수    \n",
    "def button_callback(sel_lang): \n",
    "    st.session_state['lang'] = sel_lang\n",
    "        \n",
    "# 라디오 버튼        \n",
    "radio_options = ['영어', '프랑스어', '독일어']\n",
    "radio_selected = st.radio('한국어를 어떤 언어로 번역하겠습니까?', radio_options)\n",
    "\n",
    "# 기본 버튼: on_click에 콜백 함수(button_callback)를 지정, args에 콜백 함수 인수 지정 \n",
    "clicked = st.button('선택', on_click=button_callback, args=[radio_selected])\n",
    "\n",
    "# 콤백 함수를 실행한 결과를 출력\n",
    "st.write(f\"한국어를 {st.session_state['lang']}로 번역하는 것을 선택했습니다.\")"
   ]
  },
  {
   "cell_type": "markdown",
   "id": "9c2c2742",
   "metadata": {},
   "source": [
    "### 10.3.3 스트림릿 클라우드에 웹 앱 배포"
   ]
  },
  {
   "cell_type": "markdown",
   "id": "ca1f6fa4",
   "metadata": {},
   "source": [
    "## 10.4 정리"
   ]
  }
 ],
 "metadata": {
  "kernelspec": {
   "display_name": "Python 3 (ipykernel)",
   "language": "python",
   "name": "python3"
  },
  "language_info": {
   "codemirror_mode": {
    "name": "ipython",
    "version": 3
   },
   "file_extension": ".py",
   "mimetype": "text/x-python",
   "name": "python",
   "nbconvert_exporter": "python",
   "pygments_lexer": "ipython3",
   "version": "3.11.3"
  },
  "toc": {
   "base_numbering": "10",
   "nav_menu": {},
   "number_sections": false,
   "sideBar": true,
   "skip_h1_title": false,
   "title_cell": "Table of Contents",
   "title_sidebar": "Contents",
   "toc_cell": false,
   "toc_position": {
    "height": "calc(100% - 180px)",
    "left": "10px",
    "top": "150px",
    "width": "338.767px"
   },
   "toc_section_display": true,
   "toc_window_display": false
  }
 },
 "nbformat": 4,
 "nbformat_minor": 5
}
