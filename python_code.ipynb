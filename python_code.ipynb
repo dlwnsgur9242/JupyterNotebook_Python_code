{
 "cells": [
  {
   "cell_type": "code",
   "execution_count": 1,
   "id": "aebcb537",
   "metadata": {},
   "outputs": [
    {
     "name": "stdout",
     "output_type": "stream",
     "text": [
      "Hello Jupyter Notebook!!\n"
     ]
    }
   ],
   "source": [
    "print(\"Hello Jupyter Notebook!!\")"
   ]
  },
  {
   "cell_type": "code",
   "execution_count": 2,
   "id": "48d8a2a0",
   "metadata": {},
   "outputs": [
    {
     "name": "stdout",
     "output_type": "stream",
     "text": [
      "Hello Jupter Notebook: code lien 1\n",
      "Hello Jupter Notebook: code lien 2\n",
      "Hello Jupter Notebook: code lien 3\n"
     ]
    }
   ],
   "source": [
    "print(\"Hello Jupter Notebook: code lien 1\")\n",
    "print(\"Hello Jupter Notebook: code lien 2\")\n",
    "print(\"Hello Jupter Notebook: code lien 3\")"
   ]
  },
  {
   "cell_type": "code",
   "execution_count": 5,
   "id": "0117b2fa",
   "metadata": {},
   "outputs": [
    {
     "name": "stdout",
     "output_type": "stream",
     "text": [
      "C:\\myPyAI\\code\n"
     ]
    }
   ],
   "source": [
    "cd C:\\myPyAI\\code"
   ]
  },
  {
   "cell_type": "code",
   "execution_count": 5,
   "id": "f075a01c",
   "metadata": {},
   "outputs": [
    {
     "data": {
      "application/json": {
       "cell": {
        "!": "OSMagics",
        "HTML": "Other",
        "SVG": "Other",
        "bash": "Other",
        "capture": "ExecutionMagics",
        "cmd": "Other",
        "code_wrap": "ExecutionMagics",
        "debug": "ExecutionMagics",
        "file": "Other",
        "html": "DisplayMagics",
        "javascript": "DisplayMagics",
        "js": "DisplayMagics",
        "latex": "DisplayMagics",
        "markdown": "DisplayMagics",
        "perl": "Other",
        "prun": "ExecutionMagics",
        "pypy": "Other",
        "python": "Other",
        "python2": "Other",
        "python3": "Other",
        "ruby": "Other",
        "script": "ScriptMagics",
        "sh": "Other",
        "svg": "DisplayMagics",
        "sx": "OSMagics",
        "system": "OSMagics",
        "time": "ExecutionMagics",
        "timeit": "ExecutionMagics",
        "writefile": "OSMagics"
       },
       "line": {
        "alias": "OSMagics",
        "alias_magic": "BasicMagics",
        "autoawait": "AsyncMagics",
        "autocall": "AutoMagics",
        "automagic": "AutoMagics",
        "autosave": "KernelMagics",
        "bookmark": "OSMagics",
        "cd": "OSMagics",
        "clear": "KernelMagics",
        "cls": "KernelMagics",
        "code_wrap": "ExecutionMagics",
        "colors": "BasicMagics",
        "conda": "PackagingMagics",
        "config": "ConfigMagics",
        "connect_info": "KernelMagics",
        "copy": "Other",
        "ddir": "Other",
        "debug": "ExecutionMagics",
        "dhist": "OSMagics",
        "dirs": "OSMagics",
        "doctest_mode": "BasicMagics",
        "echo": "Other",
        "ed": "Other",
        "edit": "KernelMagics",
        "env": "OSMagics",
        "gui": "BasicMagics",
        "hist": "Other",
        "history": "HistoryMagics",
        "killbgscripts": "ScriptMagics",
        "ldir": "Other",
        "less": "KernelMagics",
        "load": "CodeMagics",
        "load_ext": "ExtensionMagics",
        "loadpy": "CodeMagics",
        "logoff": "LoggingMagics",
        "logon": "LoggingMagics",
        "logstart": "LoggingMagics",
        "logstate": "LoggingMagics",
        "logstop": "LoggingMagics",
        "ls": "Other",
        "lsmagic": "BasicMagics",
        "macro": "ExecutionMagics",
        "magic": "BasicMagics",
        "matplotlib": "PylabMagics",
        "mkdir": "Other",
        "more": "KernelMagics",
        "notebook": "BasicMagics",
        "page": "BasicMagics",
        "pastebin": "CodeMagics",
        "pdb": "ExecutionMagics",
        "pdef": "NamespaceMagics",
        "pdoc": "NamespaceMagics",
        "pfile": "NamespaceMagics",
        "pinfo": "NamespaceMagics",
        "pinfo2": "NamespaceMagics",
        "pip": "PackagingMagics",
        "popd": "OSMagics",
        "pprint": "BasicMagics",
        "precision": "BasicMagics",
        "prun": "ExecutionMagics",
        "psearch": "NamespaceMagics",
        "psource": "NamespaceMagics",
        "pushd": "OSMagics",
        "pwd": "OSMagics",
        "pycat": "OSMagics",
        "pylab": "PylabMagics",
        "qtconsole": "KernelMagics",
        "quickref": "BasicMagics",
        "recall": "HistoryMagics",
        "rehashx": "OSMagics",
        "reload_ext": "ExtensionMagics",
        "ren": "Other",
        "rep": "Other",
        "rerun": "HistoryMagics",
        "reset": "NamespaceMagics",
        "reset_selective": "NamespaceMagics",
        "rmdir": "Other",
        "run": "ExecutionMagics",
        "save": "CodeMagics",
        "sc": "OSMagics",
        "set_env": "OSMagics",
        "store": "StoreMagics",
        "sx": "OSMagics",
        "system": "OSMagics",
        "tb": "ExecutionMagics",
        "time": "ExecutionMagics",
        "timeit": "ExecutionMagics",
        "unalias": "OSMagics",
        "unload_ext": "ExtensionMagics",
        "who": "NamespaceMagics",
        "who_ls": "NamespaceMagics",
        "whos": "NamespaceMagics",
        "xdel": "NamespaceMagics",
        "xmode": "BasicMagics"
       }
      },
      "text/plain": [
       "Available line magics:\n",
       "%alias  %alias_magic  %autoawait  %autocall  %automagic  %autosave  %bookmark  %cd  %clear  %cls  %code_wrap  %colors  %conda  %config  %connect_info  %copy  %ddir  %debug  %dhist  %dirs  %doctest_mode  %echo  %ed  %edit  %env  %gui  %hist  %history  %killbgscripts  %ldir  %less  %load  %load_ext  %loadpy  %logoff  %logon  %logstart  %logstate  %logstop  %ls  %lsmagic  %macro  %magic  %matplotlib  %mkdir  %more  %notebook  %page  %pastebin  %pdb  %pdef  %pdoc  %pfile  %pinfo  %pinfo2  %pip  %popd  %pprint  %precision  %prun  %psearch  %psource  %pushd  %pwd  %pycat  %pylab  %qtconsole  %quickref  %recall  %rehashx  %reload_ext  %ren  %rep  %rerun  %reset  %reset_selective  %rmdir  %run  %save  %sc  %set_env  %store  %sx  %system  %tb  %time  %timeit  %unalias  %unload_ext  %who  %who_ls  %whos  %xdel  %xmode\n",
       "\n",
       "Available cell magics:\n",
       "%%!  %%HTML  %%SVG  %%bash  %%capture  %%cmd  %%code_wrap  %%debug  %%file  %%html  %%javascript  %%js  %%latex  %%markdown  %%perl  %%prun  %%pypy  %%python  %%python2  %%python3  %%ruby  %%script  %%sh  %%svg  %%sx  %%system  %%time  %%timeit  %%writefile\n",
       "\n",
       "Automagic is ON, % prefix IS NOT needed for line magics."
      ]
     },
     "execution_count": 5,
     "metadata": {},
     "output_type": "execute_result"
    }
   ],
   "source": [
    "%lsmagic"
   ]
  },
  {
   "cell_type": "code",
   "execution_count": 7,
   "id": "721a9831",
   "metadata": {},
   "outputs": [
    {
     "name": "stdout",
     "output_type": "stream",
     "text": [
      "Writing file_name.py\n"
     ]
    }
   ],
   "source": [
    "%%writefile file_name.py\n",
    "def add(a, b, c):\n",
    "    s = a+b+c\n",
    "    print('sum=',s)"
   ]
  },
  {
   "cell_type": "code",
   "execution_count": 9,
   "id": "27e52b12",
   "metadata": {},
   "outputs": [
    {
     "name": "stdout",
     "output_type": "stream",
     "text": [
      "Appending to file_name.py\n"
     ]
    }
   ],
   "source": [
    "%%writefile -a file_name.py\n",
    "a=1, b=2, c=3"
   ]
  },
  {
   "cell_type": "code",
   "execution_count": 13,
   "id": "156b0f34",
   "metadata": {},
   "outputs": [],
   "source": [
    "# %load file_name.py\n",
    "a=1; b=2; c=3\n",
    "def add(a, b, c):\n",
    "    s = a+b+c\n",
    "    print('sum=',s)\n",
    "\n"
   ]
  },
  {
   "cell_type": "code",
   "execution_count": null,
   "id": "98e7dd00",
   "metadata": {},
   "outputs": [],
   "source": [
    "# %load file_name.py\n",
    "def add(a, b, c):\n",
    "    s = a+b+c\n",
    "    print('sum=',s)\n",
    "a=1, b=2, c=3\n"
   ]
  },
  {
   "cell_type": "code",
   "execution_count": 15,
   "id": "927be156",
   "metadata": {},
   "outputs": [
    {
     "ename": "SyntaxError",
     "evalue": "invalid syntax. Maybe you meant '==' or ':=' instead of '='? (file_name.py, line 4)",
     "output_type": "error",
     "traceback": [
      "\u001b[1;36m  File \u001b[1;32mC:\\myPyAI\\file_name.py:4\u001b[1;36m\u001b[0m\n\u001b[1;33m    a=1, b=2, c=3\u001b[0m\n\u001b[1;37m    ^\u001b[0m\n\u001b[1;31mSyntaxError\u001b[0m\u001b[1;31m:\u001b[0m invalid syntax. Maybe you meant '==' or ':=' instead of '='?\n"
     ]
    }
   ],
   "source": [
    "%run file_name.py"
   ]
  },
  {
   "cell_type": "code",
   "execution_count": 16,
   "id": "834f53f0",
   "metadata": {},
   "outputs": [
    {
     "name": "stdout",
     "output_type": "stream",
     "text": [
      "Appending to file_name.py\n"
     ]
    }
   ],
   "source": [
    "%%writefile -a file_name.py\n",
    "a=1; b=2; c=3\n",
    "def add(a, b, c):\n",
    "    s = a+b+c\n",
    "    print('sum=',s)"
   ]
  },
  {
   "cell_type": "code",
   "execution_count": 17,
   "id": "29f51c29",
   "metadata": {},
   "outputs": [
    {
     "name": "stdout",
     "output_type": "stream",
     "text": [
      "%%writefile [-a] file_name.py\n",
      "print(2+3)\n",
      "%%writefile [-a] file_name.py\n",
      "print(2+3)\n",
      "%%writefile [-a] file_name.py\n",
      "print(2+3)\n",
      "%lsmagic\n",
      "%lsmagic\n",
      "%%writefile [-a] file_name.py\n",
      "def add(a, b, c):\n",
      "    s = a+b+c\n",
      "    print('sum=',s)\n",
      "%%writefile file_name.py\n",
      "def add(a, b, c):\n",
      "    s = a+b+c\n",
      "    print('sum=',s)\n",
      "%%writefile [-a] file_name.py\n",
      "a=1, b=2, c=3\n",
      "%%writefile -a file_name.py\n",
      "a=1, b=2, c=3\n",
      "%load file_name.py\n",
      "# %load file_name.py\n",
      "a=1, b=2, c=3\n",
      "def add(a, b, c):\n",
      "    s = a+b+c\n",
      "    print('sum=',s)\n",
      "# %load file_name.py\n",
      "a=1; b=2; c=3\n",
      "def add(a, b, c):\n",
      "    s = a+b+c\n",
      "    print('sum=',s)\n",
      "# %load file_name.py\n",
      "a=1; b=2; c=3\n",
      "def add(a, b, c):\n",
      "    s = a+b+c\n",
      "    print('sum=',s)\n",
      "%load file_name.py\n",
      "%run file_name.py\n",
      "%%writefile -a file_name.py\n",
      "a=1; b=2; c=3\n",
      "def add(a, b, c):\n",
      "    s = a+b+c\n",
      "    print('sum=',s)\n",
      "%history\n"
     ]
    }
   ],
   "source": [
    "%history"
   ]
  },
  {
   "cell_type": "code",
   "execution_count": null,
   "id": "28f7afb5",
   "metadata": {},
   "outputs": [],
   "source": [
    "# %load file_name.py\n",
    "def add(a, b, c):\n",
    "    s = a+b+c\n",
    "    print('sum=',s)\n",
    "a=1, b=2, c=3\n",
    "a=1; b=2; c=3\n",
    "def add(a, b, c):\n",
    "    s = a+b+c\n",
    "    print('sum=',s)\n"
   ]
  },
  {
   "cell_type": "code",
   "execution_count": 20,
   "id": "c7e126b3",
   "metadata": {},
   "outputs": [
    {
     "name": "stdout",
     "output_type": "stream",
     "text": [
      "Appending to file_name.py\n"
     ]
    }
   ],
   "source": [
    "%%writefile -a file_name.py\n",
    "a=1; b=2; c=3\n",
    "def add(a, b, c):\n",
    "    s = a+b+c\n",
    "    print('sum=',s)"
   ]
  },
  {
   "cell_type": "code",
   "execution_count": 22,
   "id": "cbe76d78",
   "metadata": {},
   "outputs": [
    {
     "name": "stdout",
     "output_type": "stream",
     "text": [
      "Appending to file_name.py\n"
     ]
    }
   ],
   "source": [
    "%%writefile -a file_name.py\n",
    "a=1; b=2; c=3\n",
    "def add(a, b, c):\n",
    "    s = a+b+c\n",
    "    print('sum=',s)"
   ]
  },
  {
   "cell_type": "code",
   "execution_count": null,
   "id": "0945fbea",
   "metadata": {},
   "outputs": [],
   "source": [
    "# %load file_name.py\n",
    "def add(a, b, c):\n",
    "    s = a+b+c\n",
    "    print('sum=',s)\n",
    "a=1, b=2, c=3\n",
    "a=1; b=2; c=3\n",
    "def add(a, b, c):\n",
    "    s = a+b+c\n",
    "    print('sum=',s)\n",
    "a=1; b=2; c=3\n",
    "def add(a, b, c):\n",
    "    s = a+b+c\n",
    "    print('sum=',s)\n",
    "a=1; b=2; c=3\n",
    "def add(a, b, c):\n",
    "    s = a+b+c\n",
    "    print('sum=',s)\n"
   ]
  },
  {
   "cell_type": "code",
   "execution_count": 30,
   "id": "f8bfc46c",
   "metadata": {},
   "outputs": [
    {
     "name": "stdout",
     "output_type": "stream",
     "text": [
      "Overwriting file_name.py\n"
     ]
    }
   ],
   "source": [
    "%%writefile file_name.py\n",
    "a=1; b=2; c=3\n",
    "def add(a, b, c):\n",
    "    s = a+b+c\n",
    "    print('sum=',s)"
   ]
  },
  {
   "cell_type": "code",
   "execution_count": 37,
   "id": "904affd6",
   "metadata": {},
   "outputs": [],
   "source": [
    "# %load file_name.py\n",
    "a=1; b=2; c=3\n",
    "def add(a, b, c):\n",
    "    s = a+b+c\n",
    "    print('sum=',s)\n"
   ]
  },
  {
   "cell_type": "code",
   "execution_count": 42,
   "id": "c9784f2b",
   "metadata": {},
   "outputs": [
    {
     "name": "stdout",
     "output_type": "stream",
     "text": [
      "Overwriting file_name.py\n"
     ]
    }
   ],
   "source": [
    "%%writefile file_name.py\n",
    "a=1; b=2; c=3\n",
    "\n",
    "def add(a, b, c):\n",
    "    s = a + b + c\n",
    "    print('sum=', s)\n",
    "\n",
    "add(a, b, c)"
   ]
  },
  {
   "cell_type": "code",
   "execution_count": 43,
   "id": "309b8514",
   "metadata": {},
   "outputs": [
    {
     "name": "stdout",
     "output_type": "stream",
     "text": [
      "sum= 6\n"
     ]
    }
   ],
   "source": [
    "%run file_name.py"
   ]
  },
  {
   "cell_type": "code",
   "execution_count": 44,
   "id": "3177cdd2",
   "metadata": {},
   "outputs": [
    {
     "name": "stdout",
     "output_type": "stream",
     "text": [
      "Writing C:\\myPyAI\\multi_print.py\n"
     ]
    }
   ],
   "source": [
    "%%writefile C:\\myPyAI\\multi_print.py\n",
    "#File name: multi_line_print.py\n",
    "Print(\"Jupyter Notebook: code lien 1\")\n",
    "Print(\"Jupyter Notebook: code lien 2\")\n",
    "Print(\"Jupyter Notebook: code lien 3\")"
   ]
  },
  {
   "cell_type": "code",
   "execution_count": null,
   "id": "01af539f",
   "metadata": {},
   "outputs": [],
   "source": [
    "# %load multi_print.py\n",
    "#File name: multi_line_print.py\n",
    "Print(\"Jupyter Notebook: code lien 1\")\n",
    "Print(\"Jupyter Notebook: code lien 2\")\n",
    "Print(\"Jupyter Notebook: code lien 3\")\n"
   ]
  },
  {
   "cell_type": "code",
   "execution_count": 52,
   "id": "70c15ac5",
   "metadata": {},
   "outputs": [
    {
     "name": "stdout",
     "output_type": "stream",
     "text": [
      "1234\n",
      "Python is powerful\n",
      "1234Python is powerful\n"
     ]
    }
   ],
   "source": [
    "n = 1234\n",
    "s = \"Python is powerful\"\n",
    "\n",
    "print(n)\n",
    "print(s)\n",
    "print(str(n) + s)"
   ]
  },
  {
   "cell_type": "code",
   "execution_count": 53,
   "id": "6b5ad5d5",
   "metadata": {},
   "outputs": [
    {
     "data": {
      "text/plain": [
       "int"
      ]
     },
     "execution_count": 53,
     "metadata": {},
     "output_type": "execute_result"
    }
   ],
   "source": [
    "type(123)"
   ]
  },
  {
   "cell_type": "code",
   "execution_count": 55,
   "id": "90881629",
   "metadata": {},
   "outputs": [
    {
     "data": {
      "text/plain": [
       "float"
      ]
     },
     "execution_count": 55,
     "metadata": {},
     "output_type": "execute_result"
    }
   ],
   "source": [
    "type(123.45)"
   ]
  },
  {
   "cell_type": "code",
   "execution_count": 56,
   "id": "3aa9beb0",
   "metadata": {},
   "outputs": [
    {
     "data": {
      "text/plain": [
       "int"
      ]
     },
     "execution_count": 56,
     "metadata": {},
     "output_type": "execute_result"
    }
   ],
   "source": [
    "type(n)"
   ]
  },
  {
   "cell_type": "code",
   "execution_count": 57,
   "id": "8833fe44",
   "metadata": {},
   "outputs": [
    {
     "data": {
      "text/plain": [
       "8"
      ]
     },
     "execution_count": 57,
     "metadata": {},
     "output_type": "execute_result"
    }
   ],
   "source": [
    "5+3"
   ]
  },
  {
   "cell_type": "code",
   "execution_count": 60,
   "id": "d2949a98",
   "metadata": {},
   "outputs": [
    {
     "data": {
      "text/plain": [
       "2"
      ]
     },
     "execution_count": 60,
     "metadata": {},
     "output_type": "execute_result"
    }
   ],
   "source": [
    "5+3\n",
    "6-6\n",
    "1+1"
   ]
  },
  {
   "cell_type": "code",
   "execution_count": 62,
   "id": "d2e3b533",
   "metadata": {},
   "outputs": [
    {
     "name": "stdout",
     "output_type": "stream",
     "text": [
      "7\n",
      "3\n",
      "10\n",
      "2.5\n"
     ]
    }
   ],
   "source": [
    "print(5+2)\n",
    "print(5-2)\n",
    "print(5*2)\n",
    "print(5/2)"
   ]
  },
  {
   "cell_type": "code",
   "execution_count": 63,
   "id": "0d15fd97",
   "metadata": {},
   "outputs": [
    {
     "ename": "NameError",
     "evalue": "name 'String' is not defined",
     "output_type": "error",
     "traceback": [
      "\u001b[1;31m---------------------------------------------------------------------------\u001b[0m",
      "\u001b[1;31mNameError\u001b[0m                                 Traceback (most recent call last)",
      "Cell \u001b[1;32mIn[63], line 1\u001b[0m\n\u001b[1;32m----> 1\u001b[0m String\n",
      "\u001b[1;31mNameError\u001b[0m: name 'String' is not defined"
     ]
    }
   ],
   "source": [
    "String"
   ]
  },
  {
   "cell_type": "code",
   "execution_count": 64,
   "id": "86971bba",
   "metadata": {},
   "outputs": [
    {
     "data": {
      "text/plain": [
       "'String'"
      ]
     },
     "execution_count": 64,
     "metadata": {},
     "output_type": "execute_result"
    }
   ],
   "source": [
    "\"String\""
   ]
  },
  {
   "cell_type": "code",
   "execution_count": 65,
   "id": "24d1e04d",
   "metadata": {},
   "outputs": [
    {
     "data": {
      "text/plain": [
       "'Test'"
      ]
     },
     "execution_count": 65,
     "metadata": {},
     "output_type": "execute_result"
    }
   ],
   "source": [
    "'Test'"
   ]
  },
  {
   "cell_type": "code",
   "execution_count": 66,
   "id": "b177da0c",
   "metadata": {},
   "outputs": [
    {
     "name": "stdout",
     "output_type": "stream",
     "text": [
      "String\n",
      "Test\n"
     ]
    }
   ],
   "source": [
    "print(\"String\")\n",
    "print('Test')"
   ]
  },
  {
   "cell_type": "code",
   "execution_count": 67,
   "id": "b13ead12",
   "metadata": {},
   "outputs": [
    {
     "name": "stdout",
     "output_type": "stream",
     "text": [
      "그는 \"파이썬이 무엇입니까?\"라고 물었습니다.\n"
     ]
    }
   ],
   "source": [
    "print('그는 \"파이썬이 무엇입니까?\"라고 물었습니다.')"
   ]
  },
  {
   "cell_type": "code",
   "execution_count": 69,
   "id": "ea8f2c71",
   "metadata": {},
   "outputs": [
    {
     "data": {
      "text/plain": [
       "'Hello Python !'"
      ]
     },
     "execution_count": 69,
     "metadata": {},
     "output_type": "execute_result"
    }
   ],
   "source": [
    "\"Hello\"+\" \"+\"Python \" + \"!\""
   ]
  },
  {
   "cell_type": "code",
   "execution_count": 70,
   "id": "f92f38a4",
   "metadata": {},
   "outputs": [
    {
     "data": {
      "text/plain": [
       "'PythonPythonPython'"
      ]
     },
     "execution_count": 70,
     "metadata": {},
     "output_type": "execute_result"
    }
   ],
   "source": [
    "\"Python\"*3"
   ]
  },
  {
   "cell_type": "code",
   "execution_count": 71,
   "id": "107527f6",
   "metadata": {},
   "outputs": [
    {
     "data": {
      "text/plain": [
       "6"
      ]
     },
     "execution_count": 71,
     "metadata": {},
     "output_type": "execute_result"
    }
   ],
   "source": [
    "len(\"Python\")"
   ]
  },
  {
   "cell_type": "code",
   "execution_count": 72,
   "id": "af345b4d",
   "metadata": {},
   "outputs": [
    {
     "data": {
      "text/plain": [
       "9"
      ]
     },
     "execution_count": 72,
     "metadata": {},
     "output_type": "execute_result"
    }
   ],
   "source": [
    "len(\"Python123\")"
   ]
  },
  {
   "cell_type": "code",
   "execution_count": 75,
   "id": "d380881f",
   "metadata": {},
   "outputs": [
    {
     "name": "stdout",
     "output_type": "stream",
     "text": [
      "안녕하세요 저는 강아지 입니다\n",
      "\"고양이\"와 친하게 지낼 생각입니다.\n",
      "'송아지'랑 같이 왔습니다.\n"
     ]
    }
   ],
   "source": [
    "long_str = '''안녕하세요 저는 강아지 입니다\n",
    "\"고양이\"와 친하게 지낼 생각입니다.\n",
    "'송아지'랑 같이 왔습니다.'''\n",
    "\n",
    "print(long_str)"
   ]
  },
  {
   "cell_type": "code",
   "execution_count": 77,
   "id": "0a9f9f3d",
   "metadata": {},
   "outputs": [
    {
     "data": {
      "text/plain": [
       "5"
      ]
     },
     "execution_count": 77,
     "metadata": {},
     "output_type": "execute_result"
    }
   ],
   "source": [
    "list_a = [1, 2, 3, 4, 5]\n",
    "\n",
    "len(list_a)"
   ]
  },
  {
   "cell_type": "code",
   "execution_count": 80,
   "id": "78363922",
   "metadata": {
    "scrolled": true
   },
   "outputs": [
    {
     "name": "stdout",
     "output_type": "stream",
     "text": [
      "False\n",
      "True\n",
      "True\n"
     ]
    }
   ],
   "source": [
    "print(True and False)\n",
    "print(True or False)\n",
    "print(not False)"
   ]
  },
  {
   "cell_type": "code",
   "execution_count": 85,
   "id": "d4020f26",
   "metadata": {},
   "outputs": [
    {
     "name": "stdout",
     "output_type": "stream",
     "text": [
      "False\n",
      "True\n",
      "False\n",
      "True\n",
      "False\n",
      "True\n",
      "\n",
      "\n",
      "False\n",
      "True\n"
     ]
    }
   ],
   "source": [
    "# 숫자 자료형에 대한 비교 연산자 활용 예\n",
    "print(10 == 5) # ----> 거짓(False)\n",
    "print(10 != 5) # ----> 참(True)\n",
    "print(10 < 5) # ----> 거짓(False)\n",
    "print(10 > 5) # ----> 참(True)\n",
    "print(10 <= 5) # ----> 거짓(False)\n",
    "print(10 >= 5) # ----> 참(True)\n",
    "print(\"\\n\")\n",
    "\n",
    "# 불 자료형에 대한 논리 연산자 활용 예\n",
    "print(True == False) # ----> 거짓(False)\n",
    "print(True != False) # ----> 진실(True)"
   ]
  },
  {
   "cell_type": "code",
   "execution_count": 86,
   "id": "19d418ac",
   "metadata": {},
   "outputs": [
    {
     "name": "stdout",
     "output_type": "stream",
     "text": [
      "[10, 20, 30, 40]\n",
      "['programing', 'language', 'python']\n",
      "[1.5, 2.6, '문자열1', '문자열2']\n",
      "[4.0, True, 'abc', [1.5, 2.6, '문자열1', '문자열2']]\n",
      "[]\n"
     ]
    }
   ],
   "source": [
    "list_num = [10, 20, 30, 40]                      # 숫자로 리스트를 구성\n",
    "list_str = ['programing', \"language\", \"python\"]  # 문자열로 리스트를 구성\n",
    "list_mix1 = [1.5, 2.6, '문자열1', '문자열2']     # 숫자와 문자열로 리스트를 구성\n",
    "list_mix2 = [4.0, True, 'abc', list_mix1]       # 숫자, 불 ,문자열, 리스트로 리스트를 구성\n",
    "list_empty = [] # 요소가 없는 빈 리스트\n",
    "\n",
    "\n",
    "print(list_num)\n",
    "print(list_str)\n",
    "print(list_mix1)\n",
    "print(list_mix2)\n",
    "print(list_empty)"
   ]
  },
  {
   "cell_type": "code",
   "execution_count": 87,
   "id": "7a408d22",
   "metadata": {},
   "outputs": [
    {
     "name": "stdout",
     "output_type": "stream",
     "text": [
      "4\n",
      "3\n",
      "4\n",
      "4\n",
      "0\n"
     ]
    }
   ],
   "source": [
    "print(len(list_num))  # 요소의 개수 : 4\n",
    "print(len(list_str))  # 요소의 개수 : 3\n",
    "print(len(list_mix1)) # 요소의 개수 : 4\n",
    "print(len(list_mix2)) # 요소의 개수 : 4\n",
    "print(len(list_empty))# 요소의 개수 : 0"
   ]
  },
  {
   "cell_type": "code",
   "execution_count": 90,
   "id": "496fe2e0",
   "metadata": {},
   "outputs": [
    {
     "data": {
      "text/plain": [
       "40"
      ]
     },
     "execution_count": 90,
     "metadata": {},
     "output_type": "execute_result"
    }
   ],
   "source": [
    "list_num[-1]"
   ]
  },
  {
   "cell_type": "code",
   "execution_count": 91,
   "id": "c13480d7",
   "metadata": {},
   "outputs": [
    {
     "data": {
      "text/plain": [
       "20"
      ]
     },
     "execution_count": 91,
     "metadata": {},
     "output_type": "execute_result"
    }
   ],
   "source": [
    "list_num[1]"
   ]
  },
  {
   "cell_type": "code",
   "execution_count": 94,
   "id": "1804372a",
   "metadata": {},
   "outputs": [
    {
     "name": "stdout",
     "output_type": "stream",
     "text": [
      "10\n",
      "20\n",
      "30\n",
      "40\n",
      "40\n",
      "30\n"
     ]
    }
   ],
   "source": [
    "print(list_num[0])\n",
    "print(list_num[1])\n",
    "print(list_num[2])\n",
    "print(list_num[3])\n",
    "print(list_num[-1])\n",
    "print(list_num[-2])"
   ]
  },
  {
   "cell_type": "code",
   "execution_count": 95,
   "id": "2e5de6e6",
   "metadata": {},
   "outputs": [
    {
     "name": "stdout",
     "output_type": "stream",
     "text": [
      "[4.0, True, 'abc', [1.5, 2.6, '문자열1', '문자열2']]\n",
      "[1.5, 2.6, '문자열1', '문자열2']\n",
      "문자열1\n"
     ]
    }
   ],
   "source": [
    "print(list_mix2)\n",
    "print(list_mix2[3])\n",
    "print(list_mix2[3][2])"
   ]
  },
  {
   "cell_type": "code",
   "execution_count": 96,
   "id": "773a98ef",
   "metadata": {},
   "outputs": [
    {
     "name": "stdout",
     "output_type": "stream",
     "text": [
      "[100, 200, 300, 400]\n",
      "[100, 500, 300, 400]\n"
     ]
    }
   ],
   "source": [
    "list_num1 = [100, 200, 300, 400] # 리스트 생성\n",
    "print(list_num1)\n",
    "\n",
    "list_num1[1] = 500 # 두 번째 요소에 새로운 데이터를 할당\n",
    "print(list_num1)"
   ]
  },
  {
   "cell_type": "code",
   "execution_count": 97,
   "id": "d9e4dafb",
   "metadata": {},
   "outputs": [
    {
     "name": "stdout",
     "output_type": "stream",
     "text": [
      "[10, 20, 30, 40, 50]\n",
      "[10, 20, 40, 50]\n"
     ]
    }
   ],
   "source": [
    "list_num2 = [10,20,30,40,50] # 숫자로 리스트를 구성\n",
    "print(list_num2)\n",
    "\n",
    "\n",
    "del list_num2[2] # 리스트에서 인덱스가 2인 요소를 제거\n",
    "print(list_num2)"
   ]
  },
  {
   "cell_type": "code",
   "execution_count": 98,
   "id": "657e3099",
   "metadata": {},
   "outputs": [
    {
     "name": "stdout",
     "output_type": "stream",
     "text": [
      "ABCDEFG\n",
      "A\n",
      "B\n",
      "G\n",
      "F\n"
     ]
    }
   ],
   "source": [
    "str1 = \"ABCDEFG\"\n",
    "print(str1)     # 문자열 전체 출력\n",
    "print(str1[0])  # 문자열 첫 번째 요소를 가져옴\n",
    "print(str1[1])  # 문자열 두 번째 요소를 가져옴\n",
    "print(str1[-1]) # 문자열 마지막 요소를 가져옴(음수인덱스)\n",
    "print(str1[-2]) # 문자열 마지막 요소의 앞의 요소를 가져옴(음수인덱스)"
   ]
  },
  {
   "cell_type": "code",
   "execution_count": 102,
   "id": "3c0a21b1",
   "metadata": {},
   "outputs": [
    {
     "name": "stdout",
     "output_type": "stream",
     "text": [
      "[0, 10, 20, 30, 40, 50, 60, 70, 80, 90]\n",
      "40\n",
      "[0, 10, 20, 30]\n",
      "[40, 50, 60, 70, 80, 90]\n",
      "[40, 50, 60, 70, 80, 90]\n",
      "[0, 10, 20, 30, 40, 50, 60, 70, 80, 90]\n"
     ]
    }
   ],
   "source": [
    "list_num3 = [0, 10, 20, 30, 40, 50, 60, 70, 80, 90]  # 리스트 생성\n",
    "print(list_num3)      # 리스트 출력\n",
    "print(list_num3[4])   # 인텍스 4번쨰 요소 출력\n",
    "print(list_num3[0:4]) # 인덱스 0 ~ 3 요소 출력\n",
    "print(list_num3[4:])  # 인덱스 4 ~ 마지막 요소 출력\n",
    "print(list_num3[4:10])# 인덱스 4 ~ 9 요소 출력\n",
    "print(list_num3[:])   # start, end 생략. 모든 요소 출력 "
   ]
  },
  {
   "cell_type": "code",
   "execution_count": 104,
   "id": "06cf6ad2",
   "metadata": {},
   "outputs": [
    {
     "name": "stdout",
     "output_type": "stream",
     "text": [
      "가나다라마바사ABCDEFG1234567\n",
      "가나다라마바사\n",
      "가나다라마바사\n",
      "ABCDEFG\n",
      "1234567\n"
     ]
    }
   ],
   "source": [
    "str2 = \"가나다라마바사ABCDEFG1234567\"\n",
    "print(str2)      # 문자열 전체 출력\n",
    "print(str2[0:7]) # 문자열 인덱스 범위: 0 ~ 6\n",
    "print(str2[:7])  # start생략. 문자열 인덱스 범위: 0 ~ 6\n",
    "print(str2[7:14])# 문자열 인덱스 범위: 7 ~ 13\n",
    "print(str2[14:]) # end생략 문자열 인덱스 범위: 14 ~ 끝"
   ]
  },
  {
   "cell_type": "code",
   "execution_count": 105,
   "id": "a55cca04",
   "metadata": {},
   "outputs": [
    {
     "name": "stdout",
     "output_type": "stream",
     "text": [
      "['토마스']\n",
      "['토마스', '고든']\n",
      "['토마스', '고든', '에드워드']\n"
     ]
    }
   ],
   "source": [
    "friends = ['토마스']      # 리스트를 생성\n",
    "print(friends)\n",
    "\n",
    "friends.append('고든')    # 리스트의 끝에 요소('고든')를 추가\n",
    "print(friends)\n",
    "\n",
    "friends.append('에드워드')# 리스트의 끝에 요소('에드워드')를 추가\n",
    "print(friends)"
   ]
  },
  {
   "cell_type": "code",
   "execution_count": 1,
   "id": "1a17aa99",
   "metadata": {},
   "outputs": [
    {
     "name": "stdout",
     "output_type": "stream",
     "text": [
      "(0, 1, 2, 3, 4)\n",
      "(5, 6, 7, 8, 9)\n"
     ]
    }
   ],
   "source": [
    "tuple_num1 = (0, 1, 2, 3, 4)  # 소괄호로 튜플을 생성\n",
    "tuple_num2 = 5, 6, 7, 8, 9    # 괄호 없이 튜플을 생성\n",
    "\n",
    "print(tuple_num1)\n",
    "print(tuple_num2)"
   ]
  },
  {
   "cell_type": "code",
   "execution_count": 2,
   "id": "d57046d6",
   "metadata": {},
   "outputs": [
    {
     "name": "stdout",
     "output_type": "stream",
     "text": [
      "(10,)\n",
      "('데이터1',)\n"
     ]
    }
   ],
   "source": [
    "tuple_num3 = (10,)       # 소괄호로 하나의 요소를 갖는 튜플 생성\n",
    "tuple_num4 = \"데이터1\",  # 괄호 없이 하나의 요소를 갖는 튜플 생성\n",
    "\n",
    "print(tuple_num3)\n",
    "print(tuple_num4)"
   ]
  },
  {
   "cell_type": "code",
   "execution_count": 7,
   "id": "afee2044",
   "metadata": {},
   "outputs": [
    {
     "name": "stdout",
     "output_type": "stream",
     "text": [
      "programming\n",
      "('programming', 'language', 'python', 1)\n"
     ]
    }
   ],
   "source": [
    "tuple_mixed1 = ('programming', 'language', 'python', 1, 2, 3)    # 튜플 생성\n",
    "print(tuple_mixed1[0])   # 튜플 인덱싱\n",
    "print(tuple_mixed1[0:4])  # 튜플 슬라이싱(인덱스 0~3까지의 요소를 선택"
   ]
  },
  {
   "cell_type": "code",
   "execution_count": 9,
   "id": "f1d9bc80",
   "metadata": {},
   "outputs": [
    {
     "name": "stdout",
     "output_type": "stream",
     "text": [
      "{2, 3, 100, 5, 4, 10}\n",
      "{'사과', '배', '귤', '오렌지'}\n"
     ]
    }
   ],
   "source": [
    "set_num = {10, 100, 2, 3, 4, 4, 5}\n",
    "set_str = {\"사과\", \"배\", \"오렌지\", \"귤\", \"귤\"}\n",
    "\n",
    "print(set_num)\n",
    "print(set_str)"
   ]
  },
  {
   "cell_type": "code",
   "execution_count": 10,
   "id": "411ba126",
   "metadata": {},
   "outputs": [
    {
     "ename": "TypeError",
     "evalue": "'set' object is not subscriptable",
     "output_type": "error",
     "traceback": [
      "\u001b[1;31m---------------------------------------------------------------------------\u001b[0m",
      "\u001b[1;31mTypeError\u001b[0m                                 Traceback (most recent call last)",
      "Cell \u001b[1;32mIn[10], line 1\u001b[0m\n\u001b[1;32m----> 1\u001b[0m set_str[\u001b[38;5;241m0\u001b[39m]\n",
      "\u001b[1;31mTypeError\u001b[0m: 'set' object is not subscriptable"
     ]
    }
   ],
   "source": [
    "set_str[0]"
   ]
  },
  {
   "cell_type": "code",
   "execution_count": 11,
   "id": "63921ffa",
   "metadata": {},
   "outputs": [
    {
     "name": "stdout",
     "output_type": "stream",
     "text": [
      "{3, 4}\n",
      "{0, 1, 2, 3, 4, 5, 6, 7}\n",
      "{0, 1, 2}\n",
      "{3, 4}\n",
      "{0, 1, 2, 3, 4, 5, 6, 7}\n",
      "{0, 1, 2}\n"
     ]
    }
   ],
   "source": [
    "set_A = {0, 1, 2, 3, 4}  # 세트(집합) A\n",
    "set_B = {3, 4, 5, 6, 7}  # 세트(집합) B\n",
    "\n",
    "# &, |, - 연산자 사용\n",
    "print(set_A & set_B) # 집합 A와 B의 교집합\n",
    "print(set_A | set_B) # 집합 A와 B의 합집합\n",
    "print(set_A - set_B) # 집합 A와 B의 차집합\n",
    "\n",
    "# intersection(), union(), difference() 메서드 사용\n",
    "print(set_A.intersection(set_B)) # 집합 A와 B의 교집합\n",
    "print(set_A.union(set_B))        # 집합 A와 B의 합집합\n",
    "print(set_A.difference(set_B))   # 집합 A와 B의 차집합"
   ]
  },
  {
   "cell_type": "code",
   "execution_count": 12,
   "id": "e3b9b2a6",
   "metadata": {},
   "outputs": [
    {
     "name": "stdout",
     "output_type": "stream",
     "text": [
      "{1: '사과', 2: '배', 3: '복숭아', 4: '딸기'}\n",
      "{1: 1234, 5: 5678, 7: 7890}\n",
      "{True: '맞습니다.', False: '아닙니다.'}\n",
      "{'ID_101': ['민준', 24], 'ID_102': ['서연', 27]}\n"
     ]
    }
   ],
   "source": [
    "dict_ex1 = {1:'사과', 2:'배', 3:'복숭아', 4:'딸기'}      # 키는 숫자, 값은 문자열\n",
    "dict_ex2 = {1:1234, 5:5678, 7:7890}                      # 키는 숫자, 값은 숫자\n",
    "dict_ex3 = {True:'맞습니다.', False:'아닙니다.'}        # 키는 불, 값은 문자열\n",
    "dict_ex4 = {'ID_101':['민준', 24],'ID_102':['서연', 27]} # 키는 문자열, 값은 리스트\n",
    "\n",
    "print(dict_ex1)\n",
    "print(dict_ex2)\n",
    "print(dict_ex3)\n",
    "print(dict_ex4)"
   ]
  },
  {
   "cell_type": "code",
   "execution_count": 13,
   "id": "f2deae78",
   "metadata": {
    "scrolled": true
   },
   "outputs": [
    {
     "name": "stdout",
     "output_type": "stream",
     "text": [
      "사과\n",
      "7890\n",
      "맞습니다.\n",
      "['서연', 27]\n"
     ]
    }
   ],
   "source": [
    "print(dict_ex1[1])\n",
    "print(dict_ex2[7])\n",
    "print(dict_ex3[True])\n",
    "print(dict_ex4['ID_102'])"
   ]
  },
  {
   "cell_type": "code",
   "execution_count": 16,
   "id": "ed77dc7f",
   "metadata": {},
   "outputs": [
    {
     "name": "stdout",
     "output_type": "stream",
     "text": [
      "{'이름': '박재민', '나이': 24}\n",
      "{'이름': '박재민', '나이': 25}\n",
      "{'이름': '박재민', '나이': 25, '취미': ['게임', '농구']}\n"
     ]
    }
   ],
   "source": [
    "dict_user = {\"이름\": \"박재민\", \"나이\": 24}  #딕셔너리 생성\n",
    "print(dict_user)\n",
    "\n",
    "dict_user[\"나이\"] = 25  # 기존 키로 값을 변경\n",
    "print(dict_user)\n",
    "\n",
    "dict_user[\"취미\"] = [\"게임\",\"농구\"]  # 새로운 키와 값의 쌍을 추가\n",
    "print(dict_user)"
   ]
  },
  {
   "cell_type": "code",
   "execution_count": 17,
   "id": "b6b6abdc",
   "metadata": {},
   "outputs": [
    {
     "name": "stdout",
     "output_type": "stream",
     "text": [
      "{'이름': '조수빈', '나이': 28, '취미': ['독서', '영화']}\n",
      "{'이름': '조수빈', '나이': 28}\n"
     ]
    }
   ],
   "source": [
    "dict_user2 = {'이름':'조수빈', '나이': 28, '취미':['독서', '영화']}\n",
    "print(dict_user2)\n",
    "\n",
    "del dict_user2['취미']  # del을 이용해 딕셔너리의 특정 키와 값의 쌍을 삭제\n",
    "print(dict_user2)"
   ]
  },
  {
   "cell_type": "code",
   "execution_count": 18,
   "id": "3dd810aa",
   "metadata": {
    "scrolled": true
   },
   "outputs": [
    {
     "name": "stdout",
     "output_type": "stream",
     "text": [
      "{0: 'a', 1: 'b', 2: 'c', 3: 'd', 4: 'e'}\n",
      "dict_keys([0, 1, 2, 3, 4])\n",
      "dict_values(['a', 'b', 'c', 'd', 'e'])\n",
      "dict_items([(0, 'a'), (1, 'b'), (2, 'c'), (3, 'd'), (4, 'e')])\n"
     ]
    }
   ],
   "source": [
    "dict_num_alpha = {0:'a', 1:'b', 2:'c', 3:'d', 4:'e'}  # 딕셔너리 생성\n",
    "print(dict_num_alpha)          # dict_num_alpha 출력\n",
    "print(dict_num_alpha.keys())   # 딕셔너리의 키을 가져옴\n",
    "print(dict_num_alpha.values()) # 딕셔너리의 값을 가져옴\n",
    "print(dict_num_alpha.items())  # 딕셔너리의 키와 값의 쌍을 가져옴"
   ]
  },
  {
   "cell_type": "code",
   "execution_count": 20,
   "id": "abe2f959",
   "metadata": {},
   "outputs": [
    {
     "name": "stdout",
     "output_type": "stream",
     "text": [
      "[0, 1, 2, 3, 4]\n",
      "['a', 'b', 'c', 'd', 'e']\n",
      "[(0, 'a'), (1, 'b'), (2, 'c'), (3, 'd'), (4, 'e')]\n"
     ]
    }
   ],
   "source": [
    "print(list(dict_num_alpha.keys()))  # 딕셔너리 키의 반환 결과를 리스트로 변환\n",
    "print(list(dict_num_alpha.values())) # 딕셔너리 값의 반환 결과를 리스트로 변환\n",
    "print(list(dict_num_alpha.items())) # 딕셔너리 키와 값의 쌍 반환 결과를 리스트로 변환"
   ]
  },
  {
   "cell_type": "code",
   "execution_count": 21,
   "id": "744e2977",
   "metadata": {},
   "outputs": [
    {
     "name": "stdout",
     "output_type": "stream",
     "text": [
      "[0, 1, 2, 3, 4]\n"
     ]
    }
   ],
   "source": [
    "print(list(dict_num_alpha))"
   ]
  },
  {
   "cell_type": "code",
   "execution_count": 22,
   "id": "8a327efc",
   "metadata": {
    "scrolled": true
   },
   "outputs": [
    {
     "name": "stdout",
     "output_type": "stream",
     "text": [
      "['d']\n"
     ]
    }
   ],
   "source": [
    "print(list(dict_num_alpha[3]))"
   ]
  },
  {
   "cell_type": "code",
   "execution_count": 23,
   "id": "70b907b8",
   "metadata": {},
   "outputs": [
    {
     "name": "stdout",
     "output_type": "stream",
     "text": [
      "{0: 'a', 1: 'b', 2: 'c', 3: 'd', 4: 'e'}\n",
      "{0: 'a', 1: 'b', 2: 'c', 3: 'd', 4: 'e', 5: 'f', 6: 'g'}\n"
     ]
    }
   ],
   "source": [
    "print(dict_num_alpha) # 기존 딕셔너리 출력\n",
    "\n",
    "dict_new = {5:'f', 6:'g'} # 딕셔너리 생성\n",
    "dict_num_alpha.update(dict_new) # 기존 딕셔너리에 새로운 딕셔너리의 키와 값의 쌍을 추가\n",
    "print(dict_num_alpha) # 새로운 딕셔너리 추가 후 딕셔너리 출력"
   ]
  },
  {
   "cell_type": "code",
   "execution_count": 24,
   "id": "cd4af260",
   "metadata": {},
   "outputs": [
    {
     "name": "stdout",
     "output_type": "stream",
     "text": [
      "b\n",
      "None\n"
     ]
    }
   ],
   "source": [
    "print(dict_num_alpha.get(1))\n",
    "print(dict_num_alpha.get(7))"
   ]
  },
  {
   "cell_type": "code",
   "execution_count": 25,
   "id": "89d7976b",
   "metadata": {},
   "outputs": [
    {
     "name": "stdout",
     "output_type": "stream",
     "text": [
      "{0: ' zero', 1: 'one', 2: 'two', 3: 'three'}\n",
      "{}\n"
     ]
    }
   ],
   "source": [
    "dict_num_eng = {0: ' zero', 1: 'one', 2: 'two', 3: \"three\"}\n",
    "print(dict_num_eng)\n",
    "\n",
    "\n",
    "dict_num_eng.clear()  # 딕셔너리의 모든 키와 값의 쌍을 삭제\n",
    "print(dict_num_eng)"
   ]
  },
  {
   "cell_type": "code",
   "execution_count": 26,
   "id": "e3d0d1d9",
   "metadata": {},
   "outputs": [
    {
     "name": "stdout",
     "output_type": "stream",
     "text": [
      "합격\n"
     ]
    }
   ],
   "source": [
    "x = 95 # x에 95를 할당\n",
    "\n",
    "if x>=90:         # <조건>\n",
    "    print(\"합격\") # <조건>이 참이면 <코드 블록>을 수행"
   ]
  },
  {
   "cell_type": "code",
   "execution_count": 27,
   "id": "02adf85b",
   "metadata": {},
   "outputs": [
    {
     "name": "stdout",
     "output_type": "stream",
     "text": [
      "불합격\n"
     ]
    }
   ],
   "source": [
    "x = 85 # x에 85를 할당\n",
    "\n",
    "if x>=90:          # <조건>\n",
    "    print(\"합격\")  # <조건>이 참이면 <코드 블록1> 수행\n",
    "else:\n",
    "    print(\"불합격\")# <조건>이 참이 아니면 <코드 블록2> 수행"
   ]
  },
  {
   "cell_type": "code",
   "execution_count": 28,
   "id": "e8527fc0",
   "metadata": {},
   "outputs": [
    {
     "name": "stdout",
     "output_type": "stream",
     "text": [
      "0\n",
      "1\n",
      "2\n",
      "3\n",
      "4\n",
      "5\n"
     ]
    }
   ],
   "source": [
    "for num in [0, 1, 2, 3, 4, 5]:\n",
    "    print(num)"
   ]
  },
  {
   "cell_type": "code",
   "execution_count": 29,
   "id": "2e6e259c",
   "metadata": {},
   "outputs": [
    {
     "data": {
      "text/plain": [
       "[0, 1, 2, 3, 4, 5, 6, 7, 8, 9]"
      ]
     },
     "execution_count": 29,
     "metadata": {},
     "output_type": "execute_result"
    }
   ],
   "source": [
    "list(range(0, 10, 1))"
   ]
  },
  {
   "cell_type": "code",
   "execution_count": 30,
   "id": "c60aa427",
   "metadata": {},
   "outputs": [
    {
     "data": {
      "text/plain": [
       "[0, 1, 2, 3, 4, 5, 6, 7, 8, 9]"
      ]
     },
     "execution_count": 30,
     "metadata": {},
     "output_type": "execute_result"
    }
   ],
   "source": [
    "list(range(10))"
   ]
  },
  {
   "cell_type": "code",
   "execution_count": 31,
   "id": "f870d57d",
   "metadata": {},
   "outputs": [
    {
     "name": "stdout",
     "output_type": "stream",
     "text": [
      "0\n",
      "1\n",
      "2\n",
      "3\n",
      "4\n",
      "5\n"
     ]
    }
   ],
   "source": [
    "for num in range(6):\n",
    "    print(num)"
   ]
  },
  {
   "cell_type": "code",
   "execution_count": 33,
   "id": "4a4a31ae",
   "metadata": {},
   "outputs": [
    {
     "data": {
      "text/plain": [
       "[4, 3, 2, 1, 0]"
      ]
     },
     "execution_count": 33,
     "metadata": {},
     "output_type": "execute_result"
    }
   ],
   "source": [
    "numbers = [10, 11, 12, 13, 14]      # 리스트의 길이 5\n",
    "list(range(len(numbers)-1, -1, -1)) # 리스트의 인덱스를 역순으로 생성"
   ]
  },
  {
   "cell_type": "code",
   "execution_count": 36,
   "id": "77703c80",
   "metadata": {},
   "outputs": [
    {
     "name": "stdout",
     "output_type": "stream",
     "text": [
      "4 14\n",
      "3 13\n",
      "2 12\n",
      "1 11\n",
      "0 10\n"
     ]
    }
   ],
   "source": [
    "for k in range(len(numbers)-1, -1, -1): # 리스트의 인덱스를 역순으로 가져와서 처리\n",
    "    print(k, numbers[k]) # 리스트 인덱스(k)와 리스트 요소 출력"
   ]
  },
  {
   "cell_type": "code",
   "execution_count": 40,
   "id": "78bd202e",
   "metadata": {},
   "outputs": [
    {
     "name": "stdout",
     "output_type": "stream",
     "text": [
      "0 10\n",
      "1 20\n",
      "2 30\n",
      "3 40\n"
     ]
    }
   ],
   "source": [
    "list_num = [10, 20, 30, 40]\n",
    "\n",
    "for index, value in enumerate(list_num):\n",
    "    print(index, value)"
   ]
  },
  {
   "cell_type": "code",
   "execution_count": 41,
   "id": "64556500",
   "metadata": {},
   "outputs": [],
   "source": [
    "names = [\"남온조\",\"이청산\",\"최남라\",\"이수혁\",\"이나연\",\"양대수\"] # 이름\n",
    "scores = [96, 85, 100, 70, 80, 75]"
   ]
  },
  {
   "cell_type": "code",
   "execution_count": 44,
   "id": "91b8f163",
   "metadata": {},
   "outputs": [
    {
     "name": "stdout",
     "output_type": "stream",
     "text": [
      "남온조 96\n",
      "이청산 85\n",
      "최남라 100\n",
      "이수혁 70\n",
      "이나연 80\n",
      "양대수 75\n"
     ]
    }
   ],
   "source": [
    "for n in range(len(names)):\n",
    "    print(names[n], scores[n])"
   ]
  },
  {
   "cell_type": "code",
   "execution_count": 45,
   "id": "c0ee093b",
   "metadata": {},
   "outputs": [
    {
     "data": {
      "text/plain": [
       "6"
      ]
     },
     "execution_count": 45,
     "metadata": {},
     "output_type": "execute_result"
    }
   ],
   "source": [
    "len(names)"
   ]
  },
  {
   "cell_type": "code",
   "execution_count": 46,
   "id": "d20738ba",
   "metadata": {},
   "outputs": [
    {
     "name": "stdout",
     "output_type": "stream",
     "text": [
      "남온조 96\n",
      "이청산 85\n",
      "최남라 100\n",
      "이수혁 70\n",
      "이나연 80\n",
      "양대수 75\n"
     ]
    }
   ],
   "source": [
    "for name, score in zip(names,scores):\n",
    "    print(name, score)"
   ]
  },
  {
   "cell_type": "code",
   "execution_count": 51,
   "id": "24fdaeef",
   "metadata": {},
   "outputs": [
    {
     "name": "stdout",
     "output_type": "stream",
     "text": [
      "[0]\n",
      "[0, 1]\n",
      "[0, 1, 2]\n",
      "[0, 1, 2, 3]\n",
      "[0, 1, 2, 3, 4]\n",
      "[0, 1, 2, 3, 4, 5]\n",
      "[0, 1, 2, 3, 4, 5, 6]\n",
      "[0, 1, 2, 3, 4, 5, 6, 7]\n",
      "[0, 1, 2, 3, 4, 5, 6, 7, 8]\n",
      "while문 결과: [0, 1, 2, 3, 4, 5, 6, 7, 8, 9]\n"
     ]
    }
   ],
   "source": [
    "list_num = []   # 빈 리스트 생성\n",
    "count = 0       # count를 0으로 초기화\n",
    "\n",
    "\n",
    "while (count < 10):        # <조건> count가 10보다 작은지 검사\n",
    "    list_num.append(count)  # <코드 블록> list_num에 count 추가\n",
    "    count = count + 1       # <코드 블록> count를 1씩 증가\n",
    "    if count >= 10:\n",
    "        break\n",
    "    print(list_num)\n",
    "\n",
    "print(\"while문 결과:\",list_num)   # 리스트 list_num의 내용을 출력"
   ]
  },
  {
   "cell_type": "code",
   "execution_count": 53,
   "id": "1962d579",
   "metadata": {},
   "outputs": [
    {
     "name": "stdout",
     "output_type": "stream",
     "text": [
      "1 2 3 4 5\n",
      "a b c d e\n",
      "123 abc True\n",
      "['abc', 123, 'def'] {'a': 1, 'b': 2}\n"
     ]
    }
   ],
   "source": [
    "print(1, 2, 3, 4, 5)           # 숫자 출력\n",
    "print('a', 'b', 'c', 'd', 'e') # 문자 출력\n",
    "print(123, \"abc\", True)        # 숫자, 문자, 불 출력\n",
    "print(['abc', 123, 'def'], {\"a\":1, \"b\":2})  # 리스트와 딕셔너리 출력"
   ]
  },
  {
   "cell_type": "code",
   "execution_count": 54,
   "id": "8f506aa8",
   "metadata": {},
   "outputs": [
    {
     "name": "stdout",
     "output_type": "stream",
     "text": [
      "합계:\n",
      "90\n",
      "합계:90\n"
     ]
    }
   ],
   "source": [
    "print(\"합계:\") # end 옵션이 없으면 개행문자가 들어가서 줄 바꿈 수행\n",
    "print(90)\n",
    "print(\"합계:\", end='') # end 옵션에 빈 문자열을 입력해 줄 바꿈이 없도록 함\n",
    "print(90)"
   ]
  },
  {
   "cell_type": "code",
   "execution_count": 55,
   "id": "72ed7498",
   "metadata": {},
   "outputs": [
    {
     "name": "stdout",
     "output_type": "stream",
     "text": [
      "나는 파이썬을 이용해 \n",
      "많은 업무를 \n",
      "자동화합니다.\n"
     ]
    }
   ],
   "source": [
    "print(\"나는 파이썬을 이용해 \\n많은 업무를 \\n자동화합니다.\")"
   ]
  },
  {
   "cell_type": "code",
   "execution_count": 56,
   "id": "494b8c67",
   "metadata": {},
   "outputs": [
    {
     "name": "stdout",
     "output_type": "stream",
     "text": [
      "문자열 출력: Banana, Apple, Orange\n",
      "문자열 출력: Orange, Banana, Apple\n"
     ]
    }
   ],
   "source": [
    "fruit_0 = \"Banana\"\n",
    "fruit_1 = \"Apple\"\n",
    "fruit_2 = \"Orange\"\n",
    "\n",
    "print(\"문자열 출력: {0}, {1}, {2}\".format(fruit_0, fruit_1, fruit_2))\n",
    "print(\"문자열 출력: {2}, {0}, {1}\".format(fruit_0, fruit_1, fruit_2))"
   ]
  },
  {
   "cell_type": "code",
   "execution_count": 57,
   "id": "ea50d833",
   "metadata": {},
   "outputs": [
    {
     "name": "stdout",
     "output_type": "stream",
     "text": [
      "문자열 출력: Banana, Apple, Orange\n"
     ]
    }
   ],
   "source": [
    "print(\"문자열 출력: {}, {}, {}\".format(fruit_0, fruit_1, fruit_2))"
   ]
  },
  {
   "cell_type": "code",
   "execution_count": 58,
   "id": "f8354b50",
   "metadata": {},
   "outputs": [
    {
     "name": "stdout",
     "output_type": "stream",
     "text": [
      "숫자 출력: 123, 3.141592653589\n"
     ]
    }
   ],
   "source": [
    "num_int = 123\n",
    "num_float = 3.141592653589\n",
    "\n",
    "print(\"숫자 출력: {0}, {1}\".format(num_int,num_float))"
   ]
  },
  {
   "cell_type": "code",
   "execution_count": 59,
   "id": "d7116946",
   "metadata": {},
   "outputs": [
    {
     "name": "stdout",
     "output_type": "stream",
     "text": [
      "이름: 최서희, 전화번호: 010-12zy-5678\n"
     ]
    }
   ],
   "source": [
    "name = \"최서희\"\n",
    "phone_number = \"010-12zy-5678\"\n",
    "\n",
    "print(f\"이름: {name}, 전화번호: {phone_number}\")  # f-문자열 방식을 이용한 출력"
   ]
  },
  {
   "cell_type": "code",
   "execution_count": 1,
   "id": "31ca92fe",
   "metadata": {},
   "outputs": [
    {
     "ename": "ZeroDivisionError",
     "evalue": "division by zero",
     "output_type": "error",
     "traceback": [
      "\u001b[1;31m---------------------------------------------------------------------------\u001b[0m",
      "\u001b[1;31mZeroDivisionError\u001b[0m                         Traceback (most recent call last)",
      "Cell \u001b[1;32mIn[1], line 1\u001b[0m\n\u001b[1;32m----> 1\u001b[0m \u001b[38;5;241m10\u001b[39m\u001b[38;5;241m/\u001b[39m\u001b[38;5;241m0\u001b[39m\n",
      "\u001b[1;31mZeroDivisionError\u001b[0m: division by zero"
     ]
    }
   ],
   "source": [
    "10/0"
   ]
  },
  {
   "cell_type": "code",
   "execution_count": 2,
   "id": "fe03c30a",
   "metadata": {},
   "outputs": [
    {
     "name": "stdout",
     "output_type": "stream",
     "text": [
      "실행 중 오류가 발생했습니다.\n"
     ]
    }
   ],
   "source": [
    "try:\n",
    "    10/0\n",
    "except:\n",
    "    print(\"실행 중 오류가 발생했습니다.\")"
   ]
  },
  {
   "cell_type": "code",
   "execution_count": 3,
   "id": "e3d05a9b",
   "metadata": {},
   "outputs": [
    {
     "name": "stdout",
     "output_type": "stream",
     "text": [
      "실행 중 숫자를 0으로 나누었습니다.\n"
     ]
    }
   ],
   "source": [
    "try:\n",
    "    10/0\n",
    "except ZeroDivisionError:\n",
    "    print(\"실행 중 숫자를 0으로 나누었습니다.\")"
   ]
  },
  {
   "cell_type": "code",
   "execution_count": 4,
   "id": "7578721d",
   "metadata": {},
   "outputs": [
    {
     "name": "stdout",
     "output_type": "stream",
     "text": [
      "k = 1\n",
      "k = 2\n",
      "k = 3. 일부러 예외 발생\n",
      "실행 중 오류가 발생했습니다.\n"
     ]
    }
   ],
   "source": [
    "try:\n",
    "    for k in [1, 2, 3]:\n",
    "        if(k==3):\n",
    "            print(\"k = {0}. 일부러 예외 발생\".format(k))\n",
    "            raise\n",
    "        else:\n",
    "            print(\"k = {0}\".format(k))\n",
    "except:\n",
    "    print(\"실행 중 오류가 발생했습니다.\")"
   ]
  },
  {
   "cell_type": "code",
   "execution_count": 7,
   "id": "f9f2b213",
   "metadata": {},
   "outputs": [
    {
     "name": "stdout",
     "output_type": "stream",
     "text": [
      "오류가 발생했습니다.\n",
      "tulpe_num = (1, 2, 3)\n"
     ]
    }
   ],
   "source": [
    "tuple_num = (1, 2, 3) # 튜플 데이터\n",
    "\n",
    "try:\n",
    "    tuple_num[0] = 4 # 튜플의 요소를 변경할 수 없어 오류 발생\n",
    "except:\n",
    "    print(\"오류가 발생했습니다.\")\n",
    "finally:\n",
    "    print(\"tulpe_num = {0}\".format(tuple_num))"
   ]
  },
  {
   "cell_type": "code",
   "execution_count": 8,
   "id": "ac844fa4",
   "metadata": {
    "scrolled": true
   },
   "outputs": [
    {
     "name": "stdout",
     "output_type": "stream",
     "text": [
      "=====\n",
      "(^o^)\n",
      "=====\n"
     ]
    }
   ],
   "source": [
    "# 함수의 정의(이모티콘 출력)\n",
    "def my_emoticon():\n",
    "    print(\"=====\")\n",
    "    print(\"(^o^)\")\n",
    "    print(\"=====\")\n",
    "    \n",
    "# 함수의 호출\n",
    "my_emoticon()"
   ]
  },
  {
   "cell_type": "code",
   "execution_count": 10,
   "id": "1e3554af",
   "metadata": {},
   "outputs": [
    {
     "name": "stdout",
     "output_type": "stream",
     "text": [
      "---게임 정보---\n",
      "이름: AI개발자 지망생\n",
      "버전: 2.02\n",
      "장르: MMORPG\n"
     ]
    }
   ],
   "source": [
    "# 함수의 정의(게임 정보 출력)\n",
    "def game_info_display(name, version, genre): # 3개의 매개변수를 갖는 변수\n",
    "    print(\"---게임 정보---\")\n",
    "    print(\"이름:\", name)\n",
    "    print(\"버전:\", version)\n",
    "    print(\"장르:\", genre)\n",
    "    \n",
    "# 함수의 호출(매개변수의 개수와 같은 순서로 인수를 입력)\n",
    "game_info_display(\"AI개발자 지망생\", \"2.02\", \"MMORPG\")"
   ]
  },
  {
   "cell_type": "code",
   "execution_count": 11,
   "id": "3b8eea78",
   "metadata": {},
   "outputs": [
    {
     "data": {
      "text/plain": [
       "7"
      ]
     },
     "execution_count": 11,
     "metadata": {},
     "output_type": "execute_result"
    }
   ],
   "source": [
    "# 함수의 정의(y = 2*x 1)\n",
    "def my_func(x):\n",
    "    y = 2*x + 1\n",
    "    return y\n",
    "\n",
    "# 함수의 호풀(함수의 인수는 숫자로 입력)\n",
    "my_func(3)"
   ]
  },
  {
   "cell_type": "code",
   "execution_count": 13,
   "id": "ca20d2f6",
   "metadata": {},
   "outputs": [
    {
     "data": {
      "text/plain": [
       "11"
      ]
     },
     "execution_count": 13,
     "metadata": {},
     "output_type": "execute_result"
    }
   ],
   "source": [
    "result = my_func(5)\n",
    "result"
   ]
  },
  {
   "cell_type": "code",
   "execution_count": 14,
   "id": "fba29abb",
   "metadata": {},
   "outputs": [
    {
     "data": {
      "text/plain": [
       "(45, 5.0)"
      ]
     },
     "execution_count": 14,
     "metadata": {},
     "output_type": "execute_result"
    }
   ],
   "source": [
    "# 함수의 정의(리스트를 입력받아 함계와 평균을 반환)\n",
    "def calc_sum_mean(list_data):\n",
    "    e_count = 0 # 요소 개수(초기화)\n",
    "    e_sum = 0   # 요소 합계(초기화)\n",
    "    \n",
    "    for element in list_data:\n",
    "        e_count = e_count + 1\n",
    "        e_sum = e_sum + e_count\n",
    "    \n",
    "    e_mean = e_sum / e_count\n",
    "    \n",
    "    return e_sum, e_mean # 계산 합계와 평균을 반환(자료형은 튜플)\n",
    "\n",
    "# 함수의 호출(인수는 리스트로 입력)\n",
    "calc_sum_mean([1, 2, 3, 4, 5, 6, 7, 8, 9])"
   ]
  },
  {
   "cell_type": "code",
   "execution_count": 15,
   "id": "a7099010",
   "metadata": {},
   "outputs": [
    {
     "name": "stdout",
     "output_type": "stream",
     "text": [
      "45\n",
      "5.0\n"
     ]
    }
   ],
   "source": [
    "list_sum, list_mean = calc_sum_mean([1, 2, 3, 4, 5, 6, 7, 8, 9])\n",
    "\n",
    "print(list_sum)\n",
    "print(list_mean)"
   ]
  },
  {
   "cell_type": "code",
   "execution_count": 16,
   "id": "0db41945",
   "metadata": {},
   "outputs": [],
   "source": [
    "def my_add(a=1, b=2, c=3):\n",
    "\n",
    "    y = a + b + c\n",
    "\n",
    "    print(\"{0} + {1} + {2}  = {3}\".format(a, b, c, y))"
   ]
  },
  {
   "cell_type": "code",
   "execution_count": 17,
   "id": "e4a598dc",
   "metadata": {},
   "outputs": [
    {
     "name": "stdout",
     "output_type": "stream",
     "text": [
      "1 + 2 + 3  = 6\n",
      "11 + 2 + 3  = 16\n",
      "11 + 12 + 3  = 26\n",
      "11 + 12 + 13  = 36\n"
     ]
    }
   ],
   "source": [
    "# 모든 매개변수가 기본값을 사용\n",
    "my_add()\n",
    "\n",
    "# 첫 번째 매개변수는 입력한 인수를 사용하고 나머지는 기본값을 사용\n",
    "my_add(11)\n",
    "\n",
    "# 첫 번째와 두 번째 매개변수는 입력한 인수를 사용하고 나머지는 기본값을 사용\n",
    "my_add(11, 12)\n",
    "\n",
    "# 모든 매개변수가 입력한 인수를 사용\n",
    "my_add(11, 12, 13)"
   ]
  },
  {
   "cell_type": "code",
   "execution_count": 18,
   "id": "5f3f911e",
   "metadata": {},
   "outputs": [
    {
     "name": "stdout",
     "output_type": "stream",
     "text": [
      "11 + 2 + 13  = 26\n",
      "1 + 12 + 13  = 26\n"
     ]
    }
   ],
   "source": [
    "# 첫 번째와 세 번째 매개변수는 입력한 인수를 사용하고 두 번째를 기본값을 사용\n",
    "my_add(11, c=13) # 인수 입력이 매개변수에 의한 입력보다 먼저 와야 함.\n",
    "\n",
    "# 두 번째와 세 번째 매개변수는 입력한 인수를 사용하고 첫 번째는 기본 값 사용\n",
    "my_add(c=13, b=12) # 매개변수에 의한 입력끼리는 순서가 중요하지 않음"
   ]
  },
  {
   "cell_type": "code",
   "execution_count": 22,
   "id": "7bae7594",
   "metadata": {},
   "outputs": [],
   "source": [
    "def my_add(a, b, c=3, d=4):\n",
    "    y = a + b + c +d\n",
    "    print(\"{0} + {1} + {2} + {3} = {4}\".format(a, b, c, d, y))"
   ]
  },
  {
   "cell_type": "code",
   "execution_count": 23,
   "id": "81ce1f2a",
   "metadata": {},
   "outputs": [
    {
     "name": "stdout",
     "output_type": "stream",
     "text": [
      "1 + 2 + 3 + 4 = 10\n",
      "1 + 2 + 13 + 4 = 20\n",
      "1 + 2 + 13 + 14 = 30\n",
      "1 + 2 + 3 + 14 = 20\n"
     ]
    }
   ],
   "source": [
    "my_add(1, 2)        # 기본값 없는 매개변수는 반드시 인수 필요. c와 d에는 기본값 입력\n",
    "my_add(1, 2, 13)    # d에는 기본값이 입력됨\n",
    "my_add(1, 2, 13, 14)# c와 d에 모두 인수로 지정한 값 입력\n",
    "my_add(1, 2, d=14)  # c에는 기본값이 입력됨"
   ]
  },
  {
   "cell_type": "code",
   "execution_count": 24,
   "id": "39811735",
   "metadata": {},
   "outputs": [
    {
     "name": "stdout",
     "output_type": "stream",
     "text": [
      "정수로 변환 [12, 1234, 0, -56]\n",
      "실수로 변환 [12.0, 12.34, 56.0, -98.0]\n",
      "문자열로 변환 ['12', '12.34']\n"
     ]
    }
   ],
   "source": [
    "print(\"정수로 변환\", [int(12.34), int(\"1234\"), int(0.56),int(-56.78)])\n",
    "print(\"실수로 변환\", [float(12), float(\"12.34\"), float(\"56\"), float(-98)])\n",
    "print(\"문자열로 변환\", [str(12), str(12.34)])"
   ]
  },
  {
   "cell_type": "code",
   "execution_count": 25,
   "id": "57c98075",
   "metadata": {},
   "outputs": [
    {
     "name": "stdout",
     "output_type": "stream",
     "text": [
      "최소: -2\n",
      "최대: 5\n",
      "합계: 12\n"
     ]
    }
   ],
   "source": [
    "list_data = [-2, -1, 0, 1, 2, 3, 4, 5] # 리스트 데이터\n",
    "\n",
    "print(\"최소:\", min(list_data)) # 리스트 요소의 최솟값\n",
    "print(\"최대:\", max(list_data)) # 리스트 요소의 최댓값\n",
    "print(\"합계:\", sum(list_data)) # 리스트 요소의 합"
   ]
  },
  {
   "cell_type": "code",
   "execution_count": 30,
   "id": "b90b9599",
   "metadata": {},
   "outputs": [
    {
     "name": "stdout",
     "output_type": "stream",
     "text": [
      "평균: 1.5\n"
     ]
    }
   ],
   "source": [
    "mean = sum(list_data) / len(list_data)\n",
    "\n",
    "print(\"평균:\", mean)"
   ]
  },
  {
   "cell_type": "code",
   "execution_count": 33,
   "id": "25f49c93",
   "metadata": {},
   "outputs": [
    {
     "name": "stdout",
     "output_type": "stream",
     "text": [
      "세트 데이터: {0, 1, 2, 3, -1, -2}\n",
      "최소: -2, 최대: 3\n",
      "합계: 3, 데이터 개수: 6\n"
     ]
    }
   ],
   "source": [
    "set_data = {-2, -1, 0, 1, 2, 3, 3, 3} # 중복 요소는 제거하고 세트 생성\n",
    "\n",
    "print(\"세트 데이터:\", set_data)\n",
    "print(\"최소: {}, 최대: {}\".format(min(set_data), max(set_data)))\n",
    "print(\"합계: {}, 데이터 개수: {}\".format(sum(set_data), len(set_data)))"
   ]
  },
  {
   "cell_type": "code",
   "execution_count": 35,
   "id": "60a56e85",
   "metadata": {},
   "outputs": [
    {
     "name": "stdout",
     "output_type": "stream",
     "text": [
      "이름을 입력하세요:이준혁\n",
      "나이를 입력하세요:28\n",
      "안녕하세요, 이준혁님 당신의 나이는 28살로 성인입니다.\n"
     ]
    }
   ],
   "source": [
    "name = input(\"이름을 입력하세요:\")\n",
    "age = int(input(\"나이를 입력하세요:\"))\n",
    "\n",
    "if age >= 20:\n",
    "    print(f\"안녕하세요, {name}님 당신의 나이는 {age}살로 성인입니다.\")\n",
    "else:\n",
    "    print(f\"안녕하세요, {name}님 당신의 나이는{age}살로 성인이 아닙니다.\")"
   ]
  },
  {
   "cell_type": "code",
   "execution_count": 37,
   "id": "27c47167",
   "metadata": {},
   "outputs": [
    {
     "name": "stdout",
     "output_type": "stream",
     "text": [
      "키 입력(cm):172.5\n",
      "몸무게 입력(kg): 65.2\n",
      "BMI: 21.91\n"
     ]
    }
   ],
   "source": [
    "height = float(input(\"키 입력(cm):\"))      # 입력받은 문자열을 실수로 변환\n",
    "weight = float(input(\"몸무게 입력(kg): \")) # 입력받은 문자열을 실수로 변환\n",
    "\n",
    "BMI = weight / ((height/100)**2) # BMI 계산 공식 체중(kg) / 키(m)의 제곱\n",
    "\n",
    "print(f\"BMI: {BMI:.2f}\")"
   ]
  },
  {
   "cell_type": "code",
   "execution_count": 39,
   "id": "b12eecf8",
   "metadata": {},
   "outputs": [
    {
     "name": "stdout",
     "output_type": "stream",
     "text": [
      "Writing C:\\myPyAI\\code\\calc_area.py\n"
     ]
    }
   ],
   "source": [
    "%%writefile C:\\myPyAI\\code\\calc_area.py\n",
    "# File name: calc_area.py\n",
    "PI = 3.14\n",
    "def rectangle(l, w): # 직사각형(가로: ㅣ, 세로: w)의 넓이를 반환\n",
    "    return l * w\n",
    "\n",
    "def circle(r): # 원(반지름: r)의 넓이를 반환\n",
    "    return PI * r ** 2"
   ]
  },
  {
   "cell_type": "code",
   "execution_count": 1,
   "id": "f9817a4c",
   "metadata": {},
   "outputs": [
    {
     "name": "stdout",
     "output_type": "stream",
     "text": [
      "C:\\myPyAI\\code\n"
     ]
    }
   ],
   "source": [
    "cd C:\\myPyAI\\code"
   ]
  },
  {
   "cell_type": "code",
   "execution_count": 2,
   "id": "a709b8a4",
   "metadata": {},
   "outputs": [
    {
     "name": "stdout",
     "output_type": "stream",
     "text": [
      "원주율:3.14, 직사각형 넓이: 10, 원의 넓이: 28.26\n"
     ]
    }
   ],
   "source": [
    "import calc_area # 모듈 임포트\n",
    "\n",
    "pi = calc_area.PI                 # 임포트한 모듈의 변수를 사용\n",
    "rect = calc_area.rectangle(5, 2)  # 임포트한 모듈의 함수를 호출\n",
    "circ = calc_area.circle(3)        # 임포트한 모듈의 함수를 호출\n",
    "\n",
    "print(f\"원주율:{pi}, 직사각형 넓이: {rect}, 원의 넓이: {circ}\")"
   ]
  },
  {
   "cell_type": "code",
   "execution_count": 3,
   "id": "85d5b571",
   "metadata": {},
   "outputs": [
    {
     "name": "stdout",
     "output_type": "stream",
     "text": [
      "C:\\myPyAI\n"
     ]
    }
   ],
   "source": [
    "cd C:\\myPyAI"
   ]
  },
  {
   "cell_type": "code",
   "execution_count": 4,
   "id": "d80fe885",
   "metadata": {},
   "outputs": [
    {
     "name": "stdout",
     "output_type": "stream",
     "text": [
      "원주율:3.14, 직사각형 넓이: 10, 원의 넓이: 28.26\n"
     ]
    }
   ],
   "source": [
    "import calc_area # 모듈 임포트\n",
    "\n",
    "pi = calc_area.PI                 # 임포트한 모듈의 변수를 사용\n",
    "rect = calc_area.rectangle(5, 2)  # 임포트한 모듈의 함수를 호출\n",
    "circ = calc_area.circle(3)        # 임포트한 모듈의 함수를 호출\n",
    "\n",
    "print(f\"원주율:{pi}, 직사각형 넓이: {rect}, 원의 넓이: {circ}\")"
   ]
  },
  {
   "cell_type": "code",
   "execution_count": 116,
   "id": "283ef53e",
   "metadata": {},
   "outputs": [
    {
     "name": "stdout",
     "output_type": "stream",
     "text": [
      "Writing C:\\myPyAI\\code\\car2.py\n"
     ]
    }
   ],
   "source": [
    "%%writefile C:\\myPyAI\\code\\car2.py\n",
    "# File name: car.py\n",
    "\n",
    "class Car(): # 클래스 선언\n",
    "    def __init__(self, size, color):\n",
    "        self.size = size   # 인스턴스 변수 생성 및 초기화\n",
    "        self.color = color # 인스턴스 변수 생성 및 초기화\n",
    "        \n",
    "    def move(self):\n",
    "        print(f\"자동차({self.size} & {self.color})가 움직입니다.\")"
   ]
  },
  {
   "cell_type": "code",
   "execution_count": 118,
   "id": "8e2f32f0",
   "metadata": {},
   "outputs": [
    {
     "name": "stdout",
     "output_type": "stream",
     "text": [
      "자동차(중형 & 은색)가 움직입니다.\n"
     ]
    }
   ],
   "source": [
    "import car2\n",
    "a = car2.Car(\"중형\", \"은색\")\n",
    "a.move()"
   ]
  },
  {
   "cell_type": "code",
   "execution_count": 119,
   "id": "d1320eb0",
   "metadata": {},
   "outputs": [
    {
     "name": "stdout",
     "output_type": "stream",
     "text": [
      "원주율:3.14, 직사각형 넓이: 10, 원의 넓이: 28.26\n"
     ]
    }
   ],
   "source": [
    "from calc_area import PI, rectangle, circle # 모듈의 변수, 함수를 임포트\n",
    "\n",
    "pi = PI                 # 모듈명 없이 바로 변수 사용\n",
    "rect = rectangle(5, 2)  # 모듈명 없이 바로 함수를 호출\n",
    "circ = circle(3)        # 모듈명 없이 바로 함수를 호출\n",
    "\n",
    "print(f\"원주율:{pi}, 직사각형 넓이: {rect}, 원의 넓이: {circ}\")"
   ]
  },
  {
   "cell_type": "code",
   "execution_count": 121,
   "id": "82938d62",
   "metadata": {},
   "outputs": [
    {
     "name": "stdout",
     "output_type": "stream",
     "text": [
      "원주율:3.14, 직사각형 넓이: 10, 원의 넓이: 28.26\n"
     ]
    }
   ],
   "source": [
    "import calc_area as area   # 모듈을 불러와서 별명으로 지정\n",
    "\n",
    "pi = area.PI                # 임포트한 모듈의 별명과 함께 변수를 사용\n",
    "rect = area.rectangle(5, 2) # 임포트한 모듈의 별명과 함께 함수를 호출\n",
    "circ = area.circle(3)       # 임포트한 모듈의 별명과 함께 함수를 호출\n",
    "\n",
    "print(f\"원주율:{pi}, 직사각형 넓이: {rect}, 원의 넓이: {circ}\")"
   ]
  },
  {
   "cell_type": "code",
   "execution_count": 122,
   "id": "bac3d682",
   "metadata": {},
   "outputs": [
    {
     "name": "stdout",
     "output_type": "stream",
     "text": [
      "원주율:3.14, 직사각형 넓이: 10, 원의 넓이: 28.26\n"
     ]
    }
   ],
   "source": [
    "from calc_area import PI as pi          # 모듈의 변수를 별명으로 지정\n",
    "from calc_area import rectangle as rect # 모듈의 함수를 별명으로 지정\n",
    "from calc_area import circle as circ    # 모듈의 함수를 별명으로 지정\n",
    "\n",
    "p = pi          # 모듈의 변수를 별명으로 사용\n",
    "r = rect(5, 2)  # 모듈의 함수를 별명으로 호출\n",
    "c = circ(3)     # 모듈의 함수를 별명으로 호출\n",
    "\n",
    "print(f\"원주율:{p}, 직사각형 넓이: {r}, 원의 넓이: {c}\")"
   ]
  },
  {
   "cell_type": "code",
   "execution_count": 2,
   "id": "29671cb8",
   "metadata": {},
   "outputs": [
    {
     "name": "stdout",
     "output_type": "stream",
     "text": [
      "- 파일의 전체 경로: C:\\myPyAI\\code\\car.py\n",
      "- 파일의 디렉터리: C:\\myPyAI\\code\n",
      "- 파일명: car.py\n",
      "- 파일의 확장자: .py\n",
      "- 확장자 제외한 파일명: car\n"
     ]
    }
   ],
   "source": [
    "from pathlib import Path\n",
    "\n",
    "# 파일의 경로 입력해 Path 클래스에서 file_path 객체 생성\n",
    "file_path = Path('C:\\myPyAI/code/car.py')\n",
    "\n",
    "print(\"- 파일의 전체 경로:\", file_path)         # 파일의 전체 경로 출력\n",
    "print(\"- 파일의 디렉터리:\", file_path.parent)   # 파일의 디렉터리 출력\n",
    "print(\"- 파일명:\", file_path.name)              # 파일의 이름 출력\n",
    "print(\"- 파일의 확장자:\", file_path.suffix)     # 파일의 확장자 출력\n",
    "print(\"- 확장자 제외한 파일명:\", file_path.stem)# 확장자를 제외한 파일명 출력\n"
   ]
  },
  {
   "cell_type": "code",
   "execution_count": 3,
   "id": "de384f48",
   "metadata": {},
   "outputs": [
    {
     "name": "stdout",
     "output_type": "stream",
     "text": [
      "- 지정한 경로: C:\\myPyAI\\code\n",
      "- 경로 존재 여부 확인: True\n",
      "- 경로가 디렉터리(폴더)인지 확인: True\n",
      "- 경로가 파일인지 확인: False\n",
      "- 홈 디렉터리: C:\\Users\\JUNHYUK\n"
     ]
    }
   ],
   "source": [
    "from pathlib import Path\n",
    "\n",
    "dir_path = Path('C:\\myPyAI\\code')   # 디렉터리 경로를 입력해 dir_path 객체 생성\n",
    "\n",
    "print(\"- 지정한 경로:\", dir_path)\n",
    "print(\"- 경로 존재 여부 확인:\", dir_path.exists())\n",
    "print(\"- 경로가 디렉터리(폴더)인지 확인:\", dir_path.is_dir())\n",
    "print(\"- 경로가 파일인지 확인:\", dir_path.is_file())\n",
    "print(\"- 홈 디렉터리:\", dir_path.home())\n"
   ]
  },
  {
   "cell_type": "code",
   "execution_count": 5,
   "id": "4ea9ce88",
   "metadata": {},
   "outputs": [
    {
     "name": "stdout",
     "output_type": "stream",
     "text": [
      "- 파일의 전체 경로: C:\\myPyAI\\code\\car.py\n",
      "- 경로 존재 여부 확인: False\n",
      "- 경로가 디렉터리(폴더)인지 확인: False\n",
      "- 경로가 파일인지 확인: False\n"
     ]
    }
   ],
   "source": [
    "print(\"- 파일의 전체 경로:\", file_path)\n",
    "print(\"- 경로 존재 여부 확인:\", file_path.exists())\n",
    "print(\"- 경로가 디렉터리(폴더)인지 확인:\", file_path.is_dir())\n",
    "print(\"- 경로가 파일인지 확인:\", file_path.is_file())"
   ]
  },
  {
   "cell_type": "code",
   "execution_count": 7,
   "id": "f1dc45bc",
   "metadata": {},
   "outputs": [
    {
     "name": "stdout",
     "output_type": "stream",
     "text": [
      "C:\\myPyAI\\code\\st 디렉터리의 존재 여부:True\n"
     ]
    }
   ],
   "source": [
    "from pathlib import Path\n",
    "\n",
    "# 디렉터리 경로를 입력해 path 객체를 생성\n",
    "dir_path = Path('C:\\myPyAI\\code\\st')\n",
    "\n",
    "# 디렉터리가 없다면 생성\n",
    "dir_path.mkdir(parents=True, exist_ok=True)\n",
    "\n",
    "\n",
    "# 생성한 디렉터리의 존재 여부 확인\n",
    "print(\"{0} 디렉터리의 존재 여부:{1}\".format(dir_path, dir_path.exists()))"
   ]
  },
  {
   "cell_type": "code",
   "execution_count": 9,
   "id": "64b74c8c",
   "metadata": {},
   "outputs": [
    {
     "ename": "NameError",
     "evalue": "name 'year' is not defined",
     "output_type": "error",
     "traceback": [
      "\u001b[1;31m---------------------------------------------------------------------------\u001b[0m",
      "\u001b[1;31mNameError\u001b[0m                                 Traceback (most recent call last)",
      "Cell \u001b[1;32mIn[9], line 3\u001b[0m\n\u001b[0;32m      1\u001b[0m \u001b[38;5;28;01mfrom\u001b[39;00m \u001b[38;5;21;01mdatetime\u001b[39;00m \u001b[38;5;28;01mimport\u001b[39;00m date, time, datetime, timedelta\n\u001b[1;32m----> 3\u001b[0m date_obj \u001b[38;5;241m=\u001b[39m date(year, month, day)\n\u001b[0;32m      4\u001b[0m time_obj \u001b[38;5;241m=\u001b[39m time(hour\u001b[38;5;241m=\u001b[39m\u001b[38;5;241m0\u001b[39m, minute\u001b[38;5;241m=\u001b[39m\u001b[38;5;241m0\u001b[39m, second\u001b[38;5;241m=\u001b[39m\u001b[38;5;241m0\u001b[39m, microsecond\u001b[38;5;241m=\u001b[39m\u001b[38;5;241m0\u001b[39m)\n\u001b[0;32m      5\u001b[0m datatime_obj \u001b[38;5;241m=\u001b[39m datetime(year, moth, day, hour\u001b[38;5;241m=\u001b[39m\u001b[38;5;241m0\u001b[39m, minute\u001b[38;5;241m=\u001b[39m\u001b[38;5;241m0\u001b[39m, second\u001b[38;5;241m=\u001b[39m\u001b[38;5;241m0\u001b[39m, microsecond\u001b[38;5;241m=\u001b[39m\u001b[38;5;241m0\u001b[39m)\n",
      "\u001b[1;31mNameError\u001b[0m: name 'year' is not defined"
     ]
    }
   ],
   "source": [
    "from datetime import date, time, datetime, timedelta\n",
    "\n",
    "date_obj = date(year, month, day)\n",
    "time_obj = time(hour=0, minute=0, second=0, microsecond=0)\n",
    "datatime_obj = datetime(year, moth, day, hour=0, minute=0, second=0, microsecond=0)\n",
    "timedelta_obj = timedelta(days=0, seconds=0, microsecond=0, milliseconds=0, minutes=0,hours=0, weeks=0)\n"
   ]
  },
  {
   "cell_type": "code",
   "execution_count": 23,
   "id": "13627ad8",
   "metadata": {},
   "outputs": [
    {
     "name": "stdout",
     "output_type": "stream",
     "text": [
      "[date 클래스로 날짜 지정] 2023-10-09\n",
      "[date 클래스의 속성 이용]2023/10/9\n",
      "[time 클래스로 시각 지정] 15:23:21\n",
      "[time 클래스의 속성 지정] 15/23/21\n",
      "[datetime 클래스로 날짜와 시각 지정] 2024-08-15 20:19:45\n"
     ]
    },
    {
     "data": {
      "text/plain": [
       "datetime.timedelta(days=6)"
      ]
     },
     "execution_count": 23,
     "metadata": {},
     "output_type": "execute_result"
    }
   ],
   "source": [
    "from datetime import date, time, datetime, timedelta\n",
    "\n",
    "date_obj = date(2023, 10, 9) # 날짜 지정\n",
    "time_obj = time(15, 23, 21) # 시각 지정\n",
    "datetime_obj = datetime(2024, 8, 15, 20, 19, 45)  # 날짜와 시각 지정\n",
    "\n",
    "print(\"[date 클래스로 날짜 지정]\", date_obj)\n",
    "print(\"[date 클래스의 속성 이용]{0}/{1}/{2}\".format(date_obj.year, date_obj.month, date_obj.day))\n",
    "      \n",
    "print(\"[time 클래스로 시각 지정]\", time_obj)\n",
    "print(\"[time 클래스의 속성 지정] {0}/{1}/{2}\".format(time_obj.hour, time_obj.minute, time_obj.second))\n",
    "      \n",
    "print(\"[datetime 클래스로 날짜와 시각 지정]\", datetime_obj)"
   ]
  },
  {
   "cell_type": "code",
   "execution_count": 27,
   "id": "9e081d06",
   "metadata": {},
   "outputs": [
    {
     "data": {
      "text/plain": [
       "datetime.timedelta(days=6)"
      ]
     },
     "execution_count": 27,
     "metadata": {},
     "output_type": "execute_result"
    }
   ],
   "source": [
    "date_obj2 = date(2023, 10, 15)       # 날짜 지정\n",
    "diff_date = date_obj2 - date_obj    # date 객체의 날짜 차이를 연산\n",
    "diff_date"
   ]
  },
  {
   "cell_type": "code",
   "execution_count": 29,
   "id": "05775a15",
   "metadata": {},
   "outputs": [
    {
     "name": "stdout",
     "output_type": "stream",
     "text": [
      "두 날짜의 차이: 6일\n",
      "두 날짜의 차이: 6일\n"
     ]
    }
   ],
   "source": [
    "print(\"두 날짜의 차이: {}일\".format(diff_date.days))\n",
    "print(f\"두 날짜의 차이: {diff_date.days}일\")"
   ]
  },
  {
   "cell_type": "code",
   "execution_count": 31,
   "id": "fa5809f6",
   "metadata": {},
   "outputs": [
    {
     "name": "stdout",
     "output_type": "stream",
     "text": [
      "지정 날짜: 2023-05-15, 일주일 전 날짜: 2023-05-08\n",
      "지정 날짜: 2023-05-15, 일주일 전 날짜: 2023-05-08\n"
     ]
    }
   ],
   "source": [
    "date_org = date(2023, 5, 15)  # 날짜 지정\n",
    "date_result = date_org - timedelta(weeks=1)  # 일주일 전의 날짜 계산\n",
    "print(f\"지정 날짜: {date_org}, 일주일 전 날짜: {date_result}\")\n",
    "print(\"지정 날짜: {0}, 일주일 전 날짜: {1}\".format(date_org, date_result))"
   ]
  },
  {
   "cell_type": "code",
   "execution_count": 32,
   "id": "76a1d9ba",
   "metadata": {},
   "outputs": [
    {
     "name": "stdout",
     "output_type": "stream",
     "text": [
      "2023-11-15 00:30:00\n"
     ]
    }
   ],
   "source": [
    "# 날짜 및 시간 지정\n",
    "datetime_org = datetime(2023, 11, 14, 23, 0, 0)\n",
    "\n",
    "# 1시간 30분 후 날짜 및 시각 계산\n",
    "datetime_result = datetime_org + timedelta(hours=1, minutes=30)\n",
    "\n",
    "print(datetime_result)"
   ]
  },
  {
   "cell_type": "code",
   "execution_count": 34,
   "id": "c1a7d91e",
   "metadata": {},
   "outputs": [
    {
     "name": "stdout",
     "output_type": "stream",
     "text": [
      "- 오늘의 날짜: 2024-3-3\n",
      "- 현재의 날짜 및 시각(전체 표시): 2024-03-03 00:21:12.007618\n",
      "- 현재의 날짜: 2024-3-3\n",
      "- 현재의 시각: 0-21-12\n"
     ]
    }
   ],
   "source": [
    "today = date.today()\n",
    "now = datetime.now()\n",
    "\n",
    "print(\"- 오늘의 날짜: {0}-{1}-{2}\".format(today.year, today.month, today.day))\n",
    "print(\"- 현재의 날짜 및 시각(전체 표시):\", now)\n",
    "print(\"- 현재의 날짜: {0}-{1}-{2}\".format(now.year, now.month, now.day))\n",
    "print(\"- 현재의 시각: {0}-{1}-{2}\".format(now.hour, now.minute, now.second))"
   ]
  },
  {
   "cell_type": "code",
   "execution_count": 37,
   "id": "dc9d4670",
   "metadata": {},
   "outputs": [
    {
     "name": "stdout",
     "output_type": "stream",
     "text": [
      "- 날짜 표시: 2023년 04월 08일\n",
      "- 날짜 표시(다른 표현): 2023-04-08\n",
      "- 시각 표시: 13시 30분 00초 (PM)\n",
      "- 시각 표시(다른표현): 13/30/00 (PM))\n",
      "- 요일 표시: Saturday, Sat, 6\n",
      "- 월 표시: April, Apr\n"
     ]
    }
   ],
   "source": [
    "special_day = datetime(2023, 4, 8, 13, 30, 0)\n",
    "\n",
    "print(\"- 날짜 표시: {0:%Y}년 {0:%m}월 {0:%d}일\".format(special_day))\n",
    "print(\"- 날짜 표시(다른 표현): {:%Y-%m-%d}\".format(special_day))\n",
    "print(\"- 시각 표시: {0:%H}시 {0:%M}분 {0:%S}초 ({0:%p})\".format(special_day))\n",
    "print(\"- 시각 표시(다른표현): {:%H/%M/%S (%p)})\".format(special_day))\n",
    "print(\"- 요일 표시: {0:%A}, {0:%a}, {0:%w}\".format(special_day))\n",
    "print(\"- 월 표시: {0:%B}, {0:%b}\".format(special_day))"
   ]
  },
  {
   "cell_type": "code",
   "execution_count": 43,
   "id": "0dbc6cd9",
   "metadata": {},
   "outputs": [
    {
     "name": "stdout",
     "output_type": "stream",
     "text": [
      "* 설정한 로케일: ('ko_KR', 'UTF-8')\n",
      "- 요일 표시(한글/한국): 토요일, 토\n",
      "- 월 표시(한글/한국): 4월, 4\n",
      "\n",
      "* 설정한 로케일: ('en_US', 'UTF-8')\n",
      "- 요일 표시(영어/미국): Saturday, Sat\n",
      "- 월 표시(한글/한국): April, Apr\n"
     ]
    }
   ],
   "source": [
    "import locale\n",
    "\n",
    "# 한글, 한국, UTF-8 인코딩을 로케일로 지정\n",
    "locale.setlocale(locale.LC_ALL, 'ko_KR.UTF-8')\n",
    "\n",
    "print(\"* 설정한 로케일:\", locale.getlocale())  # 설정한 로케일 가져오기\n",
    "print(\"- 요일 표시(한글/한국): {0:%A}, {0:%a}\".format(special_day))\n",
    "print(\"- 월 표시(한글/한국): {0:%B}, {0:%b}\".format(special_day))\n",
    "print()\n",
    "\n",
    "# 영어, 미국, UTF-8 인코딩을 로케일로 지정\n",
    "locale.setlocale(locale.LC_ALL, 'en_US.UTF-8')\n",
    "\n",
    "print(\"* 설정한 로케일:\", locale.getlocale()) # 설정한 로케일 가져오기\n",
    "print(\"- 요일 표시(영어/미국): {0:%A}, {0:%a}\".format(special_day))\n",
    "print(\"- 월 표시(한글/한국): {0:%B}, {0:%b}\".format(special_day))"
   ]
  },
  {
   "cell_type": "code",
   "execution_count": 44,
   "id": "be8c20ac",
   "metadata": {},
   "outputs": [
    {
     "name": "stdout",
     "output_type": "stream",
     "text": [
      "[날짜] 2023-04-08, 토요일 [시간] 13:30:00 (오후)\n",
      "[Date] 2023-04-08, Saturday [Time] 13:30:00 (PM)\n"
     ]
    }
   ],
   "source": [
    "# 한글, 한국, UTF-8 인코딩을 로케일로 지정\n",
    "locale.setlocale(locale.LC_ALL, 'ko_KR.UTF-8')\n",
    "print(special_day.strftime(\"[날짜] %Y-%m-%d, %A [시간] %H:%M:%S (%p)\"))\n",
    "\n",
    "# 영어, 미국, UTF-8 인코딩을 로케일로 지정\n",
    "locale.setlocale(locale.LC_ALL, 'en-US.UTF-8')\n",
    "print(special_day.strftime(\"[Date] %Y-%m-%d, %A [Time] %H:%M:%S (%p)\"))"
   ]
  },
  {
   "cell_type": "code",
   "execution_count": 2,
   "id": "220d41ff",
   "metadata": {},
   "outputs": [
    {
     "name": "stdout",
     "output_type": "stream",
     "text": [
      "C:\\myPyAI\\data 디렉터리의 존재 여부: True\n"
     ]
    }
   ],
   "source": [
    "from pathlib import Path\n",
    "\n",
    "# 디렉터리 경로를 입력해 path 객체를 생성\n",
    "dir_path = Path('C:\\\\myPyAI\\\\data\\\\')\n",
    "                \n",
    "# 디렉터리가 없다면 생성\n",
    "dir_path.mkdir(parents=True, exist_ok=True)\n",
    "\n",
    "                \n",
    "# 생성한 디렉터리의 존재 여부 확인\n",
    "print(\"{0} 디렉터리의 존재 여부: {1}\".format(dir_path, dir_path.exists()))"
   ]
  },
  {
   "cell_type": "code",
   "execution_count": 3,
   "id": "0471eec8",
   "metadata": {},
   "outputs": [
    {
     "name": "stdout",
     "output_type": "stream",
     "text": [
      "Writing C:\\myPyAI\\data\\read_test.txt\n"
     ]
    }
   ],
   "source": [
    "%%writefile C:\\myPyAI\\data\\read_test.txt\n",
    "All grown-up\n",
    "were once children,\n",
    "although few of them\n",
    "remember it."
   ]
  },
  {
   "cell_type": "code",
   "execution_count": 5,
   "id": "887e5bf5",
   "metadata": {},
   "outputs": [
    {
     "name": "stdout",
     "output_type": "stream",
     "text": [
      "All grown-up\n",
      "were once children,\n",
      "although few of them\n",
      "remember it.\n",
      "\n"
     ]
    }
   ],
   "source": [
    "f = open('C:\\\\myPyAI\\\\data\\\\read_test.txt', 'r')  # 파일 열기(읽기 모드)\n",
    "data = f.read() # 파일의 내용 전체를 읽어서 변수에 할당\n",
    "f.close()       # 파일 닫기\n",
    "\n",
    "print(data)     # 읽어온 파일 내용 출력"
   ]
  },
  {
   "cell_type": "code",
   "execution_count": 6,
   "id": "d921f5eb",
   "metadata": {},
   "outputs": [
    {
     "name": "stdout",
     "output_type": "stream",
     "text": [
      "대한민국 헌법(cp949로 인코딩)\n",
      "\n",
      "제1조\n",
      "①대한민국은 민주공화국이다.\n",
      "②대한민국의 주권은 국민에게 있고, 모든 권력은 국민으로부터 나온다.\n"
     ]
    }
   ],
   "source": [
    "# cp949로 인코딩된 한글 텍스트 파일 열기\n",
    "file_name= 'C:\\\\myPyAI\\\\data\\\\헌법_cp949.txt'  # 파일 경로를 변수에 할당\n",
    "\n",
    "f = open(file_name, 'r', encoding='cp949')  # 파일 열기(읽기 모드)\n",
    "# f = open(file_name)\n",
    "data = f.read() # 파일의 내용 전체를 읽어서 변수에 할당\n",
    "f.close()       # 파일 닫기\n",
    "\n",
    "print(data)     # 읽어온 파일 내용 출력"
   ]
  },
  {
   "cell_type": "code",
   "execution_count": 8,
   "id": "a7de3fd1",
   "metadata": {},
   "outputs": [
    {
     "name": "stdout",
     "output_type": "stream",
     "text": [
      "대한민국 헌법(utf-8로 인코딩)\n",
      "\n",
      "제1조\n",
      "①대한민국은 민주공화국이다.\n",
      "②대한민국의 주권은 국민에게 있고, 모든 권력은 국민으로부터 나온다.\n"
     ]
    }
   ],
   "source": [
    "# utf-8로 인코딩된 한글 텍스트 파일 열기\n",
    "file_name= 'C:\\\\myPyAI\\\\data\\\\헌법_utf8.txt'  # 파일 경로를 변수에 할당\n",
    "\n",
    "f = open(file_name, 'r', encoding='utf-8')  # 파일 열기(읽기 모드)\n",
    "# f = open(file_name)\n",
    "data = f.read() # 파일의 내용 전체를 읽어서 변수에 할당\n",
    "f.close()       # 파일 닫기\n",
    "\n",
    "print(data)     # 읽어온 파일 내용 출력"
   ]
  },
  {
   "cell_type": "code",
   "execution_count": 10,
   "id": "b0f64d4b",
   "metadata": {},
   "outputs": [
    {
     "data": {
      "image/png": "[encoded data removed]",
      "text/plain": [
       "<IPython.core.display.Image object>"
      ]
     },
     "execution_count": 10,
     "metadata": {},
     "output_type": "execute_result"
    }
   ],
   "source": [
    "from IPython import display\n",
    "\n",
    "file_name = \"C:\\myPyAI\\data\\python-logo.png\"  # 파일 경로를 변수에 할당\n",
    "display.Image(file_name) # 이미지 파일 표시"
   ]
  },
  {
   "cell_type": "code",
   "execution_count": 16,
   "id": "43b28c9e",
   "metadata": {},
   "outputs": [
    {
     "name": "stdout",
     "output_type": "stream",
     "text": [
      "10102\n"
     ]
    }
   ],
   "source": [
    "# 이미지 파일 열기\n",
    "file_name = 'C:\\myPyAI\\data\\python-logo.png' # 파일 경로를 변수에 할당\n",
    "\n",
    "f = open(file_name, 'br') # 파일 열기(바이너리 파일 읽기 모드)\n",
    "data = f.read()           # 파일의 내용 전체를 읽어서 변수에 할당\n",
    "f.close()                 # 파일 닫기\n",
    "\n",
    "print(len(data[:]))   # 읽어온 파일 내용 출력"
   ]
  },
  {
   "cell_type": "code",
   "execution_count": 22,
   "id": "7350bfc3",
   "metadata": {},
   "outputs": [
    {
     "name": "stdout",
     "output_type": "stream",
     "text": [
      "All grown-up\n",
      "were once children,\n",
      "\n",
      "테스트문구\n"
     ]
    }
   ],
   "source": [
    "file_name ='C:\\\\myPyAI\\\\data\\\\read_test.txt' # 파일 경로를 변수에 할당\n",
    "\n",
    "f = open(file_name,'r') # 파일 열기(읽기 모드)\n",
    "\n",
    "line1 = f.readline() # 파일의 내용을 한 줄씩 읽어서 변수에 할당\n",
    "line2 = f.readline() # 파일의 내용을 한 줄씩 읽어서 변수에 할당\n",
    "f.close()            # 파일 닫기\n",
    "\n",
    "print(line1, end='') # print 자체의 개행문자는 출력하지 않고 내용 출력\n",
    "print(line2)\n",
    "print(\"테스트문구\")"
   ]
  },
  {
   "cell_type": "code",
   "execution_count": 23,
   "id": "74c769d2",
   "metadata": {},
   "outputs": [
    {
     "name": "stdout",
     "output_type": "stream",
     "text": [
      "1: All grown-up\n",
      "2: were once children,\n",
      "3: although few of them\n",
      "4: remember it.\n"
     ]
    }
   ],
   "source": [
    "file_name ='C:\\\\myPyAI\\\\data\\\\read_test.txt' # 파일 경로를 변수에 할당\n",
    "\n",
    "f = open(file_name, 'r')   # 파일 열기(읽기 모드)\n",
    "line_num = 0               # 줄 수 표시를 위한 변수 초기화\n",
    "\n",
    "while True:\n",
    "    line = f.readline()    # 파일의 내용을 한 줄씩 읽어서 변수에 할당\n",
    "    if (line == ''):       # line이 빈 문자열인지 검사  \n",
    "        break              # 빈 문자열이면 while 문을 빠져나감\n",
    "    line_num = line_num + 1# line_num을 1씩 증가\n",
    "    print(\"{0}: {1}\".format(line_num, line), end='') # 줄 수와 읽은 문자열 출력\n",
    "\n",
    "f.close()  # 파일 닫기\n",
    "    "
   ]
  },
  {
   "cell_type": "code",
   "execution_count": 26,
   "id": "ff46e17e",
   "metadata": {},
   "outputs": [
    {
     "name": "stdout",
     "output_type": "stream",
     "text": [
      "['All grown-up\\n', 'were once children,\\n', 'although few of them\\n', 'remember it.\\n']\n"
     ]
    }
   ],
   "source": [
    "file_name = 'C:\\\\myPyAI\\\\data\\\\read_test.txt'  # 파일 경로를 변수에 할당\n",
    "\n",
    "f = open(file_name, 'r')   # 파일 열기(읽기 모드)\n",
    "lines = f.readlines()      # 파일 전체의 내용을 읽어서 변수에 할당\n",
    "f.close()     # 파일 닫기\n",
    "\n",
    "print(lines)"
   ]
  },
  {
   "cell_type": "code",
   "execution_count": 28,
   "id": "211f1de6",
   "metadata": {},
   "outputs": [
    {
     "name": "stdout",
     "output_type": "stream",
     "text": [
      "1: All grown-up\n",
      "2: were once children,\n",
      "3: although few of them\n",
      "4: remember it.\n"
     ]
    }
   ],
   "source": [
    "file_name = 'C:\\\\myPyAI\\\\data\\\\read_test.txt'  # 파일 경로를 변수에 할당\n",
    "\n",
    "f = open(file_name, 'r')   # 파일 열기(읽기 모드)\n",
    "lines = f.readlines()      # 파일 전체의 내용을 읽어서 변수에 할당\n",
    "f.close()  # 파일 닫기\n",
    "\n",
    "line_num = 0  # 줄 수 표시를 위한 변수 초기화\n",
    "for line in lines:\n",
    "    line_num = line_num + 1  # line_num을 1씩 증가\n",
    "    print(\"{0}: {1}\".format(line_num,line), end='') # 줄 수와 읽은 문자열 출력"
   ]
  },
  {
   "cell_type": "code",
   "execution_count": 31,
   "id": "97341c75",
   "metadata": {},
   "outputs": [
    {
     "name": "stdout",
     "output_type": "stream",
     "text": [
      "생성한 파일: C:\\myPyAI\\data\\write_test.txt\n"
     ]
    }
   ],
   "source": [
    "file_name = 'C:\\\\myPyAI\\\\data\\\\write_test.txt'  # 파일 경로를 변수에 할당\n",
    "\n",
    "f = open(file_name, 'w') # 파일 열기(텍스트 파일 쓰기 모드)\n",
    "f.write(\"Python is powerful... and fast;\\n\") # 문자열을 파일에 쓰기\n",
    "f.write(\"plays well with others;\\n\")\n",
    "f.write(\"runs everywhere;\\n\")\n",
    "f.write(\"is friendly & easy to learn;\\n\")\n",
    "f.write(\"is Open.\\n\")\n",
    "f.close() # 파일 닫기\n",
    "\n",
    "print(\"생성한 파일:\", file_name) # 생성한 파일 이름 출력"
   ]
  },
  {
   "cell_type": "code",
   "execution_count": 32,
   "id": "2accaba1",
   "metadata": {},
   "outputs": [
    {
     "name": "stdout",
     "output_type": "stream",
     "text": [
      "Python is powerful... and fast;\n",
      "plays well with others;\n",
      "runs everywhere;\n",
      "is friendly & easy to learn;\n",
      "is Open.\n"
     ]
    }
   ],
   "source": [
    "!type C:\\myPyAI\\data\\write_test.txt"
   ]
  },
  {
   "cell_type": "code",
   "execution_count": 34,
   "id": "3bc44595",
   "metadata": {},
   "outputs": [
    {
     "name": "stdout",
     "output_type": "stream",
     "text": [
      "생성한 파일: C:\\myPyAI\\data\\two_times.txt\n"
     ]
    }
   ],
   "source": [
    "file_name = 'C:\\\\myPyAI\\\\data\\\\two_times.txt' # 파일 경로를 변수에 할당\n",
    "\n",
    "f = open(file_name, 'w') # 파일 열기(쓰기 모드)\n",
    "f.write(\"[구구단 2단의 일부]\\n\")\n",
    "for num in range(1, 6): # for문 num이 1~5까지 반복\n",
    "    format_string = \"2 x {0} = {1}\\n\".format(num, 2*num) # 저장할 문자열 생성\n",
    "    f.write(format_string) # 파일에 문자열 쓰기\n",
    "f.close() # 파일 닫기\n",
    "\n",
    "print(\"생성한 파일:\", file_name) # 생성한 파일 이름 출력"
   ]
  },
  {
   "cell_type": "code",
   "execution_count": 39,
   "id": "7619b51e",
   "metadata": {},
   "outputs": [
    {
     "name": "stdout",
     "output_type": "stream",
     "text": [
      "[구구단 2단의 일부]\n",
      "2 x 1 = 2\n",
      "2 x 2 = 4\n",
      "2 x 3 = 6\n",
      "2 x 4 = 8\n",
      "2 x 5 = 10\n"
     ]
    }
   ],
   "source": [
    "!type C:\\myPyAI\\data\\two_times.txt"
   ]
  },
  {
   "cell_type": "code",
   "execution_count": 40,
   "id": "3c5b5f17",
   "metadata": {},
   "outputs": [
    {
     "name": "stdout",
     "output_type": "stream",
     "text": [
      "생성한 이미지 파일: C:\\myPyAI\\data\\python-logo2.png\n"
     ]
    }
   ],
   "source": [
    "# 이미지 파일 읽고 쓰기\n",
    "file_name = 'C:\\myPyAI\\data\\python-logo.png'   # 읽을 파일 경로\n",
    "file_name2 = 'C:\\myPyAI\\data\\python-logo2.png' # 쓸 파일 경로\n",
    "\n",
    "f = open(file_name, 'br') # 파일 열기(바이너리 파일 읽기 모드)\n",
    "data = f.read()  # 파일에서 이미지 데이터 읽어서 할당\n",
    "f.close()        # 파일 닫기\n",
    "\n",
    "f = open(file_name2, 'bw') # 파일 열기(바이너리 파일 쓰기 모드)\n",
    "f.write(data)   # 파일에 이미지 데이터 쓰기\n",
    "f.close()       # 파일 닫기\n",
    "\n",
    "print(\"생성한 이미지 파일:\", file_name2)"
   ]
  },
  {
   "cell_type": "code",
   "execution_count": 41,
   "id": "dd9ae85c",
   "metadata": {},
   "outputs": [
    {
     "data": {
      "image/png": "[encoded data removed]",
      "text/plain": [
       "<IPython.core.display.Image object>"
      ]
     },
     "execution_count": 41,
     "metadata": {},
     "output_type": "execute_result"
    }
   ],
   "source": [
    "from IPython import display\n",
    "\n",
    "display.Image(file_name2) # 이미지 파일 표시"
   ]
  },
  {
   "cell_type": "code",
   "execution_count": 43,
   "id": "f516d04e",
   "metadata": {},
   "outputs": [],
   "source": [
    "file_name = 'C:\\\\myPyAI\\\\data\\\\three_times.txt'  # 파일 경로를 변수에 할당\n",
    "\n",
    "with open(file_name, 'w') as f: # 파일 열기(쓰기 모드)\n",
    "    f.write(\"[구구단 3단의 일부]\\n\")\n",
    "    for num in range(1, 6): # for문: num이 1~5까지 반복\n",
    "        format_string = \"3 x {0} = {1}\\n\".format(num, 3 * num) # 저장할 문자열 생성\n",
    "        f.write(format_string) # 파일에 문자열 쓰기"
   ]
  },
  {
   "cell_type": "code",
   "execution_count": 44,
   "id": "c61eb4c4",
   "metadata": {},
   "outputs": [
    {
     "name": "stdout",
     "output_type": "stream",
     "text": [
      "[구구단 3단의 일부]\n",
      "3 x 1 = 3\n",
      "3 x 2 = 6\n",
      "3 x 3 = 9\n",
      "3 x 4 = 12\n",
      "3 x 5 = 15\n",
      "\n"
     ]
    }
   ],
   "source": [
    "with open(file_name,'r') as f: # 파일 열기(읽기 모드)\n",
    "    data = f.read() # 파일에서 문자열 읽기\n",
    "    print(data)"
   ]
  },
  {
   "cell_type": "code",
   "execution_count": null,
   "id": "a0c97aea",
   "metadata": {},
   "outputs": [],
   "source": []
  },
  {
   "cell_type": "code",
   "execution_count": null,
   "id": "d57cead5",
   "metadata": {},
   "outputs": [],
   "source": []
  },
  {
   "cell_type": "code",
   "execution_count": null,
   "id": "8da503e9",
   "metadata": {},
   "outputs": [],
   "source": []
  },
  {
   "cell_type": "code",
   "execution_count": null,
   "id": "3ff4b933",
   "metadata": {},
   "outputs": [],
   "source": []
  },
  {
   "cell_type": "code",
   "execution_count": null,
   "id": "6b4e20c6",
   "metadata": {},
   "outputs": [],
   "source": []
  },
  {
   "cell_type": "code",
   "execution_count": null,
   "id": "e02332da",
   "metadata": {},
   "outputs": [],
   "source": []
  },
  {
   "cell_type": "code",
   "execution_count": null,
   "id": "adba15de",
   "metadata": {},
   "outputs": [],
   "source": []
  },
  {
   "cell_type": "code",
   "execution_count": null,
   "id": "74390676",
   "metadata": {},
   "outputs": [],
   "source": []
  },
  {
   "cell_type": "code",
   "execution_count": null,
   "id": "6d9554cb",
   "metadata": {},
   "outputs": [],
   "source": []
  },
  {
   "cell_type": "code",
   "execution_count": null,
   "id": "cc3b2f26",
   "metadata": {},
   "outputs": [],
   "source": []
  },
  {
   "cell_type": "code",
   "execution_count": null,
   "id": "88f4f5ae",
   "metadata": {},
   "outputs": [],
   "source": []
  },
  {
   "cell_type": "code",
   "execution_count": null,
   "id": "ac97872e",
   "metadata": {},
   "outputs": [],
   "source": []
  },
  {
   "cell_type": "code",
   "execution_count": null,
   "id": "7e322388",
   "metadata": {},
   "outputs": [],
   "source": []
  },
  {
   "cell_type": "code",
   "execution_count": null,
   "id": "76347900",
   "metadata": {},
   "outputs": [],
   "source": []
  },
  {
   "cell_type": "code",
   "execution_count": null,
   "id": "7743459e",
   "metadata": {},
   "outputs": [],
   "source": []
  },
  {
   "cell_type": "code",
   "execution_count": null,
   "id": "9d201cf5",
   "metadata": {},
   "outputs": [],
   "source": []
  },
  {
   "cell_type": "code",
   "execution_count": null,
   "id": "a493cdba",
   "metadata": {},
   "outputs": [],
   "source": []
  },
  {
   "cell_type": "code",
   "execution_count": null,
   "id": "a4fa0d04",
   "metadata": {},
   "outputs": [],
   "source": []
  },
  {
   "cell_type": "code",
   "execution_count": null,
   "id": "bf38d65f",
   "metadata": {},
   "outputs": [],
   "source": []
  }
 ],
 "metadata": {
  "kernelspec": {
   "display_name": "Python 3 (ipykernel)",
   "language": "python",
   "name": "python3"
  },
  "language_info": {
   "codemirror_mode": {
    "name": "ipython",
    "version": 3
   },
   "file_extension": ".py",
   "mimetype": "text/x-python",
   "name": "python",
   "nbconvert_exporter": "python",
   "pygments_lexer": "ipython3",
   "version": "3.11.5"
  }
 },
 "nbformat": 4,
 "nbformat_minor": 5
}
