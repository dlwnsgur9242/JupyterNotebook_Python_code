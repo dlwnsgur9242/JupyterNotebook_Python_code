{
 "cells": [
  {
   "cell_type": "code",
   "execution_count": 2,
   "id": "68d4b4fc",
   "metadata": {},
   "outputs": [
    {
     "data": {
      "text/plain": [
       "dict"
      ]
     },
     "execution_count": 2,
     "metadata": {},
     "output_type": "execute_result"
    }
   ],
   "source": [
    "import json\n",
    "\n",
    "python_dict = {\n",
    "    \"이름\": \"홍길동\",\n",
    "    \"나이\": \"25\",\n",
    "    \"거주지\": \"서울\",\n",
    "    \"신체정보\": {\n",
    "        \"키\": 175.4,\n",
    "        \"몸무게\": 71.2\n",
    "    },\n",
    "    \"취미\": [\n",
    "        \"등산\",\n",
    "        \"자전거타기\",\n",
    "        \"독서\"\n",
    "    ]\n",
    "}\n",
    "type(python_dict)"
   ]
  },
  {
   "cell_type": "code",
   "execution_count": 3,
   "id": "af035db7",
   "metadata": {},
   "outputs": [
    {
     "data": {
      "text/plain": [
       "str"
      ]
     },
     "execution_count": 3,
     "metadata": {},
     "output_type": "execute_result"
    }
   ],
   "source": [
    "json_data = json.dumps(python_dict)\n",
    "type(json_data)"
   ]
  },
  {
   "cell_type": "code",
   "execution_count": 4,
   "id": "c7f0f314",
   "metadata": {},
   "outputs": [
    {
     "name": "stdout",
     "output_type": "stream",
     "text": [
      "{\"\\uc774\\ub984\": \"\\ud64d\\uae38\\ub3d9\", \"\\ub098\\uc774\": \"25\", \"\\uac70\\uc8fc\\uc9c0\": \"\\uc11c\\uc6b8\", \"\\uc2e0\\uccb4\\uc815\\ubcf4\": {\"\\ud0a4\": 175.4, \"\\ubab8\\ubb34\\uac8c\": 71.2}, \"\\ucde8\\ubbf8\": [\"\\ub4f1\\uc0b0\", \"\\uc790\\uc804\\uac70\\ud0c0\\uae30\", \"\\ub3c5\\uc11c\"]}\n"
     ]
    }
   ],
   "source": [
    "print(json_data)"
   ]
  },
  {
   "cell_type": "code",
   "execution_count": 5,
   "id": "3ea6123d",
   "metadata": {},
   "outputs": [
    {
     "name": "stdout",
     "output_type": "stream",
     "text": [
      "{\n",
      "   \"거주지\": \"서울\",\n",
      "   \"나이\": \"25\",\n",
      "   \"신체정보\": {\n",
      "      \"몸무게\": 71.2,\n",
      "      \"키\": 175.4\n",
      "   },\n",
      "   \"이름\": \"홍길동\",\n",
      "   \"취미\": [\n",
      "      \"등산\",\n",
      "      \"자전거타기\",\n",
      "      \"독서\"\n",
      "   ]\n",
      "}\n"
     ]
    }
   ],
   "source": [
    "json_data = json.dumps(python_dict, indent=3, sort_keys=True, ensure_ascii=False)\n",
    "print(json_data)"
   ]
  },
  {
   "cell_type": "code",
   "execution_count": 6,
   "id": "fac6d789",
   "metadata": {},
   "outputs": [
    {
     "data": {
      "text/plain": [
       "dict"
      ]
     },
     "execution_count": 6,
     "metadata": {},
     "output_type": "execute_result"
    }
   ],
   "source": [
    "dict_data = json.loads(json_data) # JSON 데이터를 파이썬의 딕셔너리 타입으로 변환\n",
    "type(dict_data)"
   ]
  },
  {
   "cell_type": "code",
   "execution_count": 7,
   "id": "83ad01ab",
   "metadata": {},
   "outputs": [
    {
     "data": {
      "text/plain": [
       "71.2"
      ]
     },
     "execution_count": 7,
     "metadata": {},
     "output_type": "execute_result"
    }
   ],
   "source": [
    "dict_data['신체정보']['몸무게']"
   ]
  },
  {
   "cell_type": "code",
   "execution_count": 8,
   "id": "c2419331",
   "metadata": {},
   "outputs": [
    {
     "data": {
      "text/plain": [
       "['등산', '자전거타기', '독서']"
      ]
     },
     "execution_count": 8,
     "metadata": {},
     "output_type": "execute_result"
    }
   ],
   "source": [
    "dict_data['취미']"
   ]
  },
  {
   "cell_type": "code",
   "execution_count": 9,
   "id": "f979d3b1",
   "metadata": {},
   "outputs": [
    {
     "data": {
      "text/plain": [
       "'등산'"
      ]
     },
     "execution_count": 9,
     "metadata": {},
     "output_type": "execute_result"
    }
   ],
   "source": [
    "dict_data['취미'][0]"
   ]
  },
  {
   "cell_type": "code",
   "execution_count": null,
   "id": "7932767c",
   "metadata": {},
   "outputs": [],
   "source": []
  },
  {
   "cell_type": "code",
   "execution_count": null,
   "id": "9058a7af",
   "metadata": {},
   "outputs": [],
   "source": []
  },
  {
   "cell_type": "code",
   "execution_count": null,
   "id": "e756756b",
   "metadata": {},
   "outputs": [],
   "source": []
  }
 ],
 "metadata": {
  "kernelspec": {
   "display_name": "Python 3 (ipykernel)",
   "language": "python",
   "name": "python3"
  },
  "language_info": {
   "codemirror_mode": {
    "name": "ipython",
    "version": 3
   },
   "file_extension": ".py",
   "mimetype": "text/x-python",
   "name": "python",
   "nbconvert_exporter": "python",
   "pygments_lexer": "ipython3",
   "version": "3.11.5"
  }
 },
 "nbformat": 4,
 "nbformat_minor": 5
}
