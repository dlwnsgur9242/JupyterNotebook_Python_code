{
 "cells": [
  {
   "cell_type": "code",
   "execution_count": 1,
   "id": "aebcb537",
   "metadata": {},
   "outputs": [
    {
     "name": "stdout",
     "output_type": "stream",
     "text": [
      "Hello Jupyter Notebook!!\n"
     ]
    }
   ],
   "source": [
    "print(\"Hello Jupyter Notebook!!\")"
   ]
  },
  {
   "cell_type": "code",
   "execution_count": 2,
   "id": "48d8a2a0",
   "metadata": {},
   "outputs": [
    {
     "name": "stdout",
     "output_type": "stream",
     "text": [
      "Hello Jupter Notebook: code lien 1\n",
      "Hello Jupter Notebook: code lien 2\n",
      "Hello Jupter Notebook: code lien 3\n"
     ]
    }
   ],
   "source": [
    "print(\"Hello Jupter Notebook: code lien 1\")\n",
    "print(\"Hello Jupter Notebook: code lien 2\")\n",
    "print(\"Hello Jupter Notebook: code lien 3\")"
   ]
  },
  {
   "cell_type": "code",
   "execution_count": 5,
   "id": "0117b2fa",
   "metadata": {},
   "outputs": [
    {
     "name": "stdout",
     "output_type": "stream",
     "text": [
      "C:\\myPyAI\\code\n"
     ]
    }
   ],
   "source": [
    "cd C:\\myPyAI\\code"
   ]
  },
  {
   "cell_type": "code",
   "execution_count": 5,
   "id": "f075a01c",
   "metadata": {},
   "outputs": [
    {
     "data": {
      "application/json": {
       "cell": {
        "!": "OSMagics",
        "HTML": "Other",
        "SVG": "Other",
        "bash": "Other",
        "capture": "ExecutionMagics",
        "cmd": "Other",
        "code_wrap": "ExecutionMagics",
        "debug": "ExecutionMagics",
        "file": "Other",
        "html": "DisplayMagics",
        "javascript": "DisplayMagics",
        "js": "DisplayMagics",
        "latex": "DisplayMagics",
        "markdown": "DisplayMagics",
        "perl": "Other",
        "prun": "ExecutionMagics",
        "pypy": "Other",
        "python": "Other",
        "python2": "Other",
        "python3": "Other",
        "ruby": "Other",
        "script": "ScriptMagics",
        "sh": "Other",
        "svg": "DisplayMagics",
        "sx": "OSMagics",
        "system": "OSMagics",
        "time": "ExecutionMagics",
        "timeit": "ExecutionMagics",
        "writefile": "OSMagics"
       },
       "line": {
        "alias": "OSMagics",
        "alias_magic": "BasicMagics",
        "autoawait": "AsyncMagics",
        "autocall": "AutoMagics",
        "automagic": "AutoMagics",
        "autosave": "KernelMagics",
        "bookmark": "OSMagics",
        "cd": "OSMagics",
        "clear": "KernelMagics",
        "cls": "KernelMagics",
        "code_wrap": "ExecutionMagics",
        "colors": "BasicMagics",
        "conda": "PackagingMagics",
        "config": "ConfigMagics",
        "connect_info": "KernelMagics",
        "copy": "Other",
        "ddir": "Other",
        "debug": "ExecutionMagics",
        "dhist": "OSMagics",
        "dirs": "OSMagics",
        "doctest_mode": "BasicMagics",
        "echo": "Other",
        "ed": "Other",
        "edit": "KernelMagics",
        "env": "OSMagics",
        "gui": "BasicMagics",
        "hist": "Other",
        "history": "HistoryMagics",
        "killbgscripts": "ScriptMagics",
        "ldir": "Other",
        "less": "KernelMagics",
        "load": "CodeMagics",
        "load_ext": "ExtensionMagics",
        "loadpy": "CodeMagics",
        "logoff": "LoggingMagics",
        "logon": "LoggingMagics",
        "logstart": "LoggingMagics",
        "logstate": "LoggingMagics",
        "logstop": "LoggingMagics",
        "ls": "Other",
        "lsmagic": "BasicMagics",
        "macro": "ExecutionMagics",
        "magic": "BasicMagics",
        "matplotlib": "PylabMagics",
        "mkdir": "Other",
        "more": "KernelMagics",
        "notebook": "BasicMagics",
        "page": "BasicMagics",
        "pastebin": "CodeMagics",
        "pdb": "ExecutionMagics",
        "pdef": "NamespaceMagics",
        "pdoc": "NamespaceMagics",
        "pfile": "NamespaceMagics",
        "pinfo": "NamespaceMagics",
        "pinfo2": "NamespaceMagics",
        "pip": "PackagingMagics",
        "popd": "OSMagics",
        "pprint": "BasicMagics",
        "precision": "BasicMagics",
        "prun": "ExecutionMagics",
        "psearch": "NamespaceMagics",
        "psource": "NamespaceMagics",
        "pushd": "OSMagics",
        "pwd": "OSMagics",
        "pycat": "OSMagics",
        "pylab": "PylabMagics",
        "qtconsole": "KernelMagics",
        "quickref": "BasicMagics",
        "recall": "HistoryMagics",
        "rehashx": "OSMagics",
        "reload_ext": "ExtensionMagics",
        "ren": "Other",
        "rep": "Other",
        "rerun": "HistoryMagics",
        "reset": "NamespaceMagics",
        "reset_selective": "NamespaceMagics",
        "rmdir": "Other",
        "run": "ExecutionMagics",
        "save": "CodeMagics",
        "sc": "OSMagics",
        "set_env": "OSMagics",
        "store": "StoreMagics",
        "sx": "OSMagics",
        "system": "OSMagics",
        "tb": "ExecutionMagics",
        "time": "ExecutionMagics",
        "timeit": "ExecutionMagics",
        "unalias": "OSMagics",
        "unload_ext": "ExtensionMagics",
        "who": "NamespaceMagics",
        "who_ls": "NamespaceMagics",
        "whos": "NamespaceMagics",
        "xdel": "NamespaceMagics",
        "xmode": "BasicMagics"
       }
      },
      "text/plain": [
       "Available line magics:\n",
       "%alias  %alias_magic  %autoawait  %autocall  %automagic  %autosave  %bookmark  %cd  %clear  %cls  %code_wrap  %colors  %conda  %config  %connect_info  %copy  %ddir  %debug  %dhist  %dirs  %doctest_mode  %echo  %ed  %edit  %env  %gui  %hist  %history  %killbgscripts  %ldir  %less  %load  %load_ext  %loadpy  %logoff  %logon  %logstart  %logstate  %logstop  %ls  %lsmagic  %macro  %magic  %matplotlib  %mkdir  %more  %notebook  %page  %pastebin  %pdb  %pdef  %pdoc  %pfile  %pinfo  %pinfo2  %pip  %popd  %pprint  %precision  %prun  %psearch  %psource  %pushd  %pwd  %pycat  %pylab  %qtconsole  %quickref  %recall  %rehashx  %reload_ext  %ren  %rep  %rerun  %reset  %reset_selective  %rmdir  %run  %save  %sc  %set_env  %store  %sx  %system  %tb  %time  %timeit  %unalias  %unload_ext  %who  %who_ls  %whos  %xdel  %xmode\n",
       "\n",
       "Available cell magics:\n",
       "%%!  %%HTML  %%SVG  %%bash  %%capture  %%cmd  %%code_wrap  %%debug  %%file  %%html  %%javascript  %%js  %%latex  %%markdown  %%perl  %%prun  %%pypy  %%python  %%python2  %%python3  %%ruby  %%script  %%sh  %%svg  %%sx  %%system  %%time  %%timeit  %%writefile\n",
       "\n",
       "Automagic is ON, % prefix IS NOT needed for line magics."
      ]
     },
     "execution_count": 5,
     "metadata": {},
     "output_type": "execute_result"
    }
   ],
   "source": [
    "%lsmagic"
   ]
  },
  {
   "cell_type": "code",
   "execution_count": 7,
   "id": "721a9831",
   "metadata": {},
   "outputs": [
    {
     "name": "stdout",
     "output_type": "stream",
     "text": [
      "Writing file_name.py\n"
     ]
    }
   ],
   "source": [
    "%%writefile file_name.py\n",
    "def add(a, b, c):\n",
    "    s = a+b+c\n",
    "    print('sum=',s)"
   ]
  },
  {
   "cell_type": "code",
   "execution_count": 9,
   "id": "27e52b12",
   "metadata": {},
   "outputs": [
    {
     "name": "stdout",
     "output_type": "stream",
     "text": [
      "Appending to file_name.py\n"
     ]
    }
   ],
   "source": [
    "%%writefile -a file_name.py\n",
    "a=1, b=2, c=3"
   ]
  },
  {
   "cell_type": "code",
   "execution_count": 13,
   "id": "156b0f34",
   "metadata": {},
   "outputs": [],
   "source": [
    "# %load file_name.py\n",
    "a=1; b=2; c=3\n",
    "def add(a, b, c):\n",
    "    s = a+b+c\n",
    "    print('sum=',s)\n",
    "\n"
   ]
  },
  {
   "cell_type": "code",
   "execution_count": null,
   "id": "98e7dd00",
   "metadata": {},
   "outputs": [],
   "source": [
    "# %load file_name.py\n",
    "def add(a, b, c):\n",
    "    s = a+b+c\n",
    "    print('sum=',s)\n",
    "a=1, b=2, c=3\n"
   ]
  },
  {
   "cell_type": "code",
   "execution_count": 15,
   "id": "927be156",
   "metadata": {},
   "outputs": [
    {
     "ename": "SyntaxError",
     "evalue": "invalid syntax. Maybe you meant '==' or ':=' instead of '='? (file_name.py, line 4)",
     "output_type": "error",
     "traceback": [
      "\u001b[1;36m  File \u001b[1;32mC:\\myPyAI\\file_name.py:4\u001b[1;36m\u001b[0m\n\u001b[1;33m    a=1, b=2, c=3\u001b[0m\n\u001b[1;37m    ^\u001b[0m\n\u001b[1;31mSyntaxError\u001b[0m\u001b[1;31m:\u001b[0m invalid syntax. Maybe you meant '==' or ':=' instead of '='?\n"
     ]
    }
   ],
   "source": [
    "%run file_name.py"
   ]
  },
  {
   "cell_type": "code",
   "execution_count": 16,
   "id": "834f53f0",
   "metadata": {},
   "outputs": [
    {
     "name": "stdout",
     "output_type": "stream",
     "text": [
      "Appending to file_name.py\n"
     ]
    }
   ],
   "source": [
    "%%writefile -a file_name.py\n",
    "a=1; b=2; c=3\n",
    "def add(a, b, c):\n",
    "    s = a+b+c\n",
    "    print('sum=',s)"
   ]
  },
  {
   "cell_type": "code",
   "execution_count": 17,
   "id": "29f51c29",
   "metadata": {},
   "outputs": [
    {
     "name": "stdout",
     "output_type": "stream",
     "text": [
      "%%writefile [-a] file_name.py\n",
      "print(2+3)\n",
      "%%writefile [-a] file_name.py\n",
      "print(2+3)\n",
      "%%writefile [-a] file_name.py\n",
      "print(2+3)\n",
      "%lsmagic\n",
      "%lsmagic\n",
      "%%writefile [-a] file_name.py\n",
      "def add(a, b, c):\n",
      "    s = a+b+c\n",
      "    print('sum=',s)\n",
      "%%writefile file_name.py\n",
      "def add(a, b, c):\n",
      "    s = a+b+c\n",
      "    print('sum=',s)\n",
      "%%writefile [-a] file_name.py\n",
      "a=1, b=2, c=3\n",
      "%%writefile -a file_name.py\n",
      "a=1, b=2, c=3\n",
      "%load file_name.py\n",
      "# %load file_name.py\n",
      "a=1, b=2, c=3\n",
      "def add(a, b, c):\n",
      "    s = a+b+c\n",
      "    print('sum=',s)\n",
      "# %load file_name.py\n",
      "a=1; b=2; c=3\n",
      "def add(a, b, c):\n",
      "    s = a+b+c\n",
      "    print('sum=',s)\n",
      "# %load file_name.py\n",
      "a=1; b=2; c=3\n",
      "def add(a, b, c):\n",
      "    s = a+b+c\n",
      "    print('sum=',s)\n",
      "%load file_name.py\n",
      "%run file_name.py\n",
      "%%writefile -a file_name.py\n",
      "a=1; b=2; c=3\n",
      "def add(a, b, c):\n",
      "    s = a+b+c\n",
      "    print('sum=',s)\n",
      "%history\n"
     ]
    }
   ],
   "source": [
    "%history"
   ]
  },
  {
   "cell_type": "code",
   "execution_count": null,
   "id": "28f7afb5",
   "metadata": {},
   "outputs": [],
   "source": [
    "# %load file_name.py\n",
    "def add(a, b, c):\n",
    "    s = a+b+c\n",
    "    print('sum=',s)\n",
    "a=1, b=2, c=3\n",
    "a=1; b=2; c=3\n",
    "def add(a, b, c):\n",
    "    s = a+b+c\n",
    "    print('sum=',s)\n"
   ]
  },
  {
   "cell_type": "code",
   "execution_count": 20,
   "id": "c7e126b3",
   "metadata": {},
   "outputs": [
    {
     "name": "stdout",
     "output_type": "stream",
     "text": [
      "Appending to file_name.py\n"
     ]
    }
   ],
   "source": [
    "%%writefile -a file_name.py\n",
    "a=1; b=2; c=3\n",
    "def add(a, b, c):\n",
    "    s = a+b+c\n",
    "    print('sum=',s)"
   ]
  },
  {
   "cell_type": "code",
   "execution_count": 22,
   "id": "cbe76d78",
   "metadata": {},
   "outputs": [
    {
     "name": "stdout",
     "output_type": "stream",
     "text": [
      "Appending to file_name.py\n"
     ]
    }
   ],
   "source": [
    "%%writefile -a file_name.py\n",
    "a=1; b=2; c=3\n",
    "def add(a, b, c):\n",
    "    s = a+b+c\n",
    "    print('sum=',s)"
   ]
  },
  {
   "cell_type": "code",
   "execution_count": null,
   "id": "0945fbea",
   "metadata": {},
   "outputs": [],
   "source": [
    "# %load file_name.py\n",
    "def add(a, b, c):\n",
    "    s = a+b+c\n",
    "    print('sum=',s)\n",
    "a=1, b=2, c=3\n",
    "a=1; b=2; c=3\n",
    "def add(a, b, c):\n",
    "    s = a+b+c\n",
    "    print('sum=',s)\n",
    "a=1; b=2; c=3\n",
    "def add(a, b, c):\n",
    "    s = a+b+c\n",
    "    print('sum=',s)\n",
    "a=1; b=2; c=3\n",
    "def add(a, b, c):\n",
    "    s = a+b+c\n",
    "    print('sum=',s)\n"
   ]
  },
  {
   "cell_type": "code",
   "execution_count": 30,
   "id": "f8bfc46c",
   "metadata": {},
   "outputs": [
    {
     "name": "stdout",
     "output_type": "stream",
     "text": [
      "Overwriting file_name.py\n"
     ]
    }
   ],
   "source": [
    "%%writefile file_name.py\n",
    "a=1; b=2; c=3\n",
    "def add(a, b, c):\n",
    "    s = a+b+c\n",
    "    print('sum=',s)"
   ]
  },
  {
   "cell_type": "code",
   "execution_count": 37,
   "id": "904affd6",
   "metadata": {},
   "outputs": [],
   "source": [
    "# %load file_name.py\n",
    "a=1; b=2; c=3\n",
    "def add(a, b, c):\n",
    "    s = a+b+c\n",
    "    print('sum=',s)\n"
   ]
  },
  {
   "cell_type": "code",
   "execution_count": 42,
   "id": "c9784f2b",
   "metadata": {},
   "outputs": [
    {
     "name": "stdout",
     "output_type": "stream",
     "text": [
      "Overwriting file_name.py\n"
     ]
    }
   ],
   "source": [
    "%%writefile file_name.py\n",
    "a=1; b=2; c=3\n",
    "\n",
    "def add(a, b, c):\n",
    "    s = a + b + c\n",
    "    print('sum=', s)\n",
    "\n",
    "add(a, b, c)"
   ]
  },
  {
   "cell_type": "code",
   "execution_count": 43,
   "id": "309b8514",
   "metadata": {},
   "outputs": [
    {
     "name": "stdout",
     "output_type": "stream",
     "text": [
      "sum= 6\n"
     ]
    }
   ],
   "source": [
    "%run file_name.py"
   ]
  },
  {
   "cell_type": "code",
   "execution_count": 44,
   "id": "3177cdd2",
   "metadata": {},
   "outputs": [
    {
     "name": "stdout",
     "output_type": "stream",
     "text": [
      "Writing C:\\myPyAI\\multi_print.py\n"
     ]
    }
   ],
   "source": [
    "%%writefile C:\\myPyAI\\multi_print.py\n",
    "#File name: multi_line_print.py\n",
    "Print(\"Jupyter Notebook: code lien 1\")\n",
    "Print(\"Jupyter Notebook: code lien 2\")\n",
    "Print(\"Jupyter Notebook: code lien 3\")"
   ]
  },
  {
   "cell_type": "code",
   "execution_count": null,
   "id": "01af539f",
   "metadata": {},
   "outputs": [],
   "source": [
    "# %load multi_print.py\n",
    "#File name: multi_line_print.py\n",
    "Print(\"Jupyter Notebook: code lien 1\")\n",
    "Print(\"Jupyter Notebook: code lien 2\")\n",
    "Print(\"Jupyter Notebook: code lien 3\")\n"
   ]
  },
  {
   "cell_type": "code",
   "execution_count": 52,
   "id": "70c15ac5",
   "metadata": {},
   "outputs": [
    {
     "name": "stdout",
     "output_type": "stream",
     "text": [
      "1234\n",
      "Python is powerful\n",
      "1234Python is powerful\n"
     ]
    }
   ],
   "source": [
    "n = 1234\n",
    "s = \"Python is powerful\"\n",
    "\n",
    "print(n)\n",
    "print(s)\n",
    "print(str(n) + s)"
   ]
  },
  {
   "cell_type": "code",
   "execution_count": 53,
   "id": "6b5ad5d5",
   "metadata": {},
   "outputs": [
    {
     "data": {
      "text/plain": [
       "int"
      ]
     },
     "execution_count": 53,
     "metadata": {},
     "output_type": "execute_result"
    }
   ],
   "source": [
    "type(123)"
   ]
  },
  {
   "cell_type": "code",
   "execution_count": 55,
   "id": "90881629",
   "metadata": {},
   "outputs": [
    {
     "data": {
      "text/plain": [
       "float"
      ]
     },
     "execution_count": 55,
     "metadata": {},
     "output_type": "execute_result"
    }
   ],
   "source": [
    "type(123.45)"
   ]
  },
  {
   "cell_type": "code",
   "execution_count": 56,
   "id": "3aa9beb0",
   "metadata": {},
   "outputs": [
    {
     "data": {
      "text/plain": [
       "int"
      ]
     },
     "execution_count": 56,
     "metadata": {},
     "output_type": "execute_result"
    }
   ],
   "source": [
    "type(n)"
   ]
  },
  {
   "cell_type": "code",
   "execution_count": 57,
   "id": "8833fe44",
   "metadata": {},
   "outputs": [
    {
     "data": {
      "text/plain": [
       "8"
      ]
     },
     "execution_count": 57,
     "metadata": {},
     "output_type": "execute_result"
    }
   ],
   "source": [
    "5+3"
   ]
  },
  {
   "cell_type": "code",
   "execution_count": 60,
   "id": "d2949a98",
   "metadata": {},
   "outputs": [
    {
     "data": {
      "text/plain": [
       "2"
      ]
     },
     "execution_count": 60,
     "metadata": {},
     "output_type": "execute_result"
    }
   ],
   "source": [
    "5+3\n",
    "6-6\n",
    "1+1"
   ]
  },
  {
   "cell_type": "code",
   "execution_count": 62,
   "id": "d2e3b533",
   "metadata": {},
   "outputs": [
    {
     "name": "stdout",
     "output_type": "stream",
     "text": [
      "7\n",
      "3\n",
      "10\n",
      "2.5\n"
     ]
    }
   ],
   "source": [
    "print(5+2)\n",
    "print(5-2)\n",
    "print(5*2)\n",
    "print(5/2)"
   ]
  },
  {
   "cell_type": "code",
   "execution_count": 63,
   "id": "0d15fd97",
   "metadata": {},
   "outputs": [
    {
     "ename": "NameError",
     "evalue": "name 'String' is not defined",
     "output_type": "error",
     "traceback": [
      "\u001b[1;31m---------------------------------------------------------------------------\u001b[0m",
      "\u001b[1;31mNameError\u001b[0m                                 Traceback (most recent call last)",
      "Cell \u001b[1;32mIn[63], line 1\u001b[0m\n\u001b[1;32m----> 1\u001b[0m String\n",
      "\u001b[1;31mNameError\u001b[0m: name 'String' is not defined"
     ]
    }
   ],
   "source": [
    "String"
   ]
  },
  {
   "cell_type": "code",
   "execution_count": 64,
   "id": "86971bba",
   "metadata": {},
   "outputs": [
    {
     "data": {
      "text/plain": [
       "'String'"
      ]
     },
     "execution_count": 64,
     "metadata": {},
     "output_type": "execute_result"
    }
   ],
   "source": [
    "\"String\""
   ]
  },
  {
   "cell_type": "code",
   "execution_count": 65,
   "id": "24d1e04d",
   "metadata": {},
   "outputs": [
    {
     "data": {
      "text/plain": [
       "'Test'"
      ]
     },
     "execution_count": 65,
     "metadata": {},
     "output_type": "execute_result"
    }
   ],
   "source": [
    "'Test'"
   ]
  },
  {
   "cell_type": "code",
   "execution_count": 66,
   "id": "b177da0c",
   "metadata": {},
   "outputs": [
    {
     "name": "stdout",
     "output_type": "stream",
     "text": [
      "String\n",
      "Test\n"
     ]
    }
   ],
   "source": [
    "print(\"String\")\n",
    "print('Test')"
   ]
  },
  {
   "cell_type": "code",
   "execution_count": 67,
   "id": "b13ead12",
   "metadata": {},
   "outputs": [
    {
     "name": "stdout",
     "output_type": "stream",
     "text": [
      "그는 \"파이썬이 무엇입니까?\"라고 물었습니다.\n"
     ]
    }
   ],
   "source": [
    "print('그는 \"파이썬이 무엇입니까?\"라고 물었습니다.')"
   ]
  },
  {
   "cell_type": "code",
   "execution_count": 69,
   "id": "ea8f2c71",
   "metadata": {},
   "outputs": [
    {
     "data": {
      "text/plain": [
       "'Hello Python !'"
      ]
     },
     "execution_count": 69,
     "metadata": {},
     "output_type": "execute_result"
    }
   ],
   "source": [
    "\"Hello\"+\" \"+\"Python \" + \"!\""
   ]
  },
  {
   "cell_type": "code",
   "execution_count": 70,
   "id": "f92f38a4",
   "metadata": {},
   "outputs": [
    {
     "data": {
      "text/plain": [
       "'PythonPythonPython'"
      ]
     },
     "execution_count": 70,
     "metadata": {},
     "output_type": "execute_result"
    }
   ],
   "source": [
    "\"Python\"*3"
   ]
  },
  {
   "cell_type": "code",
   "execution_count": 71,
   "id": "107527f6",
   "metadata": {},
   "outputs": [
    {
     "data": {
      "text/plain": [
       "6"
      ]
     },
     "execution_count": 71,
     "metadata": {},
     "output_type": "execute_result"
    }
   ],
   "source": [
    "len(\"Python\")"
   ]
  },
  {
   "cell_type": "code",
   "execution_count": 72,
   "id": "af345b4d",
   "metadata": {},
   "outputs": [
    {
     "data": {
      "text/plain": [
       "9"
      ]
     },
     "execution_count": 72,
     "metadata": {},
     "output_type": "execute_result"
    }
   ],
   "source": [
    "len(\"Python123\")"
   ]
  },
  {
   "cell_type": "code",
   "execution_count": 75,
   "id": "d380881f",
   "metadata": {},
   "outputs": [
    {
     "name": "stdout",
     "output_type": "stream",
     "text": [
      "안녕하세요 저는 강아지 입니다\n",
      "\"고양이\"와 친하게 지낼 생각입니다.\n",
      "'송아지'랑 같이 왔습니다.\n"
     ]
    }
   ],
   "source": [
    "long_str = '''안녕하세요 저는 강아지 입니다\n",
    "\"고양이\"와 친하게 지낼 생각입니다.\n",
    "'송아지'랑 같이 왔습니다.'''\n",
    "\n",
    "print(long_str)"
   ]
  },
  {
   "cell_type": "code",
   "execution_count": 77,
   "id": "0a9f9f3d",
   "metadata": {},
   "outputs": [
    {
     "data": {
      "text/plain": [
       "5"
      ]
     },
     "execution_count": 77,
     "metadata": {},
     "output_type": "execute_result"
    }
   ],
   "source": [
    "list_a = [1, 2, 3, 4, 5]\n",
    "\n",
    "len(list_a)"
   ]
  },
  {
   "cell_type": "code",
   "execution_count": 80,
   "id": "78363922",
   "metadata": {
    "scrolled": true
   },
   "outputs": [
    {
     "name": "stdout",
     "output_type": "stream",
     "text": [
      "False\n",
      "True\n",
      "True\n"
     ]
    }
   ],
   "source": [
    "print(True and False)\n",
    "print(True or False)\n",
    "print(not False)"
   ]
  },
  {
   "cell_type": "code",
   "execution_count": 85,
   "id": "d4020f26",
   "metadata": {},
   "outputs": [
    {
     "name": "stdout",
     "output_type": "stream",
     "text": [
      "False\n",
      "True\n",
      "False\n",
      "True\n",
      "False\n",
      "True\n",
      "\n",
      "\n",
      "False\n",
      "True\n"
     ]
    }
   ],
   "source": [
    "# 숫자 자료형에 대한 비교 연산자 활용 예\n",
    "print(10 == 5) # ----> 거짓(False)\n",
    "print(10 != 5) # ----> 참(True)\n",
    "print(10 < 5) # ----> 거짓(False)\n",
    "print(10 > 5) # ----> 참(True)\n",
    "print(10 <= 5) # ----> 거짓(False)\n",
    "print(10 >= 5) # ----> 참(True)\n",
    "print(\"\\n\")\n",
    "\n",
    "# 불 자료형에 대한 논리 연산자 활용 예\n",
    "print(True == False) # ----> 거짓(False)\n",
    "print(True != False) # ----> 진실(True)"
   ]
  },
  {
   "cell_type": "code",
   "execution_count": 86,
   "id": "19d418ac",
   "metadata": {},
   "outputs": [
    {
     "name": "stdout",
     "output_type": "stream",
     "text": [
      "[10, 20, 30, 40]\n",
      "['programing', 'language', 'python']\n",
      "[1.5, 2.6, '문자열1', '문자열2']\n",
      "[4.0, True, 'abc', [1.5, 2.6, '문자열1', '문자열2']]\n",
      "[]\n"
     ]
    }
   ],
   "source": [
    "list_num = [10, 20, 30, 40]                      # 숫자로 리스트를 구성\n",
    "list_str = ['programing', \"language\", \"python\"]  # 문자열로 리스트를 구성\n",
    "list_mix1 = [1.5, 2.6, '문자열1', '문자열2']     # 숫자와 문자열로 리스트를 구성\n",
    "list_mix2 = [4.0, True, 'abc', list_mix1]       # 숫자, 불 ,문자열, 리스트로 리스트를 구성\n",
    "list_empty = [] # 요소가 없는 빈 리스트\n",
    "\n",
    "\n",
    "print(list_num)\n",
    "print(list_str)\n",
    "print(list_mix1)\n",
    "print(list_mix2)\n",
    "print(list_empty)"
   ]
  },
  {
   "cell_type": "code",
   "execution_count": 87,
   "id": "7a408d22",
   "metadata": {},
   "outputs": [
    {
     "name": "stdout",
     "output_type": "stream",
     "text": [
      "4\n",
      "3\n",
      "4\n",
      "4\n",
      "0\n"
     ]
    }
   ],
   "source": [
    "print(len(list_num))  # 요소의 개수 : 4\n",
    "print(len(list_str))  # 요소의 개수 : 3\n",
    "print(len(list_mix1)) # 요소의 개수 : 4\n",
    "print(len(list_mix2)) # 요소의 개수 : 4\n",
    "print(len(list_empty))# 요소의 개수 : 0"
   ]
  },
  {
   "cell_type": "code",
   "execution_count": 90,
   "id": "496fe2e0",
   "metadata": {},
   "outputs": [
    {
     "data": {
      "text/plain": [
       "40"
      ]
     },
     "execution_count": 90,
     "metadata": {},
     "output_type": "execute_result"
    }
   ],
   "source": [
    "list_num[-1]"
   ]
  },
  {
   "cell_type": "code",
   "execution_count": 91,
   "id": "c13480d7",
   "metadata": {},
   "outputs": [
    {
     "data": {
      "text/plain": [
       "20"
      ]
     },
     "execution_count": 91,
     "metadata": {},
     "output_type": "execute_result"
    }
   ],
   "source": [
    "list_num[1]"
   ]
  },
  {
   "cell_type": "code",
   "execution_count": 94,
   "id": "1804372a",
   "metadata": {},
   "outputs": [
    {
     "name": "stdout",
     "output_type": "stream",
     "text": [
      "10\n",
      "20\n",
      "30\n",
      "40\n",
      "40\n",
      "30\n"
     ]
    }
   ],
   "source": [
    "print(list_num[0])\n",
    "print(list_num[1])\n",
    "print(list_num[2])\n",
    "print(list_num[3])\n",
    "print(list_num[-1])\n",
    "print(list_num[-2])"
   ]
  },
  {
   "cell_type": "code",
   "execution_count": 95,
   "id": "2e5de6e6",
   "metadata": {},
   "outputs": [
    {
     "name": "stdout",
     "output_type": "stream",
     "text": [
      "[4.0, True, 'abc', [1.5, 2.6, '문자열1', '문자열2']]\n",
      "[1.5, 2.6, '문자열1', '문자열2']\n",
      "문자열1\n"
     ]
    }
   ],
   "source": [
    "print(list_mix2)\n",
    "print(list_mix2[3])\n",
    "print(list_mix2[3][2])"
   ]
  },
  {
   "cell_type": "code",
   "execution_count": 96,
   "id": "773a98ef",
   "metadata": {},
   "outputs": [
    {
     "name": "stdout",
     "output_type": "stream",
     "text": [
      "[100, 200, 300, 400]\n",
      "[100, 500, 300, 400]\n"
     ]
    }
   ],
   "source": [
    "list_num1 = [100, 200, 300, 400] # 리스트 생성\n",
    "print(list_num1)\n",
    "\n",
    "list_num1[1] = 500 # 두 번째 요소에 새로운 데이터를 할당\n",
    "print(list_num1)"
   ]
  },
  {
   "cell_type": "code",
   "execution_count": 97,
   "id": "d9e4dafb",
   "metadata": {},
   "outputs": [
    {
     "name": "stdout",
     "output_type": "stream",
     "text": [
      "[10, 20, 30, 40, 50]\n",
      "[10, 20, 40, 50]\n"
     ]
    }
   ],
   "source": [
    "list_num2 = [10,20,30,40,50] # 숫자로 리스트를 구성\n",
    "print(list_num2)\n",
    "\n",
    "\n",
    "del list_num2[2] # 리스트에서 인덱스가 2인 요소를 제거\n",
    "print(list_num2)"
   ]
  },
  {
   "cell_type": "code",
   "execution_count": 98,
   "id": "657e3099",
   "metadata": {},
   "outputs": [
    {
     "name": "stdout",
     "output_type": "stream",
     "text": [
      "ABCDEFG\n",
      "A\n",
      "B\n",
      "G\n",
      "F\n"
     ]
    }
   ],
   "source": [
    "str1 = \"ABCDEFG\"\n",
    "print(str1)     # 문자열 전체 출력\n",
    "print(str1[0])  # 문자열 첫 번째 요소를 가져옴\n",
    "print(str1[1])  # 문자열 두 번째 요소를 가져옴\n",
    "print(str1[-1]) # 문자열 마지막 요소를 가져옴(음수인덱스)\n",
    "print(str1[-2]) # 문자열 마지막 요소의 앞의 요소를 가져옴(음수인덱스)"
   ]
  },
  {
   "cell_type": "code",
   "execution_count": 102,
   "id": "3c0a21b1",
   "metadata": {},
   "outputs": [
    {
     "name": "stdout",
     "output_type": "stream",
     "text": [
      "[0, 10, 20, 30, 40, 50, 60, 70, 80, 90]\n",
      "40\n",
      "[0, 10, 20, 30]\n",
      "[40, 50, 60, 70, 80, 90]\n",
      "[40, 50, 60, 70, 80, 90]\n",
      "[0, 10, 20, 30, 40, 50, 60, 70, 80, 90]\n"
     ]
    }
   ],
   "source": [
    "list_num3 = [0, 10, 20, 30, 40, 50, 60, 70, 80, 90]  # 리스트 생성\n",
    "print(list_num3)      # 리스트 출력\n",
    "print(list_num3[4])   # 인텍스 4번쨰 요소 출력\n",
    "print(list_num3[0:4]) # 인덱스 0 ~ 3 요소 출력\n",
    "print(list_num3[4:])  # 인덱스 4 ~ 마지막 요소 출력\n",
    "print(list_num3[4:10])# 인덱스 4 ~ 9 요소 출력\n",
    "print(list_num3[:])   # start, end 생략. 모든 요소 출력 "
   ]
  },
  {
   "cell_type": "code",
   "execution_count": 104,
   "id": "06cf6ad2",
   "metadata": {},
   "outputs": [
    {
     "name": "stdout",
     "output_type": "stream",
     "text": [
      "가나다라마바사ABCDEFG1234567\n",
      "가나다라마바사\n",
      "가나다라마바사\n",
      "ABCDEFG\n",
      "1234567\n"
     ]
    }
   ],
   "source": [
    "str2 = \"가나다라마바사ABCDEFG1234567\"\n",
    "print(str2)      # 문자열 전체 출력\n",
    "print(str2[0:7]) # 문자열 인덱스 범위: 0 ~ 6\n",
    "print(str2[:7])  # start생략. 문자열 인덱스 범위: 0 ~ 6\n",
    "print(str2[7:14])# 문자열 인덱스 범위: 7 ~ 13\n",
    "print(str2[14:]) # end생략 문자열 인덱스 범위: 14 ~ 끝"
   ]
  },
  {
   "cell_type": "code",
   "execution_count": 105,
   "id": "a55cca04",
   "metadata": {},
   "outputs": [
    {
     "name": "stdout",
     "output_type": "stream",
     "text": [
      "['토마스']\n",
      "['토마스', '고든']\n",
      "['토마스', '고든', '에드워드']\n"
     ]
    }
   ],
   "source": [
    "friends = ['토마스']      # 리스트를 생성\n",
    "print(friends)\n",
    "\n",
    "friends.append('고든')    # 리스트의 끝에 요소('고든')를 추가\n",
    "print(friends)\n",
    "\n",
    "friends.append('에드워드')# 리스트의 끝에 요소('에드워드')를 추가\n",
    "print(friends)"
   ]
  },
  {
   "cell_type": "code",
   "execution_count": 1,
   "id": "1a17aa99",
   "metadata": {},
   "outputs": [
    {
     "name": "stdout",
     "output_type": "stream",
     "text": [
      "(0, 1, 2, 3, 4)\n",
      "(5, 6, 7, 8, 9)\n"
     ]
    }
   ],
   "source": [
    "tuple_num1 = (0, 1, 2, 3, 4)  # 소괄호로 튜플을 생성\n",
    "tuple_num2 = 5, 6, 7, 8, 9    # 괄호 없이 튜플을 생성\n",
    "\n",
    "print(tuple_num1)\n",
    "print(tuple_num2)"
   ]
  },
  {
   "cell_type": "code",
   "execution_count": 2,
   "id": "d57046d6",
   "metadata": {},
   "outputs": [
    {
     "name": "stdout",
     "output_type": "stream",
     "text": [
      "(10,)\n",
      "('데이터1',)\n"
     ]
    }
   ],
   "source": [
    "tuple_num3 = (10,)       # 소괄호로 하나의 요소를 갖는 튜플 생성\n",
    "tuple_num4 = \"데이터1\",  # 괄호 없이 하나의 요소를 갖는 튜플 생성\n",
    "\n",
    "print(tuple_num3)\n",
    "print(tuple_num4)"
   ]
  },
  {
   "cell_type": "code",
   "execution_count": 7,
   "id": "afee2044",
   "metadata": {},
   "outputs": [
    {
     "name": "stdout",
     "output_type": "stream",
     "text": [
      "programming\n",
      "('programming', 'language', 'python', 1)\n"
     ]
    }
   ],
   "source": [
    "tuple_mixed1 = ('programming', 'language', 'python', 1, 2, 3)    # 튜플 생성\n",
    "print(tuple_mixed1[0])   # 튜플 인덱싱\n",
    "print(tuple_mixed1[0:4])  # 튜플 슬라이싱(인덱스 0~3까지의 요소를 선택"
   ]
  },
  {
   "cell_type": "code",
   "execution_count": 9,
   "id": "f1d9bc80",
   "metadata": {},
   "outputs": [
    {
     "name": "stdout",
     "output_type": "stream",
     "text": [
      "{2, 3, 100, 5, 4, 10}\n",
      "{'사과', '배', '귤', '오렌지'}\n"
     ]
    }
   ],
   "source": [
    "set_num = {10, 100, 2, 3, 4, 4, 5}\n",
    "set_str = {\"사과\", \"배\", \"오렌지\", \"귤\", \"귤\"}\n",
    "\n",
    "print(set_num)\n",
    "print(set_str)"
   ]
  },
  {
   "cell_type": "code",
   "execution_count": 10,
   "id": "411ba126",
   "metadata": {},
   "outputs": [
    {
     "ename": "TypeError",
     "evalue": "'set' object is not subscriptable",
     "output_type": "error",
     "traceback": [
      "\u001b[1;31m---------------------------------------------------------------------------\u001b[0m",
      "\u001b[1;31mTypeError\u001b[0m                                 Traceback (most recent call last)",
      "Cell \u001b[1;32mIn[10], line 1\u001b[0m\n\u001b[1;32m----> 1\u001b[0m set_str[\u001b[38;5;241m0\u001b[39m]\n",
      "\u001b[1;31mTypeError\u001b[0m: 'set' object is not subscriptable"
     ]
    }
   ],
   "source": [
    "set_str[0]"
   ]
  },
  {
   "cell_type": "code",
   "execution_count": 11,
   "id": "63921ffa",
   "metadata": {},
   "outputs": [
    {
     "name": "stdout",
     "output_type": "stream",
     "text": [
      "{3, 4}\n",
      "{0, 1, 2, 3, 4, 5, 6, 7}\n",
      "{0, 1, 2}\n",
      "{3, 4}\n",
      "{0, 1, 2, 3, 4, 5, 6, 7}\n",
      "{0, 1, 2}\n"
     ]
    }
   ],
   "source": [
    "set_A = {0, 1, 2, 3, 4}  # 세트(집합) A\n",
    "set_B = {3, 4, 5, 6, 7}  # 세트(집합) B\n",
    "\n",
    "# &, |, - 연산자 사용\n",
    "print(set_A & set_B) # 집합 A와 B의 교집합\n",
    "print(set_A | set_B) # 집합 A와 B의 합집합\n",
    "print(set_A - set_B) # 집합 A와 B의 차집합\n",
    "\n",
    "# intersection(), union(), difference() 메서드 사용\n",
    "print(set_A.intersection(set_B)) # 집합 A와 B의 교집합\n",
    "print(set_A.union(set_B))        # 집합 A와 B의 합집합\n",
    "print(set_A.difference(set_B))   # 집합 A와 B의 차집합"
   ]
  },
  {
   "cell_type": "code",
   "execution_count": 12,
   "id": "e3b9b2a6",
   "metadata": {},
   "outputs": [
    {
     "name": "stdout",
     "output_type": "stream",
     "text": [
      "{1: '사과', 2: '배', 3: '복숭아', 4: '딸기'}\n",
      "{1: 1234, 5: 5678, 7: 7890}\n",
      "{True: '맞습니다.', False: '아닙니다.'}\n",
      "{'ID_101': ['민준', 24], 'ID_102': ['서연', 27]}\n"
     ]
    }
   ],
   "source": [
    "dict_ex1 = {1:'사과', 2:'배', 3:'복숭아', 4:'딸기'}      # 키는 숫자, 값은 문자열\n",
    "dict_ex2 = {1:1234, 5:5678, 7:7890}                      # 키는 숫자, 값은 숫자\n",
    "dict_ex3 = {True:'맞습니다.', False:'아닙니다.'}        # 키는 불, 값은 문자열\n",
    "dict_ex4 = {'ID_101':['민준', 24],'ID_102':['서연', 27]} # 키는 문자열, 값은 리스트\n",
    "\n",
    "print(dict_ex1)\n",
    "print(dict_ex2)\n",
    "print(dict_ex3)\n",
    "print(dict_ex4)"
   ]
  },
  {
   "cell_type": "code",
   "execution_count": 13,
   "id": "f2deae78",
   "metadata": {
    "scrolled": true
   },
   "outputs": [
    {
     "name": "stdout",
     "output_type": "stream",
     "text": [
      "사과\n",
      "7890\n",
      "맞습니다.\n",
      "['서연', 27]\n"
     ]
    }
   ],
   "source": [
    "print(dict_ex1[1])\n",
    "print(dict_ex2[7])\n",
    "print(dict_ex3[True])\n",
    "print(dict_ex4['ID_102'])"
   ]
  },
  {
   "cell_type": "code",
   "execution_count": 16,
   "id": "ed77dc7f",
   "metadata": {},
   "outputs": [
    {
     "name": "stdout",
     "output_type": "stream",
     "text": [
      "{'이름': '박재민', '나이': 24}\n",
      "{'이름': '박재민', '나이': 25}\n",
      "{'이름': '박재민', '나이': 25, '취미': ['게임', '농구']}\n"
     ]
    }
   ],
   "source": [
    "dict_user = {\"이름\": \"박재민\", \"나이\": 24}  #딕셔너리 생성\n",
    "print(dict_user)\n",
    "\n",
    "dict_user[\"나이\"] = 25  # 기존 키로 값을 변경\n",
    "print(dict_user)\n",
    "\n",
    "dict_user[\"취미\"] = [\"게임\",\"농구\"]  # 새로운 키와 값의 쌍을 추가\n",
    "print(dict_user)"
   ]
  },
  {
   "cell_type": "code",
   "execution_count": 17,
   "id": "b6b6abdc",
   "metadata": {},
   "outputs": [
    {
     "name": "stdout",
     "output_type": "stream",
     "text": [
      "{'이름': '조수빈', '나이': 28, '취미': ['독서', '영화']}\n",
      "{'이름': '조수빈', '나이': 28}\n"
     ]
    }
   ],
   "source": [
    "dict_user2 = {'이름':'조수빈', '나이': 28, '취미':['독서', '영화']}\n",
    "print(dict_user2)\n",
    "\n",
    "del dict_user2['취미']  # del을 이용해 딕셔너리의 특정 키와 값의 쌍을 삭제\n",
    "print(dict_user2)"
   ]
  },
  {
   "cell_type": "code",
   "execution_count": 18,
   "id": "3dd810aa",
   "metadata": {
    "scrolled": true
   },
   "outputs": [
    {
     "name": "stdout",
     "output_type": "stream",
     "text": [
      "{0: 'a', 1: 'b', 2: 'c', 3: 'd', 4: 'e'}\n",
      "dict_keys([0, 1, 2, 3, 4])\n",
      "dict_values(['a', 'b', 'c', 'd', 'e'])\n",
      "dict_items([(0, 'a'), (1, 'b'), (2, 'c'), (3, 'd'), (4, 'e')])\n"
     ]
    }
   ],
   "source": [
    "dict_num_alpha = {0:'a', 1:'b', 2:'c', 3:'d', 4:'e'}  # 딕셔너리 생성\n",
    "print(dict_num_alpha)          # dict_num_alpha 출력\n",
    "print(dict_num_alpha.keys())   # 딕셔너리의 키을 가져옴\n",
    "print(dict_num_alpha.values()) # 딕셔너리의 값을 가져옴\n",
    "print(dict_num_alpha.items())  # 딕셔너리의 키와 값의 쌍을 가져옴"
   ]
  },
  {
   "cell_type": "code",
   "execution_count": 20,
   "id": "abe2f959",
   "metadata": {},
   "outputs": [
    {
     "name": "stdout",
     "output_type": "stream",
     "text": [
      "[0, 1, 2, 3, 4]\n",
      "['a', 'b', 'c', 'd', 'e']\n",
      "[(0, 'a'), (1, 'b'), (2, 'c'), (3, 'd'), (4, 'e')]\n"
     ]
    }
   ],
   "source": [
    "print(list(dict_num_alpha.keys()))  # 딕셔너리 키의 반환 결과를 리스트로 변환\n",
    "print(list(dict_num_alpha.values())) # 딕셔너리 값의 반환 결과를 리스트로 변환\n",
    "print(list(dict_num_alpha.items())) # 딕셔너리 키와 값의 쌍 반환 결과를 리스트로 변환"
   ]
  },
  {
   "cell_type": "code",
   "execution_count": 21,
   "id": "744e2977",
   "metadata": {},
   "outputs": [
    {
     "name": "stdout",
     "output_type": "stream",
     "text": [
      "[0, 1, 2, 3, 4]\n"
     ]
    }
   ],
   "source": [
    "print(list(dict_num_alpha))"
   ]
  },
  {
   "cell_type": "code",
   "execution_count": 22,
   "id": "8a327efc",
   "metadata": {
    "scrolled": true
   },
   "outputs": [
    {
     "name": "stdout",
     "output_type": "stream",
     "text": [
      "['d']\n"
     ]
    }
   ],
   "source": [
    "print(list(dict_num_alpha[3]))"
   ]
  },
  {
   "cell_type": "code",
   "execution_count": 23,
   "id": "70b907b8",
   "metadata": {},
   "outputs": [
    {
     "name": "stdout",
     "output_type": "stream",
     "text": [
      "{0: 'a', 1: 'b', 2: 'c', 3: 'd', 4: 'e'}\n",
      "{0: 'a', 1: 'b', 2: 'c', 3: 'd', 4: 'e', 5: 'f', 6: 'g'}\n"
     ]
    }
   ],
   "source": [
    "print(dict_num_alpha) # 기존 딕셔너리 출력\n",
    "\n",
    "dict_new = {5:'f', 6:'g'} # 딕셔너리 생성\n",
    "dict_num_alpha.update(dict_new) # 기존 딕셔너리에 새로운 딕셔너리의 키와 값의 쌍을 추가\n",
    "print(dict_num_alpha) # 새로운 딕셔너리 추가 후 딕셔너리 출력"
   ]
  },
  {
   "cell_type": "code",
   "execution_count": 24,
   "id": "cd4af260",
   "metadata": {},
   "outputs": [
    {
     "name": "stdout",
     "output_type": "stream",
     "text": [
      "b\n",
      "None\n"
     ]
    }
   ],
   "source": [
    "print(dict_num_alpha.get(1))\n",
    "print(dict_num_alpha.get(7))"
   ]
  },
  {
   "cell_type": "code",
   "execution_count": 25,
   "id": "89d7976b",
   "metadata": {},
   "outputs": [
    {
     "name": "stdout",
     "output_type": "stream",
     "text": [
      "{0: ' zero', 1: 'one', 2: 'two', 3: 'three'}\n",
      "{}\n"
     ]
    }
   ],
   "source": [
    "dict_num_eng = {0: ' zero', 1: 'one', 2: 'two', 3: \"three\"}\n",
    "print(dict_num_eng)\n",
    "\n",
    "\n",
    "dict_num_eng.clear()  # 딕셔너리의 모든 키와 값의 쌍을 삭제\n",
    "print(dict_num_eng)"
   ]
  },
  {
   "cell_type": "code",
   "execution_count": 26,
   "id": "e3d0d1d9",
   "metadata": {},
   "outputs": [
    {
     "name": "stdout",
     "output_type": "stream",
     "text": [
      "합격\n"
     ]
    }
   ],
   "source": [
    "x = 95 # x에 95를 할당\n",
    "\n",
    "if x>=90:         # <조건>\n",
    "    print(\"합격\") # <조건>이 참이면 <코드 블록>을 수행"
   ]
  },
  {
   "cell_type": "code",
   "execution_count": 27,
   "id": "02adf85b",
   "metadata": {},
   "outputs": [
    {
     "name": "stdout",
     "output_type": "stream",
     "text": [
      "불합격\n"
     ]
    }
   ],
   "source": [
    "x = 85 # x에 85를 할당\n",
    "\n",
    "if x>=90:          # <조건>\n",
    "    print(\"합격\")  # <조건>이 참이면 <코드 블록1> 수행\n",
    "else:\n",
    "    print(\"불합격\")# <조건>이 참이 아니면 <코드 블록2> 수행"
   ]
  },
  {
   "cell_type": "code",
   "execution_count": 28,
   "id": "e8527fc0",
   "metadata": {},
   "outputs": [
    {
     "name": "stdout",
     "output_type": "stream",
     "text": [
      "0\n",
      "1\n",
      "2\n",
      "3\n",
      "4\n",
      "5\n"
     ]
    }
   ],
   "source": [
    "for num in [0, 1, 2, 3, 4, 5]:\n",
    "    print(num)"
   ]
  },
  {
   "cell_type": "code",
   "execution_count": 29,
   "id": "2e6e259c",
   "metadata": {},
   "outputs": [
    {
     "data": {
      "text/plain": [
       "[0, 1, 2, 3, 4, 5, 6, 7, 8, 9]"
      ]
     },
     "execution_count": 29,
     "metadata": {},
     "output_type": "execute_result"
    }
   ],
   "source": [
    "list(range(0, 10, 1))"
   ]
  },
  {
   "cell_type": "code",
   "execution_count": 30,
   "id": "c60aa427",
   "metadata": {},
   "outputs": [
    {
     "data": {
      "text/plain": [
       "[0, 1, 2, 3, 4, 5, 6, 7, 8, 9]"
      ]
     },
     "execution_count": 30,
     "metadata": {},
     "output_type": "execute_result"
    }
   ],
   "source": [
    "list(range(10))"
   ]
  },
  {
   "cell_type": "code",
   "execution_count": 31,
   "id": "f870d57d",
   "metadata": {},
   "outputs": [
    {
     "name": "stdout",
     "output_type": "stream",
     "text": [
      "0\n",
      "1\n",
      "2\n",
      "3\n",
      "4\n",
      "5\n"
     ]
    }
   ],
   "source": [
    "for num in range(6):\n",
    "    print(num)"
   ]
  },
  {
   "cell_type": "code",
   "execution_count": 33,
   "id": "4a4a31ae",
   "metadata": {},
   "outputs": [
    {
     "data": {
      "text/plain": [
       "[4, 3, 2, 1, 0]"
      ]
     },
     "execution_count": 33,
     "metadata": {},
     "output_type": "execute_result"
    }
   ],
   "source": [
    "numbers = [10, 11, 12, 13, 14]      # 리스트의 길이 5\n",
    "list(range(len(numbers)-1, -1, -1)) # 리스트의 인덱스를 역순으로 생성"
   ]
  },
  {
   "cell_type": "code",
   "execution_count": 36,
   "id": "77703c80",
   "metadata": {},
   "outputs": [
    {
     "name": "stdout",
     "output_type": "stream",
     "text": [
      "4 14\n",
      "3 13\n",
      "2 12\n",
      "1 11\n",
      "0 10\n"
     ]
    }
   ],
   "source": [
    "for k in range(len(numbers)-1, -1, -1): # 리스트의 인덱스를 역순으로 가져와서 처리\n",
    "    print(k, numbers[k]) # 리스트 인덱스(k)와 리스트 요소 출력"
   ]
  },
  {
   "cell_type": "code",
   "execution_count": 40,
   "id": "78bd202e",
   "metadata": {},
   "outputs": [
    {
     "name": "stdout",
     "output_type": "stream",
     "text": [
      "0 10\n",
      "1 20\n",
      "2 30\n",
      "3 40\n"
     ]
    }
   ],
   "source": [
    "list_num = [10, 20, 30, 40]\n",
    "\n",
    "for index, value in enumerate(list_num):\n",
    "    print(index, value)"
   ]
  },
  {
   "cell_type": "code",
   "execution_count": 41,
   "id": "64556500",
   "metadata": {},
   "outputs": [],
   "source": [
    "names = [\"남온조\",\"이청산\",\"최남라\",\"이수혁\",\"이나연\",\"양대수\"] # 이름\n",
    "scores = [96, 85, 100, 70, 80, 75]"
   ]
  },
  {
   "cell_type": "code",
   "execution_count": 44,
   "id": "91b8f163",
   "metadata": {},
   "outputs": [
    {
     "name": "stdout",
     "output_type": "stream",
     "text": [
      "남온조 96\n",
      "이청산 85\n",
      "최남라 100\n",
      "이수혁 70\n",
      "이나연 80\n",
      "양대수 75\n"
     ]
    }
   ],
   "source": [
    "for n in range(len(names)):\n",
    "    print(names[n], scores[n])"
   ]
  },
  {
   "cell_type": "code",
   "execution_count": 45,
   "id": "c0ee093b",
   "metadata": {},
   "outputs": [
    {
     "data": {
      "text/plain": [
       "6"
      ]
     },
     "execution_count": 45,
     "metadata": {},
     "output_type": "execute_result"
    }
   ],
   "source": [
    "len(names)"
   ]
  },
  {
   "cell_type": "code",
   "execution_count": 46,
   "id": "d20738ba",
   "metadata": {},
   "outputs": [
    {
     "name": "stdout",
     "output_type": "stream",
     "text": [
      "남온조 96\n",
      "이청산 85\n",
      "최남라 100\n",
      "이수혁 70\n",
      "이나연 80\n",
      "양대수 75\n"
     ]
    }
   ],
   "source": [
    "for name, score in zip(names,scores):\n",
    "    print(name, score)"
   ]
  },
  {
   "cell_type": "code",
   "execution_count": 51,
   "id": "24fdaeef",
   "metadata": {},
   "outputs": [
    {
     "name": "stdout",
     "output_type": "stream",
     "text": [
      "[0]\n",
      "[0, 1]\n",
      "[0, 1, 2]\n",
      "[0, 1, 2, 3]\n",
      "[0, 1, 2, 3, 4]\n",
      "[0, 1, 2, 3, 4, 5]\n",
      "[0, 1, 2, 3, 4, 5, 6]\n",
      "[0, 1, 2, 3, 4, 5, 6, 7]\n",
      "[0, 1, 2, 3, 4, 5, 6, 7, 8]\n",
      "while문 결과: [0, 1, 2, 3, 4, 5, 6, 7, 8, 9]\n"
     ]
    }
   ],
   "source": [
    "list_num = []   # 빈 리스트 생성\n",
    "count = 0       # count를 0으로 초기화\n",
    "\n",
    "\n",
    "while (count < 10):        # <조건> count가 10보다 작은지 검사\n",
    "    list_num.append(count)  # <코드 블록> list_num에 count 추가\n",
    "    count = count + 1       # <코드 블록> count를 1씩 증가\n",
    "    if count >= 10:\n",
    "        break\n",
    "    print(list_num)\n",
    "\n",
    "print(\"while문 결과:\",list_num)   # 리스트 list_num의 내용을 출력"
   ]
  },
  {
   "cell_type": "code",
   "execution_count": 53,
   "id": "1962d579",
   "metadata": {},
   "outputs": [
    {
     "name": "stdout",
     "output_type": "stream",
     "text": [
      "1 2 3 4 5\n",
      "a b c d e\n",
      "123 abc True\n",
      "['abc', 123, 'def'] {'a': 1, 'b': 2}\n"
     ]
    }
   ],
   "source": [
    "print(1, 2, 3, 4, 5)           # 숫자 출력\n",
    "print('a', 'b', 'c', 'd', 'e') # 문자 출력\n",
    "print(123, \"abc\", True)        # 숫자, 문자, 불 출력\n",
    "print(['abc', 123, 'def'], {\"a\":1, \"b\":2})  # 리스트와 딕셔너리 출력"
   ]
  },
  {
   "cell_type": "code",
   "execution_count": 54,
   "id": "8f506aa8",
   "metadata": {},
   "outputs": [
    {
     "name": "stdout",
     "output_type": "stream",
     "text": [
      "합계:\n",
      "90\n",
      "합계:90\n"
     ]
    }
   ],
   "source": [
    "print(\"합계:\") # end 옵션이 없으면 개행문자가 들어가서 줄 바꿈 수행\n",
    "print(90)\n",
    "print(\"합계:\", end='') # end 옵션에 빈 문자열을 입력해 줄 바꿈이 없도록 함\n",
    "print(90)"
   ]
  },
  {
   "cell_type": "code",
   "execution_count": 55,
   "id": "72ed7498",
   "metadata": {},
   "outputs": [
    {
     "name": "stdout",
     "output_type": "stream",
     "text": [
      "나는 파이썬을 이용해 \n",
      "많은 업무를 \n",
      "자동화합니다.\n"
     ]
    }
   ],
   "source": [
    "print(\"나는 파이썬을 이용해 \\n많은 업무를 \\n자동화합니다.\")"
   ]
  },
  {
   "cell_type": "code",
   "execution_count": 56,
   "id": "494b8c67",
   "metadata": {},
   "outputs": [
    {
     "name": "stdout",
     "output_type": "stream",
     "text": [
      "문자열 출력: Banana, Apple, Orange\n",
      "문자열 출력: Orange, Banana, Apple\n"
     ]
    }
   ],
   "source": [
    "fruit_0 = \"Banana\"\n",
    "fruit_1 = \"Apple\"\n",
    "fruit_2 = \"Orange\"\n",
    "\n",
    "print(\"문자열 출력: {0}, {1}, {2}\".format(fruit_0, fruit_1, fruit_2))\n",
    "print(\"문자열 출력: {2}, {0}, {1}\".format(fruit_0, fruit_1, fruit_2))"
   ]
  },
  {
   "cell_type": "code",
   "execution_count": 57,
   "id": "ea50d833",
   "metadata": {},
   "outputs": [
    {
     "name": "stdout",
     "output_type": "stream",
     "text": [
      "문자열 출력: Banana, Apple, Orange\n"
     ]
    }
   ],
   "source": [
    "print(\"문자열 출력: {}, {}, {}\".format(fruit_0, fruit_1, fruit_2))"
   ]
  },
  {
   "cell_type": "code",
   "execution_count": 58,
   "id": "f8354b50",
   "metadata": {},
   "outputs": [
    {
     "name": "stdout",
     "output_type": "stream",
     "text": [
      "숫자 출력: 123, 3.141592653589\n"
     ]
    }
   ],
   "source": [
    "num_int = 123\n",
    "num_float = 3.141592653589\n",
    "\n",
    "print(\"숫자 출력: {0}, {1}\".format(num_int,num_float))"
   ]
  },
  {
   "cell_type": "code",
   "execution_count": 59,
   "id": "d7116946",
   "metadata": {},
   "outputs": [
    {
     "name": "stdout",
     "output_type": "stream",
     "text": [
      "이름: 최서희, 전화번호: 010-12zy-5678\n"
     ]
    }
   ],
   "source": [
    "name = \"최서희\"\n",
    "phone_number = \"010-12zy-5678\"\n",
    "\n",
    "print(f\"이름: {name}, 전화번호: {phone_number}\")  # f-문자열 방식을 이용한 출력"
   ]
  },
  {
   "cell_type": "code",
   "execution_count": 1,
   "id": "31ca92fe",
   "metadata": {},
   "outputs": [
    {
     "ename": "ZeroDivisionError",
     "evalue": "division by zero",
     "output_type": "error",
     "traceback": [
      "\u001b[1;31m---------------------------------------------------------------------------\u001b[0m",
      "\u001b[1;31mZeroDivisionError\u001b[0m                         Traceback (most recent call last)",
      "Cell \u001b[1;32mIn[1], line 1\u001b[0m\n\u001b[1;32m----> 1\u001b[0m \u001b[38;5;241m10\u001b[39m\u001b[38;5;241m/\u001b[39m\u001b[38;5;241m0\u001b[39m\n",
      "\u001b[1;31mZeroDivisionError\u001b[0m: division by zero"
     ]
    }
   ],
   "source": [
    "10/0"
   ]
  },
  {
   "cell_type": "code",
   "execution_count": 2,
   "id": "fe03c30a",
   "metadata": {},
   "outputs": [
    {
     "name": "stdout",
     "output_type": "stream",
     "text": [
      "실행 중 오류가 발생했습니다.\n"
     ]
    }
   ],
   "source": [
    "try:\n",
    "    10/0\n",
    "except:\n",
    "    print(\"실행 중 오류가 발생했습니다.\")"
   ]
  },
  {
   "cell_type": "code",
   "execution_count": 3,
   "id": "e3d05a9b",
   "metadata": {},
   "outputs": [
    {
     "name": "stdout",
     "output_type": "stream",
     "text": [
      "실행 중 숫자를 0으로 나누었습니다.\n"
     ]
    }
   ],
   "source": [
    "try:\n",
    "    10/0\n",
    "except ZeroDivisionError:\n",
    "    print(\"실행 중 숫자를 0으로 나누었습니다.\")"
   ]
  },
  {
   "cell_type": "code",
   "execution_count": 4,
   "id": "7578721d",
   "metadata": {},
   "outputs": [
    {
     "name": "stdout",
     "output_type": "stream",
     "text": [
      "k = 1\n",
      "k = 2\n",
      "k = 3. 일부러 예외 발생\n",
      "실행 중 오류가 발생했습니다.\n"
     ]
    }
   ],
   "source": [
    "try:\n",
    "    for k in [1, 2, 3]:\n",
    "        if(k==3):\n",
    "            print(\"k = {0}. 일부러 예외 발생\".format(k))\n",
    "            raise\n",
    "        else:\n",
    "            print(\"k = {0}\".format(k))\n",
    "except:\n",
    "    print(\"실행 중 오류가 발생했습니다.\")"
   ]
  },
  {
   "cell_type": "code",
   "execution_count": 7,
   "id": "f9f2b213",
   "metadata": {},
   "outputs": [
    {
     "name": "stdout",
     "output_type": "stream",
     "text": [
      "오류가 발생했습니다.\n",
      "tulpe_num = (1, 2, 3)\n"
     ]
    }
   ],
   "source": [
    "tuple_num = (1, 2, 3) # 튜플 데이터\n",
    "\n",
    "try:\n",
    "    tuple_num[0] = 4 # 튜플의 요소를 변경할 수 없어 오류 발생\n",
    "except:\n",
    "    print(\"오류가 발생했습니다.\")\n",
    "finally:\n",
    "    print(\"tulpe_num = {0}\".format(tuple_num))"
   ]
  },
  {
   "cell_type": "code",
   "execution_count": 8,
   "id": "ac844fa4",
   "metadata": {
    "scrolled": true
   },
   "outputs": [
    {
     "name": "stdout",
     "output_type": "stream",
     "text": [
      "=====\n",
      "(^o^)\n",
      "=====\n"
     ]
    }
   ],
   "source": [
    "# 함수의 정의(이모티콘 출력)\n",
    "def my_emoticon():\n",
    "    print(\"=====\")\n",
    "    print(\"(^o^)\")\n",
    "    print(\"=====\")\n",
    "    \n",
    "# 함수의 호출\n",
    "my_emoticon()"
   ]
  },
  {
   "cell_type": "code",
   "execution_count": 10,
   "id": "1e3554af",
   "metadata": {},
   "outputs": [
    {
     "name": "stdout",
     "output_type": "stream",
     "text": [
      "---게임 정보---\n",
      "이름: AI개발자 지망생\n",
      "버전: 2.02\n",
      "장르: MMORPG\n"
     ]
    }
   ],
   "source": [
    "# 함수의 정의(게임 정보 출력)\n",
    "def game_info_display(name, version, genre): # 3개의 매개변수를 갖는 변수\n",
    "    print(\"---게임 정보---\")\n",
    "    print(\"이름:\", name)\n",
    "    print(\"버전:\", version)\n",
    "    print(\"장르:\", genre)\n",
    "    \n",
    "# 함수의 호출(매개변수의 개수와 같은 순서로 인수를 입력)\n",
    "game_info_display(\"AI개발자 지망생\", \"2.02\", \"MMORPG\")"
   ]
  },
  {
   "cell_type": "code",
   "execution_count": 11,
   "id": "3b8eea78",
   "metadata": {},
   "outputs": [
    {
     "data": {
      "text/plain": [
       "7"
      ]
     },
     "execution_count": 11,
     "metadata": {},
     "output_type": "execute_result"
    }
   ],
   "source": [
    "# 함수의 정의(y = 2*x 1)\n",
    "def my_func(x):\n",
    "    y = 2*x + 1\n",
    "    return y\n",
    "\n",
    "# 함수의 호풀(함수의 인수는 숫자로 입력)\n",
    "my_func(3)"
   ]
  },
  {
   "cell_type": "code",
   "execution_count": 13,
   "id": "ca20d2f6",
   "metadata": {},
   "outputs": [
    {
     "data": {
      "text/plain": [
       "11"
      ]
     },
     "execution_count": 13,
     "metadata": {},
     "output_type": "execute_result"
    }
   ],
   "source": [
    "result = my_func(5)\n",
    "result"
   ]
  },
  {
   "cell_type": "code",
   "execution_count": 14,
   "id": "fba29abb",
   "metadata": {},
   "outputs": [
    {
     "data": {
      "text/plain": [
       "(45, 5.0)"
      ]
     },
     "execution_count": 14,
     "metadata": {},
     "output_type": "execute_result"
    }
   ],
   "source": [
    "# 함수의 정의(리스트를 입력받아 함계와 평균을 반환)\n",
    "def calc_sum_mean(list_data):\n",
    "    e_count = 0 # 요소 개수(초기화)\n",
    "    e_sum = 0   # 요소 합계(초기화)\n",
    "    \n",
    "    for element in list_data:\n",
    "        e_count = e_count + 1\n",
    "        e_sum = e_sum + e_count\n",
    "    \n",
    "    e_mean = e_sum / e_count\n",
    "    \n",
    "    return e_sum, e_mean # 계산 합계와 평균을 반환(자료형은 튜플)\n",
    "\n",
    "# 함수의 호출(인수는 리스트로 입력)\n",
    "calc_sum_mean([1, 2, 3, 4, 5, 6, 7, 8, 9])"
   ]
  },
  {
   "cell_type": "code",
   "execution_count": 15,
   "id": "a7099010",
   "metadata": {},
   "outputs": [
    {
     "name": "stdout",
     "output_type": "stream",
     "text": [
      "45\n",
      "5.0\n"
     ]
    }
   ],
   "source": [
    "list_sum, list_mean = calc_sum_mean([1, 2, 3, 4, 5, 6, 7, 8, 9])\n",
    "\n",
    "print(list_sum)\n",
    "print(list_mean)"
   ]
  },
  {
   "cell_type": "code",
   "execution_count": 16,
   "id": "0db41945",
   "metadata": {},
   "outputs": [],
   "source": [
    "def my_add(a=1, b=2, c=3):\n",
    "\n",
    "    y = a + b + c\n",
    "\n",
    "    print(\"{0} + {1} + {2}  = {3}\".format(a, b, c, y))"
   ]
  },
  {
   "cell_type": "code",
   "execution_count": 17,
   "id": "e4a598dc",
   "metadata": {},
   "outputs": [
    {
     "name": "stdout",
     "output_type": "stream",
     "text": [
      "1 + 2 + 3  = 6\n",
      "11 + 2 + 3  = 16\n",
      "11 + 12 + 3  = 26\n",
      "11 + 12 + 13  = 36\n"
     ]
    }
   ],
   "source": [
    "# 모든 매개변수가 기본값을 사용\n",
    "my_add()\n",
    "\n",
    "# 첫 번째 매개변수는 입력한 인수를 사용하고 나머지는 기본값을 사용\n",
    "my_add(11)\n",
    "\n",
    "# 첫 번째와 두 번째 매개변수는 입력한 인수를 사용하고 나머지는 기본값을 사용\n",
    "my_add(11, 12)\n",
    "\n",
    "# 모든 매개변수가 입력한 인수를 사용\n",
    "my_add(11, 12, 13)"
   ]
  },
  {
   "cell_type": "code",
   "execution_count": 18,
   "id": "5f3f911e",
   "metadata": {},
   "outputs": [
    {
     "name": "stdout",
     "output_type": "stream",
     "text": [
      "11 + 2 + 13  = 26\n",
      "1 + 12 + 13  = 26\n"
     ]
    }
   ],
   "source": [
    "# 첫 번째와 세 번째 매개변수는 입력한 인수를 사용하고 두 번째를 기본값을 사용\n",
    "my_add(11, c=13) # 인수 입력이 매개변수에 의한 입력보다 먼저 와야 함.\n",
    "\n",
    "# 두 번째와 세 번째 매개변수는 입력한 인수를 사용하고 첫 번째는 기본 값 사용\n",
    "my_add(c=13, b=12) # 매개변수에 의한 입력끼리는 순서가 중요하지 않음"
   ]
  },
  {
   "cell_type": "code",
   "execution_count": 22,
   "id": "7bae7594",
   "metadata": {},
   "outputs": [],
   "source": [
    "def my_add(a, b, c=3, d=4):\n",
    "    y = a + b + c +d\n",
    "    print(\"{0} + {1} + {2} + {3} = {4}\".format(a, b, c, d, y))"
   ]
  },
  {
   "cell_type": "code",
   "execution_count": 23,
   "id": "81ce1f2a",
   "metadata": {},
   "outputs": [
    {
     "name": "stdout",
     "output_type": "stream",
     "text": [
      "1 + 2 + 3 + 4 = 10\n",
      "1 + 2 + 13 + 4 = 20\n",
      "1 + 2 + 13 + 14 = 30\n",
      "1 + 2 + 3 + 14 = 20\n"
     ]
    }
   ],
   "source": [
    "my_add(1, 2)        # 기본값 없는 매개변수는 반드시 인수 필요. c와 d에는 기본값 입력\n",
    "my_add(1, 2, 13)    # d에는 기본값이 입력됨\n",
    "my_add(1, 2, 13, 14)# c와 d에 모두 인수로 지정한 값 입력\n",
    "my_add(1, 2, d=14)  # c에는 기본값이 입력됨"
   ]
  },
  {
   "cell_type": "code",
   "execution_count": 24,
   "id": "39811735",
   "metadata": {},
   "outputs": [
    {
     "name": "stdout",
     "output_type": "stream",
     "text": [
      "정수로 변환 [12, 1234, 0, -56]\n",
      "실수로 변환 [12.0, 12.34, 56.0, -98.0]\n",
      "문자열로 변환 ['12', '12.34']\n"
     ]
    }
   ],
   "source": [
    "print(\"정수로 변환\", [int(12.34), int(\"1234\"), int(0.56),int(-56.78)])\n",
    "print(\"실수로 변환\", [float(12), float(\"12.34\"), float(\"56\"), float(-98)])\n",
    "print(\"문자열로 변환\", [str(12), str(12.34)])"
   ]
  },
  {
   "cell_type": "code",
   "execution_count": 25,
   "id": "57c98075",
   "metadata": {},
   "outputs": [
    {
     "name": "stdout",
     "output_type": "stream",
     "text": [
      "최소: -2\n",
      "최대: 5\n",
      "합계: 12\n"
     ]
    }
   ],
   "source": [
    "list_data = [-2, -1, 0, 1, 2, 3, 4, 5] # 리스트 데이터\n",
    "\n",
    "print(\"최소:\", min(list_data)) # 리스트 요소의 최솟값\n",
    "print(\"최대:\", max(list_data)) # 리스트 요소의 최댓값\n",
    "print(\"합계:\", sum(list_data)) # 리스트 요소의 합"
   ]
  },
  {
   "cell_type": "code",
   "execution_count": 30,
   "id": "b90b9599",
   "metadata": {},
   "outputs": [
    {
     "name": "stdout",
     "output_type": "stream",
     "text": [
      "평균: 1.5\n"
     ]
    }
   ],
   "source": [
    "mean = sum(list_data) / len(list_data)\n",
    "\n",
    "print(\"평균:\", mean)"
   ]
  },
  {
   "cell_type": "code",
   "execution_count": 33,
   "id": "25f49c93",
   "metadata": {},
   "outputs": [
    {
     "name": "stdout",
     "output_type": "stream",
     "text": [
      "세트 데이터: {0, 1, 2, 3, -1, -2}\n",
      "최소: -2, 최대: 3\n",
      "합계: 3, 데이터 개수: 6\n"
     ]
    }
   ],
   "source": [
    "set_data = {-2, -1, 0, 1, 2, 3, 3, 3} # 중복 요소는 제거하고 세트 생성\n",
    "\n",
    "print(\"세트 데이터:\", set_data)\n",
    "print(\"최소: {}, 최대: {}\".format(min(set_data), max(set_data)))\n",
    "print(\"합계: {}, 데이터 개수: {}\".format(sum(set_data), len(set_data)))"
   ]
  },
  {
   "cell_type": "code",
   "execution_count": 35,
   "id": "60a56e85",
   "metadata": {},
   "outputs": [
    {
     "name": "stdout",
     "output_type": "stream",
     "text": [
      "이름을 입력하세요:이준혁\n",
      "나이를 입력하세요:28\n",
      "안녕하세요, 이준혁님 당신의 나이는 28살로 성인입니다.\n"
     ]
    }
   ],
   "source": [
    "name = input(\"이름을 입력하세요:\")\n",
    "age = int(input(\"나이를 입력하세요:\"))\n",
    "\n",
    "if age >= 20:\n",
    "    print(f\"안녕하세요, {name}님 당신의 나이는 {age}살로 성인입니다.\")\n",
    "else:\n",
    "    print(f\"안녕하세요, {name}님 당신의 나이는{age}살로 성인이 아닙니다.\")"
   ]
  },
  {
   "cell_type": "code",
   "execution_count": 37,
   "id": "27c47167",
   "metadata": {},
   "outputs": [
    {
     "name": "stdout",
     "output_type": "stream",
     "text": [
      "키 입력(cm):172.5\n",
      "몸무게 입력(kg): 65.2\n",
      "BMI: 21.91\n"
     ]
    }
   ],
   "source": [
    "height = float(input(\"키 입력(cm):\"))      # 입력받은 문자열을 실수로 변환\n",
    "weight = float(input(\"몸무게 입력(kg): \")) # 입력받은 문자열을 실수로 변환\n",
    "\n",
    "BMI = weight / ((height/100)**2) # BMI 계산 공식 체중(kg) / 키(m)의 제곱\n",
    "\n",
    "print(f\"BMI: {BMI:.2f}\")"
   ]
  },
  {
   "cell_type": "code",
   "execution_count": 39,
   "id": "b12eecf8",
   "metadata": {},
   "outputs": [
    {
     "name": "stdout",
     "output_type": "stream",
     "text": [
      "Writing C:\\myPyAI\\code\\calc_area.py\n"
     ]
    }
   ],
   "source": [
    "%%writefile C:\\myPyAI\\code\\calc_area.py\n",
    "# File name: calc_area.py\n",
    "PI = 3.14\n",
    "def rectangle(l, w): # 직사각형(가로: ㅣ, 세로: w)의 넓이를 반환\n",
    "    return l * w\n",
    "\n",
    "def circle(r): # 원(반지름: r)의 넓이를 반환\n",
    "    return PI * r ** 2"
   ]
  },
  {
   "cell_type": "code",
   "execution_count": 1,
   "id": "f9817a4c",
   "metadata": {},
   "outputs": [
    {
     "name": "stdout",
     "output_type": "stream",
     "text": [
      "C:\\myPyAI\\code\n"
     ]
    }
   ],
   "source": [
    "cd C:\\myPyAI\\code"
   ]
  },
  {
   "cell_type": "code",
   "execution_count": 2,
   "id": "a709b8a4",
   "metadata": {},
   "outputs": [
    {
     "name": "stdout",
     "output_type": "stream",
     "text": [
      "원주율:3.14, 직사각형 넓이: 10, 원의 넓이: 28.26\n"
     ]
    }
   ],
   "source": [
    "import calc_area # 모듈 임포트\n",
    "\n",
    "pi = calc_area.PI                 # 임포트한 모듈의 변수를 사용\n",
    "rect = calc_area.rectangle(5, 2)  # 임포트한 모듈의 함수를 호출\n",
    "circ = calc_area.circle(3)        # 임포트한 모듈의 함수를 호출\n",
    "\n",
    "print(f\"원주율:{pi}, 직사각형 넓이: {rect}, 원의 넓이: {circ}\")"
   ]
  },
  {
   "cell_type": "code",
   "execution_count": 3,
   "id": "85d5b571",
   "metadata": {},
   "outputs": [
    {
     "name": "stdout",
     "output_type": "stream",
     "text": [
      "C:\\myPyAI\n"
     ]
    }
   ],
   "source": [
    "cd C:\\myPyAI"
   ]
  },
  {
   "cell_type": "code",
   "execution_count": 4,
   "id": "d80fe885",
   "metadata": {},
   "outputs": [
    {
     "name": "stdout",
     "output_type": "stream",
     "text": [
      "원주율:3.14, 직사각형 넓이: 10, 원의 넓이: 28.26\n"
     ]
    }
   ],
   "source": [
    "import calc_area # 모듈 임포트\n",
    "\n",
    "pi = calc_area.PI                 # 임포트한 모듈의 변수를 사용\n",
    "rect = calc_area.rectangle(5, 2)  # 임포트한 모듈의 함수를 호출\n",
    "circ = calc_area.circle(3)        # 임포트한 모듈의 함수를 호출\n",
    "\n",
    "print(f\"원주율:{pi}, 직사각형 넓이: {rect}, 원의 넓이: {circ}\")"
   ]
  },
  {
   "cell_type": "code",
   "execution_count": 116,
   "id": "283ef53e",
   "metadata": {},
   "outputs": [
    {
     "name": "stdout",
     "output_type": "stream",
     "text": [
      "Writing C:\\myPyAI\\code\\car2.py\n"
     ]
    }
   ],
   "source": [
    "%%writefile C:\\myPyAI\\code\\car2.py\n",
    "# File name: car.py\n",
    "\n",
    "class Car(): # 클래스 선언\n",
    "    def __init__(self, size, color):\n",
    "        self.size = size   # 인스턴스 변수 생성 및 초기화\n",
    "        self.color = color # 인스턴스 변수 생성 및 초기화\n",
    "        \n",
    "    def move(self):\n",
    "        print(f\"자동차({self.size} & {self.color})가 움직입니다.\")"
   ]
  },
  {
   "cell_type": "code",
   "execution_count": 118,
   "id": "8e2f32f0",
   "metadata": {},
   "outputs": [
    {
     "name": "stdout",
     "output_type": "stream",
     "text": [
      "자동차(중형 & 은색)가 움직입니다.\n"
     ]
    }
   ],
   "source": [
    "import car2\n",
    "a = car2.Car(\"중형\", \"은색\")\n",
    "a.move()"
   ]
  },
  {
   "cell_type": "code",
   "execution_count": 119,
   "id": "d1320eb0",
   "metadata": {},
   "outputs": [
    {
     "name": "stdout",
     "output_type": "stream",
     "text": [
      "원주율:3.14, 직사각형 넓이: 10, 원의 넓이: 28.26\n"
     ]
    }
   ],
   "source": [
    "from calc_area import PI, rectangle, circle # 모듈의 변수, 함수를 임포트\n",
    "\n",
    "pi = PI                 # 모듈명 없이 바로 변수 사용\n",
    "rect = rectangle(5, 2)  # 모듈명 없이 바로 함수를 호출\n",
    "circ = circle(3)        # 모듈명 없이 바로 함수를 호출\n",
    "\n",
    "print(f\"원주율:{pi}, 직사각형 넓이: {rect}, 원의 넓이: {circ}\")"
   ]
  },
  {
   "cell_type": "code",
   "execution_count": 121,
   "id": "82938d62",
   "metadata": {},
   "outputs": [
    {
     "name": "stdout",
     "output_type": "stream",
     "text": [
      "원주율:3.14, 직사각형 넓이: 10, 원의 넓이: 28.26\n"
     ]
    }
   ],
   "source": [
    "import calc_area as area   # 모듈을 불러와서 별명으로 지정\n",
    "\n",
    "pi = area.PI                # 임포트한 모듈의 별명과 함께 변수를 사용\n",
    "rect = area.rectangle(5, 2) # 임포트한 모듈의 별명과 함께 함수를 호출\n",
    "circ = area.circle(3)       # 임포트한 모듈의 별명과 함께 함수를 호출\n",
    "\n",
    "print(f\"원주율:{pi}, 직사각형 넓이: {rect}, 원의 넓이: {circ}\")"
   ]
  },
  {
   "cell_type": "code",
   "execution_count": 122,
   "id": "bac3d682",
   "metadata": {},
   "outputs": [
    {
     "name": "stdout",
     "output_type": "stream",
     "text": [
      "원주율:3.14, 직사각형 넓이: 10, 원의 넓이: 28.26\n"
     ]
    }
   ],
   "source": [
    "from calc_area import PI as pi          # 모듈의 변수를 별명으로 지정\n",
    "from calc_area import rectangle as rect # 모듈의 함수를 별명으로 지정\n",
    "from calc_area import circle as circ    # 모듈의 함수를 별명으로 지정\n",
    "\n",
    "p = pi          # 모듈의 변수를 별명으로 사용\n",
    "r = rect(5, 2)  # 모듈의 함수를 별명으로 호출\n",
    "c = circ(3)     # 모듈의 함수를 별명으로 호출\n",
    "\n",
    "print(f\"원주율:{p}, 직사각형 넓이: {r}, 원의 넓이: {c}\")"
   ]
  },
  {
   "cell_type": "code",
   "execution_count": null,
   "id": "29671cb8",
   "metadata": {},
   "outputs": [],
   "source": []
  }
 ],
 "metadata": {
  "kernelspec": {
   "display_name": "Python 3 (ipykernel)",
   "language": "python",
   "name": "python3"
  },
  "language_info": {
   "codemirror_mode": {
    "name": "ipython",
    "version": 3
   },
   "file_extension": ".py",
   "mimetype": "text/x-python",
   "name": "python",
   "nbconvert_exporter": "python",
   "pygments_lexer": "ipython3",
   "version": "3.11.5"
  }
 },
 "nbformat": 4,
 "nbformat_minor": 5
}
