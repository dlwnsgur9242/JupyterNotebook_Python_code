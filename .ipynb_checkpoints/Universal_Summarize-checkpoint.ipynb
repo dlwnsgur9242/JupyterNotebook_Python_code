{
 "cells": [
  {
   "cell_type": "code",
   "execution_count": 8,
   "id": "d47a676a",
   "metadata": {},
   "outputs": [
    {
     "data": {
      "text/plain": [
       "<Response [200]>"
      ]
     },
     "execution_count": 8,
     "metadata": {},
     "output_type": "execute_result"
    }
   ],
   "source": [
    "import requests\n",
    "import os\n",
    "\n",
    "KAGI_API_TOKEN = os.environ[\"KAGI_API_TOKEN\"] # kagi API키\n",
    "\n",
    "contents_url = \"https://www.youtube.com/watch?v=BmYv8XGl-YU\"\n",
    "url = f\"https://kagi.com/api/v0/summarize?url={contents_url}\" # 전달할 매개변수를 URL에 포함\n",
    "headers = {\"Authorization\": \"Bot \" + KAGI_API_TOKEN}\n",
    "\n",
    "r = requests.get(url, headers=headers)\n",
    "r"
   ]
  },
  {
   "cell_type": "code",
   "execution_count": 4,
   "id": "0549f563",
   "metadata": {
    "scrolled": true
   },
   "outputs": [
    {
     "name": "stdout",
     "output_type": "stream",
     "text": [
      "AQAA7soO1gU.CfwgljdU1ix-xuTdAPk587JX5kWmngCWDGJycp7YrT8\n"
     ]
    }
   ],
   "source": [
    "print(KAGI_API_TOKEN)"
   ]
  },
  {
   "cell_type": "code",
   "execution_count": 9,
   "id": "97f05c7b",
   "metadata": {},
   "outputs": [
    {
     "data": {
      "text/plain": [
       "{'meta': {'id': 'db85822a4d5ccc5b1be3026e22c191b0',\n",
       "  'node': 'asia-southeast1',\n",
       "  'ms': 0,\n",
       "  'api_balance': 3.860891},\n",
       " 'data': {'output': 'Mark Zuckerberg gave the commencement address at Harvard in 2017. He talked about his time as a student at Harvard and founding Facebook. Zuckerberg argued that the challenge for millennials is to create a world where everyone has a sense of purpose. He proposed that we can do this by taking on big meaningful projects together, redefining equality, and building communities globally and locally. Throughout his speech, Zuckerberg shared personal anecdotes from his time at Harvard and lessons he has learned as the founder of Facebook to inspire the graduates to pursue ambitious goals that can make a positive impact.',\n",
       "  'tokens': 0}}"
      ]
     },
     "execution_count": 9,
     "metadata": {},
     "output_type": "execute_result"
    }
   ],
   "source": [
    "r.json()"
   ]
  },
  {
   "cell_type": "code",
   "execution_count": 10,
   "id": "318eaaf9",
   "metadata": {},
   "outputs": [
    {
     "data": {
      "text/plain": [
       "'Mark Zuckerberg gave the commencement address at Harvard in 2017. He talked about his time as a student at Harvard and founding Facebook. Zuckerberg argued that the challenge for millennials is to create a world where everyone has a sense of purpose. He proposed that we can do this by taking on big meaningful projects together, redefining equality, and building communities globally and locally. Throughout his speech, Zuckerberg shared personal anecdotes from his time at Harvard and lessons he has learned as the founder of Facebook to inspire the graduates to pursue ambitious goals that can make a positive impact.'"
      ]
     },
     "execution_count": 10,
     "metadata": {},
     "output_type": "execute_result"
    }
   ],
   "source": [
    "summary = r.json()['data']['output'] # 요약 내용을 별도의 변수에 할당\n",
    "summary"
   ]
  },
  {
   "cell_type": "code",
   "execution_count": 11,
   "id": "8574bb95",
   "metadata": {},
   "outputs": [
    {
     "name": "stdout",
     "output_type": "stream",
     "text": [
      "- 요약 내용(축약): Mark Zuckerberg gave the commencement address at Harvard in 2017. He talked about his time as a student at Harvard and founding Facebook.[..이하 생략..]\n"
     ]
    }
   ],
   "source": [
    "import requests\n",
    "import os\n",
    "import textwrap\n",
    "\n",
    "KAGI_API_TOKEN = os.environ[\"KAGI_API_TOKEN\"] # kagi API 키\n",
    "\n",
    "api_url = \"https://kagi.com/api/v0/summarize\"\n",
    "contents_url =\"https://www.youtube.com/watch?v=BmYv8XGl-YU\"\n",
    "headers = {\"Authorization\": \"Bot \" + KAGI_API_TOKEN}\n",
    "parameters = {\"url\":contents_url}\n",
    "\n",
    "r = requests.get(api_url, headers=headers, params=parameters)\n",
    "\n",
    "summary = r.json()['data']['output'] # 요약 내용을 별도의 변수에 할당\n",
    "\n",
    "shorten_summary = textwrap.shorten(summary, 150, placeholder='[..이하 생략..]')\n",
    "\n",
    "print(\"- 요약 내용(축약):\", shorten_summary)  # 요약 내용(축약) 출력\n",
    "# print(\"- 요약 내용:\", summary) # 요약 내용(전체) 출력"
   ]
  }
 ],
 "metadata": {
  "kernelspec": {
   "display_name": "Python 3 (ipykernel)",
   "language": "python",
   "name": "python3"
  },
  "language_info": {
   "codemirror_mode": {
    "name": "ipython",
    "version": 3
   },
   "file_extension": ".py",
   "mimetype": "text/x-python",
   "name": "python",
   "nbconvert_exporter": "python",
   "pygments_lexer": "ipython3",
   "version": "3.11.5"
  }
 },
 "nbformat": 4,
 "nbformat_minor": 5
}
