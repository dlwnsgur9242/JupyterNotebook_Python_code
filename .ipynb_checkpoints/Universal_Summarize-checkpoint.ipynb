{
 "cells": [
  {
   "cell_type": "code",
   "execution_count": 8,
   "id": "d47a676a",
   "metadata": {
    "scrolled": true
   },
   "outputs": [
    {
     "data": {
      "text/plain": [
       "<Response [200]>"
      ]
     },
     "execution_count": 8,
     "metadata": {},
     "output_type": "execute_result"
    }
   ],
   "source": [
    "import requests\n",
    "import os\n",
    "\n",
    "KAGI_API_TOKEN = os.environ[\"KAGI_API_TOKEN\"] # kagi API키\n",
    "\n",
    "contents_url = \"https://www.youtube.com/watch?v=BmYv8XGl-YU\"\n",
    "url = f\"https://kagi.com/api/v0/summarize?url={contents_url}\" # 전달할 매개변수를 URL에 포함\n",
    "headers = {\"Authorization\": \"Bot \" + KAGI_API_TOKEN}\n",
    "\n",
    "r = requests.get(url, headers=headers)\n",
    "r"
   ]
  },
  {
   "cell_type": "code",
   "execution_count": 24,
   "id": "0549f563",
   "metadata": {
    "scrolled": true
   },
   "outputs": [
    {
     "name": "stdout",
     "output_type": "stream",
     "text": [
      "AQAA7soO1gU.CfwgljdU1ix-xuTdAPk587JX5kWmngCWDGJycp7YrT8\n"
     ]
    }
   ],
   "source": [
    "print(os.environ[\"KAGI_API_TOKEN\"])"
   ]
  },
  {
   "cell_type": "code",
   "execution_count": 9,
   "id": "0a99f50b",
   "metadata": {},
   "outputs": [
    {
     "data": {
      "text/plain": [
       "{'meta': {'id': 'db85822a4d5ccc5b1be3026e22c191b0',\n",
       "  'node': 'asia-southeast1',\n",
       "  'ms': 0,\n",
       "  'api_balance': 3.860891},\n",
       " 'data': {'output': 'Mark Zuckerberg gave the commencement address at Harvard in 2017. He talked about his time as a student at Harvard and founding Facebook. Zuckerberg argued that the challenge for millennials is to create a world where everyone has a sense of purpose. He proposed that we can do this by taking on big meaningful projects together, redefining equality, and building communities globally and locally. Throughout his speech, Zuckerberg shared personal anecdotes from his time at Harvard and lessons he has learned as the founder of Facebook to inspire the graduates to pursue ambitious goals that can make a positive impact.',\n",
       "  'tokens': 0}}"
      ]
     },
     "execution_count": 9,
     "metadata": {},
     "output_type": "execute_result"
    }
   ],
   "source": [
    "r.json()"
   ]
  },
  {
   "cell_type": "code",
   "execution_count": 10,
   "id": "98d1a51b",
   "metadata": {},
   "outputs": [
    {
     "data": {
      "text/plain": [
       "'Mark Zuckerberg gave the commencement address at Harvard in 2017. He talked about his time as a student at Harvard and founding Facebook. Zuckerberg argued that the challenge for millennials is to create a world where everyone has a sense of purpose. He proposed that we can do this by taking on big meaningful projects together, redefining equality, and building communities globally and locally. Throughout his speech, Zuckerberg shared personal anecdotes from his time at Harvard and lessons he has learned as the founder of Facebook to inspire the graduates to pursue ambitious goals that can make a positive impact.'"
      ]
     },
     "execution_count": 10,
     "metadata": {},
     "output_type": "execute_result"
    }
   ],
   "source": [
    "summary = r.json()['data']['output'] # 요약 내용을 별도의 변수에 할당\n",
    "summary"
   ]
  },
  {
   "cell_type": "code",
   "execution_count": 3,
   "id": "f9707535",
   "metadata": {},
   "outputs": [
    {
     "name": "stdout",
     "output_type": "stream",
     "text": [
      "- 요약 내용(축약): Mark Zuckerberg gave the commencement address at Harvard in 2017. He talked about his time as a student at Harvard and founding Facebook.[..이하 생략..]\n"
     ]
    }
   ],
   "source": [
    "import requests\n",
    "import os\n",
    "import textwrap\n",
    "\n",
    "KAGI_API_TOKEN = os.environ[\"KAGI_API_TOKEN\"] # kagi API 키\n",
    "\n",
    "api_url = \"https://kagi.com/api/v0/summarize\"\n",
    "contents_url =\"https://www.youtube.com/watch?v=BmYv8XGl-YU\"\n",
    "headers = {\"Authorization\": \"Bot \" + KAGI_API_TOKEN}\n",
    "parameters = {\"url\":contents_url}\n",
    "\n",
    "r = requests.get(api_url, headers=headers, params=parameters)\n",
    "\n",
    "summary = r.json()['data']['output'] # 요약 내용을 별도의 변수에 할당\n",
    "\n",
    "shorten_summary = textwrap.shorten(summary, 150, placeholder='[..이하 생략..]')\n",
    "\n",
    "print(\"- 요약 내용(축약):\", shorten_summary)  # 요약 내용(축약) 출력\n",
    "# print(\"- 요약 내용:\", summary) # 요약 내용(전체) 출력"
   ]
  },
  {
   "cell_type": "code",
   "execution_count": 4,
   "id": "8d88b381",
   "metadata": {},
   "outputs": [
    {
     "name": "stdout",
     "output_type": "stream",
     "text": [
      "- 요약 내용(축약): 마크 저커버그는 2017년 하버드 대학교 졸업식에서 졸업 연설을 했다. 그는 하버드에서의 시간과 페이스북 창립에 대해 이야기했다. 저커버그는 밀레니얼 세대에게 모두가 목적을 가진 세상을 만드는 도전이 있다고 주장했다. 그는 큰 의미 있는 프로젝트를 [..이하 생략..]\n"
     ]
    }
   ],
   "source": [
    "api_url = \"https://kagi.com/api/v0/summarize\"\n",
    "contents_url = \"https://www.khan.co.kr/culture/culture-general/article/202212310830021\"\n",
    "headers = {\"Authorization\": \"Bot \" + KAGI_API_TOKEN}\n",
    "parameters = {\"url\":contents_url, \"target_language\":\"KO\"}\n",
    "\n",
    "r= requests.get(api_url, headers=headers, params=parameters)\n",
    "\n",
    "summary = r.json()['data']['output'] # 요약 내용을 별도의 변수에 할당\n",
    "\n",
    "shorten_summary = textwrap.shorten(summary, 150, placeholder=' [..이하 생략..]')\n",
    "\n",
    "print(\"- 요약 내용(축약):\", shorten_summary) # 요약 내용(축약) 출력\n",
    "# print(\"- 요약 내용:\", summary) # 요약 내용(전체) 출력"
   ]
  },
  {
   "cell_type": "code",
   "execution_count": 11,
   "id": "cd0128d7",
   "metadata": {},
   "outputs": [
    {
     "name": "stdout",
     "output_type": "stream",
     "text": [
      "[요약 엔진] cecil\n",
      "- 요약 내용(축약): ChatGPT는 Anthropic이 만든 인공지능 시스템으로, 도움이 되고 해를 끼치지 않으며 정직하게 작동합니다. 2022년 11월에 출시된 이후, 자연스러운 대화를 나누고 텍스트를 생성하는 능력으로 큰 인기를 얻었습니다. 그러나 일부 사람들은 [..이하 생략..]\n",
      "[요약 엔진] agnes\n",
      "- 요약 내용(축약): ChatGPT는 대화 데이터를 기반으로 훈련된 언어 모델로, 사람들이 대화에서 응답하는 방식과 유사하게 프롬프트에 대한 응답을 생성할 수 있습니다. 이 모델은 이야기를 만들고 코딩 작업에도 도움을 줄 수 있습니다. 또한 기사나 소셜 미디어 게시물과 [..이하 생략..]\n",
      "[요약 엔진] daphne\n",
      "- 요약 내용(축약): ChatGPT는 인간이 생성한 대화 데이터로 훈련된 대규모 대화형 AI로, 인간이 응답하는 방식과 유사하게 프롬프트에 대한 응답을 생성할 수 있습니다. OpenAI가 만든 이미지 생성 AI인 DALL-E 2를 만드는 데 약 2.5개월이 걸렸습니다. [..이하 생략..]\n",
      "[요약 엔진] muriel\n",
      "- 요약 내용(축약): 이 웹 페이지는 OpenAI가 개발한 언어 생성 AI인 ChatGPT의 폭발적인 인기에 대해 논의합니다. 이 AI는 대화 형식으로 텍스트를 생성하도록 설계되었으며, 인간이 생성한 대화 데이터 세트로 훈련되었습니다. 이 AI는 출시된 지 단 5일 [..이하 생략..]\n"
     ]
    }
   ],
   "source": [
    "engines = [\"cecil\", \"agnes\", \"daphne\", \"muriel\"] # 엔진 전체\n",
    "\n",
    "api_url = \"https://kagi.com/api/v0/summarize\"\n",
    "contents_url = \"https://www.khan.co.kr/culture/culture-general/article/202212310830021\"\n",
    "headers = {\"Authorization\": \"Bot \" + KAGI_API_TOKEN}\n",
    "\n",
    "for engine in engines:\n",
    "    parameters = {\"url\":contents_url, \"engine\":engine, \"target_language\":\"KO\"}\n",
    "    \n",
    "    r= requests.get(api_url, headers=headers, params=parameters)\n",
    "\n",
    "    summary = r.json()['data']['output'] # 요약 내용을 별도의 변수에 할당\n",
    "\n",
    "    shorten_summary = textwrap.shorten(summary, 150, placeholder=' [..이하 생략..]')\n",
    "    \n",
    "    print(\"[요약 엔진]\", engine)\n",
    "    print(\"- 요약 내용(축약):\", shorten_summary) # 요약 내용(축약) 출력\n",
    "    # print(\"- 요약 내용:\", summary) # 요약 내용(전체) 출력"
   ]
  },
  {
   "cell_type": "code",
   "execution_count": 18,
   "id": "abb8fc82",
   "metadata": {},
   "outputs": [
    {
     "name": "stdout",
     "output_type": "stream",
     "text": [
      "- 요약 내용(축약): OpenAI는 초기에 이메일을 공개하여 고급 인공지능을 개발하기 위해 상당한 자금이 필요하다는 것을 공동 창업자인 엘론 머스크가 인정했습니다. 머스크는 10억 달러를 모금하는 것을 제안했지만 그 자신은 4500만 달러만 기부했습니다. 그는 나중에 [..이하 생략..]\n"
     ]
    }
   ],
   "source": [
    "api_url = \"https://kagi.com/api/v0/summarize\"\n",
    "contents_url = \"https://edition.cnn.com/2024/03/06/tech/openai-elon-musk-emails/index.html\"\n",
    "headers = {\"Authorization\": \"Bot \" + KAGI_API_TOKEN}\n",
    "parameters = {\"url\":contents_url, \"target_language\":\"KO\"}\n",
    "\n",
    "r = requests.get(api_url, headers=headers, params=parameters)\n",
    "\n",
    "summary = r.json()['data']['output'] # 요약 내용을 별도의 변수에 할당\n",
    "\n",
    "shorten_summary = textwrap.shorten(summary, 150, placeholder=' [..이하 생략..]')\n",
    "\n",
    "print(\"- 요약 내용(축약):\", shorten_summary) # 요약 내용(축약) 출력\n",
    "# print(\"- 요약 내용:\", summary) # 요약 내용(전체) 출력"
   ]
  },
  {
   "cell_type": "code",
   "execution_count": 20,
   "id": "60a1fd0b",
   "metadata": {},
   "outputs": [
    {
     "name": "stdout",
     "output_type": "stream",
     "text": [
      "[원본 텍스트 파일의 내용 앞부분만 출력]\n",
      "I am honored to be with you today at your commencement from one of the finest universities in the world. I never graduated from college. Truth be told, this is the closest I've ever gotten to a college graduation. Today I want to tell you three stories from my life. That's it. No big deal.\n",
      "\n",
      "[요약 내용 출력]\n",
      "The speaker shares three stories from his life. The first is about dropping out of college after realizing he didn't know what to do, which led him to discover his passion for calligraphy and typography that influenced the Macintosh [..이하 생략..]\n"
     ]
    }
   ],
   "source": [
    "import requests\n",
    "import os\n",
    "import textwrap\n",
    "\n",
    "# 1) 텍스트 파일에서 데이터 가져오기\n",
    "text_file_name = \"C:\\myPyAI\\data\\스티브_잡스_2005_스탠포드_연설.txt\" # 영어 문장 텍스트 파일\n",
    "\n",
    "with open(text_file_name, 'r', encoding='utf-8') as f: # 텍스트 파일을 읽기 모드로 열기\n",
    "    text_data =f.read() # 텍스트 파일의 내용을 읽어서 text_data에 할당\n",
    "    \n",
    "print(\"[원본 텍스트 파일의 내용 앞부분만 출력]\")\n",
    "print(text_data[:290])\n",
    "print()\n",
    "\n",
    "# 2) 텍스트 데이터 요약하기\n",
    "KAGI_API_TOKEN = os.environ[\"KAGI_API_TOKEN\"]\n",
    "\n",
    "api_url = \"https://kagi.com/api/v0/summarize\"\n",
    "headers = {\"Authorization\": \"Bot \" + KAGI_API_TOKEN}\n",
    "data = {\"text\": text_data}\n",
    "# data = {\"text\":text_data, \"target_languge\":\"KO\"} # 요약의 출력 언어를 한국어로 지정\n",
    "r = requests.post(api_url, headers=headers, data=data)\n",
    "\n",
    "summary = r.json()['data']['output'] # 요약 내용을 별도의 변수에 할당\n",
    "shorten_summary = textwrap.shorten(summary, 250, placeholder=' [..이하 생략..]')\n",
    "\n",
    "print(\"[요약 내용 출력]\")\n",
    "print(shorten_summary) # 요약 내용(축약) 출력\n",
    "# print(summray) # 요약 내용(전체) 출력"
   ]
  },
  {
   "cell_type": "code",
   "execution_count": 23,
   "id": "c3d25f16",
   "metadata": {},
   "outputs": [
    {
     "name": "stdout",
     "output_type": "stream",
     "text": [
      "[텍스트 파일의 내용 앞부분만 출력]\n",
      "제목: 도시의 빛나는 젊음, 서연의 이야기\n",
      "\n",
      "서연은 서울에서 일하는 26살의 여성 직장인이다. 그녀는 매일 아침 눈이 번쩍 뜨면서 하루가 시작된다. 서연은 어린 시절부터 도시 생활에 익숙해져 있었지만, 사람들이 북적이는 도시에서 독립적으로 살아가는 것은 여전히 어렵고 힘든 일이다. 그러나 서연은 자신의 삶을 즐기기 위해 최선을 다하며, 여유를 찾아 나선다.\n",
      "\n",
      "서연은 아침 7시에 기상해 몸을 움켜잡고 침대에서 일어난다. 그녀는 짧은 스트레칭을 한 후, 아침 일찍 일어난 자신을 칭찬하며 아침식사를 준비한다. 아침 식사\n",
      "\n",
      "[요약 내용 출력]\n",
      "이 이야기는 서울에서 살고 일하는 26세 여성인 서연에 관한 것이다. 그녀의 일상 생활을 상세히 다루고 있는데, 이는 일찍 일어나 운동하고 아침을 먹으며 지하철로 출근하여 마케팅 직장에서 일하고 동료들과 점심을 먹는 등의 일상적인 루틴을 포함한다. 일이 끝난 후에는 요가나 언어 공부와 같은 취미에 참여하는 등의 활동을 한다. 주말에는 늦잠을 자고 카페에 가는 등 친구들과 시간을 보내는 것을 즐긴다. 서연은 바쁜 도시 생활 [..이하 생략..]\n"
     ]
    }
   ],
   "source": [
    "import requests\n",
    "import os\n",
    "import textwrap\n",
    "\n",
    "# 1) 텍스트 파일에서 데이터 가져오기\n",
    "text_file_name = \"C:\\myPyAI\\data\\서연의_이야기.txt\" # 한국어 문장 텍스트 파일\n",
    "\n",
    "with open(text_file_name, 'r', encoding='utf-8') as f: # 텍스트 파일을 읽기 모드로 열기\n",
    "    text_data =f.read() # 텍스트 파일의 내용을 읽어서 text_data에 할당\n",
    "    \n",
    "print(\"[텍스트 파일의 내용 앞부분만 출력]\")\n",
    "print(text_data[:290])\n",
    "print()\n",
    "\n",
    "# 2) 텍스트 데이터 요약하기\n",
    "KAGI_API_TOKEN = os.environ[\"KAGI_API_TOKEN\"]\n",
    "\n",
    "api_url = \"https://kagi.com/api/v0/summarize\"\n",
    "headers = {\"Authorization\": \"Bot \" + KAGI_API_TOKEN}\n",
    "data = {\"text\":text_data, \"target_language\":\"KO\"} # 요약의 출력 언어를 한국어로 지정\n",
    "r = requests.post(api_url, headers=headers, data=data)\n",
    "\n",
    "summary = r.json()['data']['output'] # 요약 내용을 별도의 변수에 할당\n",
    "shorten_summary = textwrap.shorten(summary, 250, placeholder=' [..이하 생략..]')\n",
    "\n",
    "print(\"[요약 내용 출력]\")\n",
    "print(shorten_summary) # 요약 내용(축약) 출력\n",
    "# print(summray) # 요약 내용(전체) 출력"
   ]
  }
 ],
 "metadata": {
  "kernelspec": {
   "display_name": "Python 3 (ipykernel)",
   "language": "python",
   "name": "python3"
  },
  "language_info": {
   "codemirror_mode": {
    "name": "ipython",
    "version": 3
   },
   "file_extension": ".py",
   "mimetype": "text/x-python",
   "name": "python",
   "nbconvert_exporter": "python",
   "pygments_lexer": "ipython3",
   "version": "3.11.5"
  }
 },
 "nbformat": 4,
 "nbformat_minor": 5
}
