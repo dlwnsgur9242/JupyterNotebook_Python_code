{
 "cells": [
  {
   "cell_type": "code",
   "execution_count": 1,
   "id": "4bad8fb9",
   "metadata": {},
   "outputs": [],
   "source": [
    "import openai\n",
    "import os\n",
    "\n",
    "# API 키 설정\n",
    "openai.api_key = os.environ[\"OPENAI_API_KEY\"]"
   ]
  },
  {
   "cell_type": "code",
   "execution_count": 2,
   "id": "2c709ba8",
   "metadata": {},
   "outputs": [
    {
     "ename": "APIRemovedInV1",
     "evalue": "\n\nYou tried to access openai.Model, but this is no longer supported in openai>=1.0.0 - see the README at https://github.com/openai/openai-python for the API.\n\nYou can run `openai migrate` to automatically upgrade your codebase to use the 1.0.0 interface. \n\nAlternatively, you can pin your installation to the old version, e.g. `pip install openai==0.28`\n\nA detailed migration guide is available here: https://github.com/openai/openai-python/discussions/742\n",
     "output_type": "error",
     "traceback": [
      "\u001b[1;31m---------------------------------------------------------------------------\u001b[0m",
      "\u001b[1;31mAPIRemovedInV1\u001b[0m                            Traceback (most recent call last)",
      "Cell \u001b[1;32mIn[2], line 8\u001b[0m\n\u001b[0;32m      5\u001b[0m openai\u001b[38;5;241m.\u001b[39mapi_key \u001b[38;5;241m=\u001b[39m os\u001b[38;5;241m.\u001b[39menviron[\u001b[38;5;124m\"\u001b[39m\u001b[38;5;124mOPENAI_API_KEY\u001b[39m\u001b[38;5;124m\"\u001b[39m]\n\u001b[0;32m      7\u001b[0m \u001b[38;5;66;03m# 모든 OpenAI API의 모델 리스트 가져오기\u001b[39;00m\n\u001b[1;32m----> 8\u001b[0m models \u001b[38;5;241m=\u001b[39m openai\u001b[38;5;241m.\u001b[39mModel\u001b[38;5;241m.\u001b[39mlist()\n\u001b[0;32m     10\u001b[0m \u001b[38;5;66;03m# 가져온 모델 리스트 출력하기\u001b[39;00m\n\u001b[0;32m     11\u001b[0m \u001b[38;5;28mprint\u001b[39m(models[\u001b[38;5;124m\"\u001b[39m\u001b[38;5;124mdata\u001b[39m\u001b[38;5;124m\"\u001b[39m][\u001b[38;5;241m0\u001b[39m][\u001b[38;5;124m'\u001b[39m\u001b[38;5;124mid\u001b[39m\u001b[38;5;124m'\u001b[39m])\n",
      "File \u001b[1;32mC:\\ProgramData\\anaconda3\\Lib\\site-packages\\openai\\lib\\_old_api.py:39\u001b[0m, in \u001b[0;36mAPIRemovedInV1Proxy.__call__\u001b[1;34m(self, *_args, **_kwargs)\u001b[0m\n\u001b[0;32m     38\u001b[0m \u001b[38;5;28;01mdef\u001b[39;00m \u001b[38;5;21m__call__\u001b[39m(\u001b[38;5;28mself\u001b[39m, \u001b[38;5;241m*\u001b[39m_args: Any, \u001b[38;5;241m*\u001b[39m\u001b[38;5;241m*\u001b[39m_kwargs: Any) \u001b[38;5;241m-\u001b[39m\u001b[38;5;241m>\u001b[39m Any:\n\u001b[1;32m---> 39\u001b[0m     \u001b[38;5;28;01mraise\u001b[39;00m APIRemovedInV1(symbol\u001b[38;5;241m=\u001b[39m\u001b[38;5;28mself\u001b[39m\u001b[38;5;241m.\u001b[39m_symbol)\n",
      "\u001b[1;31mAPIRemovedInV1\u001b[0m: \n\nYou tried to access openai.Model, but this is no longer supported in openai>=1.0.0 - see the README at https://github.com/openai/openai-python for the API.\n\nYou can run `openai migrate` to automatically upgrade your codebase to use the 1.0.0 interface. \n\nAlternatively, you can pin your installation to the old version, e.g. `pip install openai==0.28`\n\nA detailed migration guide is available here: https://github.com/openai/openai-python/discussions/742\n"
     ]
    }
   ],
   "source": [
    "import openai\n",
    "import os\n",
    "\n",
    "# API 키 설정\n",
    "openai.api_key = os.environ[\"OPENAI_API_KEY\"]\n",
    "\n",
    "# 모든 OpenAI API의 모델 리스트 가져오기\n",
    "models = openai.Model.list()\n",
    "\n",
    "# 가져온 모델 리스트 출력하기\n",
    "print(models[\"data\"][0]['id']) # 모델 리스트 중 첫 번째 항목의 ID 출력\n",
    "# print(models[\"data\"]) # 모델 리스트 전체 정보 출력"
   ]
  },
  {
   "cell_type": "code",
   "execution_count": 3,
   "id": "5114e046",
   "metadata": {},
   "outputs": [
    {
     "ename": "APIRemovedInV1",
     "evalue": "\n\nYou tried to access openai.ChatCompletion, but this is no longer supported in openai>=1.0.0 - see the README at https://github.com/openai/openai-python for the API.\n\nYou can run `openai migrate` to automatically upgrade your codebase to use the 1.0.0 interface. \n\nAlternatively, you can pin your installation to the old version, e.g. `pip install openai==0.28`\n\nA detailed migration guide is available here: https://github.com/openai/openai-python/discussions/742\n",
     "output_type": "error",
     "traceback": [
      "\u001b[1;31m---------------------------------------------------------------------------\u001b[0m",
      "\u001b[1;31mAPIRemovedInV1\u001b[0m                            Traceback (most recent call last)",
      "Cell \u001b[1;32mIn[3], line 9\u001b[0m\n\u001b[0;32m      4\u001b[0m messages \u001b[38;5;241m=\u001b[39m [\n\u001b[0;32m      5\u001b[0m     {\u001b[38;5;124m\"\u001b[39m\u001b[38;5;124mrole\u001b[39m\u001b[38;5;124m\"\u001b[39m: \u001b[38;5;124m\"\u001b[39m\u001b[38;5;124muser\u001b[39m\u001b[38;5;124m\"\u001b[39m, \u001b[38;5;124m\"\u001b[39m\u001b[38;5;124mcontent\u001b[39m\u001b[38;5;124m\"\u001b[39m: \u001b[38;5;124m\"\u001b[39m\u001b[38;5;124m대한민국의 수도는 어디인가요?\u001b[39m\u001b[38;5;124m\"\u001b[39m}\n\u001b[0;32m      6\u001b[0m ]\n\u001b[0;32m      8\u001b[0m \u001b[38;5;66;03m# Chat Completions API 호출\u001b[39;00m\n\u001b[1;32m----> 9\u001b[0m response \u001b[38;5;241m=\u001b[39m openai\u001b[38;5;241m.\u001b[39mChatCompletion\u001b[38;5;241m.\u001b[39mcreate(\n\u001b[0;32m     10\u001b[0m     model\u001b[38;5;241m=\u001b[39m\u001b[38;5;124m\"\u001b[39m\u001b[38;5;124mgpt-3.5-turbo\u001b[39m\u001b[38;5;124m\"\u001b[39m, \u001b[38;5;66;03m# 모든 사용자 설정 가능\u001b[39;00m\n\u001b[0;32m     11\u001b[0m     \u001b[38;5;66;03m# model=\"gpt-3.5-turbo-16k\", # gpt-3.5-turbo 대비 4배 긴 토큰 처리\u001b[39;00m\n\u001b[0;32m     12\u001b[0m     \u001b[38;5;66;03m# model=\"gpt-4\", # GPT-4 모델 사용\u001b[39;00m\n\u001b[0;32m     13\u001b[0m     messages\u001b[38;5;241m=\u001b[39mmessages, \u001b[38;5;66;03m# 전달할 메시지 지정\u001b[39;00m\n\u001b[0;32m     14\u001b[0m     max_tokens\u001b[38;5;241m=\u001b[39m\u001b[38;5;241m1000\u001b[39m,   \u001b[38;5;66;03m# 응답 최대 토큰 수 지정\u001b[39;00m\n\u001b[0;32m     15\u001b[0m     temperature\u001b[38;5;241m=\u001b[39m\u001b[38;5;241m0.8\u001b[39m,   \u001b[38;5;66;03m# 완성의 다양성을 조절하는 온도 설정\u001b[39;00m\n\u001b[0;32m     16\u001b[0m     n\u001b[38;5;241m=\u001b[39m\u001b[38;5;241m1\u001b[39m                \u001b[38;5;66;03m# 생성할 완성의 개수 지정\u001b[39;00m\n\u001b[0;32m     17\u001b[0m )\n\u001b[0;32m     19\u001b[0m \u001b[38;5;66;03m# 응답 출력\u001b[39;00m\n\u001b[0;32m     20\u001b[0m assistant_reply \u001b[38;5;241m=\u001b[39m response\u001b[38;5;241m.\u001b[39mchoices[\u001b[38;5;241m0\u001b[39m]\u001b[38;5;241m.\u001b[39mmessage[\u001b[38;5;124m'\u001b[39m\u001b[38;5;124mcontent\u001b[39m\u001b[38;5;124m'\u001b[39m]  \u001b[38;5;66;03m# 첫 번째 응답 결과 가져오기\u001b[39;00m\n",
      "File \u001b[1;32mC:\\ProgramData\\anaconda3\\Lib\\site-packages\\openai\\lib\\_old_api.py:39\u001b[0m, in \u001b[0;36mAPIRemovedInV1Proxy.__call__\u001b[1;34m(self, *_args, **_kwargs)\u001b[0m\n\u001b[0;32m     38\u001b[0m \u001b[38;5;28;01mdef\u001b[39;00m \u001b[38;5;21m__call__\u001b[39m(\u001b[38;5;28mself\u001b[39m, \u001b[38;5;241m*\u001b[39m_args: Any, \u001b[38;5;241m*\u001b[39m\u001b[38;5;241m*\u001b[39m_kwargs: Any) \u001b[38;5;241m-\u001b[39m\u001b[38;5;241m>\u001b[39m Any:\n\u001b[1;32m---> 39\u001b[0m     \u001b[38;5;28;01mraise\u001b[39;00m APIRemovedInV1(symbol\u001b[38;5;241m=\u001b[39m\u001b[38;5;28mself\u001b[39m\u001b[38;5;241m.\u001b[39m_symbol)\n",
      "\u001b[1;31mAPIRemovedInV1\u001b[0m: \n\nYou tried to access openai.ChatCompletion, but this is no longer supported in openai>=1.0.0 - see the README at https://github.com/openai/openai-python for the API.\n\nYou can run `openai migrate` to automatically upgrade your codebase to use the 1.0.0 interface. \n\nAlternatively, you can pin your installation to the old version, e.g. `pip install openai==0.28`\n\nA detailed migration guide is available here: https://github.com/openai/openai-python/discussions/742\n"
     ]
    }
   ],
   "source": [
    "import openai\n",
    "\n",
    "# 대화 메시지 정의\n",
    "messages = [\n",
    "    {\"role\": \"user\", \"content\": \"대한민국의 수도는 어디인가요?\"}\n",
    "]\n",
    "\n",
    "# Chat Completions API 호출\n",
    "response = openai.ChatCompletion.create(\n",
    "    model=\"gpt-3.5-turbo\", # 모든 사용자 설정 가능\n",
    "    # model=\"gpt-3.5-turbo-16k\", # gpt-3.5-turbo 대비 4배 긴 토큰 처리\n",
    "    # model=\"gpt-4\", # GPT-4 모델 사용\n",
    "    messages=messages, # 전달할 메시지 지정\n",
    "    max_tokens=1000,   # 응답 최대 토큰 수 지정\n",
    "    temperature=0.8,   # 완성의 다양성을 조절하는 온도 설정\n",
    "    n=1                # 생성할 완성의 개수 지정\n",
    ")\n",
    "\n",
    "# 응답 출력\n",
    "assistant_reply = response.choices[0].message['content']  # 첫 번째 응답 결과 가져오기\n",
    "print(assistant_reply)"
   ]
  },
  {
   "cell_type": "code",
   "execution_count": 4,
   "id": "0605311f",
   "metadata": {},
   "outputs": [
    {
     "name": "stdout",
     "output_type": "stream",
     "text": [
      "import openai\n",
      "import os\n",
      "\n",
      "# API 키 설정\n",
      "openai.api_key = os.environ[\"OPENAI_API_KEY\"]\n",
      "import openai\n",
      "import os\n",
      "\n",
      "# API 키 설정\n",
      "openai.api_key = os.environ[\"OPENAI_API_KEY\"]\n",
      "\n",
      "# 모든 OpenAI API의 모델 리스트 가져오기\n",
      "models = openai.Model.list()\n",
      "\n",
      "# 가져온 모델 리스트 출력하기\n",
      "print(models[\"data\"][0]['id']) # 모델 리스트 중 첫 번째 항목의 ID 출력\n",
      "# print(models[\"data\"]) # 모델 리스트 전체 정보 출력\n",
      "import openai\n",
      "\n",
      "# 대화 메시지 정의\n",
      "messages = [\n",
      "    {\"role\": \"user\", \"content\": \"대한민국의 수도는 어디인가요?\"}\n",
      "]\n",
      "\n",
      "# Chat Completions API 호출\n",
      "response = openai.ChatCompletion.create(\n",
      "    model=\"gpt-3.5-turbo\", # 모든 사용자 설정 가능\n",
      "    # model=\"gpt-3.5-turbo-16k\", # gpt-3.5-turbo 대비 4배 긴 토큰 처리\n",
      "    # model=\"gpt-4\", # GPT-4 모델 사용\n",
      "    messages=messages, # 전달할 메시지 지정\n",
      "    max_tokens=1000,   # 응답 최대 토큰 수 지정\n",
      "    temperature=0.8,   # 완성의 다양성을 조절하는 온도 설정\n",
      "    n=1                # 생성할 완성의 개수 지정\n",
      ")\n",
      "\n",
      "# 응답 출력\n",
      "assistant_reply = response.choices[0].message['content']  # 첫 번째 응답 결과 가져오기\n",
      "print(assistant_reply)\n",
      "%history\n"
     ]
    }
   ],
   "source": [
    "%history"
   ]
  },
  {
   "cell_type": "code",
   "execution_count": null,
   "id": "16b706a4",
   "metadata": {},
   "outputs": [],
   "source": []
  }
 ],
 "metadata": {
  "kernelspec": {
   "display_name": "Python 3 (ipykernel)",
   "language": "python",
   "name": "python3"
  },
  "language_info": {
   "codemirror_mode": {
    "name": "ipython",
    "version": 3
   },
   "file_extension": ".py",
   "mimetype": "text/x-python",
   "name": "python",
   "nbconvert_exporter": "python",
   "pygments_lexer": "ipython3",
   "version": "3.11.5"
  }
 },
 "nbformat": 4,
 "nbformat_minor": 5
}
